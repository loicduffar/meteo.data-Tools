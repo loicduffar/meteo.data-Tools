{
 "cells": [
  {
   "cell_type": "markdown",
   "metadata": {},
   "source": [
    "### Portail meteo.data.gouv.fr - Téléchargement-affichage-Extraction des données MENSUELLES LATEST de Météo-France (Métropole & outre-mer)\n",
    "Une connexion internet est nécessaire pour l'accès en ligne aux archives des données\n",
    "1) Téléchargement des fichiers et décompression automatique, pour plusieurs départements si besoin\n",
    "2) Tracé du graphique chronologique pour le paramètre Précipitations RR des postes choisis par l'utilisateur\n",
    "3) Sauvegarde des données intégrales et du graphique dans un fichier Excel (tous paramètres de la période \"Latest\" pour tous les postes des départements concernés).\n",
    "\n",
    "data : https://meteo.data.gouv.fr/ (6 min, horaire, quotidien, mensuel)<br>\n",
    "Fiche PDF des postes : https://www.data.gouv.fr/fr/datasets/r/bee4b0c7-260a-40fe-b463-ed5631d6dc39 (paramètres et périodes de mesure)<br>\n",
    "Fichier CSV descriptif champs: https://www.data.gouv.fr/fr/datasets/r/6d4ac560-8f7c-477f-9a3f-3c33137fc04e\n",
    "\n",
    "Utilisez mon autre script pour visualiser sous forme de carte la liste des postes météorologiques fournie par Météo-France sous forme de fichier JSON https://meteo.data.gouv.fr/https://www.data.gouv.fr/fr/datasets/r/1fe544d8-4615-4642-a307-5956a7d90922\n",
    "\n",
    "NB:\n",
    "- Les données LATEST correspondent aux DERNIERS fichiers mis à jour quotidiennement, et qui vont du mois de janvier de l'année précédente au mois en cours même partiel.\n",
    "- Les données MENSUELLES ne sont pas simplement équivalentes à des données QUOTIDIENNE agrégées (les paramètres ne sont pas strictement les mêmes. Par exemple, il existe des des NOMBRES DE JOURS DE PLUIE/GELEE/CHALEUR/etc.., ainsi que des précipitations MENSUELLES ESTIMEES 'RR_ME' plus anciennes que les mesures)\n",
    "\n",
    "Auteur: https://github.com/loicduffar"
   ]
  },
  {
   "cell_type": "markdown",
   "metadata": {},
   "source": [
    "##### 1) Télécharge les archives ZIP & décompresse les fichiers CSV LATEST (DERNIERE PERIODE DISPONIBLE)\n",
    "\n",
    "- Définir les chemins d'enregistrement pour les archives GZ et pour les fichier CSV décompressés\n",
    "- Définir les postes à interroger par leur code (voir fichier \"fiches.json\" sur https://www.data.gouv.fr/fr/datasets/r/1fe544d8-4615-4642-a307-5956a7d90922)\n",
    "- Les archives LATEST sont automatiquement téléchargées-décompressées, et les fichiers CSV sont lus\n",
    "\n"
   ]
  },
  {
   "cell_type": "code",
   "execution_count": 26,
   "metadata": {},
   "outputs": [
    {
     "name": "stdout",
     "output_type": "stream",
     "text": [
      "2023-12-25 19:51\n",
      "Départements concernés:  ['04', '13', '83', '84']\n",
      "Lecture:  X:\\1-COMMUN\\DIS\\Documentation\\Hydrologie\\Documentation externe\\Climat France\\Météo-France\\meteo.data\\base\\M\\MENSQ_04_latest-2022-2023.csv\n",
      "Lecture:  X:\\1-COMMUN\\DIS\\Documentation\\Hydrologie\\Documentation externe\\Climat France\\Météo-France\\meteo.data\\base\\M\\MENSQ_13_latest-2022-2023.csv\n",
      "Lecture:  X:\\1-COMMUN\\DIS\\Documentation\\Hydrologie\\Documentation externe\\Climat France\\Météo-France\\meteo.data\\base\\M\\MENSQ_83_latest-2022-2023.csv\n",
      "Lecture:  X:\\1-COMMUN\\DIS\\Documentation\\Hydrologie\\Documentation externe\\Climat France\\Météo-France\\meteo.data\\base\\M\\MENSQ_84_latest-2022-2023.csv\n"
     ]
    },
    {
     "data": {
      "text/html": [
       "<div>\n",
       "<style scoped>\n",
       "    .dataframe tbody tr th:only-of-type {\n",
       "        vertical-align: middle;\n",
       "    }\n",
       "\n",
       "    .dataframe tbody tr th {\n",
       "        vertical-align: top;\n",
       "    }\n",
       "\n",
       "    .dataframe thead th {\n",
       "        text-align: right;\n",
       "    }\n",
       "</style>\n",
       "<table border=\"1\" class=\"dataframe\">\n",
       "  <thead>\n",
       "    <tr style=\"text-align: right;\">\n",
       "      <th></th>\n",
       "      <th>NUM_POSTE</th>\n",
       "      <th>NOM_USUEL</th>\n",
       "      <th>LAT</th>\n",
       "      <th>LON</th>\n",
       "      <th>ALTI</th>\n",
       "      <th>DATE</th>\n",
       "      <th>RR</th>\n",
       "      <th>QRR</th>\n",
       "      <th>NBRR</th>\n",
       "      <th>RR_ME</th>\n",
       "      <th>...</th>\n",
       "      <th>QNEIGETOTM</th>\n",
       "      <th>NEIGETOTAB</th>\n",
       "      <th>QNEIGETOTAB</th>\n",
       "      <th>NEIGETOTABDAT</th>\n",
       "      <th>NBJNEIGETOT1</th>\n",
       "      <th>NBJNEIGETOT10</th>\n",
       "      <th>NBJNEIGETOT30</th>\n",
       "      <th>NBJGREL</th>\n",
       "      <th>NBJORAG</th>\n",
       "      <th>NBJBROU</th>\n",
       "    </tr>\n",
       "  </thead>\n",
       "  <tbody>\n",
       "    <tr>\n",
       "      <th>0</th>\n",
       "      <td>04006005</td>\n",
       "      <td>ALLOS_SAPC</td>\n",
       "      <td>44.242500</td>\n",
       "      <td>6.625333</td>\n",
       "      <td>1400</td>\n",
       "      <td>2022-01-01</td>\n",
       "      <td>4.2</td>\n",
       "      <td>1.0</td>\n",
       "      <td>31</td>\n",
       "      <td>NaN</td>\n",
       "      <td>...</td>\n",
       "      <td>NaN</td>\n",
       "      <td>NaN</td>\n",
       "      <td>NaN</td>\n",
       "      <td>NaN</td>\n",
       "      <td>NaN</td>\n",
       "      <td>NaN</td>\n",
       "      <td>NaN</td>\n",
       "      <td>NaN</td>\n",
       "      <td>NaN</td>\n",
       "      <td>NaN</td>\n",
       "    </tr>\n",
       "    <tr>\n",
       "      <th>1</th>\n",
       "      <td>04006005</td>\n",
       "      <td>ALLOS_SAPC</td>\n",
       "      <td>44.242500</td>\n",
       "      <td>6.625333</td>\n",
       "      <td>1400</td>\n",
       "      <td>2022-02-01</td>\n",
       "      <td>29.4</td>\n",
       "      <td>1.0</td>\n",
       "      <td>28</td>\n",
       "      <td>NaN</td>\n",
       "      <td>...</td>\n",
       "      <td>NaN</td>\n",
       "      <td>NaN</td>\n",
       "      <td>NaN</td>\n",
       "      <td>NaN</td>\n",
       "      <td>NaN</td>\n",
       "      <td>NaN</td>\n",
       "      <td>NaN</td>\n",
       "      <td>NaN</td>\n",
       "      <td>NaN</td>\n",
       "      <td>NaN</td>\n",
       "    </tr>\n",
       "    <tr>\n",
       "      <th>2</th>\n",
       "      <td>04006005</td>\n",
       "      <td>ALLOS_SAPC</td>\n",
       "      <td>44.242500</td>\n",
       "      <td>6.625333</td>\n",
       "      <td>1400</td>\n",
       "      <td>2022-03-01</td>\n",
       "      <td>13.0</td>\n",
       "      <td>1.0</td>\n",
       "      <td>31</td>\n",
       "      <td>NaN</td>\n",
       "      <td>...</td>\n",
       "      <td>NaN</td>\n",
       "      <td>NaN</td>\n",
       "      <td>NaN</td>\n",
       "      <td>NaN</td>\n",
       "      <td>NaN</td>\n",
       "      <td>NaN</td>\n",
       "      <td>NaN</td>\n",
       "      <td>NaN</td>\n",
       "      <td>NaN</td>\n",
       "      <td>NaN</td>\n",
       "    </tr>\n",
       "    <tr>\n",
       "      <th>3</th>\n",
       "      <td>04006005</td>\n",
       "      <td>ALLOS_SAPC</td>\n",
       "      <td>44.242500</td>\n",
       "      <td>6.625333</td>\n",
       "      <td>1400</td>\n",
       "      <td>2022-04-01</td>\n",
       "      <td>53.6</td>\n",
       "      <td>1.0</td>\n",
       "      <td>30</td>\n",
       "      <td>NaN</td>\n",
       "      <td>...</td>\n",
       "      <td>NaN</td>\n",
       "      <td>NaN</td>\n",
       "      <td>NaN</td>\n",
       "      <td>NaN</td>\n",
       "      <td>NaN</td>\n",
       "      <td>NaN</td>\n",
       "      <td>NaN</td>\n",
       "      <td>NaN</td>\n",
       "      <td>NaN</td>\n",
       "      <td>NaN</td>\n",
       "    </tr>\n",
       "    <tr>\n",
       "      <th>4</th>\n",
       "      <td>04006005</td>\n",
       "      <td>ALLOS_SAPC</td>\n",
       "      <td>44.242500</td>\n",
       "      <td>6.625333</td>\n",
       "      <td>1400</td>\n",
       "      <td>2022-05-01</td>\n",
       "      <td>38.0</td>\n",
       "      <td>1.0</td>\n",
       "      <td>31</td>\n",
       "      <td>NaN</td>\n",
       "      <td>...</td>\n",
       "      <td>NaN</td>\n",
       "      <td>NaN</td>\n",
       "      <td>NaN</td>\n",
       "      <td>NaN</td>\n",
       "      <td>NaN</td>\n",
       "      <td>NaN</td>\n",
       "      <td>NaN</td>\n",
       "      <td>NaN</td>\n",
       "      <td>NaN</td>\n",
       "      <td>NaN</td>\n",
       "    </tr>\n",
       "    <tr>\n",
       "      <th>...</th>\n",
       "      <td>...</td>\n",
       "      <td>...</td>\n",
       "      <td>...</td>\n",
       "      <td>...</td>\n",
       "      <td>...</td>\n",
       "      <td>...</td>\n",
       "      <td>...</td>\n",
       "      <td>...</td>\n",
       "      <td>...</td>\n",
       "      <td>...</td>\n",
       "      <td>...</td>\n",
       "      <td>...</td>\n",
       "      <td>...</td>\n",
       "      <td>...</td>\n",
       "      <td>...</td>\n",
       "      <td>...</td>\n",
       "      <td>...</td>\n",
       "      <td>...</td>\n",
       "      <td>...</td>\n",
       "      <td>...</td>\n",
       "      <td>...</td>\n",
       "    </tr>\n",
       "    <tr>\n",
       "      <th>427</th>\n",
       "      <td>84150001</td>\n",
       "      <td>VISAN</td>\n",
       "      <td>44.336667</td>\n",
       "      <td>4.905500</td>\n",
       "      <td>141</td>\n",
       "      <td>2023-08-01</td>\n",
       "      <td>49.0</td>\n",
       "      <td>1.0</td>\n",
       "      <td>31</td>\n",
       "      <td>NaN</td>\n",
       "      <td>...</td>\n",
       "      <td>NaN</td>\n",
       "      <td>NaN</td>\n",
       "      <td>NaN</td>\n",
       "      <td>NaN</td>\n",
       "      <td>NaN</td>\n",
       "      <td>NaN</td>\n",
       "      <td>NaN</td>\n",
       "      <td>NaN</td>\n",
       "      <td>NaN</td>\n",
       "      <td>NaN</td>\n",
       "    </tr>\n",
       "    <tr>\n",
       "      <th>428</th>\n",
       "      <td>84150001</td>\n",
       "      <td>VISAN</td>\n",
       "      <td>44.336667</td>\n",
       "      <td>4.905500</td>\n",
       "      <td>141</td>\n",
       "      <td>2023-09-01</td>\n",
       "      <td>56.9</td>\n",
       "      <td>1.0</td>\n",
       "      <td>30</td>\n",
       "      <td>NaN</td>\n",
       "      <td>...</td>\n",
       "      <td>NaN</td>\n",
       "      <td>NaN</td>\n",
       "      <td>NaN</td>\n",
       "      <td>NaN</td>\n",
       "      <td>NaN</td>\n",
       "      <td>NaN</td>\n",
       "      <td>NaN</td>\n",
       "      <td>NaN</td>\n",
       "      <td>NaN</td>\n",
       "      <td>NaN</td>\n",
       "    </tr>\n",
       "    <tr>\n",
       "      <th>429</th>\n",
       "      <td>84150001</td>\n",
       "      <td>VISAN</td>\n",
       "      <td>44.336667</td>\n",
       "      <td>4.905500</td>\n",
       "      <td>141</td>\n",
       "      <td>2023-10-01</td>\n",
       "      <td>131.1</td>\n",
       "      <td>1.0</td>\n",
       "      <td>31</td>\n",
       "      <td>NaN</td>\n",
       "      <td>...</td>\n",
       "      <td>NaN</td>\n",
       "      <td>NaN</td>\n",
       "      <td>NaN</td>\n",
       "      <td>NaN</td>\n",
       "      <td>NaN</td>\n",
       "      <td>NaN</td>\n",
       "      <td>NaN</td>\n",
       "      <td>NaN</td>\n",
       "      <td>NaN</td>\n",
       "      <td>NaN</td>\n",
       "    </tr>\n",
       "    <tr>\n",
       "      <th>430</th>\n",
       "      <td>84150001</td>\n",
       "      <td>VISAN</td>\n",
       "      <td>44.336667</td>\n",
       "      <td>4.905500</td>\n",
       "      <td>141</td>\n",
       "      <td>2023-11-01</td>\n",
       "      <td>44.6</td>\n",
       "      <td>1.0</td>\n",
       "      <td>30</td>\n",
       "      <td>NaN</td>\n",
       "      <td>...</td>\n",
       "      <td>NaN</td>\n",
       "      <td>NaN</td>\n",
       "      <td>NaN</td>\n",
       "      <td>NaN</td>\n",
       "      <td>NaN</td>\n",
       "      <td>NaN</td>\n",
       "      <td>NaN</td>\n",
       "      <td>NaN</td>\n",
       "      <td>NaN</td>\n",
       "      <td>NaN</td>\n",
       "    </tr>\n",
       "    <tr>\n",
       "      <th>431</th>\n",
       "      <td>84150001</td>\n",
       "      <td>VISAN</td>\n",
       "      <td>44.336667</td>\n",
       "      <td>4.905500</td>\n",
       "      <td>141</td>\n",
       "      <td>2023-12-01</td>\n",
       "      <td>33.8</td>\n",
       "      <td>1.0</td>\n",
       "      <td>19</td>\n",
       "      <td>NaN</td>\n",
       "      <td>...</td>\n",
       "      <td>NaN</td>\n",
       "      <td>NaN</td>\n",
       "      <td>NaN</td>\n",
       "      <td>NaN</td>\n",
       "      <td>NaN</td>\n",
       "      <td>NaN</td>\n",
       "      <td>NaN</td>\n",
       "      <td>NaN</td>\n",
       "      <td>NaN</td>\n",
       "      <td>NaN</td>\n",
       "    </tr>\n",
       "  </tbody>\n",
       "</table>\n",
       "<p>2359 rows × 162 columns</p>\n",
       "</div>"
      ],
      "text/plain": [
       "    NUM_POSTE   NOM_USUEL        LAT       LON  ALTI       DATE     RR  QRR  \\\n",
       "0    04006005  ALLOS_SAPC  44.242500  6.625333  1400 2022-01-01    4.2  1.0   \n",
       "1    04006005  ALLOS_SAPC  44.242500  6.625333  1400 2022-02-01   29.4  1.0   \n",
       "2    04006005  ALLOS_SAPC  44.242500  6.625333  1400 2022-03-01   13.0  1.0   \n",
       "3    04006005  ALLOS_SAPC  44.242500  6.625333  1400 2022-04-01   53.6  1.0   \n",
       "4    04006005  ALLOS_SAPC  44.242500  6.625333  1400 2022-05-01   38.0  1.0   \n",
       "..        ...         ...        ...       ...   ...        ...    ...  ...   \n",
       "427  84150001       VISAN  44.336667  4.905500   141 2023-08-01   49.0  1.0   \n",
       "428  84150001       VISAN  44.336667  4.905500   141 2023-09-01   56.9  1.0   \n",
       "429  84150001       VISAN  44.336667  4.905500   141 2023-10-01  131.1  1.0   \n",
       "430  84150001       VISAN  44.336667  4.905500   141 2023-11-01   44.6  1.0   \n",
       "431  84150001       VISAN  44.336667  4.905500   141 2023-12-01   33.8  1.0   \n",
       "\n",
       "     NBRR  RR_ME  ...  QNEIGETOTM  NEIGETOTAB  QNEIGETOTAB  NEIGETOTABDAT  \\\n",
       "0      31    NaN  ...         NaN         NaN          NaN            NaN   \n",
       "1      28    NaN  ...         NaN         NaN          NaN            NaN   \n",
       "2      31    NaN  ...         NaN         NaN          NaN            NaN   \n",
       "3      30    NaN  ...         NaN         NaN          NaN            NaN   \n",
       "4      31    NaN  ...         NaN         NaN          NaN            NaN   \n",
       "..    ...    ...  ...         ...         ...          ...            ...   \n",
       "427    31    NaN  ...         NaN         NaN          NaN            NaN   \n",
       "428    30    NaN  ...         NaN         NaN          NaN            NaN   \n",
       "429    31    NaN  ...         NaN         NaN          NaN            NaN   \n",
       "430    30    NaN  ...         NaN         NaN          NaN            NaN   \n",
       "431    19    NaN  ...         NaN         NaN          NaN            NaN   \n",
       "\n",
       "     NBJNEIGETOT1  NBJNEIGETOT10  NBJNEIGETOT30  NBJGREL  NBJORAG  NBJBROU  \n",
       "0             NaN            NaN            NaN      NaN      NaN      NaN  \n",
       "1             NaN            NaN            NaN      NaN      NaN      NaN  \n",
       "2             NaN            NaN            NaN      NaN      NaN      NaN  \n",
       "3             NaN            NaN            NaN      NaN      NaN      NaN  \n",
       "4             NaN            NaN            NaN      NaN      NaN      NaN  \n",
       "..            ...            ...            ...      ...      ...      ...  \n",
       "427           NaN            NaN            NaN      NaN      NaN      NaN  \n",
       "428           NaN            NaN            NaN      NaN      NaN      NaN  \n",
       "429           NaN            NaN            NaN      NaN      NaN      NaN  \n",
       "430           NaN            NaN            NaN      NaN      NaN      NaN  \n",
       "431           NaN            NaN            NaN      NaN      NaN      NaN  \n",
       "\n",
       "[2359 rows x 162 columns]"
      ]
     },
     "metadata": {},
     "output_type": "display_data"
    }
   ],
   "source": [
    "############ Auteur: L. Duffar ###########\n",
    "############ Décembre 2023 ###########\n",
    "# python 3.8.12\n",
    "# Télécharge les les archives ZIP & et décompresse les fichiers CSV LATEST (DERNIERE PERIODE DISPONIBLE)\n",
    "import os\n",
    "import requests\n",
    "import pandas as pd\n",
    "import numpy as np\n",
    "import datetime\n",
    "import time\n",
    "import sys\n",
    "import gzip\n",
    "\n",
    "# ================ Personalisation ====================\n",
    "# Chemin d'enregistrement des archives gz et des fichiers CSV décompressés\n",
    "folder_gz= r\"X:\\1-COMMUN\\DIS\\Documentation\\Hydrologie\\Documentation externe\\Climat France\\Météo-France\\meteo.data\\archives\\2023 Déc\\base\\M\"\n",
    "folder_csv= r\"X:\\1-COMMUN\\DIS\\Documentation\\Hydrologie\\Documentation externe\\Climat France\\Météo-France\\meteo.data\\base\\M\"\n",
    "\n",
    "# Numéro des Postes météo souhaités (chaine de 8 caractères) - voir fichier \"fiches.json\" sur https://www.data.gouv.fr/fr/datasets/r/1fe544d8-4615-4642-a307-5956a7d90922\n",
    "# LES DEPARTEMENTS CORRESPONDANTS DOIVENT ËTRE PRESENTS DANS LA LISTE DES URLS (voir ======= Initialisation ==========)\n",
    "postes= [\n",
    "        '04088001', '04039001', '04230001',                  # Forcalquier, Castellane, Valensole \\\n",
    "        # '05046001',                                           # Embrun \\\n",
    "        # '06088001', '06029001',                               # Nice, Cannes \\\n",
    "        '13001009', '13111002', '13103001','13055001',        # Aix en Provence, Vauvenargue, Salon, Marseille, \\\n",
    "        '83031001', '83061001', '83137001',                   # Le Luc, Fréjus, Toulon \\\n",
    "        '84003002', '84009002'                                # Apt-Viton, Bastide des Jourdans \\\n",
    "        ]                               \n",
    "\n",
    "# ================ Extrait du fichier data CSV ============= (les colonnes sont en réalité séparées par des points-virgules)\n",
    "# NUM_POSTE\tNOM_USUEL\tLAT\tLON\tALTI\tAAAAMM\tRR\tQRR\tNBRR\tRR_ME\tRRAB\tQRRAB\tRRABDAT\tNBJRR1\tNBJRR5\tNBJRR10\tNBJRR30\n",
    "# 13001009\tAIX EN PROVENCE\t43.5295\t5.4245\t173\t202201\t3.6\t1\t31\t\t1.4\t1\t4\t1\t0\t0\t0\n",
    "# 13001009\tAIX EN PROVENCE\t43.5295\t5.4245\t173\t202202\t26.1\t28\t\t24.7\t1\t14\t2\t1\t1\t0\n",
    "# 13001009\tAIX EN PROVENCE\t43.5295\t5.4245\t173\t202203\t6.6\t1\t31\t\t3.6\t1\t30\t2\t0\t0\t0\n",
    "# 13001009\tAIX EN PROVENCE\t43.5295\t5.4245\t173\t202204\t27\t1\t30\t\t17.6\t1\t23\t4\t2\t1\t0\n",
    "# 13001009\tAIX EN PROVENCE\t43.5295\t5.4245\t173\t202205\t26\t1\t31\t\t16.8\t1\t8\t3\t2\t1\t0\n",
    "\n",
    "# ================ Extrait du fichier CSV Descriptif de quelques paramètres (les plus souvent utiles, précipitations et températures) =============(les colonnes sont en réalité séparées par \":\")\n",
    "# NUM_POSTE       \t numéro Météo-France du poste sur 8 chiffres\n",
    "# NOM_USUEL       \t nom usuel du poste\n",
    "# LAT             \t latitude, négative au sud (en degrés et millionièmes de degré)\n",
    "# LON             \t longitude, négative à l’ouest de GREENWICH (en degrés et millionièmes de degré)\n",
    "# ALTI            \t altitude du pied de l'abri ou du pluviomètre si pas d'abri (en m)\n",
    "# AAAAMM          \t mois\n",
    "# RR              \t cumul mensuel des hauteurs de précipitation (en mm et 1/10)\n",
    "# QRR             \t code qualité de RR\n",
    "# NBRR            \t nombre de valeurs présentes de hauteur de précipitation quotidienne\n",
    "# RR_ME           \t cumul mensuel estimé des hauteurs de précipitation (en mm et 1/10)\n",
    "# RRAB            \t précipitation maximale tombée en 24 heures au cours du mois\n",
    "# QRRAB           \t code qualite de RRAB\n",
    "# NBJRR1          \t nombre de jours avec RR ≥ 1.0 mm\n",
    "# TX              \t moyenne mensuelle des températures maximales (TX) quotidiennes (en °C et 1/10)\n",
    "# QTX             \t code qualité de TX\n",
    "# TN              \t moyenne mensuelle des températures minimales (TN) quotidiennes (en °C et 1/10)\n",
    "# QTN             \t code qualité de TN\n",
    "# TM              \t moyenne mensuelle des (TN+TX)/2 quotidiennes (en °C et 1/10)\n",
    "# QTM             \t code qualité de TM\n",
    "# TMM             \t moyenne mensuelle des températures moyennes (TM) quotidiennes (en °C et 1/10)\n",
    "# QTMM            \t code qualité du TMM\n",
    "# TMMIN           \t minimum mensuel des moyennes (TN+TX)/2 quotidiennes (en °C et 1/10)\n",
    "# QTMMIN          \t code qualité de TMMIN\n",
    "# TMMAX           \t maximum mensuel des moyennes (TN+TX)/2 quotidiennes (en °C et 1/10) \n",
    "# QTMMAX          \t code qualité du TMMAX\n",
    "# NBJGELEE        \t nombre de jours avec gelée\n",
    "\n",
    "# ================ Initialisation ====================\n",
    "now= datetime.datetime.now()\n",
    "print(now.strftime(\"%Y-%m-%d %H:%M\"))\n",
    "# Structure du nom des fichiers de données mensuelles (1 fichier par département dont le numéro sera ajouté automatiquement au début et à la fin du template ci-dessous)\n",
    "template_start= 'MENSQ_'\n",
    "# Fin du nom dépendant de l'année en cours\n",
    "template_end= '_latest-' + str(now.year-1) + '-' + str(now.year) + '.csv'\n",
    "\n",
    "# ---------------- urls de téléchargement des archives des dernières données depuis janvier de l'année précédente https://meteo.data.gouv.fr/ (Ajouter d'autres départements si besoin)\n",
    "url_liste_postes= \"https://www.data.gouv.fr/fr/datasets/r/1fe544d8-4615-4642-a307-5956a7d90922\"\n",
    "url_desc_m = \"https://www.data.gouv.fr/fr/datasets/r/6d4ac560-8f7c-477f-9a3f-3c33137fc04e\"\n",
    "urls= dict()\n",
    "urls['04']= \"https://www.data.gouv.fr/fr/datasets/r/5c2d6f73-4162-4f36-bb41-98d7bc3e2ee1\" \n",
    "urls['05']= 'https://www.data.gouv.fr/fr/datasets/r/589b53fd-adef-44a4-b306-1dee1500d2d2'\n",
    "urls['06']= 'https://www.data.gouv.fr/fr/datasets/r/f8bdc686-8c37-4ced-8c36-407148bca194'\n",
    "urls['13']= 'https://www.data.gouv.fr/fr/datasets/r/78fe3a8a-7f32-44dd-a1b5-8acb841d6cc1'\n",
    "urls['83']= 'https://www.data.gouv.fr/fr/datasets/r/dc5ee912-e84a-4f15-bd08-7f326795ce41'\n",
    "urls['84']= 'https://www.data.gouv.fr/fr/datasets/r/75526d6c-81d5-4aad-8961-e9fc2a43f7b5'\n",
    "# print(urls)\n",
    "\n",
    "# ---------------- Définition des fonctions\n",
    "def convert_to_date(aaaamm):\n",
    "    return pd.to_datetime(str(aaaamm), format='%Y%m', errors='coerce')\n",
    "\n",
    "def download_file(url, filename):\n",
    "    file= os.path.join(folder_gz, filename) + '.gz'\n",
    "    print('Téléchargement: ', file)\n",
    "    response = requests.get(url)\n",
    "    if response.status_code == 200:\n",
    "        with open(file, 'wb') as f:\n",
    "            f.write(response.content)\n",
    "    else:\n",
    "        print(\"Fichier d'archive non présent à l'url habituelle: \", file)\n",
    "\n",
    "def decompress_gz(filename):\n",
    "    file= os.path.join(folder_gz, filename) + '.gz'\n",
    "    \n",
    "    if os.path.exists(file):\n",
    "        with gzip.open(file, 'rb') as f_in:\n",
    "            file= os.path.join(folder_csv, filename) \n",
    "            print('Décompression', file)\n",
    "            with open(file, 'wb') as f_out:\n",
    "                f_out.write(f_in.read())\n",
    "    else:\n",
    "        print(\"Fichier d'archive non trouvé: \", file)\n",
    "\n",
    "def read_csv(filename):\n",
    "    file= os.path.join(folder_csv, filename)\n",
    "    if os.path.exists(file):\n",
    "        print('Lecture: ', file)\n",
    "        df= pd.read_csv(file, header=0, sep=\";\", dtype={\"NUM_POSTE\":str, 'AAAAMM':str}, parse_dates=['AAAAMM'], date_parser= convert_to_date)\n",
    "    else:\n",
    "        print(\"Fichier CSV non trouvé: \", file)\n",
    "    return df\n",
    "\n",
    "# ================ Traitement ====================\n",
    "# Lit en ligne le fichier \"MENSQ_descriptif_champs.csv\" de description des champs et le stocke dans un dataframe pandas\n",
    "# définit le dataframe pandas avec les 2 colonnes \"param\" et \"name_long\" pour la description des champs \n",
    "df_desc_m = pd.read_csv(url_desc_m, sep=\":\", header= None, index_col=0, names= [\"param\", \"name_long\", 'complement'], dtype={\"param\":str, \"name_long\":str, 'complement':str}, encoding= 'utf-8')\n",
    "df_desc_m.index= df_desc_m.index.str.strip()\n",
    "df_desc_m['name_long']= df_desc_m['name_long'].str.strip()\n",
    "\n",
    "# fait la liste des départements concernés et garde les 2 premiers chiffres uniques\n",
    "departements = []\n",
    "for poste in postes:\n",
    "    departements.append(poste[:2])\n",
    "# On ne garde que départements uniques\n",
    "departements = list(set(departements)) # set() ignore automatiquement les doublons (ce qui évite de passer par array numpy pour utiliser la fonction np.unique() )\n",
    "# On trie la liste\n",
    "departements.sort()\n",
    "# On affiche la liste\n",
    "print('Départements concernés: ', departements)\n",
    "\n",
    "# Téléchargement/décompression/lecture des fichiers dans une boucle sur les départements (urls tirées du dictionnaire 'urls')\n",
    "for i, departement in enumerate(departements):\n",
    "    # On récupère l'url\n",
    "    url = urls[departement]\n",
    "    # Formation du nom du fichier à partir du template et du numéro de département\n",
    "    filename = f\"{template_start}{departement}{template_end}\"\n",
    "    # download_file(url, filename)\n",
    "    # decompress_gz(filename)\n",
    "    # Lecture du fichier CSV dans un dataframe pandas\n",
    "    df_departement= read_csv(filename)\n",
    "    if i== 0:\n",
    "        # initialisation du dataframe final df avec les données du premier département        \n",
    "        df= df_departement\n",
    "    else:\n",
    "        df= pd.concat([df, df_departement])        \n",
    "\n",
    "# supprime les espaces avant et après le numéro de poste\n",
    "df['NUM_POSTE'] = df['NUM_POSTE'].str.strip()\n",
    "# renome la colonne \"AAAMM\" en \"DATE\"\n",
    "df.rename(columns={'AAAAMM':'DATE'}, inplace=True)\n",
    "# supprime les espaces dans les noms de colonnes\n",
    "df.columns= df.columns.str.strip()\n",
    "display(df)"
   ]
  },
  {
   "cell_type": "markdown",
   "metadata": {},
   "source": [
    "##### 2) Tracé du graphique des précipitations mensuelles\n",
    "\n",
    "- Définir les dates de début et de fin du graphique comme suit:\n",
    "    - None pour prendre le début et la fin du fichier LATEST (premier jour de l'année précédente et veille du téléchargement)\n",
    "    - ou définir la date de début et de fin\n",
    "- Définir le ou les paramètres à extraire (au minimum les précipitations RR car le graphique est uniquement prévu pour cela)"
   ]
  },
  {
   "cell_type": "code",
   "execution_count": 27,
   "metadata": {},
   "outputs": [
    {
     "name": "stdout",
     "output_type": "stream",
     "text": [
      "2023-12-25 19:52\n",
      "Données mensuelles des 2 derniers mois pour les paramètres choisis: Attention le cumul du dernier mois est incomplet à ce jour\n",
      "- RR: cumul mensuel des hauteurs de précipitation (en mm et 1/10)\n",
      "- TM: moyenne mensuelle des (TN+TX)/2 quotidiennes (en °C et 1/10)\n",
      "- FXYAB: maximum absolu mensuel de la force maximale quotidienne du vent moyenné sur 10 mn (FXY), à 10 m (en m/s et 1/10)\n"
     ]
    },
    {
     "data": {
      "text/html": [
       "<div>\n",
       "<style scoped>\n",
       "    .dataframe tbody tr th:only-of-type {\n",
       "        vertical-align: middle;\n",
       "    }\n",
       "\n",
       "    .dataframe tbody tr th {\n",
       "        vertical-align: top;\n",
       "    }\n",
       "\n",
       "    .dataframe thead th {\n",
       "        text-align: right;\n",
       "    }\n",
       "</style>\n",
       "<table border=\"1\" class=\"dataframe\">\n",
       "  <thead>\n",
       "    <tr style=\"text-align: right;\">\n",
       "      <th></th>\n",
       "      <th>NOM_USUEL</th>\n",
       "      <th>AIX EN PROVENCE</th>\n",
       "      <th>APT-VITON</th>\n",
       "      <th>CASTELLANE</th>\n",
       "      <th>FORCALQUIER</th>\n",
       "      <th>FREJUS</th>\n",
       "      <th>LA BASTIDE DES JOURDANS</th>\n",
       "      <th>LE LUC</th>\n",
       "      <th>MARSEILLE-OBS</th>\n",
       "      <th>SALON DE PROVENCE</th>\n",
       "      <th>TOULON</th>\n",
       "      <th>VALENSOLE</th>\n",
       "      <th>VAUVENARGUES</th>\n",
       "    </tr>\n",
       "    <tr>\n",
       "      <th>parametre</th>\n",
       "      <th>DATE</th>\n",
       "      <th></th>\n",
       "      <th></th>\n",
       "      <th></th>\n",
       "      <th></th>\n",
       "      <th></th>\n",
       "      <th></th>\n",
       "      <th></th>\n",
       "      <th></th>\n",
       "      <th></th>\n",
       "      <th></th>\n",
       "      <th></th>\n",
       "      <th></th>\n",
       "    </tr>\n",
       "  </thead>\n",
       "  <tbody>\n",
       "    <tr>\n",
       "      <th rowspan=\"2\" valign=\"top\">RR</th>\n",
       "      <th>2023-11-01</th>\n",
       "      <td>30.2</td>\n",
       "      <td>37.6</td>\n",
       "      <td>102.2</td>\n",
       "      <td>63.1</td>\n",
       "      <td>20.4</td>\n",
       "      <td>22.0</td>\n",
       "      <td>21.7</td>\n",
       "      <td>23.2</td>\n",
       "      <td>30.8</td>\n",
       "      <td>25.8</td>\n",
       "      <td>36.4</td>\n",
       "      <td>41.8</td>\n",
       "    </tr>\n",
       "    <tr>\n",
       "      <th>2023-12-01</th>\n",
       "      <td>42.6</td>\n",
       "      <td>60.4</td>\n",
       "      <td>76.3</td>\n",
       "      <td>NaN</td>\n",
       "      <td>50.6</td>\n",
       "      <td>42.6</td>\n",
       "      <td>53.8</td>\n",
       "      <td>28.3</td>\n",
       "      <td>35.4</td>\n",
       "      <td>65.2</td>\n",
       "      <td>56.8</td>\n",
       "      <td>71.0</td>\n",
       "    </tr>\n",
       "    <tr>\n",
       "      <th rowspan=\"2\" valign=\"top\">TM</th>\n",
       "      <th>2023-11-01</th>\n",
       "      <td>10.2</td>\n",
       "      <td>9.1</td>\n",
       "      <td>7.1</td>\n",
       "      <td>NaN</td>\n",
       "      <td>13.3</td>\n",
       "      <td>9.0</td>\n",
       "      <td>12.7</td>\n",
       "      <td>12.9</td>\n",
       "      <td>10.5</td>\n",
       "      <td>13.6</td>\n",
       "      <td>9.0</td>\n",
       "      <td>8.9</td>\n",
       "    </tr>\n",
       "    <tr>\n",
       "      <th>2023-12-01</th>\n",
       "      <td>7.9</td>\n",
       "      <td>6.8</td>\n",
       "      <td>4.0</td>\n",
       "      <td>NaN</td>\n",
       "      <td>10.5</td>\n",
       "      <td>7.0</td>\n",
       "      <td>9.2</td>\n",
       "      <td>10.5</td>\n",
       "      <td>7.5</td>\n",
       "      <td>10.7</td>\n",
       "      <td>6.8</td>\n",
       "      <td>6.6</td>\n",
       "    </tr>\n",
       "    <tr>\n",
       "      <th rowspan=\"2\" valign=\"top\">FXYAB</th>\n",
       "      <th>2023-11-01</th>\n",
       "      <td>9.2</td>\n",
       "      <td>NaN</td>\n",
       "      <td>NaN</td>\n",
       "      <td>NaN</td>\n",
       "      <td>14.2</td>\n",
       "      <td>15.0</td>\n",
       "      <td>19.5</td>\n",
       "      <td>NaN</td>\n",
       "      <td>19.0</td>\n",
       "      <td>10.6</td>\n",
       "      <td>11.6</td>\n",
       "      <td>10.0</td>\n",
       "    </tr>\n",
       "    <tr>\n",
       "      <th>2023-12-01</th>\n",
       "      <td>7.8</td>\n",
       "      <td>NaN</td>\n",
       "      <td>NaN</td>\n",
       "      <td>NaN</td>\n",
       "      <td>15.1</td>\n",
       "      <td>10.0</td>\n",
       "      <td>19.9</td>\n",
       "      <td>NaN</td>\n",
       "      <td>18.4</td>\n",
       "      <td>12.1</td>\n",
       "      <td>11.2</td>\n",
       "      <td>8.3</td>\n",
       "    </tr>\n",
       "  </tbody>\n",
       "</table>\n",
       "</div>"
      ],
      "text/plain": [
       "NOM_USUEL             AIX EN PROVENCE  APT-VITON  CASTELLANE  FORCALQUIER  \\\n",
       "parametre DATE                                                              \n",
       "RR        2023-11-01             30.2       37.6       102.2         63.1   \n",
       "          2023-12-01             42.6       60.4        76.3          NaN   \n",
       "TM        2023-11-01             10.2        9.1         7.1          NaN   \n",
       "          2023-12-01              7.9        6.8         4.0          NaN   \n",
       "FXYAB     2023-11-01              9.2        NaN         NaN          NaN   \n",
       "          2023-12-01              7.8        NaN         NaN          NaN   \n",
       "\n",
       "NOM_USUEL             FREJUS  LA BASTIDE DES JOURDANS  LE LUC  MARSEILLE-OBS  \\\n",
       "parametre DATE                                                                 \n",
       "RR        2023-11-01    20.4                     22.0    21.7           23.2   \n",
       "          2023-12-01    50.6                     42.6    53.8           28.3   \n",
       "TM        2023-11-01    13.3                      9.0    12.7           12.9   \n",
       "          2023-12-01    10.5                      7.0     9.2           10.5   \n",
       "FXYAB     2023-11-01    14.2                     15.0    19.5            NaN   \n",
       "          2023-12-01    15.1                     10.0    19.9            NaN   \n",
       "\n",
       "NOM_USUEL             SALON DE PROVENCE  TOULON  VALENSOLE  VAUVENARGUES  \n",
       "parametre DATE                                                            \n",
       "RR        2023-11-01               30.8    25.8       36.4          41.8  \n",
       "          2023-12-01               35.4    65.2       56.8          71.0  \n",
       "TM        2023-11-01               10.5    13.6        9.0           8.9  \n",
       "          2023-12-01                7.5    10.7        6.8           6.6  \n",
       "FXYAB     2023-11-01               19.0    10.6       11.6          10.0  \n",
       "          2023-12-01               18.4    12.1       11.2           8.3  "
      ]
     },
     "metadata": {},
     "output_type": "display_data"
    },
    {
     "data": {
      "application/vnd.plotly.v1+json": {
       "config": {
        "plotlyServerURL": "https://plot.ly"
       },
       "data": [
        {
         "marker": {
          "color": "rgb(141,211,199)"
         },
         "name": "FORCALQUIER",
         "type": "bar",
         "x": [
          "2022-01-01T00:00:00",
          "2022-02-01T00:00:00",
          "2022-03-01T00:00:00",
          "2022-04-01T00:00:00",
          "2022-05-01T00:00:00",
          "2022-06-01T00:00:00",
          "2022-07-01T00:00:00",
          "2022-08-01T00:00:00",
          "2022-09-01T00:00:00",
          "2022-10-01T00:00:00",
          "2022-11-01T00:00:00",
          "2022-12-01T00:00:00",
          "2023-01-01T00:00:00",
          "2023-02-01T00:00:00",
          "2023-03-01T00:00:00",
          "2023-04-01T00:00:00",
          "2023-05-01T00:00:00",
          "2023-06-01T00:00:00",
          "2023-07-01T00:00:00",
          "2023-08-01T00:00:00",
          "2023-09-01T00:00:00",
          "2023-10-01T00:00:00",
          "2023-11-01T00:00:00"
         ],
         "xaxis": "x",
         "y": [
          3.5,
          24.8,
          6.6,
          44.4,
          28.5,
          20.4,
          3.6,
          93.6,
          83.2,
          27.8,
          140.5,
          174.3,
          25.2,
          11.6,
          21.9,
          34.9,
          128.7,
          95.4,
          0.8,
          39.2,
          108,
          77.5,
          63.1
         ],
         "yaxis": "y"
        },
        {
         "line": {
          "color": "gray"
         },
         "mode": "lines",
         "name": "Cumulé 04088001",
         "type": "scatter",
         "x": [
          "2022-01-01T00:00:00",
          "2022-02-01T00:00:00",
          "2022-03-01T00:00:00",
          "2022-04-01T00:00:00",
          "2022-05-01T00:00:00",
          "2022-06-01T00:00:00",
          "2022-07-01T00:00:00",
          "2022-08-01T00:00:00",
          "2022-09-01T00:00:00",
          "2022-10-01T00:00:00",
          "2022-11-01T00:00:00",
          "2022-12-01T00:00:00",
          "2023-01-01T00:00:00",
          "2023-02-01T00:00:00",
          "2023-03-01T00:00:00",
          "2023-04-01T00:00:00",
          "2023-05-01T00:00:00",
          "2023-06-01T00:00:00",
          "2023-07-01T00:00:00",
          "2023-08-01T00:00:00",
          "2023-09-01T00:00:00",
          "2023-10-01T00:00:00",
          "2023-11-01T00:00:00"
         ],
         "xaxis": "x",
         "y": [
          3.5,
          28.3,
          34.9,
          79.3,
          107.8,
          128.2,
          131.79999999999998,
          225.39999999999998,
          308.59999999999997,
          336.4,
          476.9,
          651.2,
          676.4000000000001,
          688.0000000000001,
          709.9000000000001,
          744.8000000000001,
          873.5,
          968.9,
          969.6999999999999,
          1008.9,
          1116.9,
          1194.4,
          1257.5
         ],
         "yaxis": "y2"
        },
        {
         "marker": {
          "color": "rgb(255,255,179)"
         },
         "name": "CASTELLANE",
         "type": "bar",
         "x": [
          "2022-01-01T00:00:00",
          "2022-02-01T00:00:00",
          "2022-03-01T00:00:00",
          "2022-04-01T00:00:00",
          "2022-05-01T00:00:00",
          "2022-06-01T00:00:00",
          "2022-07-01T00:00:00",
          "2022-08-01T00:00:00",
          "2022-09-01T00:00:00",
          "2022-10-01T00:00:00",
          "2022-11-01T00:00:00",
          "2022-12-01T00:00:00",
          "2023-01-01T00:00:00",
          "2023-02-01T00:00:00",
          "2023-03-01T00:00:00",
          "2023-04-01T00:00:00",
          "2023-05-01T00:00:00",
          "2023-06-01T00:00:00",
          "2023-07-01T00:00:00",
          "2023-08-01T00:00:00",
          "2023-09-01T00:00:00",
          "2023-10-01T00:00:00",
          "2023-11-01T00:00:00",
          "2023-12-01T00:00:00"
         ],
         "xaxis": "x2",
         "y": [
          5.6,
          35.4,
          13.4,
          65.6,
          29.4,
          47.1,
          8.6,
          54.1,
          67.1,
          12.4,
          91.5,
          155.7,
          66.7,
          14.4,
          26.6,
          59.1,
          200.5,
          153.5,
          4,
          62.6,
          60.1,
          151.1,
          102.2,
          76.3
         ],
         "yaxis": "y3"
        },
        {
         "line": {
          "color": "gray"
         },
         "mode": "lines",
         "name": "Cumulé 04039001",
         "type": "scatter",
         "x": [
          "2022-01-01T00:00:00",
          "2022-02-01T00:00:00",
          "2022-03-01T00:00:00",
          "2022-04-01T00:00:00",
          "2022-05-01T00:00:00",
          "2022-06-01T00:00:00",
          "2022-07-01T00:00:00",
          "2022-08-01T00:00:00",
          "2022-09-01T00:00:00",
          "2022-10-01T00:00:00",
          "2022-11-01T00:00:00",
          "2022-12-01T00:00:00",
          "2023-01-01T00:00:00",
          "2023-02-01T00:00:00",
          "2023-03-01T00:00:00",
          "2023-04-01T00:00:00",
          "2023-05-01T00:00:00",
          "2023-06-01T00:00:00",
          "2023-07-01T00:00:00",
          "2023-08-01T00:00:00",
          "2023-09-01T00:00:00",
          "2023-10-01T00:00:00",
          "2023-11-01T00:00:00",
          "2023-12-01T00:00:00"
         ],
         "xaxis": "x2",
         "y": [
          5.6,
          41,
          54.4,
          120,
          149.4,
          196.5,
          205.1,
          259.2,
          326.29999999999995,
          338.69999999999993,
          430.19999999999993,
          585.8999999999999,
          652.5999999999999,
          666.9999999999999,
          693.5999999999999,
          752.6999999999999,
          953.1999999999999,
          1106.6999999999998,
          1110.6999999999998,
          1173.2999999999997,
          1233.3999999999996,
          1384.4999999999995,
          1486.6999999999996,
          1562.9999999999995
         ],
         "yaxis": "y4"
        },
        {
         "marker": {
          "color": "rgb(190,186,218)"
         },
         "name": "VALENSOLE",
         "type": "bar",
         "x": [
          "2022-01-01T00:00:00",
          "2022-02-01T00:00:00",
          "2022-03-01T00:00:00",
          "2022-04-01T00:00:00",
          "2022-05-01T00:00:00",
          "2022-06-01T00:00:00",
          "2022-07-01T00:00:00",
          "2022-08-01T00:00:00",
          "2022-09-01T00:00:00",
          "2022-10-01T00:00:00",
          "2022-11-01T00:00:00",
          "2022-12-01T00:00:00",
          "2023-01-01T00:00:00",
          "2023-02-01T00:00:00",
          "2023-03-01T00:00:00",
          "2023-04-01T00:00:00",
          "2023-05-01T00:00:00",
          "2023-06-01T00:00:00",
          "2023-07-01T00:00:00",
          "2023-08-01T00:00:00",
          "2023-09-01T00:00:00",
          "2023-10-01T00:00:00",
          "2023-11-01T00:00:00",
          "2023-12-01T00:00:00"
         ],
         "xaxis": "x3",
         "y": [
          4.8,
          15,
          8.4,
          32.6,
          29,
          15.8,
          0,
          56.9,
          78,
          11.4,
          93.6,
          103.9,
          20.6,
          7.8,
          16.4,
          36.2,
          154.4,
          155.6,
          1.2,
          31.4,
          32.6,
          91.1,
          36.4,
          56.8
         ],
         "yaxis": "y5"
        },
        {
         "line": {
          "color": "gray"
         },
         "mode": "lines",
         "name": "Cumulé 04230001",
         "type": "scatter",
         "x": [
          "2022-01-01T00:00:00",
          "2022-02-01T00:00:00",
          "2022-03-01T00:00:00",
          "2022-04-01T00:00:00",
          "2022-05-01T00:00:00",
          "2022-06-01T00:00:00",
          "2022-07-01T00:00:00",
          "2022-08-01T00:00:00",
          "2022-09-01T00:00:00",
          "2022-10-01T00:00:00",
          "2022-11-01T00:00:00",
          "2022-12-01T00:00:00",
          "2023-01-01T00:00:00",
          "2023-02-01T00:00:00",
          "2023-03-01T00:00:00",
          "2023-04-01T00:00:00",
          "2023-05-01T00:00:00",
          "2023-06-01T00:00:00",
          "2023-07-01T00:00:00",
          "2023-08-01T00:00:00",
          "2023-09-01T00:00:00",
          "2023-10-01T00:00:00",
          "2023-11-01T00:00:00",
          "2023-12-01T00:00:00"
         ],
         "xaxis": "x3",
         "y": [
          4.8,
          19.8,
          28.200000000000003,
          60.800000000000004,
          89.80000000000001,
          105.60000000000001,
          105.60000000000001,
          162.5,
          240.5,
          251.9,
          345.5,
          449.4,
          470,
          477.8,
          494.2,
          530.4,
          684.8,
          840.4,
          841.6,
          873,
          905.6,
          996.7,
          1033.1000000000001,
          1089.9
         ],
         "yaxis": "y6"
        },
        {
         "marker": {
          "color": "rgb(251,128,114)"
         },
         "name": "AIX EN PROVENCE",
         "type": "bar",
         "x": [
          "2022-01-01T00:00:00",
          "2022-02-01T00:00:00",
          "2022-03-01T00:00:00",
          "2022-04-01T00:00:00",
          "2022-05-01T00:00:00",
          "2022-06-01T00:00:00",
          "2022-07-01T00:00:00",
          "2022-08-01T00:00:00",
          "2022-09-01T00:00:00",
          "2022-10-01T00:00:00",
          "2022-11-01T00:00:00",
          "2022-12-01T00:00:00",
          "2023-01-01T00:00:00",
          "2023-02-01T00:00:00",
          "2023-03-01T00:00:00",
          "2023-04-01T00:00:00",
          "2023-05-01T00:00:00",
          "2023-06-01T00:00:00",
          "2023-07-01T00:00:00",
          "2023-08-01T00:00:00",
          "2023-09-01T00:00:00",
          "2023-10-01T00:00:00",
          "2023-11-01T00:00:00",
          "2023-12-01T00:00:00"
         ],
         "xaxis": "x4",
         "y": [
          3.6,
          26.1,
          6.6,
          27,
          26,
          7,
          0.2,
          37.7,
          49,
          36.6,
          100.7,
          97,
          5.6,
          20,
          10.8,
          15.2,
          93.9,
          73.4,
          7.4,
          35.1,
          26.4,
          47.5,
          30.2,
          42.6
         ],
         "yaxis": "y7"
        },
        {
         "line": {
          "color": "gray"
         },
         "mode": "lines",
         "name": "Cumulé 13001009",
         "type": "scatter",
         "x": [
          "2022-01-01T00:00:00",
          "2022-02-01T00:00:00",
          "2022-03-01T00:00:00",
          "2022-04-01T00:00:00",
          "2022-05-01T00:00:00",
          "2022-06-01T00:00:00",
          "2022-07-01T00:00:00",
          "2022-08-01T00:00:00",
          "2022-09-01T00:00:00",
          "2022-10-01T00:00:00",
          "2022-11-01T00:00:00",
          "2022-12-01T00:00:00",
          "2023-01-01T00:00:00",
          "2023-02-01T00:00:00",
          "2023-03-01T00:00:00",
          "2023-04-01T00:00:00",
          "2023-05-01T00:00:00",
          "2023-06-01T00:00:00",
          "2023-07-01T00:00:00",
          "2023-08-01T00:00:00",
          "2023-09-01T00:00:00",
          "2023-10-01T00:00:00",
          "2023-11-01T00:00:00",
          "2023-12-01T00:00:00"
         ],
         "xaxis": "x4",
         "y": [
          3.6,
          29.700000000000003,
          36.300000000000004,
          63.300000000000004,
          89.30000000000001,
          96.30000000000001,
          96.50000000000001,
          134.20000000000002,
          183.20000000000002,
          219.8,
          320.5,
          417.5,
          423.1,
          443.1,
          453.90000000000003,
          469.1,
          563,
          636.4,
          643.8,
          678.9,
          705.3,
          752.8,
          783,
          825.6
         ],
         "yaxis": "y8"
        },
        {
         "marker": {
          "color": "rgb(128,177,211)"
         },
         "name": "VAUVENARGUES",
         "type": "bar",
         "x": [
          "2022-01-01T00:00:00",
          "2022-02-01T00:00:00",
          "2022-03-01T00:00:00",
          "2022-04-01T00:00:00",
          "2022-05-01T00:00:00",
          "2022-06-01T00:00:00",
          "2022-07-01T00:00:00",
          "2022-08-01T00:00:00",
          "2022-09-01T00:00:00",
          "2022-10-01T00:00:00",
          "2022-11-01T00:00:00",
          "2022-12-01T00:00:00",
          "2023-01-01T00:00:00",
          "2023-02-01T00:00:00",
          "2023-03-01T00:00:00",
          "2023-04-01T00:00:00",
          "2023-05-01T00:00:00",
          "2023-06-01T00:00:00",
          "2023-07-01T00:00:00",
          "2023-08-01T00:00:00",
          "2023-09-01T00:00:00",
          "2023-10-01T00:00:00",
          "2023-11-01T00:00:00",
          "2023-12-01T00:00:00"
         ],
         "xaxis": "x5",
         "y": [
          1,
          24.7,
          10.4,
          38.9,
          44.7,
          11,
          0.4,
          21,
          69.6,
          24.3,
          130.3,
          104.6,
          11.6,
          22.2,
          16,
          26.1,
          123,
          145.5,
          4.4,
          41.8,
          54.5,
          86,
          41.8,
          71
         ],
         "yaxis": "y9"
        },
        {
         "line": {
          "color": "gray"
         },
         "mode": "lines",
         "name": "Cumulé 13111002",
         "type": "scatter",
         "x": [
          "2022-01-01T00:00:00",
          "2022-02-01T00:00:00",
          "2022-03-01T00:00:00",
          "2022-04-01T00:00:00",
          "2022-05-01T00:00:00",
          "2022-06-01T00:00:00",
          "2022-07-01T00:00:00",
          "2022-08-01T00:00:00",
          "2022-09-01T00:00:00",
          "2022-10-01T00:00:00",
          "2022-11-01T00:00:00",
          "2022-12-01T00:00:00",
          "2023-01-01T00:00:00",
          "2023-02-01T00:00:00",
          "2023-03-01T00:00:00",
          "2023-04-01T00:00:00",
          "2023-05-01T00:00:00",
          "2023-06-01T00:00:00",
          "2023-07-01T00:00:00",
          "2023-08-01T00:00:00",
          "2023-09-01T00:00:00",
          "2023-10-01T00:00:00",
          "2023-11-01T00:00:00",
          "2023-12-01T00:00:00"
         ],
         "xaxis": "x5",
         "y": [
          1,
          25.7,
          36.1,
          75,
          119.7,
          130.7,
          131.1,
          152.1,
          221.7,
          246,
          376.3,
          480.9,
          492.5,
          514.7,
          530.7,
          556.8000000000001,
          679.8000000000001,
          825.3000000000001,
          829.7,
          871.5,
          926,
          1012,
          1053.8,
          1124.8
         ],
         "yaxis": "y10"
        },
        {
         "marker": {
          "color": "rgb(253,180,98)"
         },
         "name": "SALON DE PROVENCE",
         "type": "bar",
         "x": [
          "2022-01-01T00:00:00",
          "2022-02-01T00:00:00",
          "2022-03-01T00:00:00",
          "2022-04-01T00:00:00",
          "2022-05-01T00:00:00",
          "2022-06-01T00:00:00",
          "2022-07-01T00:00:00",
          "2022-08-01T00:00:00",
          "2022-09-01T00:00:00",
          "2022-10-01T00:00:00",
          "2022-11-01T00:00:00",
          "2022-12-01T00:00:00",
          "2023-01-01T00:00:00",
          "2023-02-01T00:00:00",
          "2023-03-01T00:00:00",
          "2023-04-01T00:00:00",
          "2023-05-01T00:00:00",
          "2023-06-01T00:00:00",
          "2023-07-01T00:00:00",
          "2023-08-01T00:00:00",
          "2023-09-01T00:00:00",
          "2023-10-01T00:00:00",
          "2023-11-01T00:00:00",
          "2023-12-01T00:00:00"
         ],
         "xaxis": "x6",
         "y": [
          2,
          38.2,
          6.6,
          25.6,
          7.6,
          17.2,
          0.2,
          51.1,
          47.1,
          11.5,
          46.5,
          111.5,
          2.6,
          8.4,
          17.9,
          4,
          49.9,
          86.9,
          4.8,
          17.4,
          17.4,
          50.1,
          30.8,
          35.4
         ],
         "yaxis": "y11"
        },
        {
         "line": {
          "color": "gray"
         },
         "mode": "lines",
         "name": "Cumulé 13103001",
         "type": "scatter",
         "x": [
          "2022-01-01T00:00:00",
          "2022-02-01T00:00:00",
          "2022-03-01T00:00:00",
          "2022-04-01T00:00:00",
          "2022-05-01T00:00:00",
          "2022-06-01T00:00:00",
          "2022-07-01T00:00:00",
          "2022-08-01T00:00:00",
          "2022-09-01T00:00:00",
          "2022-10-01T00:00:00",
          "2022-11-01T00:00:00",
          "2022-12-01T00:00:00",
          "2023-01-01T00:00:00",
          "2023-02-01T00:00:00",
          "2023-03-01T00:00:00",
          "2023-04-01T00:00:00",
          "2023-05-01T00:00:00",
          "2023-06-01T00:00:00",
          "2023-07-01T00:00:00",
          "2023-08-01T00:00:00",
          "2023-09-01T00:00:00",
          "2023-10-01T00:00:00",
          "2023-11-01T00:00:00",
          "2023-12-01T00:00:00"
         ],
         "xaxis": "x6",
         "y": [
          2,
          40.2,
          46.800000000000004,
          72.4,
          80,
          97.2,
          97.4,
          148.5,
          195.6,
          207.1,
          253.6,
          365.1,
          367.70000000000005,
          376.1,
          394,
          398,
          447.9,
          534.8,
          539.5999999999999,
          556.9999999999999,
          574.3999999999999,
          624.4999999999999,
          655.2999999999998,
          690.6999999999998
         ],
         "yaxis": "y12"
        },
        {
         "marker": {
          "color": "rgb(179,222,105)"
         },
         "name": "MARSEILLE-OBS",
         "type": "bar",
         "x": [
          "2022-01-01T00:00:00",
          "2022-02-01T00:00:00",
          "2022-03-01T00:00:00",
          "2022-04-01T00:00:00",
          "2022-05-01T00:00:00",
          "2022-06-01T00:00:00",
          "2022-07-01T00:00:00",
          "2022-08-01T00:00:00",
          "2022-09-01T00:00:00",
          "2022-10-01T00:00:00",
          "2022-11-01T00:00:00",
          "2022-12-01T00:00:00",
          "2023-01-01T00:00:00",
          "2023-02-01T00:00:00",
          "2023-03-01T00:00:00",
          "2023-04-01T00:00:00",
          "2023-05-01T00:00:00",
          "2023-06-01T00:00:00",
          "2023-07-01T00:00:00",
          "2023-08-01T00:00:00",
          "2023-09-01T00:00:00",
          "2023-10-01T00:00:00",
          "2023-11-01T00:00:00",
          "2023-12-01T00:00:00"
         ],
         "xaxis": "x7",
         "y": [
          0.4,
          19.9,
          9.4,
          19.3,
          29.5,
          8.8,
          0,
          63.2,
          62.2,
          2,
          44.6,
          74.2,
          2.2,
          19.9,
          3.4,
          6.2,
          58,
          41.6,
          9.9,
          34.7,
          46.2,
          30.3,
          23.2,
          28.3
         ],
         "yaxis": "y13"
        },
        {
         "line": {
          "color": "gray"
         },
         "mode": "lines",
         "name": "Cumulé 13055001",
         "type": "scatter",
         "x": [
          "2022-01-01T00:00:00",
          "2022-02-01T00:00:00",
          "2022-03-01T00:00:00",
          "2022-04-01T00:00:00",
          "2022-05-01T00:00:00",
          "2022-06-01T00:00:00",
          "2022-07-01T00:00:00",
          "2022-08-01T00:00:00",
          "2022-09-01T00:00:00",
          "2022-10-01T00:00:00",
          "2022-11-01T00:00:00",
          "2022-12-01T00:00:00",
          "2023-01-01T00:00:00",
          "2023-02-01T00:00:00",
          "2023-03-01T00:00:00",
          "2023-04-01T00:00:00",
          "2023-05-01T00:00:00",
          "2023-06-01T00:00:00",
          "2023-07-01T00:00:00",
          "2023-08-01T00:00:00",
          "2023-09-01T00:00:00",
          "2023-10-01T00:00:00",
          "2023-11-01T00:00:00",
          "2023-12-01T00:00:00"
         ],
         "xaxis": "x7",
         "y": [
          0.4,
          20.299999999999997,
          29.699999999999996,
          49,
          78.5,
          87.3,
          87.3,
          150.5,
          212.7,
          214.7,
          259.3,
          333.5,
          335.7,
          355.59999999999997,
          358.99999999999994,
          365.19999999999993,
          423.19999999999993,
          464.79999999999995,
          474.69999999999993,
          509.3999999999999,
          555.5999999999999,
          585.8999999999999,
          609.0999999999999,
          637.3999999999999
         ],
         "yaxis": "y14"
        },
        {
         "marker": {
          "color": "rgb(252,205,229)"
         },
         "name": "LE LUC",
         "type": "bar",
         "x": [
          "2022-01-01T00:00:00",
          "2022-02-01T00:00:00",
          "2022-03-01T00:00:00",
          "2022-04-01T00:00:00",
          "2022-05-01T00:00:00",
          "2022-06-01T00:00:00",
          "2022-07-01T00:00:00",
          "2022-08-01T00:00:00",
          "2022-09-01T00:00:00",
          "2022-10-01T00:00:00",
          "2022-11-01T00:00:00",
          "2022-12-01T00:00:00",
          "2023-01-01T00:00:00",
          "2023-02-01T00:00:00",
          "2023-03-01T00:00:00",
          "2023-04-01T00:00:00",
          "2023-05-01T00:00:00",
          "2023-06-01T00:00:00",
          "2023-07-01T00:00:00",
          "2023-08-01T00:00:00",
          "2023-09-01T00:00:00",
          "2023-10-01T00:00:00",
          "2023-11-01T00:00:00",
          "2023-12-01T00:00:00"
         ],
         "xaxis": "x8",
         "y": [
          0.8,
          31.9,
          28.2,
          45.8,
          38.1,
          16.6,
          0.6,
          54.1,
          41.1,
          13.5,
          67.3,
          137.1,
          10,
          37.4,
          4.4,
          11.6,
          133.5,
          130.7,
          0.8,
          24.3,
          32.6,
          72,
          21.7,
          53.8
         ],
         "yaxis": "y15"
        },
        {
         "line": {
          "color": "gray"
         },
         "mode": "lines",
         "name": "Cumulé 83031001",
         "type": "scatter",
         "x": [
          "2022-01-01T00:00:00",
          "2022-02-01T00:00:00",
          "2022-03-01T00:00:00",
          "2022-04-01T00:00:00",
          "2022-05-01T00:00:00",
          "2022-06-01T00:00:00",
          "2022-07-01T00:00:00",
          "2022-08-01T00:00:00",
          "2022-09-01T00:00:00",
          "2022-10-01T00:00:00",
          "2022-11-01T00:00:00",
          "2022-12-01T00:00:00",
          "2023-01-01T00:00:00",
          "2023-02-01T00:00:00",
          "2023-03-01T00:00:00",
          "2023-04-01T00:00:00",
          "2023-05-01T00:00:00",
          "2023-06-01T00:00:00",
          "2023-07-01T00:00:00",
          "2023-08-01T00:00:00",
          "2023-09-01T00:00:00",
          "2023-10-01T00:00:00",
          "2023-11-01T00:00:00",
          "2023-12-01T00:00:00"
         ],
         "xaxis": "x8",
         "y": [
          0.8,
          32.699999999999996,
          60.89999999999999,
          106.69999999999999,
          144.79999999999998,
          161.39999999999998,
          161.99999999999997,
          216.09999999999997,
          257.2,
          270.7,
          338,
          475.1,
          485.1,
          522.5,
          526.9,
          538.5,
          672,
          802.7,
          803.5,
          827.8,
          860.4,
          932.4,
          954.1,
          1007.9
         ],
         "yaxis": "y16"
        },
        {
         "marker": {
          "color": "rgb(217,217,217)"
         },
         "name": "FREJUS",
         "type": "bar",
         "x": [
          "2022-01-01T00:00:00",
          "2022-02-01T00:00:00",
          "2022-03-01T00:00:00",
          "2022-04-01T00:00:00",
          "2022-05-01T00:00:00",
          "2022-06-01T00:00:00",
          "2022-07-01T00:00:00",
          "2022-08-01T00:00:00",
          "2022-09-01T00:00:00",
          "2022-10-01T00:00:00",
          "2022-11-01T00:00:00",
          "2022-12-01T00:00:00",
          "2023-01-01T00:00:00",
          "2023-02-01T00:00:00",
          "2023-03-01T00:00:00",
          "2023-04-01T00:00:00",
          "2023-05-01T00:00:00",
          "2023-06-01T00:00:00",
          "2023-07-01T00:00:00",
          "2023-08-01T00:00:00",
          "2023-09-01T00:00:00",
          "2023-10-01T00:00:00",
          "2023-11-01T00:00:00",
          "2023-12-01T00:00:00"
         ],
         "xaxis": "x9",
         "y": [
          2.4,
          36.2,
          30.4,
          40.4,
          3.8,
          43.4,
          0.2,
          33.1,
          44,
          32.8,
          74.7,
          99.4,
          21.6,
          30.8,
          5.4,
          15.6,
          37.6,
          40.6,
          0.6,
          23.8,
          29.9,
          83.1,
          20.4,
          50.6
         ],
         "yaxis": "y17"
        },
        {
         "line": {
          "color": "gray"
         },
         "mode": "lines",
         "name": "Cumulé 83061001",
         "type": "scatter",
         "x": [
          "2022-01-01T00:00:00",
          "2022-02-01T00:00:00",
          "2022-03-01T00:00:00",
          "2022-04-01T00:00:00",
          "2022-05-01T00:00:00",
          "2022-06-01T00:00:00",
          "2022-07-01T00:00:00",
          "2022-08-01T00:00:00",
          "2022-09-01T00:00:00",
          "2022-10-01T00:00:00",
          "2022-11-01T00:00:00",
          "2022-12-01T00:00:00",
          "2023-01-01T00:00:00",
          "2023-02-01T00:00:00",
          "2023-03-01T00:00:00",
          "2023-04-01T00:00:00",
          "2023-05-01T00:00:00",
          "2023-06-01T00:00:00",
          "2023-07-01T00:00:00",
          "2023-08-01T00:00:00",
          "2023-09-01T00:00:00",
          "2023-10-01T00:00:00",
          "2023-11-01T00:00:00",
          "2023-12-01T00:00:00"
         ],
         "xaxis": "x9",
         "y": [
          2.4,
          38.6,
          69,
          109.4,
          113.2,
          156.6,
          156.79999999999998,
          189.89999999999998,
          233.89999999999998,
          266.7,
          341.4,
          440.79999999999995,
          462.4,
          493.2,
          498.59999999999997,
          514.1999999999999,
          551.8,
          592.4,
          593,
          616.8,
          646.6999999999999,
          729.8,
          750.1999999999999,
          800.8
         ],
         "yaxis": "y18"
        },
        {
         "marker": {
          "color": "rgb(188,128,189)"
         },
         "name": "TOULON",
         "type": "bar",
         "x": [
          "2022-01-01T00:00:00",
          "2022-02-01T00:00:00",
          "2022-03-01T00:00:00",
          "2022-04-01T00:00:00",
          "2022-05-01T00:00:00",
          "2022-06-01T00:00:00",
          "2022-07-01T00:00:00",
          "2022-08-01T00:00:00",
          "2022-09-01T00:00:00",
          "2022-10-01T00:00:00",
          "2022-11-01T00:00:00",
          "2022-12-01T00:00:00",
          "2023-01-01T00:00:00",
          "2023-02-01T00:00:00",
          "2023-03-01T00:00:00",
          "2023-04-01T00:00:00",
          "2023-05-01T00:00:00",
          "2023-06-01T00:00:00",
          "2023-07-01T00:00:00",
          "2023-08-01T00:00:00",
          "2023-09-01T00:00:00",
          "2023-10-01T00:00:00",
          "2023-11-01T00:00:00",
          "2023-12-01T00:00:00"
         ],
         "xaxis": "x10",
         "y": [
          2.8,
          27,
          16.4,
          26.2,
          28.6,
          24.5,
          0.2,
          40.9,
          64.7,
          13.2,
          62.2,
          107.2,
          20.4,
          49,
          15.8,
          30.1,
          47.8,
          59.6,
          1.4,
          7.2,
          27.1,
          115,
          25.8,
          65.2
         ],
         "yaxis": "y19"
        },
        {
         "line": {
          "color": "gray"
         },
         "mode": "lines",
         "name": "Cumulé 83137001",
         "type": "scatter",
         "x": [
          "2022-01-01T00:00:00",
          "2022-02-01T00:00:00",
          "2022-03-01T00:00:00",
          "2022-04-01T00:00:00",
          "2022-05-01T00:00:00",
          "2022-06-01T00:00:00",
          "2022-07-01T00:00:00",
          "2022-08-01T00:00:00",
          "2022-09-01T00:00:00",
          "2022-10-01T00:00:00",
          "2022-11-01T00:00:00",
          "2022-12-01T00:00:00",
          "2023-01-01T00:00:00",
          "2023-02-01T00:00:00",
          "2023-03-01T00:00:00",
          "2023-04-01T00:00:00",
          "2023-05-01T00:00:00",
          "2023-06-01T00:00:00",
          "2023-07-01T00:00:00",
          "2023-08-01T00:00:00",
          "2023-09-01T00:00:00",
          "2023-10-01T00:00:00",
          "2023-11-01T00:00:00",
          "2023-12-01T00:00:00"
         ],
         "xaxis": "x10",
         "y": [
          2.8,
          29.8,
          46.2,
          72.4,
          101,
          125.5,
          125.7,
          166.6,
          231.3,
          244.5,
          306.7,
          413.9,
          434.29999999999995,
          483.29999999999995,
          499.09999999999997,
          529.1999999999999,
          576.9999999999999,
          636.5999999999999,
          637.9999999999999,
          645.1999999999999,
          672.3,
          787.3,
          813.0999999999999,
          878.3
         ],
         "yaxis": "y20"
        },
        {
         "marker": {
          "color": "rgb(204,235,197)"
         },
         "name": "APT-VITON",
         "type": "bar",
         "x": [
          "2022-01-01T00:00:00",
          "2022-02-01T00:00:00",
          "2022-03-01T00:00:00",
          "2022-04-01T00:00:00",
          "2022-05-01T00:00:00",
          "2022-06-01T00:00:00",
          "2022-07-01T00:00:00",
          "2022-08-01T00:00:00",
          "2022-09-01T00:00:00",
          "2022-10-01T00:00:00",
          "2022-11-01T00:00:00",
          "2022-12-01T00:00:00",
          "2023-01-01T00:00:00",
          "2023-02-01T00:00:00",
          "2023-03-01T00:00:00",
          "2023-04-01T00:00:00",
          "2023-05-01T00:00:00",
          "2023-06-01T00:00:00",
          "2023-07-01T00:00:00",
          "2023-08-01T00:00:00",
          "2023-09-01T00:00:00",
          "2023-10-01T00:00:00",
          "2023-11-01T00:00:00",
          "2023-12-01T00:00:00"
         ],
         "xaxis": "x11",
         "y": [
          1.8,
          23.7,
          11.6,
          53.7,
          47.3,
          12.1,
          1.4,
          19.1,
          36.2,
          72.1,
          151.6,
          147.3,
          12.6,
          10.4,
          28.8,
          24.7,
          145.3,
          192.8,
          1,
          47.8,
          16.8,
          84.1,
          37.6,
          60.4
         ],
         "yaxis": "y21"
        },
        {
         "line": {
          "color": "gray"
         },
         "mode": "lines",
         "name": "Cumulé 84003002",
         "type": "scatter",
         "x": [
          "2022-01-01T00:00:00",
          "2022-02-01T00:00:00",
          "2022-03-01T00:00:00",
          "2022-04-01T00:00:00",
          "2022-05-01T00:00:00",
          "2022-06-01T00:00:00",
          "2022-07-01T00:00:00",
          "2022-08-01T00:00:00",
          "2022-09-01T00:00:00",
          "2022-10-01T00:00:00",
          "2022-11-01T00:00:00",
          "2022-12-01T00:00:00",
          "2023-01-01T00:00:00",
          "2023-02-01T00:00:00",
          "2023-03-01T00:00:00",
          "2023-04-01T00:00:00",
          "2023-05-01T00:00:00",
          "2023-06-01T00:00:00",
          "2023-07-01T00:00:00",
          "2023-08-01T00:00:00",
          "2023-09-01T00:00:00",
          "2023-10-01T00:00:00",
          "2023-11-01T00:00:00",
          "2023-12-01T00:00:00"
         ],
         "xaxis": "x11",
         "y": [
          1.8,
          25.5,
          37.1,
          90.80000000000001,
          138.10000000000002,
          150.20000000000002,
          151.60000000000002,
          170.70000000000002,
          206.90000000000003,
          279,
          430.6,
          577.9000000000001,
          590.5000000000001,
          600.9000000000001,
          629.7,
          654.4000000000001,
          799.7,
          992.5,
          993.5,
          1041.3,
          1058.1,
          1142.1999999999998,
          1179.7999999999997,
          1240.1999999999998
         ],
         "yaxis": "y22"
        },
        {
         "marker": {
          "color": "rgb(255,237,111)"
         },
         "name": "LA BASTIDE DES JOURDANS",
         "type": "bar",
         "x": [
          "2022-01-01T00:00:00",
          "2022-02-01T00:00:00",
          "2022-03-01T00:00:00",
          "2022-04-01T00:00:00",
          "2022-05-01T00:00:00",
          "2022-06-01T00:00:00",
          "2022-07-01T00:00:00",
          "2022-08-01T00:00:00",
          "2022-09-01T00:00:00",
          "2022-10-01T00:00:00",
          "2022-11-01T00:00:00",
          "2022-12-01T00:00:00",
          "2023-01-01T00:00:00",
          "2023-02-01T00:00:00",
          "2023-03-01T00:00:00",
          "2023-04-01T00:00:00",
          "2023-05-01T00:00:00",
          "2023-06-01T00:00:00",
          "2023-07-01T00:00:00",
          "2023-08-01T00:00:00",
          "2023-09-01T00:00:00",
          "2023-10-01T00:00:00",
          "2023-11-01T00:00:00",
          "2023-12-01T00:00:00"
         ],
         "xaxis": "x12",
         "y": [
          3.4,
          18.4,
          6.4,
          41.5,
          24.5,
          10.5,
          1,
          36.8,
          43.2,
          45.2,
          110.8,
          106.6,
          11.4,
          13,
          16.4,
          47.1,
          89.9,
          157.3,
          2,
          37.4,
          41.7,
          67.4,
          22,
          42.6
         ],
         "yaxis": "y23"
        },
        {
         "line": {
          "color": "gray"
         },
         "mode": "lines",
         "name": "Cumulé 84009002",
         "type": "scatter",
         "x": [
          "2022-01-01T00:00:00",
          "2022-02-01T00:00:00",
          "2022-03-01T00:00:00",
          "2022-04-01T00:00:00",
          "2022-05-01T00:00:00",
          "2022-06-01T00:00:00",
          "2022-07-01T00:00:00",
          "2022-08-01T00:00:00",
          "2022-09-01T00:00:00",
          "2022-10-01T00:00:00",
          "2022-11-01T00:00:00",
          "2022-12-01T00:00:00",
          "2023-01-01T00:00:00",
          "2023-02-01T00:00:00",
          "2023-03-01T00:00:00",
          "2023-04-01T00:00:00",
          "2023-05-01T00:00:00",
          "2023-06-01T00:00:00",
          "2023-07-01T00:00:00",
          "2023-08-01T00:00:00",
          "2023-09-01T00:00:00",
          "2023-10-01T00:00:00",
          "2023-11-01T00:00:00",
          "2023-12-01T00:00:00"
         ],
         "xaxis": "x12",
         "y": [
          3.4,
          21.799999999999997,
          28.199999999999996,
          69.69999999999999,
          94.19999999999999,
          104.69999999999999,
          105.69999999999999,
          142.5,
          185.7,
          230.89999999999998,
          341.7,
          448.29999999999995,
          459.69999999999993,
          472.69999999999993,
          489.0999999999999,
          536.1999999999999,
          626.0999999999999,
          783.3999999999999,
          785.3999999999999,
          822.7999999999998,
          864.4999999999999,
          931.8999999999999,
          953.8999999999999,
          996.4999999999999
         ],
         "yaxis": "y24"
        }
       ],
       "layout": {
        "annotations": [
         {
          "font": {
           "size": 16
          },
          "showarrow": false,
          "text": "04088001 - FORCALQUIER",
          "x": 0.47,
          "xanchor": "center",
          "xref": "paper",
          "y": 1,
          "yanchor": "bottom",
          "yref": "paper"
         },
         {
          "font": {
           "size": 16
          },
          "showarrow": false,
          "text": "04039001 - CASTELLANE",
          "x": 0.47,
          "xanchor": "center",
          "xref": "paper",
          "y": 0.9131944444444444,
          "yanchor": "bottom",
          "yref": "paper"
         },
         {
          "font": {
           "size": 16
          },
          "showarrow": false,
          "text": "04230001 - VALENSOLE",
          "x": 0.47,
          "xanchor": "center",
          "xref": "paper",
          "y": 0.8263888888888888,
          "yanchor": "bottom",
          "yref": "paper"
         },
         {
          "font": {
           "size": 16
          },
          "showarrow": false,
          "text": "13001009 - AIX EN PROVENCE",
          "x": 0.47,
          "xanchor": "center",
          "xref": "paper",
          "y": 0.7395833333333333,
          "yanchor": "bottom",
          "yref": "paper"
         },
         {
          "font": {
           "size": 16
          },
          "showarrow": false,
          "text": "13111002 - VAUVENARGUES",
          "x": 0.47,
          "xanchor": "center",
          "xref": "paper",
          "y": 0.6527777777777777,
          "yanchor": "bottom",
          "yref": "paper"
         },
         {
          "font": {
           "size": 16
          },
          "showarrow": false,
          "text": "13103001 - SALON DE PROVENCE",
          "x": 0.47,
          "xanchor": "center",
          "xref": "paper",
          "y": 0.5659722222222223,
          "yanchor": "bottom",
          "yref": "paper"
         },
         {
          "font": {
           "size": 16
          },
          "showarrow": false,
          "text": "13055001 - MARSEILLE-OBS",
          "x": 0.47,
          "xanchor": "center",
          "xref": "paper",
          "y": 0.4791666666666667,
          "yanchor": "bottom",
          "yref": "paper"
         },
         {
          "font": {
           "size": 16
          },
          "showarrow": false,
          "text": "83031001 - LE LUC",
          "x": 0.47,
          "xanchor": "center",
          "xref": "paper",
          "y": 0.3923611111111111,
          "yanchor": "bottom",
          "yref": "paper"
         },
         {
          "font": {
           "size": 16
          },
          "showarrow": false,
          "text": "83061001 - FREJUS",
          "x": 0.47,
          "xanchor": "center",
          "xref": "paper",
          "y": 0.3055555555555556,
          "yanchor": "bottom",
          "yref": "paper"
         },
         {
          "font": {
           "size": 16
          },
          "showarrow": false,
          "text": "83137001 - TOULON",
          "x": 0.47,
          "xanchor": "center",
          "xref": "paper",
          "y": 0.21875,
          "yanchor": "bottom",
          "yref": "paper"
         },
         {
          "font": {
           "size": 16
          },
          "showarrow": false,
          "text": "84003002 - APT-VITON",
          "x": 0.47,
          "xanchor": "center",
          "xref": "paper",
          "y": 0.13194444444444445,
          "yanchor": "bottom",
          "yref": "paper"
         },
         {
          "font": {
           "size": 16
          },
          "showarrow": false,
          "text": "84009002 - LA BASTIDE DES JOURDANS",
          "x": 0.47,
          "xanchor": "center",
          "xref": "paper",
          "y": 0.045138888888888895,
          "yanchor": "bottom",
          "yref": "paper"
         }
        ],
        "height": 1596,
        "hoverlabel": {
         "bgcolor": "rgba(255,255,255,0.6)"
        },
        "hovermode": "x unified",
        "template": {
         "data": {
          "bar": [
           {
            "error_x": {
             "color": "#2a3f5f"
            },
            "error_y": {
             "color": "#2a3f5f"
            },
            "marker": {
             "line": {
              "color": "#E5ECF6",
              "width": 0.5
             },
             "pattern": {
              "fillmode": "overlay",
              "size": 10,
              "solidity": 0.2
             }
            },
            "type": "bar"
           }
          ],
          "barpolar": [
           {
            "marker": {
             "line": {
              "color": "#E5ECF6",
              "width": 0.5
             },
             "pattern": {
              "fillmode": "overlay",
              "size": 10,
              "solidity": 0.2
             }
            },
            "type": "barpolar"
           }
          ],
          "carpet": [
           {
            "aaxis": {
             "endlinecolor": "#2a3f5f",
             "gridcolor": "white",
             "linecolor": "white",
             "minorgridcolor": "white",
             "startlinecolor": "#2a3f5f"
            },
            "baxis": {
             "endlinecolor": "#2a3f5f",
             "gridcolor": "white",
             "linecolor": "white",
             "minorgridcolor": "white",
             "startlinecolor": "#2a3f5f"
            },
            "type": "carpet"
           }
          ],
          "choropleth": [
           {
            "colorbar": {
             "outlinewidth": 0,
             "ticks": ""
            },
            "type": "choropleth"
           }
          ],
          "contour": [
           {
            "colorbar": {
             "outlinewidth": 0,
             "ticks": ""
            },
            "colorscale": [
             [
              0,
              "#0d0887"
             ],
             [
              0.1111111111111111,
              "#46039f"
             ],
             [
              0.2222222222222222,
              "#7201a8"
             ],
             [
              0.3333333333333333,
              "#9c179e"
             ],
             [
              0.4444444444444444,
              "#bd3786"
             ],
             [
              0.5555555555555556,
              "#d8576b"
             ],
             [
              0.6666666666666666,
              "#ed7953"
             ],
             [
              0.7777777777777778,
              "#fb9f3a"
             ],
             [
              0.8888888888888888,
              "#fdca26"
             ],
             [
              1,
              "#f0f921"
             ]
            ],
            "type": "contour"
           }
          ],
          "contourcarpet": [
           {
            "colorbar": {
             "outlinewidth": 0,
             "ticks": ""
            },
            "type": "contourcarpet"
           }
          ],
          "heatmap": [
           {
            "colorbar": {
             "outlinewidth": 0,
             "ticks": ""
            },
            "colorscale": [
             [
              0,
              "#0d0887"
             ],
             [
              0.1111111111111111,
              "#46039f"
             ],
             [
              0.2222222222222222,
              "#7201a8"
             ],
             [
              0.3333333333333333,
              "#9c179e"
             ],
             [
              0.4444444444444444,
              "#bd3786"
             ],
             [
              0.5555555555555556,
              "#d8576b"
             ],
             [
              0.6666666666666666,
              "#ed7953"
             ],
             [
              0.7777777777777778,
              "#fb9f3a"
             ],
             [
              0.8888888888888888,
              "#fdca26"
             ],
             [
              1,
              "#f0f921"
             ]
            ],
            "type": "heatmap"
           }
          ],
          "heatmapgl": [
           {
            "colorbar": {
             "outlinewidth": 0,
             "ticks": ""
            },
            "colorscale": [
             [
              0,
              "#0d0887"
             ],
             [
              0.1111111111111111,
              "#46039f"
             ],
             [
              0.2222222222222222,
              "#7201a8"
             ],
             [
              0.3333333333333333,
              "#9c179e"
             ],
             [
              0.4444444444444444,
              "#bd3786"
             ],
             [
              0.5555555555555556,
              "#d8576b"
             ],
             [
              0.6666666666666666,
              "#ed7953"
             ],
             [
              0.7777777777777778,
              "#fb9f3a"
             ],
             [
              0.8888888888888888,
              "#fdca26"
             ],
             [
              1,
              "#f0f921"
             ]
            ],
            "type": "heatmapgl"
           }
          ],
          "histogram": [
           {
            "marker": {
             "pattern": {
              "fillmode": "overlay",
              "size": 10,
              "solidity": 0.2
             }
            },
            "type": "histogram"
           }
          ],
          "histogram2d": [
           {
            "colorbar": {
             "outlinewidth": 0,
             "ticks": ""
            },
            "colorscale": [
             [
              0,
              "#0d0887"
             ],
             [
              0.1111111111111111,
              "#46039f"
             ],
             [
              0.2222222222222222,
              "#7201a8"
             ],
             [
              0.3333333333333333,
              "#9c179e"
             ],
             [
              0.4444444444444444,
              "#bd3786"
             ],
             [
              0.5555555555555556,
              "#d8576b"
             ],
             [
              0.6666666666666666,
              "#ed7953"
             ],
             [
              0.7777777777777778,
              "#fb9f3a"
             ],
             [
              0.8888888888888888,
              "#fdca26"
             ],
             [
              1,
              "#f0f921"
             ]
            ],
            "type": "histogram2d"
           }
          ],
          "histogram2dcontour": [
           {
            "colorbar": {
             "outlinewidth": 0,
             "ticks": ""
            },
            "colorscale": [
             [
              0,
              "#0d0887"
             ],
             [
              0.1111111111111111,
              "#46039f"
             ],
             [
              0.2222222222222222,
              "#7201a8"
             ],
             [
              0.3333333333333333,
              "#9c179e"
             ],
             [
              0.4444444444444444,
              "#bd3786"
             ],
             [
              0.5555555555555556,
              "#d8576b"
             ],
             [
              0.6666666666666666,
              "#ed7953"
             ],
             [
              0.7777777777777778,
              "#fb9f3a"
             ],
             [
              0.8888888888888888,
              "#fdca26"
             ],
             [
              1,
              "#f0f921"
             ]
            ],
            "type": "histogram2dcontour"
           }
          ],
          "mesh3d": [
           {
            "colorbar": {
             "outlinewidth": 0,
             "ticks": ""
            },
            "type": "mesh3d"
           }
          ],
          "parcoords": [
           {
            "line": {
             "colorbar": {
              "outlinewidth": 0,
              "ticks": ""
             }
            },
            "type": "parcoords"
           }
          ],
          "pie": [
           {
            "automargin": true,
            "type": "pie"
           }
          ],
          "scatter": [
           {
            "marker": {
             "colorbar": {
              "outlinewidth": 0,
              "ticks": ""
             }
            },
            "type": "scatter"
           }
          ],
          "scatter3d": [
           {
            "line": {
             "colorbar": {
              "outlinewidth": 0,
              "ticks": ""
             }
            },
            "marker": {
             "colorbar": {
              "outlinewidth": 0,
              "ticks": ""
             }
            },
            "type": "scatter3d"
           }
          ],
          "scattercarpet": [
           {
            "marker": {
             "colorbar": {
              "outlinewidth": 0,
              "ticks": ""
             }
            },
            "type": "scattercarpet"
           }
          ],
          "scattergeo": [
           {
            "marker": {
             "colorbar": {
              "outlinewidth": 0,
              "ticks": ""
             }
            },
            "type": "scattergeo"
           }
          ],
          "scattergl": [
           {
            "marker": {
             "colorbar": {
              "outlinewidth": 0,
              "ticks": ""
             }
            },
            "type": "scattergl"
           }
          ],
          "scattermapbox": [
           {
            "marker": {
             "colorbar": {
              "outlinewidth": 0,
              "ticks": ""
             }
            },
            "type": "scattermapbox"
           }
          ],
          "scatterpolar": [
           {
            "marker": {
             "colorbar": {
              "outlinewidth": 0,
              "ticks": ""
             }
            },
            "type": "scatterpolar"
           }
          ],
          "scatterpolargl": [
           {
            "marker": {
             "colorbar": {
              "outlinewidth": 0,
              "ticks": ""
             }
            },
            "type": "scatterpolargl"
           }
          ],
          "scatterternary": [
           {
            "marker": {
             "colorbar": {
              "outlinewidth": 0,
              "ticks": ""
             }
            },
            "type": "scatterternary"
           }
          ],
          "surface": [
           {
            "colorbar": {
             "outlinewidth": 0,
             "ticks": ""
            },
            "colorscale": [
             [
              0,
              "#0d0887"
             ],
             [
              0.1111111111111111,
              "#46039f"
             ],
             [
              0.2222222222222222,
              "#7201a8"
             ],
             [
              0.3333333333333333,
              "#9c179e"
             ],
             [
              0.4444444444444444,
              "#bd3786"
             ],
             [
              0.5555555555555556,
              "#d8576b"
             ],
             [
              0.6666666666666666,
              "#ed7953"
             ],
             [
              0.7777777777777778,
              "#fb9f3a"
             ],
             [
              0.8888888888888888,
              "#fdca26"
             ],
             [
              1,
              "#f0f921"
             ]
            ],
            "type": "surface"
           }
          ],
          "table": [
           {
            "cells": {
             "fill": {
              "color": "#EBF0F8"
             },
             "line": {
              "color": "white"
             }
            },
            "header": {
             "fill": {
              "color": "#C8D4E3"
             },
             "line": {
              "color": "white"
             }
            },
            "type": "table"
           }
          ]
         },
         "layout": {
          "annotationdefaults": {
           "arrowcolor": "#2a3f5f",
           "arrowhead": 0,
           "arrowwidth": 1
          },
          "autotypenumbers": "strict",
          "coloraxis": {
           "colorbar": {
            "outlinewidth": 0,
            "ticks": ""
           }
          },
          "colorscale": {
           "diverging": [
            [
             0,
             "#8e0152"
            ],
            [
             0.1,
             "#c51b7d"
            ],
            [
             0.2,
             "#de77ae"
            ],
            [
             0.3,
             "#f1b6da"
            ],
            [
             0.4,
             "#fde0ef"
            ],
            [
             0.5,
             "#f7f7f7"
            ],
            [
             0.6,
             "#e6f5d0"
            ],
            [
             0.7,
             "#b8e186"
            ],
            [
             0.8,
             "#7fbc41"
            ],
            [
             0.9,
             "#4d9221"
            ],
            [
             1,
             "#276419"
            ]
           ],
           "sequential": [
            [
             0,
             "#0d0887"
            ],
            [
             0.1111111111111111,
             "#46039f"
            ],
            [
             0.2222222222222222,
             "#7201a8"
            ],
            [
             0.3333333333333333,
             "#9c179e"
            ],
            [
             0.4444444444444444,
             "#bd3786"
            ],
            [
             0.5555555555555556,
             "#d8576b"
            ],
            [
             0.6666666666666666,
             "#ed7953"
            ],
            [
             0.7777777777777778,
             "#fb9f3a"
            ],
            [
             0.8888888888888888,
             "#fdca26"
            ],
            [
             1,
             "#f0f921"
            ]
           ],
           "sequentialminus": [
            [
             0,
             "#0d0887"
            ],
            [
             0.1111111111111111,
             "#46039f"
            ],
            [
             0.2222222222222222,
             "#7201a8"
            ],
            [
             0.3333333333333333,
             "#9c179e"
            ],
            [
             0.4444444444444444,
             "#bd3786"
            ],
            [
             0.5555555555555556,
             "#d8576b"
            ],
            [
             0.6666666666666666,
             "#ed7953"
            ],
            [
             0.7777777777777778,
             "#fb9f3a"
            ],
            [
             0.8888888888888888,
             "#fdca26"
            ],
            [
             1,
             "#f0f921"
            ]
           ]
          },
          "colorway": [
           "#636efa",
           "#EF553B",
           "#00cc96",
           "#ab63fa",
           "#FFA15A",
           "#19d3f3",
           "#FF6692",
           "#B6E880",
           "#FF97FF",
           "#FECB52"
          ],
          "font": {
           "color": "#2a3f5f"
          },
          "geo": {
           "bgcolor": "white",
           "lakecolor": "white",
           "landcolor": "#E5ECF6",
           "showlakes": true,
           "showland": true,
           "subunitcolor": "white"
          },
          "hoverlabel": {
           "align": "left"
          },
          "hovermode": "closest",
          "mapbox": {
           "style": "light"
          },
          "paper_bgcolor": "white",
          "plot_bgcolor": "#E5ECF6",
          "polar": {
           "angularaxis": {
            "gridcolor": "white",
            "linecolor": "white",
            "ticks": ""
           },
           "bgcolor": "#E5ECF6",
           "radialaxis": {
            "gridcolor": "white",
            "linecolor": "white",
            "ticks": ""
           }
          },
          "scene": {
           "xaxis": {
            "backgroundcolor": "#E5ECF6",
            "gridcolor": "white",
            "gridwidth": 2,
            "linecolor": "white",
            "showbackground": true,
            "ticks": "",
            "zerolinecolor": "white"
           },
           "yaxis": {
            "backgroundcolor": "#E5ECF6",
            "gridcolor": "white",
            "gridwidth": 2,
            "linecolor": "white",
            "showbackground": true,
            "ticks": "",
            "zerolinecolor": "white"
           },
           "zaxis": {
            "backgroundcolor": "#E5ECF6",
            "gridcolor": "white",
            "gridwidth": 2,
            "linecolor": "white",
            "showbackground": true,
            "ticks": "",
            "zerolinecolor": "white"
           }
          },
          "shapedefaults": {
           "line": {
            "color": "#2a3f5f"
           }
          },
          "ternary": {
           "aaxis": {
            "gridcolor": "white",
            "linecolor": "white",
            "ticks": ""
           },
           "baxis": {
            "gridcolor": "white",
            "linecolor": "white",
            "ticks": ""
           },
           "bgcolor": "#E5ECF6",
           "caxis": {
            "gridcolor": "white",
            "linecolor": "white",
            "ticks": ""
           }
          },
          "title": {
           "x": 0.05
          },
          "xaxis": {
           "automargin": true,
           "gridcolor": "white",
           "linecolor": "white",
           "ticks": "",
           "title": {
            "standoff": 15
           },
           "zerolinecolor": "white",
           "zerolinewidth": 2
          },
          "yaxis": {
           "automargin": true,
           "gridcolor": "white",
           "linecolor": "white",
           "ticks": "",
           "title": {
            "standoff": 15
           },
           "zerolinecolor": "white",
           "zerolinewidth": 2
          }
         }
        },
        "title": {
         "text": "meteo.data.gouv.fr - Précipitations mensuelles (mm) - 2023-12-25",
         "x": 0.5
        },
        "width": 1000,
        "xaxis": {
         "anchor": "y",
         "domain": [
          0,
          0.94
         ],
         "dtick": "M6",
         "gridcolor": "white",
         "gridwidth": 1,
         "matches": "x",
         "showgrid": true,
         "tickformat": "%b\n%Y",
         "tickmode": "linear"
        },
        "xaxis10": {
         "anchor": "y19",
         "domain": [
          0,
          0.94
         ],
         "dtick": "M6",
         "gridcolor": "white",
         "gridwidth": 1,
         "matches": "x",
         "showgrid": true,
         "tickformat": "%b\n%Y",
         "tickmode": "linear"
        },
        "xaxis11": {
         "anchor": "y21",
         "domain": [
          0,
          0.94
         ],
         "dtick": "M6",
         "gridcolor": "white",
         "gridwidth": 1,
         "matches": "x",
         "showgrid": true,
         "tickformat": "%b\n%Y",
         "tickmode": "linear"
        },
        "xaxis12": {
         "anchor": "y23",
         "domain": [
          0,
          0.94
         ],
         "dtick": "M6",
         "gridcolor": "white",
         "gridwidth": 1,
         "matches": "x",
         "showgrid": true,
         "tickformat": "%b\n%Y",
         "tickmode": "linear"
        },
        "xaxis2": {
         "anchor": "y3",
         "domain": [
          0,
          0.94
         ],
         "dtick": "M6",
         "gridcolor": "white",
         "gridwidth": 1,
         "matches": "x",
         "showgrid": true,
         "tickformat": "%b\n%Y",
         "tickmode": "linear"
        },
        "xaxis3": {
         "anchor": "y5",
         "domain": [
          0,
          0.94
         ],
         "dtick": "M6",
         "gridcolor": "white",
         "gridwidth": 1,
         "matches": "x",
         "showgrid": true,
         "tickformat": "%b\n%Y",
         "tickmode": "linear"
        },
        "xaxis4": {
         "anchor": "y7",
         "domain": [
          0,
          0.94
         ],
         "dtick": "M6",
         "gridcolor": "white",
         "gridwidth": 1,
         "matches": "x",
         "showgrid": true,
         "tickformat": "%b\n%Y",
         "tickmode": "linear"
        },
        "xaxis5": {
         "anchor": "y9",
         "domain": [
          0,
          0.94
         ],
         "dtick": "M6",
         "gridcolor": "white",
         "gridwidth": 1,
         "matches": "x",
         "showgrid": true,
         "tickformat": "%b\n%Y",
         "tickmode": "linear"
        },
        "xaxis6": {
         "anchor": "y11",
         "domain": [
          0,
          0.94
         ],
         "dtick": "M6",
         "gridcolor": "white",
         "gridwidth": 1,
         "matches": "x",
         "showgrid": true,
         "tickformat": "%b\n%Y",
         "tickmode": "linear"
        },
        "xaxis7": {
         "anchor": "y13",
         "domain": [
          0,
          0.94
         ],
         "dtick": "M6",
         "gridcolor": "white",
         "gridwidth": 1,
         "matches": "x",
         "showgrid": true,
         "tickformat": "%b\n%Y",
         "tickmode": "linear"
        },
        "xaxis8": {
         "anchor": "y15",
         "domain": [
          0,
          0.94
         ],
         "dtick": "M6",
         "gridcolor": "white",
         "gridwidth": 1,
         "matches": "x",
         "showgrid": true,
         "tickformat": "%b\n%Y",
         "tickmode": "linear"
        },
        "xaxis9": {
         "anchor": "y17",
         "domain": [
          0,
          0.94
         ],
         "dtick": "M6",
         "gridcolor": "white",
         "gridwidth": 1,
         "matches": "x",
         "showgrid": true,
         "tickformat": "%b\n%Y",
         "tickmode": "linear"
        },
        "yaxis": {
         "anchor": "x",
         "domain": [
          0.9548611111111112,
          1
         ],
         "range": [
          0,
          200.5
         ]
        },
        "yaxis10": {
         "anchor": "x5",
         "overlaying": "y9",
         "range": [
          0,
          1563
         ],
         "showgrid": false,
         "side": "right",
         "title": {
          "text": "Cumulé"
         }
        },
        "yaxis11": {
         "anchor": "x6",
         "domain": [
          0.5208333333333334,
          0.5659722222222223
         ],
         "range": [
          0,
          200.5
         ]
        },
        "yaxis12": {
         "anchor": "x6",
         "overlaying": "y11",
         "range": [
          0,
          1563
         ],
         "showgrid": false,
         "side": "right",
         "title": {
          "text": "Cumulé"
         }
        },
        "yaxis13": {
         "anchor": "x7",
         "domain": [
          0.4340277777777778,
          0.4791666666666667
         ],
         "range": [
          0,
          200.5
         ]
        },
        "yaxis14": {
         "anchor": "x7",
         "overlaying": "y13",
         "range": [
          0,
          1563
         ],
         "showgrid": false,
         "side": "right",
         "title": {
          "text": "Cumulé"
         }
        },
        "yaxis15": {
         "anchor": "x8",
         "domain": [
          0.3472222222222222,
          0.3923611111111111
         ],
         "range": [
          0,
          200.5
         ]
        },
        "yaxis16": {
         "anchor": "x8",
         "overlaying": "y15",
         "range": [
          0,
          1563
         ],
         "showgrid": false,
         "side": "right",
         "title": {
          "text": "Cumulé"
         }
        },
        "yaxis17": {
         "anchor": "x9",
         "domain": [
          0.2604166666666667,
          0.3055555555555556
         ],
         "range": [
          0,
          200.5
         ]
        },
        "yaxis18": {
         "anchor": "x9",
         "overlaying": "y17",
         "range": [
          0,
          1563
         ],
         "showgrid": false,
         "side": "right",
         "title": {
          "text": "Cumulé"
         }
        },
        "yaxis19": {
         "anchor": "x10",
         "domain": [
          0.1736111111111111,
          0.21875
         ],
         "range": [
          0,
          200.5
         ]
        },
        "yaxis2": {
         "anchor": "x",
         "overlaying": "y",
         "range": [
          0,
          1563
         ],
         "showgrid": false,
         "side": "right",
         "title": {
          "text": "Cumulé"
         }
        },
        "yaxis20": {
         "anchor": "x10",
         "overlaying": "y19",
         "range": [
          0,
          1563
         ],
         "showgrid": false,
         "side": "right",
         "title": {
          "text": "Cumulé"
         }
        },
        "yaxis21": {
         "anchor": "x11",
         "domain": [
          0.08680555555555555,
          0.13194444444444445
         ],
         "range": [
          0,
          200.5
         ]
        },
        "yaxis22": {
         "anchor": "x11",
         "overlaying": "y21",
         "range": [
          0,
          1563
         ],
         "showgrid": false,
         "side": "right",
         "title": {
          "text": "Cumulé"
         }
        },
        "yaxis23": {
         "anchor": "x12",
         "domain": [
          0,
          0.045138888888888895
         ],
         "range": [
          0,
          200.5
         ]
        },
        "yaxis24": {
         "anchor": "x12",
         "overlaying": "y23",
         "range": [
          0,
          1563
         ],
         "showgrid": false,
         "side": "right",
         "title": {
          "text": "Cumulé"
         }
        },
        "yaxis3": {
         "anchor": "x2",
         "domain": [
          0.8680555555555556,
          0.9131944444444444
         ],
         "range": [
          0,
          200.5
         ]
        },
        "yaxis4": {
         "anchor": "x2",
         "overlaying": "y3",
         "range": [
          0,
          1563
         ],
         "showgrid": false,
         "side": "right",
         "title": {
          "text": "Cumulé"
         }
        },
        "yaxis5": {
         "anchor": "x3",
         "domain": [
          0.78125,
          0.8263888888888888
         ],
         "range": [
          0,
          200.5
         ]
        },
        "yaxis6": {
         "anchor": "x3",
         "overlaying": "y5",
         "range": [
          0,
          1563
         ],
         "showgrid": false,
         "side": "right",
         "title": {
          "text": "Cumulé"
         }
        },
        "yaxis7": {
         "anchor": "x4",
         "domain": [
          0.6944444444444444,
          0.7395833333333333
         ],
         "range": [
          0,
          200.5
         ]
        },
        "yaxis8": {
         "anchor": "x4",
         "overlaying": "y7",
         "range": [
          0,
          1563
         ],
         "showgrid": false,
         "side": "right",
         "title": {
          "text": "Cumulé"
         }
        },
        "yaxis9": {
         "anchor": "x5",
         "domain": [
          0.6076388888888888,
          0.6527777777777777
         ],
         "range": [
          0,
          200.5
         ]
        }
       }
      }
     },
     "metadata": {},
     "output_type": "display_data"
    },
    {
     "name": "stdout",
     "output_type": "stream",
     "text": [
      "Données mensuelles LATEST (depuis le début de l'année précédente) pour les paramètres choisis: \n"
     ]
    },
    {
     "data": {
      "text/html": [
       "<div>\n",
       "<style scoped>\n",
       "    .dataframe tbody tr th:only-of-type {\n",
       "        vertical-align: middle;\n",
       "    }\n",
       "\n",
       "    .dataframe tbody tr th {\n",
       "        vertical-align: top;\n",
       "    }\n",
       "\n",
       "    .dataframe thead th {\n",
       "        text-align: right;\n",
       "    }\n",
       "</style>\n",
       "<table border=\"1\" class=\"dataframe\">\n",
       "  <thead>\n",
       "    <tr style=\"text-align: right;\">\n",
       "      <th></th>\n",
       "      <th>NOM_USUEL</th>\n",
       "      <th>AIX EN PROVENCE</th>\n",
       "      <th>APT-VITON</th>\n",
       "      <th>CASTELLANE</th>\n",
       "      <th>FORCALQUIER</th>\n",
       "      <th>FREJUS</th>\n",
       "      <th>LA BASTIDE DES JOURDANS</th>\n",
       "      <th>LE LUC</th>\n",
       "      <th>MARSEILLE-OBS</th>\n",
       "      <th>SALON DE PROVENCE</th>\n",
       "      <th>TOULON</th>\n",
       "      <th>VALENSOLE</th>\n",
       "      <th>VAUVENARGUES</th>\n",
       "    </tr>\n",
       "    <tr>\n",
       "      <th>parametre</th>\n",
       "      <th>DATE</th>\n",
       "      <th></th>\n",
       "      <th></th>\n",
       "      <th></th>\n",
       "      <th></th>\n",
       "      <th></th>\n",
       "      <th></th>\n",
       "      <th></th>\n",
       "      <th></th>\n",
       "      <th></th>\n",
       "      <th></th>\n",
       "      <th></th>\n",
       "      <th></th>\n",
       "    </tr>\n",
       "  </thead>\n",
       "  <tbody>\n",
       "    <tr>\n",
       "      <th rowspan=\"5\" valign=\"top\">RR</th>\n",
       "      <th>2022-01-01</th>\n",
       "      <td>3.6</td>\n",
       "      <td>1.8</td>\n",
       "      <td>5.6</td>\n",
       "      <td>3.5</td>\n",
       "      <td>2.4</td>\n",
       "      <td>3.4</td>\n",
       "      <td>0.8</td>\n",
       "      <td>0.4</td>\n",
       "      <td>2.0</td>\n",
       "      <td>2.8</td>\n",
       "      <td>4.8</td>\n",
       "      <td>1.0</td>\n",
       "    </tr>\n",
       "    <tr>\n",
       "      <th>2022-02-01</th>\n",
       "      <td>26.1</td>\n",
       "      <td>23.7</td>\n",
       "      <td>35.4</td>\n",
       "      <td>24.8</td>\n",
       "      <td>36.2</td>\n",
       "      <td>18.4</td>\n",
       "      <td>31.9</td>\n",
       "      <td>19.9</td>\n",
       "      <td>38.2</td>\n",
       "      <td>27.0</td>\n",
       "      <td>15.0</td>\n",
       "      <td>24.7</td>\n",
       "    </tr>\n",
       "    <tr>\n",
       "      <th>2022-03-01</th>\n",
       "      <td>6.6</td>\n",
       "      <td>11.6</td>\n",
       "      <td>13.4</td>\n",
       "      <td>6.6</td>\n",
       "      <td>30.4</td>\n",
       "      <td>6.4</td>\n",
       "      <td>28.2</td>\n",
       "      <td>9.4</td>\n",
       "      <td>6.6</td>\n",
       "      <td>16.4</td>\n",
       "      <td>8.4</td>\n",
       "      <td>10.4</td>\n",
       "    </tr>\n",
       "    <tr>\n",
       "      <th>2022-04-01</th>\n",
       "      <td>27.0</td>\n",
       "      <td>53.7</td>\n",
       "      <td>65.6</td>\n",
       "      <td>44.4</td>\n",
       "      <td>40.4</td>\n",
       "      <td>41.5</td>\n",
       "      <td>45.8</td>\n",
       "      <td>19.3</td>\n",
       "      <td>25.6</td>\n",
       "      <td>26.2</td>\n",
       "      <td>32.6</td>\n",
       "      <td>38.9</td>\n",
       "    </tr>\n",
       "    <tr>\n",
       "      <th>2022-05-01</th>\n",
       "      <td>26.0</td>\n",
       "      <td>47.3</td>\n",
       "      <td>29.4</td>\n",
       "      <td>28.5</td>\n",
       "      <td>3.8</td>\n",
       "      <td>24.5</td>\n",
       "      <td>38.1</td>\n",
       "      <td>29.5</td>\n",
       "      <td>7.6</td>\n",
       "      <td>28.6</td>\n",
       "      <td>29.0</td>\n",
       "      <td>44.7</td>\n",
       "    </tr>\n",
       "    <tr>\n",
       "      <th>...</th>\n",
       "      <th>...</th>\n",
       "      <td>...</td>\n",
       "      <td>...</td>\n",
       "      <td>...</td>\n",
       "      <td>...</td>\n",
       "      <td>...</td>\n",
       "      <td>...</td>\n",
       "      <td>...</td>\n",
       "      <td>...</td>\n",
       "      <td>...</td>\n",
       "      <td>...</td>\n",
       "      <td>...</td>\n",
       "      <td>...</td>\n",
       "    </tr>\n",
       "    <tr>\n",
       "      <th rowspan=\"5\" valign=\"top\">FXYAB</th>\n",
       "      <th>2023-08-01</th>\n",
       "      <td>11.3</td>\n",
       "      <td>NaN</td>\n",
       "      <td>NaN</td>\n",
       "      <td>NaN</td>\n",
       "      <td>13.1</td>\n",
       "      <td>13.3</td>\n",
       "      <td>17.1</td>\n",
       "      <td>NaN</td>\n",
       "      <td>16.6</td>\n",
       "      <td>11.0</td>\n",
       "      <td>13.9</td>\n",
       "      <td>8.3</td>\n",
       "    </tr>\n",
       "    <tr>\n",
       "      <th>2023-09-01</th>\n",
       "      <td>8.5</td>\n",
       "      <td>NaN</td>\n",
       "      <td>NaN</td>\n",
       "      <td>NaN</td>\n",
       "      <td>10.7</td>\n",
       "      <td>9.2</td>\n",
       "      <td>11.8</td>\n",
       "      <td>NaN</td>\n",
       "      <td>11.8</td>\n",
       "      <td>9.2</td>\n",
       "      <td>10.1</td>\n",
       "      <td>6.7</td>\n",
       "    </tr>\n",
       "    <tr>\n",
       "      <th>2023-10-01</th>\n",
       "      <td>9.4</td>\n",
       "      <td>NaN</td>\n",
       "      <td>NaN</td>\n",
       "      <td>NaN</td>\n",
       "      <td>11.3</td>\n",
       "      <td>10.2</td>\n",
       "      <td>12.1</td>\n",
       "      <td>NaN</td>\n",
       "      <td>12.0</td>\n",
       "      <td>11.9</td>\n",
       "      <td>10.7</td>\n",
       "      <td>8.3</td>\n",
       "    </tr>\n",
       "    <tr>\n",
       "      <th>2023-11-01</th>\n",
       "      <td>9.2</td>\n",
       "      <td>NaN</td>\n",
       "      <td>NaN</td>\n",
       "      <td>NaN</td>\n",
       "      <td>14.2</td>\n",
       "      <td>15.0</td>\n",
       "      <td>19.5</td>\n",
       "      <td>NaN</td>\n",
       "      <td>19.0</td>\n",
       "      <td>10.6</td>\n",
       "      <td>11.6</td>\n",
       "      <td>10.0</td>\n",
       "    </tr>\n",
       "    <tr>\n",
       "      <th>2023-12-01</th>\n",
       "      <td>7.8</td>\n",
       "      <td>NaN</td>\n",
       "      <td>NaN</td>\n",
       "      <td>NaN</td>\n",
       "      <td>15.1</td>\n",
       "      <td>10.0</td>\n",
       "      <td>19.9</td>\n",
       "      <td>NaN</td>\n",
       "      <td>18.4</td>\n",
       "      <td>12.1</td>\n",
       "      <td>11.2</td>\n",
       "      <td>8.3</td>\n",
       "    </tr>\n",
       "  </tbody>\n",
       "</table>\n",
       "<p>72 rows × 12 columns</p>\n",
       "</div>"
      ],
      "text/plain": [
       "NOM_USUEL             AIX EN PROVENCE  APT-VITON  CASTELLANE  FORCALQUIER  \\\n",
       "parametre DATE                                                              \n",
       "RR        2022-01-01              3.6        1.8         5.6          3.5   \n",
       "          2022-02-01             26.1       23.7        35.4         24.8   \n",
       "          2022-03-01              6.6       11.6        13.4          6.6   \n",
       "          2022-04-01             27.0       53.7        65.6         44.4   \n",
       "          2022-05-01             26.0       47.3        29.4         28.5   \n",
       "...                               ...        ...         ...          ...   \n",
       "FXYAB     2023-08-01             11.3        NaN         NaN          NaN   \n",
       "          2023-09-01              8.5        NaN         NaN          NaN   \n",
       "          2023-10-01              9.4        NaN         NaN          NaN   \n",
       "          2023-11-01              9.2        NaN         NaN          NaN   \n",
       "          2023-12-01              7.8        NaN         NaN          NaN   \n",
       "\n",
       "NOM_USUEL             FREJUS  LA BASTIDE DES JOURDANS  LE LUC  MARSEILLE-OBS  \\\n",
       "parametre DATE                                                                 \n",
       "RR        2022-01-01     2.4                      3.4     0.8            0.4   \n",
       "          2022-02-01    36.2                     18.4    31.9           19.9   \n",
       "          2022-03-01    30.4                      6.4    28.2            9.4   \n",
       "          2022-04-01    40.4                     41.5    45.8           19.3   \n",
       "          2022-05-01     3.8                     24.5    38.1           29.5   \n",
       "...                      ...                      ...     ...            ...   \n",
       "FXYAB     2023-08-01    13.1                     13.3    17.1            NaN   \n",
       "          2023-09-01    10.7                      9.2    11.8            NaN   \n",
       "          2023-10-01    11.3                     10.2    12.1            NaN   \n",
       "          2023-11-01    14.2                     15.0    19.5            NaN   \n",
       "          2023-12-01    15.1                     10.0    19.9            NaN   \n",
       "\n",
       "NOM_USUEL             SALON DE PROVENCE  TOULON  VALENSOLE  VAUVENARGUES  \n",
       "parametre DATE                                                            \n",
       "RR        2022-01-01                2.0     2.8        4.8           1.0  \n",
       "          2022-02-01               38.2    27.0       15.0          24.7  \n",
       "          2022-03-01                6.6    16.4        8.4          10.4  \n",
       "          2022-04-01               25.6    26.2       32.6          38.9  \n",
       "          2022-05-01                7.6    28.6       29.0          44.7  \n",
       "...                                 ...     ...        ...           ...  \n",
       "FXYAB     2023-08-01               16.6    11.0       13.9           8.3  \n",
       "          2023-09-01               11.8     9.2       10.1           6.7  \n",
       "          2023-10-01               12.0    11.9       10.7           8.3  \n",
       "          2023-11-01               19.0    10.6       11.6          10.0  \n",
       "          2023-12-01               18.4    12.1       11.2           8.3  \n",
       "\n",
       "[72 rows x 12 columns]"
      ]
     },
     "metadata": {},
     "output_type": "display_data"
    }
   ],
   "source": [
    "# trace un graphique plotly de df avec la colonne 'DATE' en abscisse et la colonne 'RR' en ordonnée\n",
    "# chaque poste de la colonnee 'NUM_POSTE' est représenté dans un subplot séparé\n",
    "import plotly.graph_objects as go\n",
    "from plotly.subplots import make_subplots\n",
    "import plotly\n",
    "\n",
    "#-------------- Personalisation du graphique \n",
    "# Paramètres à représenter: 'RR' obligatoire en premier, pour le graphique dont la présentation actuelle est spécialement adaptée aux précipitations\n",
    "param_list= ['RR', 'TM', 'FXYAB']\n",
    "\n",
    "# Période à représenter (None pour le début ou la fin du fichier par défaut)\n",
    "start_date= None\n",
    "# start_date= datetime.datetime(2022, 5, 1)\n",
    "\n",
    "end_date= None\n",
    "# end_date= datetime.datetime(now.year, now.month, now.day)\n",
    "\n",
    "#-------------- initialisation des paramètres du graphique\n",
    "# Période par défaut if start_date= None ou  end_date= None\n",
    "if start_date is None:\n",
    "    start_date= df['DATE'].min()\n",
    "if end_date is None:\n",
    "    end_date= df['DATE'].max()\n",
    "\n",
    "# filtre le dataframe sur les postes choisis\n",
    "df_postes= df[df['NUM_POSTE'].isin(postes)]\n",
    "# filtre le dataframe sur la période souhaitée\n",
    "df_postes= df_postes[(df_postes['DATE'] >= start_date) & (df_postes['DATE'] <= end_date)]\n",
    "\n",
    "#  Couleurs des courbes\n",
    "color_sequence_bar = plotly.colors.qualitative.Set3\n",
    "color_sequence_scatter = plotly.colors.qualitative.Pastel\n",
    "\n",
    "# Axe des ordonnées secondaire (cumulé)\n",
    "specs= [[{'secondary_y': True}]]*len(postes)\n",
    "\n",
    "#-------------- Graphique\n",
    "fig = make_subplots(rows= len(postes), cols= 1,# shared_xaxes= True, # shared_xaxes= True inutile grâce à  matches='x' dans update_xaxes qui fait la même chose sans supprimer la graduation des dates des subplots \n",
    "                    subplot_titles= [f\"{poste} - {df_postes[df_postes['NUM_POSTE'] == poste]['NOM_USUEL'].iloc[0]}\" for poste in postes], specs= specs)\n",
    "\n",
    "for i, poste in enumerate(postes):\n",
    "    df_poste = df_postes[df_postes['NUM_POSTE'] == poste]\n",
    "    fig.add_trace(go.Bar(x= df_poste['DATE'], y= df_poste['RR'], \n",
    "                          # name= poste\n",
    "                         name= df_postes[df_postes['NUM_POSTE'] == poste]['NOM_USUEL'].iloc[0],\n",
    "                         marker= dict(color=color_sequence_bar[i % len(color_sequence_bar)]),  # Utilisez la couleur correspondante de la séquence\n",
    "                         ),\n",
    "                row= i+1, col= 1)\n",
    "    fig.add_trace(go.Scatter(x= df_poste['DATE'], y= df_poste['RR'].cumsum(), \n",
    "                             name= f\"Cumulé {poste}\", yaxis= \"y2\",\n",
    "                             line= dict(color= 'gray'),\n",
    "                            #  line= dict(color= color_sequence_scatter[i % len(color_sequence_scatter)]), # sinon l'incrémentation dans la séquence de couleurs est de +2 à cause de la trace Bar\n",
    "                             mode='lines' \n",
    "                             ), \n",
    "                 row=i+1, col=1, secondary_y= True)\n",
    "\n",
    "fig.update_layout(title_text= 'meteo.data.gouv.fr - ' + \"Précipitations mensuelles (mm) - \" + now.strftime(\"%Y-%m-%d\") , title_x= 0.5, \n",
    "                  height= 133.*len(postes), width= 1000,\n",
    "                  hovermode= 'x unified', hoverlabel= dict(bgcolor='rgba(255,255,255,0.6)'),\n",
    "                  )\n",
    "\n",
    "# Survol par la souris : ligne verticale à travers tous les subplots matérialisant l'abscisse \n",
    "xlast= 'x' + str(len(postes))\n",
    "# fig.update_traces(xaxis= xlast)  # xlast est le nom de l'axe des abscisses du dernier subplot\n",
    "\n",
    "# Définition générale des axes\n",
    "max_value= df_postes['RR'].max()\n",
    "max_value_cum= df_postes.groupby(['NUM_POSTE']).sum()['RR'].max()\n",
    "fig.update_yaxes(secondary_y= False, range= [0, max_value])  # Axe principale: Replace max_value with the desired maximum coordinate\n",
    "fig.update_yaxes(secondary_y= True, title_text= \"Cumulé\", range= [0, max_value_cum]) # Axe secondaire: Replace max_value with the desired maximum coordinate\n",
    "\n",
    "# Graduations de l'axe des DATES ...............................................................\n",
    "if end_date - start_date > datetime.timedelta(days= 365): # Plus d'un an\n",
    "    tickformat= '%b\\n%Y'\n",
    "    dtick= 'M6'\n",
    "    showgrid_x= True\n",
    "else: # Moins d'un an\n",
    "    tickformat= '%b %Y'\n",
    "    dtick= 'M1'\n",
    "    showgrid_x= False\n",
    "# ...............................Premiers subplots\n",
    "# ................................................ en fonction de la longueur de la période\n",
    "for i in range(1, len(postes) + 1):\n",
    "    fig.update_xaxes(tickformat= tickformat, tickmode= 'linear', dtick= dtick, row=i, col=1, matches='x')\n",
    "# ...............................Dernier subplot\n",
    "# ................................................ en fonction de la longueur de la période\n",
    "fig.update_xaxes(tickformat= tickformat, tickmode= 'linear', dtick= dtick, row=len(postes), col=1, matches='x')\n",
    "#                                                SANS tenir compte de la longueur de la période\n",
    "# fig.update_xaxes(tickformat= '%b\\n%Y', tickmode= 'linear', dtick= 'M1', row=len(postes), col=1, matches='x')\n",
    "\n",
    "# GRILLE .............................................................................\n",
    "# .................. verticales...\n",
    "fig.update_xaxes(showgrid= showgrid_x, gridwidth= 1, gridcolor= 'white')\n",
    "# .................. horizontales\n",
    "#                                Axe secondaire:\n",
    "fig.update_yaxes(secondary_y=True, showgrid=False) # pas de grille\n",
    "\n",
    "#-------------- sauvegarde le graphique\n",
    "file_graph= \"meteo.data MENS\"\n",
    "fig.write_html(os.path.join(folder_csv, file_graph + template_end[:-4] + \".html\"))\n",
    "# sauvegarde le graphique dans un fichier png\n",
    "fig.write_image(os.path.join(folder_csv, file_graph + template_end[:-4] + \".png\"))\n",
    "\n",
    "#-------------- Valeurs quotidiennes pivotée pour la présentation avec les postes en colonnes\n",
    "#               pour les postes et les paramètres SELECTIONNES, SUR la durée COMPLETE\n",
    "for i, par in enumerate(param_list):\n",
    "    if i==0:\n",
    "        df_m = df[df['NUM_POSTE'].isin(postes)].pivot(index='DATE', columns='NOM_USUEL', values= param_list[i]) \\\n",
    "            .assign(parametre= par)\n",
    "    else:\n",
    "        # append des lignes à df_m\n",
    "        df_m = pd.concat([df_m,\n",
    "                        df[df['NUM_POSTE'].isin(postes)].pivot(index='DATE', columns='NOM_USUEL', values= param_list[i]) \\\n",
    "                        .assign(parametre= par)]\n",
    "                        )\n",
    "df_m= df_m.reset_index().set_index(['parametre', 'DATE'], drop= True)\n",
    "\n",
    "#-------------- Affichage\n",
    "print(datetime.datetime.now().strftime(\"%Y-%m-%d %H:%M\"))\n",
    "# imprimer un avertissement si la dernière date du dataframe est antérieure au dernier jour du mois en cours\n",
    "\n",
    "titre= 'Données mensuelles des 2 derniers mois pour les paramètres choisis: '\n",
    "titre= titre + 'Attention le cumul du dernier mois est incomplet à ce jour'\n",
    "print(titre)\n",
    "for i, par in enumerate(param_list):\n",
    "    titre= '- ' + par + ': ' + df_desc_m.loc[par]['name_long']\n",
    "    print(titre)\n",
    "month_before_now= datetime.datetime(now.year, now.month, 1) - datetime.timedelta(days= 30)\n",
    "display(df_m[(df_m.index.get_level_values(1) >= month_before_now) & (df_m.index.get_level_values(1) <= end_date)])\n",
    "\n",
    "fig.show()\n",
    "\n",
    "titre_m= \"Données mensuelles LATEST (depuis le début de l'année précédente) pour les paramètres choisis: \"\n",
    "print(titre_m)\n",
    "display(df_m)"
   ]
  },
  {
   "cell_type": "markdown",
   "metadata": {},
   "source": [
    "##### 3) Sauvegarde les données intégrales dans un fichier Excel (tous les paramètres pour tous les postes des départements concernés)\n",
    "Le fichier est sauvegardé dans le même dossier local que les fichiers CSV décompressés"
   ]
  },
  {
   "cell_type": "code",
   "execution_count": 28,
   "metadata": {},
   "outputs": [
    {
     "name": "stdout",
     "output_type": "stream",
     "text": [
      "2023-12-25 19:51\n",
      "Sauvegarde en cours, patientez...\n",
      "2023-12-25 19:51\n",
      "Ficher Excel sauvegardé:  X:\\1-COMMUN\\DIS\\Documentation\\Hydrologie\\Documentation externe\\Climat France\\Météo-France\\meteo.data\\base\\M\\meteo.data MENS_04-13-83-84_latest-2022-2023.xlsx\n"
     ]
    }
   ],
   "source": [
    "# Sauvegarde toutes les informations dans un fichier Excel\n",
    "print(now.strftime(\"%Y-%m-%d %H:%M\"))\n",
    "print('Sauvegarde en cours, patientez...')\n",
    "file= os.path.join(folder_csv, \"meteo.data MENS\" + '_' + '-'.join(departements) + template_end[:-4] + \".xlsx\")\n",
    "writer = pd.ExcelWriter(file, engine='xlsxwriter')\n",
    "workbook  = writer.book\n",
    "#======================== Sauvegarde la liste des postes dans le fichier excel\n",
    "# Lecture en ligne du fichier JSON\n",
    "req= requests.get(url_liste_postes)\n",
    "if req.status_code == 200:\n",
    "    data_json= req.json()\n",
    "else:\n",
    "    print('la requête a échoué avec le code : ', req.status_codes)\n",
    "    sys.exit() # interrompt le script\n",
    "df_liste_postes = pd.DataFrame(data_json['features']).T\n",
    "# Ajout de colonnes avec les champs de properties\n",
    "df_liste_postes['lat'] = df_liste_postes['geometry'].apply(lambda x: x['coordinates'][1]).astype(float)\n",
    "df_liste_postes['lon'] = df_liste_postes['geometry'].apply(lambda x: x['coordinates'][0]).astype(float)\n",
    "df_liste_postes['nom_usuel']= df_liste_postes['properties'].apply(lambda x: x['NOM_USUEL'].strip())\n",
    "df_liste_postes['num_poste']= df_liste_postes['properties'].apply(lambda x: x['NUM_POSTE'].strip())\n",
    "df_liste_postes['commune'] = df_liste_postes['properties'].apply(lambda x: x['COMMUNE'].strip())\n",
    "df_liste_postes['ficheClimComplete'] = df_liste_postes['properties'].apply(lambda x: x['ficheClimComplete']).astype(float)\n",
    "df_liste_postes['ficheClimReduite'] = df_liste_postes['properties'].apply(lambda x: x['ficheClimReduite']).astype(float)\n",
    "df_liste_postes['alti'] = df_liste_postes['properties'].apply(lambda x: x['ALTI'])\n",
    "# sauvegarde dans un fichier excel plus lisible que le JSON après suppression des colonnes type, geometry et properties\n",
    "df_liste_postes.drop(['type', 'geometry', 'properties'], axis=1, inplace=True)\n",
    "df_liste_postes.sort_values(by= ['num_poste'], inplace=True)\n",
    "sheet= 'liste_postes'\n",
    "df_liste_postes.to_excel(writer, sheet_name= sheet, index= False, startrow= 0)\n",
    "\n",
    "#======================== Sauvegarde la liste des champs dans le fichier Excel\n",
    "sheet= 'MENSQ_descriptif_champs'\n",
    "df_desc_m.to_excel(writer, sheet_name= sheet, index= True, startrow= 1)\n",
    "worksheet = writer.sheets[sheet]\n",
    "worksheet.write('A1', sheet + '.csv')\n",
    "                \n",
    "sheet= 'donnée complètes'\n",
    "df.to_excel(writer, sheet_name= sheet, index=False, startrow= 2)\n",
    "worksheet = writer.sheets[sheet]\n",
    "worksheet.write('A1', now.strftime(\"%Y-%m-%d %H:%M\"))\n",
    "worksheet.write('A2', 'Données LATEST quotidiennes au format original, complètes pour tous les départements concernés: ')\n",
    "\n",
    "#======================== Sauvegarde les dataframes dans le fichier Excel\n",
    "sheet= 'donnée complètes'\n",
    "df.to_excel(writer, sheet_name= sheet, index=False, startrow= 2)\n",
    "worksheet = writer.sheets[sheet]\n",
    "worksheet.write('A1', now.strftime(\"%Y-%m-%d %H:%M\"))\n",
    "worksheet.write('A2', \"Données mensuelles LATEST (depuis le début de l'année précédente) au format original, complètes pour tous les départements concernés: \")\n",
    "\n",
    "# ajoute un onglet exel avec df_m\n",
    "n_param= len(param_list)\n",
    "sheet= 'MENS Sélection'\n",
    "df_m.to_excel(writer, sheet_name= sheet, index=True, startrow= n_param + 2)\n",
    "worksheet = writer.sheets[sheet]\n",
    "worksheet.write('A1', now.strftime(\"%Y-%m-%d %H:%M\"))\n",
    "worksheet.write('A2', titre_m)\n",
    "for i, par in enumerate(param_list):\n",
    "    titre= '- ' + par + ': ' + df_desc_m.loc[par]['name_long']\n",
    "    worksheet.write('A' + str(i+3), titre)\n",
    "\n",
    "# ajoute un onglet excel et enregistre une image statique du graphique\n",
    "sheet= 'graph'\n",
    "worksheet = workbook.add_worksheet(sheet)\n",
    "worksheet.insert_image('A1', os.path.join(folder_csv, file_graph + template_end[:-4] + \".png\"))\n",
    "\n",
    "writer.save()\n",
    "\n",
    "print(now.strftime(\"%Y-%m-%d %H:%M\"))\n",
    "print('Ficher Excel sauvegardé: ', file)"
   ]
  }
 ],
 "metadata": {
  "kernelspec": {
   "display_name": "python38",
   "language": "python",
   "name": "python3"
  },
  "language_info": {
   "codemirror_mode": {
    "name": "ipython",
    "version": 3
   },
   "file_extension": ".py",
   "mimetype": "text/x-python",
   "name": "python",
   "nbconvert_exporter": "python",
   "pygments_lexer": "ipython3",
   "version": "3.8.12"
  }
 },
 "nbformat": 4,
 "nbformat_minor": 2
}
