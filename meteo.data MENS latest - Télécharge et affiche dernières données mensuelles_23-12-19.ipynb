{
 "cells": [
  {
   "cell_type": "markdown",
   "metadata": {},
   "source": [
    "### Portail meteo.data - Téléchargement & affichage des dernières données MENSUELLES de Météo-France (Métropole & outre-mer)\n",
    "Une connexion internet est nécessaire pour accéder aux archives des données à l'url ci-dessous\n",
    "\n",
    "Les \"dernières\" données (latest) correspondent aux fichiers mis à jour chaque jour, et qui vont du mois de janvier de l'année précédente au mois en cours même partiel (pour les données mensuelles)\n",
    "\n",
    "data : https://meteo.data.gouv.fr/ (6 min, horaire, quotidien, mensuel)<br>\n",
    "Fiche PDF des postes : https://www.data.gouv.fr/fr/datasets/r/bee4b0c7-260a-40fe-b463-ed5631d6dc39 (paramètres et périodes de mesure)<br>\n",
    "Fichier CSV descriptif champs: https://www.data.gouv.fr/fr/datasets/r/6d4ac560-8f7c-477f-9a3f-3c33137fc04e\n",
    "\n",
    "\n",
    "Utilisez mon autre script pour visualiser sous forme de carte la liste des postes météorologiques fournie par Météo-France sous forme de fichier JSON https://meteo.data.gouv.fr/https://www.data.gouv.fr/fr/datasets/r/1fe544d8-4615-4642-a307-5956a7d90922\n",
    "\n",
    "https://github.com/loicduffar"
   ]
  },
  {
   "cell_type": "code",
   "execution_count": 163,
   "metadata": {},
   "outputs": [
    {
     "name": "stdout",
     "output_type": "stream",
     "text": [
      "2023-12-19 20:16\n",
      "Départements concernés:  ['04', '05', '13', '83', '84']\n",
      "Téléchargement:  X:\\1-COMMUN\\DIS\\Documentation\\Hydrologie\\Documentation externe\\Climat France\\Météo-France\\meteo.data\\archives\\2023 Déc\\base\\M\\MENSQ_04_latest-2022-2023.csv.gz\n",
      "Décompression X:\\1-COMMUN\\DIS\\Documentation\\Hydrologie\\Documentation externe\\Climat France\\Météo-France\\meteo.data\\base\\M\\MENSQ_04_latest-2022-2023.csv\n",
      "Lecture:  X:\\1-COMMUN\\DIS\\Documentation\\Hydrologie\\Documentation externe\\Climat France\\Météo-France\\meteo.data\\base\\M\\MENSQ_04_latest-2022-2023.csv\n",
      "Téléchargement:  X:\\1-COMMUN\\DIS\\Documentation\\Hydrologie\\Documentation externe\\Climat France\\Météo-France\\meteo.data\\archives\\2023 Déc\\base\\M\\MENSQ_05_latest-2022-2023.csv.gz\n",
      "Décompression X:\\1-COMMUN\\DIS\\Documentation\\Hydrologie\\Documentation externe\\Climat France\\Météo-France\\meteo.data\\base\\M\\MENSQ_05_latest-2022-2023.csv\n",
      "Lecture:  X:\\1-COMMUN\\DIS\\Documentation\\Hydrologie\\Documentation externe\\Climat France\\Météo-France\\meteo.data\\base\\M\\MENSQ_05_latest-2022-2023.csv\n",
      "Téléchargement:  X:\\1-COMMUN\\DIS\\Documentation\\Hydrologie\\Documentation externe\\Climat France\\Météo-France\\meteo.data\\archives\\2023 Déc\\base\\M\\MENSQ_13_latest-2022-2023.csv.gz\n",
      "Décompression X:\\1-COMMUN\\DIS\\Documentation\\Hydrologie\\Documentation externe\\Climat France\\Météo-France\\meteo.data\\base\\M\\MENSQ_13_latest-2022-2023.csv\n",
      "Lecture:  X:\\1-COMMUN\\DIS\\Documentation\\Hydrologie\\Documentation externe\\Climat France\\Météo-France\\meteo.data\\base\\M\\MENSQ_13_latest-2022-2023.csv\n",
      "Téléchargement:  X:\\1-COMMUN\\DIS\\Documentation\\Hydrologie\\Documentation externe\\Climat France\\Météo-France\\meteo.data\\archives\\2023 Déc\\base\\M\\MENSQ_83_latest-2022-2023.csv.gz\n",
      "Décompression X:\\1-COMMUN\\DIS\\Documentation\\Hydrologie\\Documentation externe\\Climat France\\Météo-France\\meteo.data\\base\\M\\MENSQ_83_latest-2022-2023.csv\n",
      "Lecture:  X:\\1-COMMUN\\DIS\\Documentation\\Hydrologie\\Documentation externe\\Climat France\\Météo-France\\meteo.data\\base\\M\\MENSQ_83_latest-2022-2023.csv\n",
      "Téléchargement:  X:\\1-COMMUN\\DIS\\Documentation\\Hydrologie\\Documentation externe\\Climat France\\Météo-France\\meteo.data\\archives\\2023 Déc\\base\\M\\MENSQ_84_latest-2022-2023.csv.gz\n",
      "Décompression X:\\1-COMMUN\\DIS\\Documentation\\Hydrologie\\Documentation externe\\Climat France\\Météo-France\\meteo.data\\base\\M\\MENSQ_84_latest-2022-2023.csv\n",
      "Lecture:  X:\\1-COMMUN\\DIS\\Documentation\\Hydrologie\\Documentation externe\\Climat France\\Météo-France\\meteo.data\\base\\M\\MENSQ_84_latest-2022-2023.csv\n"
     ]
    },
    {
     "data": {
      "text/html": [
       "<div>\n",
       "<style scoped>\n",
       "    .dataframe tbody tr th:only-of-type {\n",
       "        vertical-align: middle;\n",
       "    }\n",
       "\n",
       "    .dataframe tbody tr th {\n",
       "        vertical-align: top;\n",
       "    }\n",
       "\n",
       "    .dataframe thead th {\n",
       "        text-align: right;\n",
       "    }\n",
       "</style>\n",
       "<table border=\"1\" class=\"dataframe\">\n",
       "  <thead>\n",
       "    <tr style=\"text-align: right;\">\n",
       "      <th></th>\n",
       "      <th>NUM_POSTE</th>\n",
       "      <th>NOM_USUEL</th>\n",
       "      <th>LAT</th>\n",
       "      <th>LON</th>\n",
       "      <th>ALTI</th>\n",
       "      <th>AAAAMM</th>\n",
       "      <th>RR</th>\n",
       "      <th>QRR</th>\n",
       "      <th>NBRR</th>\n",
       "      <th>RR_ME</th>\n",
       "      <th>...</th>\n",
       "      <th>QNEIGETOTM</th>\n",
       "      <th>NEIGETOTAB</th>\n",
       "      <th>QNEIGETOTAB</th>\n",
       "      <th>NEIGETOTABDAT</th>\n",
       "      <th>NBJNEIGETOT1</th>\n",
       "      <th>NBJNEIGETOT10</th>\n",
       "      <th>NBJNEIGETOT30</th>\n",
       "      <th>NBJGREL</th>\n",
       "      <th>NBJORAG</th>\n",
       "      <th>NBJBROU</th>\n",
       "    </tr>\n",
       "  </thead>\n",
       "  <tbody>\n",
       "    <tr>\n",
       "      <th>0</th>\n",
       "      <td>04006005</td>\n",
       "      <td>ALLOS_SAPC</td>\n",
       "      <td>44.242500</td>\n",
       "      <td>6.625333</td>\n",
       "      <td>1400</td>\n",
       "      <td>2022-01-01</td>\n",
       "      <td>4.2</td>\n",
       "      <td>1.0</td>\n",
       "      <td>31.0</td>\n",
       "      <td>NaN</td>\n",
       "      <td>...</td>\n",
       "      <td>NaN</td>\n",
       "      <td>NaN</td>\n",
       "      <td>NaN</td>\n",
       "      <td>NaN</td>\n",
       "      <td>NaN</td>\n",
       "      <td>NaN</td>\n",
       "      <td>NaN</td>\n",
       "      <td>NaN</td>\n",
       "      <td>NaN</td>\n",
       "      <td>NaN</td>\n",
       "    </tr>\n",
       "    <tr>\n",
       "      <th>1</th>\n",
       "      <td>04006005</td>\n",
       "      <td>ALLOS_SAPC</td>\n",
       "      <td>44.242500</td>\n",
       "      <td>6.625333</td>\n",
       "      <td>1400</td>\n",
       "      <td>2022-02-01</td>\n",
       "      <td>29.4</td>\n",
       "      <td>1.0</td>\n",
       "      <td>28.0</td>\n",
       "      <td>NaN</td>\n",
       "      <td>...</td>\n",
       "      <td>NaN</td>\n",
       "      <td>NaN</td>\n",
       "      <td>NaN</td>\n",
       "      <td>NaN</td>\n",
       "      <td>NaN</td>\n",
       "      <td>NaN</td>\n",
       "      <td>NaN</td>\n",
       "      <td>NaN</td>\n",
       "      <td>NaN</td>\n",
       "      <td>NaN</td>\n",
       "    </tr>\n",
       "    <tr>\n",
       "      <th>2</th>\n",
       "      <td>04006005</td>\n",
       "      <td>ALLOS_SAPC</td>\n",
       "      <td>44.242500</td>\n",
       "      <td>6.625333</td>\n",
       "      <td>1400</td>\n",
       "      <td>2022-03-01</td>\n",
       "      <td>13.0</td>\n",
       "      <td>1.0</td>\n",
       "      <td>31.0</td>\n",
       "      <td>NaN</td>\n",
       "      <td>...</td>\n",
       "      <td>NaN</td>\n",
       "      <td>NaN</td>\n",
       "      <td>NaN</td>\n",
       "      <td>NaN</td>\n",
       "      <td>NaN</td>\n",
       "      <td>NaN</td>\n",
       "      <td>NaN</td>\n",
       "      <td>NaN</td>\n",
       "      <td>NaN</td>\n",
       "      <td>NaN</td>\n",
       "    </tr>\n",
       "    <tr>\n",
       "      <th>3</th>\n",
       "      <td>04006005</td>\n",
       "      <td>ALLOS_SAPC</td>\n",
       "      <td>44.242500</td>\n",
       "      <td>6.625333</td>\n",
       "      <td>1400</td>\n",
       "      <td>2022-04-01</td>\n",
       "      <td>53.6</td>\n",
       "      <td>1.0</td>\n",
       "      <td>30.0</td>\n",
       "      <td>NaN</td>\n",
       "      <td>...</td>\n",
       "      <td>NaN</td>\n",
       "      <td>NaN</td>\n",
       "      <td>NaN</td>\n",
       "      <td>NaN</td>\n",
       "      <td>NaN</td>\n",
       "      <td>NaN</td>\n",
       "      <td>NaN</td>\n",
       "      <td>NaN</td>\n",
       "      <td>NaN</td>\n",
       "      <td>NaN</td>\n",
       "    </tr>\n",
       "    <tr>\n",
       "      <th>4</th>\n",
       "      <td>04006005</td>\n",
       "      <td>ALLOS_SAPC</td>\n",
       "      <td>44.242500</td>\n",
       "      <td>6.625333</td>\n",
       "      <td>1400</td>\n",
       "      <td>2022-05-01</td>\n",
       "      <td>38.0</td>\n",
       "      <td>1.0</td>\n",
       "      <td>31.0</td>\n",
       "      <td>NaN</td>\n",
       "      <td>...</td>\n",
       "      <td>NaN</td>\n",
       "      <td>NaN</td>\n",
       "      <td>NaN</td>\n",
       "      <td>NaN</td>\n",
       "      <td>NaN</td>\n",
       "      <td>NaN</td>\n",
       "      <td>NaN</td>\n",
       "      <td>NaN</td>\n",
       "      <td>NaN</td>\n",
       "      <td>NaN</td>\n",
       "    </tr>\n",
       "    <tr>\n",
       "      <th>...</th>\n",
       "      <td>...</td>\n",
       "      <td>...</td>\n",
       "      <td>...</td>\n",
       "      <td>...</td>\n",
       "      <td>...</td>\n",
       "      <td>...</td>\n",
       "      <td>...</td>\n",
       "      <td>...</td>\n",
       "      <td>...</td>\n",
       "      <td>...</td>\n",
       "      <td>...</td>\n",
       "      <td>...</td>\n",
       "      <td>...</td>\n",
       "      <td>...</td>\n",
       "      <td>...</td>\n",
       "      <td>...</td>\n",
       "      <td>...</td>\n",
       "      <td>...</td>\n",
       "      <td>...</td>\n",
       "      <td>...</td>\n",
       "      <td>...</td>\n",
       "    </tr>\n",
       "    <tr>\n",
       "      <th>427</th>\n",
       "      <td>84150001</td>\n",
       "      <td>VISAN</td>\n",
       "      <td>44.336667</td>\n",
       "      <td>4.905500</td>\n",
       "      <td>141</td>\n",
       "      <td>2023-08-01</td>\n",
       "      <td>49.0</td>\n",
       "      <td>1.0</td>\n",
       "      <td>31.0</td>\n",
       "      <td>NaN</td>\n",
       "      <td>...</td>\n",
       "      <td>NaN</td>\n",
       "      <td>NaN</td>\n",
       "      <td>NaN</td>\n",
       "      <td>NaN</td>\n",
       "      <td>NaN</td>\n",
       "      <td>NaN</td>\n",
       "      <td>NaN</td>\n",
       "      <td>NaN</td>\n",
       "      <td>NaN</td>\n",
       "      <td>NaN</td>\n",
       "    </tr>\n",
       "    <tr>\n",
       "      <th>428</th>\n",
       "      <td>84150001</td>\n",
       "      <td>VISAN</td>\n",
       "      <td>44.336667</td>\n",
       "      <td>4.905500</td>\n",
       "      <td>141</td>\n",
       "      <td>2023-09-01</td>\n",
       "      <td>56.9</td>\n",
       "      <td>1.0</td>\n",
       "      <td>30.0</td>\n",
       "      <td>NaN</td>\n",
       "      <td>...</td>\n",
       "      <td>NaN</td>\n",
       "      <td>NaN</td>\n",
       "      <td>NaN</td>\n",
       "      <td>NaN</td>\n",
       "      <td>NaN</td>\n",
       "      <td>NaN</td>\n",
       "      <td>NaN</td>\n",
       "      <td>NaN</td>\n",
       "      <td>NaN</td>\n",
       "      <td>NaN</td>\n",
       "    </tr>\n",
       "    <tr>\n",
       "      <th>429</th>\n",
       "      <td>84150001</td>\n",
       "      <td>VISAN</td>\n",
       "      <td>44.336667</td>\n",
       "      <td>4.905500</td>\n",
       "      <td>141</td>\n",
       "      <td>2023-10-01</td>\n",
       "      <td>131.1</td>\n",
       "      <td>1.0</td>\n",
       "      <td>31.0</td>\n",
       "      <td>NaN</td>\n",
       "      <td>...</td>\n",
       "      <td>NaN</td>\n",
       "      <td>NaN</td>\n",
       "      <td>NaN</td>\n",
       "      <td>NaN</td>\n",
       "      <td>NaN</td>\n",
       "      <td>NaN</td>\n",
       "      <td>NaN</td>\n",
       "      <td>NaN</td>\n",
       "      <td>NaN</td>\n",
       "      <td>NaN</td>\n",
       "    </tr>\n",
       "    <tr>\n",
       "      <th>430</th>\n",
       "      <td>84150001</td>\n",
       "      <td>VISAN</td>\n",
       "      <td>44.336667</td>\n",
       "      <td>4.905500</td>\n",
       "      <td>141</td>\n",
       "      <td>2023-11-01</td>\n",
       "      <td>44.6</td>\n",
       "      <td>1.0</td>\n",
       "      <td>30.0</td>\n",
       "      <td>NaN</td>\n",
       "      <td>...</td>\n",
       "      <td>NaN</td>\n",
       "      <td>NaN</td>\n",
       "      <td>NaN</td>\n",
       "      <td>NaN</td>\n",
       "      <td>NaN</td>\n",
       "      <td>NaN</td>\n",
       "      <td>NaN</td>\n",
       "      <td>NaN</td>\n",
       "      <td>NaN</td>\n",
       "      <td>NaN</td>\n",
       "    </tr>\n",
       "    <tr>\n",
       "      <th>431</th>\n",
       "      <td>84150001</td>\n",
       "      <td>VISAN</td>\n",
       "      <td>44.336667</td>\n",
       "      <td>4.905500</td>\n",
       "      <td>141</td>\n",
       "      <td>2023-12-01</td>\n",
       "      <td>33.6</td>\n",
       "      <td>1.0</td>\n",
       "      <td>18.0</td>\n",
       "      <td>NaN</td>\n",
       "      <td>...</td>\n",
       "      <td>NaN</td>\n",
       "      <td>NaN</td>\n",
       "      <td>NaN</td>\n",
       "      <td>NaN</td>\n",
       "      <td>NaN</td>\n",
       "      <td>NaN</td>\n",
       "      <td>NaN</td>\n",
       "      <td>NaN</td>\n",
       "      <td>NaN</td>\n",
       "      <td>NaN</td>\n",
       "    </tr>\n",
       "  </tbody>\n",
       "</table>\n",
       "<p>3553 rows × 162 columns</p>\n",
       "</div>"
      ],
      "text/plain": [
       "    NUM_POSTE   NOM_USUEL        LAT       LON  ALTI     AAAAMM     RR  QRR  \\\n",
       "0    04006005  ALLOS_SAPC  44.242500  6.625333  1400 2022-01-01    4.2  1.0   \n",
       "1    04006005  ALLOS_SAPC  44.242500  6.625333  1400 2022-02-01   29.4  1.0   \n",
       "2    04006005  ALLOS_SAPC  44.242500  6.625333  1400 2022-03-01   13.0  1.0   \n",
       "3    04006005  ALLOS_SAPC  44.242500  6.625333  1400 2022-04-01   53.6  1.0   \n",
       "4    04006005  ALLOS_SAPC  44.242500  6.625333  1400 2022-05-01   38.0  1.0   \n",
       "..        ...         ...        ...       ...   ...        ...    ...  ...   \n",
       "427  84150001       VISAN  44.336667  4.905500   141 2023-08-01   49.0  1.0   \n",
       "428  84150001       VISAN  44.336667  4.905500   141 2023-09-01   56.9  1.0   \n",
       "429  84150001       VISAN  44.336667  4.905500   141 2023-10-01  131.1  1.0   \n",
       "430  84150001       VISAN  44.336667  4.905500   141 2023-11-01   44.6  1.0   \n",
       "431  84150001       VISAN  44.336667  4.905500   141 2023-12-01   33.6  1.0   \n",
       "\n",
       "     NBRR  RR_ME  ...  QNEIGETOTM   NEIGETOTAB  QNEIGETOTAB  NEIGETOTABDAT  \\\n",
       "0    31.0    NaN  ...         NaN          NaN          NaN            NaN   \n",
       "1    28.0    NaN  ...         NaN          NaN          NaN            NaN   \n",
       "2    31.0    NaN  ...         NaN          NaN          NaN            NaN   \n",
       "3    30.0    NaN  ...         NaN          NaN          NaN            NaN   \n",
       "4    31.0    NaN  ...         NaN          NaN          NaN            NaN   \n",
       "..    ...    ...  ...         ...          ...          ...            ...   \n",
       "427  31.0    NaN  ...         NaN          NaN          NaN            NaN   \n",
       "428  30.0    NaN  ...         NaN          NaN          NaN            NaN   \n",
       "429  31.0    NaN  ...         NaN          NaN          NaN            NaN   \n",
       "430  30.0    NaN  ...         NaN          NaN          NaN            NaN   \n",
       "431  18.0    NaN  ...         NaN          NaN          NaN            NaN   \n",
       "\n",
       "     NBJNEIGETOT1  NBJNEIGETOT10  NBJNEIGETOT30  NBJGREL  NBJORAG  NBJBROU  \n",
       "0             NaN            NaN            NaN      NaN      NaN      NaN  \n",
       "1             NaN            NaN            NaN      NaN      NaN      NaN  \n",
       "2             NaN            NaN            NaN      NaN      NaN      NaN  \n",
       "3             NaN            NaN            NaN      NaN      NaN      NaN  \n",
       "4             NaN            NaN            NaN      NaN      NaN      NaN  \n",
       "..            ...            ...            ...      ...      ...      ...  \n",
       "427           NaN            NaN            NaN      NaN      NaN      NaN  \n",
       "428           NaN            NaN            NaN      NaN      NaN      NaN  \n",
       "429           NaN            NaN            NaN      NaN      NaN      NaN  \n",
       "430           NaN            NaN            NaN      NaN      NaN      NaN  \n",
       "431           NaN            NaN            NaN      NaN      NaN      NaN  \n",
       "\n",
       "[3553 rows x 162 columns]"
      ]
     },
     "metadata": {},
     "output_type": "display_data"
    }
   ],
   "source": [
    "# Télécharge les les archives ZIP & et décompresse les fichiers CSV (DENIERE PERIODE DISPONIBLE)\n",
    "import os\n",
    "import requests\n",
    "import pandas as pd\n",
    "import numpy as np\n",
    "import datetime\n",
    "import time\n",
    "import sys\n",
    "import gzip\n",
    "\n",
    "# ================ Personalisation ====================\n",
    "# Chemin d'enregistrement des archives gz et des fichiers CSV décompressés\n",
    "folder_gz= r\"X:\\1-COMMUN\\DIS\\Documentation\\Hydrologie\\Documentation externe\\Climat France\\Météo-France\\meteo.data\\archives\\2023 Déc\\base\\M\"\n",
    "folder_csv= r\"X:\\1-COMMUN\\DIS\\Documentation\\Hydrologie\\Documentation externe\\Climat France\\Météo-France\\meteo.data\\base\\M\"\n",
    "\n",
    "# Numéro des Postes météo souhaités (chaine de 8 caractères) - voir fichier \"fiches.json\" sur https://www.data.gouv.fr/fr/datasets/r/1fe544d8-4615-4642-a307-5956a7d90922\n",
    "# LES DEPARTEMENTS CORRESPONDANTS DOIVENT ËTRE PRESENTS DANS LA LISTE DES URLS (voir ======= Initialisation ==========)\n",
    "postes= ['04088001', '04039001', '04230001',                  # Forcalquier, Castellane, Valensole \\\n",
    "        '05046001',                                           # Embrun \\\n",
    "        # '06088001', '06029001',                               # Nice, Cannes \\\n",
    "        '13001009', '13111002', '13103001','13055001',        # Aix en Provence, Vauvenargue, Salon, Marseille, \\\n",
    "        '83031001', '83061001', '83137001',                   # Le Luc, Fréjus, Toulon \\\n",
    "        '84003002', '84009002']                               # Apt-Viton, Bastide des Jourdans\n",
    "\n",
    "# ================ Extrait du fichier data CSV =============\n",
    "# NUM_POSTE\tNOM_USUEL\tLAT\tLON\tALTI\tAAAAMM\tRR\tQRR\tNBRR\tRR_ME\tRRAB\tQRRAB\tRRABDAT\tNBJRR1\tNBJRR5\tNBJRR10\tNBJRR30\n",
    "# 13001009\tAIX EN PROVENCE\t43.5295\t5.4245\t173\t202201\t3.6\t1\t31\t\t1.4\t1\t4\t1\t0\t0\t0\n",
    "# 13001009\tAIX EN PROVENCE\t43.5295\t5.4245\t173\t202202\t26.1\t1\t28\t\t24.7\t1\t14\t2\t1\t1\t0\n",
    "# 13001009\tAIX EN PROVENCE\t43.5295\t5.4245\t173\t202203\t6.6\t1\t31\t\t3.6\t1\t30\t2\t0\t0\t0\n",
    "# 13001009\tAIX EN PROVENCE\t43.5295\t5.4245\t173\t202204\t27\t1\t30\t\t17.6\t1\t23\t4\t2\t1\t0\n",
    "# 13001009\tAIX EN PROVENCE\t43.5295\t5.4245\t173\t202205\t26\t1\t31\t\t16.8\t1\t8\t3\t2\t1\t0\n",
    "\n",
    "# ================ Extrait du fichier data CSV Descriptif des champs les plus souvent utiles (précipitations et températures) =============\n",
    "# NUM_POSTE       \t numéro Météo-France du poste sur 8 chiffres\n",
    "# NOM_USUEL       \t nom usuel du poste\n",
    "# LAT             \t latitude, négative au sud (en degrés et millionièmes de degré)\n",
    "# LON             \t longitude, négative à l’ouest de GREENWICH (en degrés et millionièmes de degré)\n",
    "# ALTI            \t altitude du pied de l'abri ou du pluviomètre si pas d'abri (en m)\n",
    "# AAAAMM          \t mois\n",
    "# RR              \t cumul mensuel des hauteurs de précipitation (en mm et 1/10)\n",
    "# QRR             \t code qualité de RR\n",
    "# NBRR            \t nombre de valeurs présentes de hauteur de précipitation quotidienne\n",
    "# RR_ME           \t cumul mensuel estimé des hauteurs de précipitation (en mm et 1/10)\n",
    "# RRAB            \t précipitation maximale tombée en 24 heures au cours du mois\n",
    "# QRRAB           \t code qualite de RRAB\n",
    "# TX              \t moyenne mensuelle des températures maximales (TX) quotidiennes (en °C et 1/10)\n",
    "# QTX             \t code qualité de TX\n",
    "# TN              \t moyenne mensuelle des températures minimales (TN) quotidiennes (en °C et 1/10)\n",
    "# QTN             \t code qualité de TN\n",
    "# TM              \t moyenne mensuelle des (TN+TX)/2 quotidiennes (en °C et 1/10)\n",
    "# QTM             \t code qualité de TM\n",
    "# TMM             \t moyenne mensuelle des températures moyennes (TM) quotidiennes (en °C et 1/10)\n",
    "# QTMM            \t code qualité du TMM\n",
    "# TMMIN           \t minimum mensuel des moyennes (TN+TX)/2 quotidiennes (en °C et 1/10)\n",
    "# QTMMIN          \t code qualité de TMMIN\n",
    "# TMMAX           \t maximum mensuel des moyennes (TN+TX)/2 quotidiennes (en °C et 1/10) \n",
    "# QTMMAX          \t code qualité du TMMAX\n",
    "\n",
    "# définit un dataframe pandas avec les 2 colonnes \"param\" et \"name_long\" pour la description des champs \n",
    "# Lit en ligne le fichier \"MENSQ_descriptif_champs.csv\" de description des champs et le stocke dans un dataframe pandas\n",
    "url = \"https://www.data.gouv.fr/fr/datasets/r/6d4ac560-8f7c-477f-9a3f-3c33137fc04e\"\n",
    "df_desc = pd.read_csv(url, sep=\":\", header= None, index_col=0, names= [\"param\", \"name_long\"], dtype={\"param\":str, \"name_long\":str}, encoding= 'utf-8')\n",
    "# display(df_desc)\n",
    "\n",
    "# ================ Initialisation ====================\n",
    "# Structure du nom des fichiers de données mensuelles (1 fichier par département dont le numéro sera ajouté automatiquement au début et à la fin du template ci-dessous)\n",
    "template_end= '_latest-2022-2023.csv'\n",
    "template_start= 'MENSQ_'\n",
    "\n",
    "# ---------------- urls de téléchargement des archives des dernières données depuis janvier de l'année précédente https://meteo.data.gouv.fr/ (Ajouter d'autres départements si besoin)\n",
    "urls= dict()\n",
    "urls['04']= \"https://www.data.gouv.fr/fr/datasets/r/5c2d6f73-4162-4f36-bb41-98d7bc3e2ee1\" \n",
    "urls['05']= 'https://www.data.gouv.fr/fr/datasets/r/589b53fd-adef-44a4-b306-1dee1500d2d2'\n",
    "urls['06']= 'https://www.data.gouv.fr/fr/datasets/r/f8bdc686-8c37-4ced-8c36-407148bca194'\n",
    "urls['13']= 'https://www.data.gouv.fr/fr/datasets/r/78fe3a8a-7f32-44dd-a1b5-8acb841d6cc1'\n",
    "urls['83']= 'https://www.data.gouv.fr/fr/datasets/r/dc5ee912-e84a-4f15-bd08-7f326795ce41'\n",
    "urls['84']= 'https://www.data.gouv.fr/fr/datasets/r/75526d6c-81d5-4aad-8961-e9fc2a43f7b5'\n",
    "# print(urls)\n",
    "\n",
    "# ---------------- Définition des fonctions\n",
    "def convert_to_date(aaaamm):\n",
    "    return pd.to_datetime(str(aaaamm), format='%Y%m', errors='coerce')\n",
    "\n",
    "def download_file(url, filename):\n",
    "    file= os.path.join(folder_gz, filename) + '.gz'\n",
    "    print('Téléchargement: ', file)\n",
    "    response = requests.get(url)\n",
    "    if response.status_code == 200:\n",
    "        with open(file, 'wb') as f:\n",
    "            f.write(response.content)\n",
    "        # print(\"Téléchargement terminé\")\n",
    "    else:\n",
    "        print(\"Fichier non présent à l'url habituelle: \", file)\n",
    "\n",
    "def decompress_gz(filename):\n",
    "    file= os.path.join(folder_gz, filename) + '.gz'\n",
    "    \n",
    "    if os.path.exists(file):\n",
    "        with gzip.open(file, 'rb') as f_in:\n",
    "            file= os.path.join(folder_csv, filename) \n",
    "            print('Décompression', file)\n",
    "            with open(file, 'wb') as f_out:\n",
    "                f_out.write(f_in.read())\n",
    "    else:\n",
    "        print(\"Fichier non trouvé: \", file)\n",
    "\n",
    "def read_csv(filename):\n",
    "    file= os.path.join(folder_csv, filename)\n",
    "    print('Lecture: ', file)\n",
    "    df= pd.read_csv(file, header=0, sep=\";\", dtype={\"NUM_POSTE\":str, 'AAAAMM':str}, parse_dates=['AAAAMM'], date_parser= convert_to_date)\n",
    "    return df\n",
    "\n",
    "# ================ Traitement ====================\n",
    "now= datetime.datetime.now()\n",
    "print(now.strftime(\"%Y-%m-%d %H:%M\"))\n",
    "# fait la liste des départements concernés et garde les 2 premiers chiffres uniques\n",
    "# On récupère les 2 premiers chiffres de chaque poste\n",
    "departements = []\n",
    "for poste in postes:\n",
    "    departements.append(poste[:2])\n",
    "# On ne garde que départements uniques\n",
    "departements = list(set(departements)) # set() ignore automatiquement les doublons (ce qui évite de passer par array numpy pour utiliser la fonction np.unique() )\n",
    "# On trie la liste\n",
    "departements.sort()\n",
    "# On affiche la liste\n",
    "print('Départements concernés: ', departements)\n",
    "\n",
    "# Téléchargement/décompression/lecture des fichiers dans une boucle sur les départements (urls tirées du dictionnaire 'urls')\n",
    "for i, departement in enumerate(departements):\n",
    "    # On récupère l'url\n",
    "    url = urls[departement]\n",
    "    # Formation du nom du fichier à partir du template et du numéro de département\n",
    "    filename = f\"{template_start}{departement}{template_end}\"\n",
    "    download_file(url, filename)\n",
    "    decompress_gz(filename)\n",
    "    # Lecture du fichier CSV dans un dataframe pandas\n",
    "    # filename = os.path.join(folder_csv, f\"{template_start}{departement}{template_end}\")\n",
    "\n",
    "    df_departement= read_csv(filename)\n",
    "    # df_departement = pd.read_csv(filename, header=0, sep=\";\", dtype={\"NUM_POSTE\":str, 'AAAAMM':str}, parse_dates=['AAAAMM'], date_parser= convert_to_date)\n",
    "    df_departement['NUM_POSTE'] = df_departement['NUM_POSTE'].str.strip()\n",
    "    if i== 0:\n",
    "        # initialisation du dataframe final df avec les données du premier département        \n",
    "        df= df_departement\n",
    "    else:\n",
    "        df= pd.concat([df, df_departement])        \n",
    "\n",
    "display(df)"
   ]
  },
  {
   "cell_type": "markdown",
   "metadata": {},
   "source": [
    "##### Tracé du graphique des précipitations"
   ]
  },
  {
   "cell_type": "code",
   "execution_count": 164,
   "metadata": {},
   "outputs": [
    {
     "data": {
      "application/vnd.plotly.v1+json": {
       "config": {
        "plotlyServerURL": "https://plot.ly"
       },
       "data": [
        {
         "marker": {
          "color": "rgb(141,211,199)"
         },
         "name": "FORCALQUIER",
         "type": "bar",
         "x": [
          "2022-01-01T00:00:00",
          "2022-02-01T00:00:00",
          "2022-03-01T00:00:00",
          "2022-04-01T00:00:00",
          "2022-05-01T00:00:00",
          "2022-06-01T00:00:00",
          "2022-07-01T00:00:00",
          "2022-08-01T00:00:00",
          "2022-09-01T00:00:00",
          "2022-10-01T00:00:00",
          "2022-11-01T00:00:00",
          "2022-12-01T00:00:00",
          "2023-01-01T00:00:00",
          "2023-02-01T00:00:00",
          "2023-03-01T00:00:00",
          "2023-04-01T00:00:00",
          "2023-05-01T00:00:00",
          "2023-06-01T00:00:00",
          "2023-07-01T00:00:00",
          "2023-08-01T00:00:00",
          "2023-09-01T00:00:00",
          "2023-10-01T00:00:00",
          "2023-11-01T00:00:00"
         ],
         "xaxis": "x13",
         "y": [
          3.5,
          24.8,
          6.6,
          44.4,
          28.5,
          20.4,
          3.6,
          93.6,
          83.2,
          27.8,
          140.5,
          174.3,
          25.2,
          11.6,
          21.9,
          34.9,
          128.7,
          95.4,
          0.8,
          39.2,
          108,
          77.5,
          63.1
         ],
         "yaxis": "y"
        },
        {
         "line": {
          "color": "#AF0038"
         },
         "name": "Cumulé 04088001",
         "type": "scatter",
         "x": [
          "2022-01-01T00:00:00",
          "2022-02-01T00:00:00",
          "2022-03-01T00:00:00",
          "2022-04-01T00:00:00",
          "2022-05-01T00:00:00",
          "2022-06-01T00:00:00",
          "2022-07-01T00:00:00",
          "2022-08-01T00:00:00",
          "2022-09-01T00:00:00",
          "2022-10-01T00:00:00",
          "2022-11-01T00:00:00",
          "2022-12-01T00:00:00",
          "2023-01-01T00:00:00",
          "2023-02-01T00:00:00",
          "2023-03-01T00:00:00",
          "2023-04-01T00:00:00",
          "2023-05-01T00:00:00",
          "2023-06-01T00:00:00",
          "2023-07-01T00:00:00",
          "2023-08-01T00:00:00",
          "2023-09-01T00:00:00",
          "2023-10-01T00:00:00",
          "2023-11-01T00:00:00"
         ],
         "xaxis": "x13",
         "y": [
          3.5,
          28.3,
          34.9,
          79.3,
          107.8,
          128.2,
          131.79999999999998,
          225.39999999999998,
          308.59999999999997,
          336.4,
          476.9,
          651.2,
          676.4000000000001,
          688.0000000000001,
          709.9000000000001,
          744.8000000000001,
          873.5,
          968.9,
          969.6999999999999,
          1008.9,
          1116.9,
          1194.4,
          1257.5
         ],
         "yaxis": "y2"
        },
        {
         "marker": {
          "color": "rgb(255,255,179)"
         },
         "name": "CASTELLANE",
         "type": "bar",
         "x": [
          "2022-01-01T00:00:00",
          "2022-02-01T00:00:00",
          "2022-03-01T00:00:00",
          "2022-04-01T00:00:00",
          "2022-05-01T00:00:00",
          "2022-06-01T00:00:00",
          "2022-07-01T00:00:00",
          "2022-08-01T00:00:00",
          "2022-09-01T00:00:00",
          "2022-10-01T00:00:00",
          "2022-11-01T00:00:00",
          "2022-12-01T00:00:00",
          "2023-01-01T00:00:00",
          "2023-02-01T00:00:00",
          "2023-03-01T00:00:00",
          "2023-04-01T00:00:00",
          "2023-05-01T00:00:00",
          "2023-06-01T00:00:00",
          "2023-07-01T00:00:00",
          "2023-08-01T00:00:00",
          "2023-09-01T00:00:00",
          "2023-10-01T00:00:00",
          "2023-11-01T00:00:00",
          "2023-12-01T00:00:00"
         ],
         "xaxis": "x13",
         "y": [
          5.6,
          35.4,
          13.4,
          65.6,
          29.4,
          47.1,
          8.6,
          54.1,
          67.1,
          12.4,
          91.5,
          155.7,
          66.7,
          14.4,
          26.6,
          59.1,
          200.5,
          153.5,
          4,
          62.6,
          60.1,
          151.1,
          102.2,
          76.1
         ],
         "yaxis": "y3"
        },
        {
         "line": {
          "color": "#0D2A63"
         },
         "name": "Cumulé 04039001",
         "type": "scatter",
         "x": [
          "2022-01-01T00:00:00",
          "2022-02-01T00:00:00",
          "2022-03-01T00:00:00",
          "2022-04-01T00:00:00",
          "2022-05-01T00:00:00",
          "2022-06-01T00:00:00",
          "2022-07-01T00:00:00",
          "2022-08-01T00:00:00",
          "2022-09-01T00:00:00",
          "2022-10-01T00:00:00",
          "2022-11-01T00:00:00",
          "2022-12-01T00:00:00",
          "2023-01-01T00:00:00",
          "2023-02-01T00:00:00",
          "2023-03-01T00:00:00",
          "2023-04-01T00:00:00",
          "2023-05-01T00:00:00",
          "2023-06-01T00:00:00",
          "2023-07-01T00:00:00",
          "2023-08-01T00:00:00",
          "2023-09-01T00:00:00",
          "2023-10-01T00:00:00",
          "2023-11-01T00:00:00",
          "2023-12-01T00:00:00"
         ],
         "xaxis": "x13",
         "y": [
          5.6,
          41,
          54.4,
          120,
          149.4,
          196.5,
          205.1,
          259.2,
          326.29999999999995,
          338.69999999999993,
          430.19999999999993,
          585.8999999999999,
          652.5999999999999,
          666.9999999999999,
          693.5999999999999,
          752.6999999999999,
          953.1999999999999,
          1106.6999999999998,
          1110.6999999999998,
          1173.2999999999997,
          1233.3999999999996,
          1384.4999999999995,
          1486.6999999999996,
          1562.7999999999995
         ],
         "yaxis": "y4"
        },
        {
         "marker": {
          "color": "rgb(190,186,218)"
         },
         "name": "VALENSOLE",
         "type": "bar",
         "x": [
          "2022-01-01T00:00:00",
          "2022-02-01T00:00:00",
          "2022-03-01T00:00:00",
          "2022-04-01T00:00:00",
          "2022-05-01T00:00:00",
          "2022-06-01T00:00:00",
          "2022-07-01T00:00:00",
          "2022-08-01T00:00:00",
          "2022-09-01T00:00:00",
          "2022-10-01T00:00:00",
          "2022-11-01T00:00:00",
          "2022-12-01T00:00:00",
          "2023-01-01T00:00:00",
          "2023-02-01T00:00:00",
          "2023-03-01T00:00:00",
          "2023-04-01T00:00:00",
          "2023-05-01T00:00:00",
          "2023-06-01T00:00:00",
          "2023-07-01T00:00:00",
          "2023-08-01T00:00:00",
          "2023-09-01T00:00:00",
          "2023-10-01T00:00:00",
          "2023-11-01T00:00:00",
          "2023-12-01T00:00:00"
         ],
         "xaxis": "x13",
         "y": [
          4.8,
          15,
          8.4,
          32.6,
          29,
          15.8,
          0,
          56.9,
          78,
          11.4,
          93.6,
          103.9,
          20.6,
          7.8,
          16.4,
          36.2,
          154.4,
          155.6,
          1.2,
          31.4,
          32.6,
          91.1,
          36.4,
          56.8
         ],
         "yaxis": "y5"
        },
        {
         "line": {
          "color": "#6C4516"
         },
         "name": "Cumulé 04230001",
         "type": "scatter",
         "x": [
          "2022-01-01T00:00:00",
          "2022-02-01T00:00:00",
          "2022-03-01T00:00:00",
          "2022-04-01T00:00:00",
          "2022-05-01T00:00:00",
          "2022-06-01T00:00:00",
          "2022-07-01T00:00:00",
          "2022-08-01T00:00:00",
          "2022-09-01T00:00:00",
          "2022-10-01T00:00:00",
          "2022-11-01T00:00:00",
          "2022-12-01T00:00:00",
          "2023-01-01T00:00:00",
          "2023-02-01T00:00:00",
          "2023-03-01T00:00:00",
          "2023-04-01T00:00:00",
          "2023-05-01T00:00:00",
          "2023-06-01T00:00:00",
          "2023-07-01T00:00:00",
          "2023-08-01T00:00:00",
          "2023-09-01T00:00:00",
          "2023-10-01T00:00:00",
          "2023-11-01T00:00:00",
          "2023-12-01T00:00:00"
         ],
         "xaxis": "x13",
         "y": [
          4.8,
          19.8,
          28.200000000000003,
          60.800000000000004,
          89.80000000000001,
          105.60000000000001,
          105.60000000000001,
          162.5,
          240.5,
          251.9,
          345.5,
          449.4,
          470,
          477.8,
          494.2,
          530.4,
          684.8,
          840.4,
          841.6,
          873,
          905.6,
          996.7,
          1033.1000000000001,
          1089.9
         ],
         "yaxis": "y6"
        },
        {
         "marker": {
          "color": "rgb(251,128,114)"
         },
         "name": "EMBRUN",
         "type": "bar",
         "x": [
          "2022-01-01T00:00:00",
          "2022-02-01T00:00:00",
          "2022-03-01T00:00:00",
          "2022-04-01T00:00:00",
          "2022-05-01T00:00:00",
          "2022-06-01T00:00:00",
          "2022-07-01T00:00:00",
          "2022-08-01T00:00:00",
          "2022-09-01T00:00:00",
          "2022-10-01T00:00:00",
          "2022-11-01T00:00:00",
          "2022-12-01T00:00:00",
          "2023-01-01T00:00:00",
          "2023-02-01T00:00:00",
          "2023-03-01T00:00:00",
          "2023-04-01T00:00:00",
          "2023-05-01T00:00:00",
          "2023-06-01T00:00:00",
          "2023-07-01T00:00:00",
          "2023-08-01T00:00:00",
          "2023-09-01T00:00:00",
          "2023-10-01T00:00:00",
          "2023-11-01T00:00:00",
          "2023-12-01T00:00:00"
         ],
         "xaxis": "x13",
         "y": [
          9.2,
          15.4,
          9.4,
          48.6,
          33.6,
          40.8,
          12.6,
          93.8,
          62.7,
          21.8,
          103.1,
          89.6,
          42.6,
          1.2,
          86.6,
          42.6,
          93.4,
          64.7,
          42,
          76.2,
          56.4,
          151.1,
          214.2,
          125.6
         ],
         "yaxis": "y7"
        },
        {
         "line": {
          "color": "#DA60CA"
         },
         "name": "Cumulé 05046001",
         "type": "scatter",
         "x": [
          "2022-01-01T00:00:00",
          "2022-02-01T00:00:00",
          "2022-03-01T00:00:00",
          "2022-04-01T00:00:00",
          "2022-05-01T00:00:00",
          "2022-06-01T00:00:00",
          "2022-07-01T00:00:00",
          "2022-08-01T00:00:00",
          "2022-09-01T00:00:00",
          "2022-10-01T00:00:00",
          "2022-11-01T00:00:00",
          "2022-12-01T00:00:00",
          "2023-01-01T00:00:00",
          "2023-02-01T00:00:00",
          "2023-03-01T00:00:00",
          "2023-04-01T00:00:00",
          "2023-05-01T00:00:00",
          "2023-06-01T00:00:00",
          "2023-07-01T00:00:00",
          "2023-08-01T00:00:00",
          "2023-09-01T00:00:00",
          "2023-10-01T00:00:00",
          "2023-11-01T00:00:00",
          "2023-12-01T00:00:00"
         ],
         "xaxis": "x13",
         "y": [
          9.2,
          24.6,
          34,
          82.6,
          116.19999999999999,
          157,
          169.6,
          263.4,
          326.09999999999997,
          347.9,
          451,
          540.6,
          583.2,
          584.4000000000001,
          671.0000000000001,
          713.6000000000001,
          807.0000000000001,
          871.7000000000002,
          913.7000000000002,
          989.9000000000002,
          1046.3000000000002,
          1197.4,
          1411.6000000000001,
          1537.2
         ],
         "yaxis": "y8"
        },
        {
         "marker": {
          "color": "rgb(128,177,211)"
         },
         "name": "AIX EN PROVENCE",
         "type": "bar",
         "x": [
          "2022-01-01T00:00:00",
          "2022-02-01T00:00:00",
          "2022-03-01T00:00:00",
          "2022-04-01T00:00:00",
          "2022-05-01T00:00:00",
          "2022-06-01T00:00:00",
          "2022-07-01T00:00:00",
          "2022-08-01T00:00:00",
          "2022-09-01T00:00:00",
          "2022-10-01T00:00:00",
          "2022-11-01T00:00:00",
          "2022-12-01T00:00:00",
          "2023-01-01T00:00:00",
          "2023-02-01T00:00:00",
          "2023-03-01T00:00:00",
          "2023-04-01T00:00:00",
          "2023-05-01T00:00:00",
          "2023-06-01T00:00:00",
          "2023-07-01T00:00:00",
          "2023-08-01T00:00:00",
          "2023-09-01T00:00:00",
          "2023-10-01T00:00:00",
          "2023-11-01T00:00:00",
          "2023-12-01T00:00:00"
         ],
         "xaxis": "x13",
         "y": [
          3.6,
          26.1,
          6.6,
          27,
          26,
          7,
          0.2,
          37.7,
          49,
          36.6,
          100.7,
          97,
          5.6,
          20,
          10.8,
          15.2,
          93.9,
          73.4,
          7.4,
          35.1,
          26.4,
          47.5,
          30.2,
          42.4
         ],
         "yaxis": "y9"
        },
        {
         "line": {
          "color": "#1616A7"
         },
         "name": "Cumulé 13001009",
         "type": "scatter",
         "x": [
          "2022-01-01T00:00:00",
          "2022-02-01T00:00:00",
          "2022-03-01T00:00:00",
          "2022-04-01T00:00:00",
          "2022-05-01T00:00:00",
          "2022-06-01T00:00:00",
          "2022-07-01T00:00:00",
          "2022-08-01T00:00:00",
          "2022-09-01T00:00:00",
          "2022-10-01T00:00:00",
          "2022-11-01T00:00:00",
          "2022-12-01T00:00:00",
          "2023-01-01T00:00:00",
          "2023-02-01T00:00:00",
          "2023-03-01T00:00:00",
          "2023-04-01T00:00:00",
          "2023-05-01T00:00:00",
          "2023-06-01T00:00:00",
          "2023-07-01T00:00:00",
          "2023-08-01T00:00:00",
          "2023-09-01T00:00:00",
          "2023-10-01T00:00:00",
          "2023-11-01T00:00:00",
          "2023-12-01T00:00:00"
         ],
         "xaxis": "x13",
         "y": [
          3.6,
          29.700000000000003,
          36.300000000000004,
          63.300000000000004,
          89.30000000000001,
          96.30000000000001,
          96.50000000000001,
          134.20000000000002,
          183.20000000000002,
          219.8,
          320.5,
          417.5,
          423.1,
          443.1,
          453.90000000000003,
          469.1,
          563,
          636.4,
          643.8,
          678.9,
          705.3,
          752.8,
          783,
          825.4
         ],
         "yaxis": "y10"
        },
        {
         "marker": {
          "color": "rgb(253,180,98)"
         },
         "name": "VAUVENARGUES",
         "type": "bar",
         "x": [
          "2022-01-01T00:00:00",
          "2022-02-01T00:00:00",
          "2022-03-01T00:00:00",
          "2022-04-01T00:00:00",
          "2022-05-01T00:00:00",
          "2022-06-01T00:00:00",
          "2022-07-01T00:00:00",
          "2022-08-01T00:00:00",
          "2022-09-01T00:00:00",
          "2022-10-01T00:00:00",
          "2022-11-01T00:00:00",
          "2022-12-01T00:00:00",
          "2023-01-01T00:00:00",
          "2023-02-01T00:00:00",
          "2023-03-01T00:00:00",
          "2023-04-01T00:00:00",
          "2023-05-01T00:00:00",
          "2023-06-01T00:00:00",
          "2023-07-01T00:00:00",
          "2023-08-01T00:00:00",
          "2023-09-01T00:00:00",
          "2023-10-01T00:00:00",
          "2023-11-01T00:00:00",
          "2023-12-01T00:00:00"
         ],
         "xaxis": "x13",
         "y": [
          1,
          24.7,
          10.4,
          38.9,
          44.7,
          11,
          0.4,
          21,
          69.6,
          24.3,
          130.3,
          104.6,
          11.6,
          22.2,
          16,
          26.1,
          123,
          145.5,
          4.4,
          41.8,
          54.5,
          86,
          41.8,
          71
         ],
         "yaxis": "y11"
        },
        {
         "line": {
          "color": "#620042"
         },
         "name": "Cumulé 13111002",
         "type": "scatter",
         "x": [
          "2022-01-01T00:00:00",
          "2022-02-01T00:00:00",
          "2022-03-01T00:00:00",
          "2022-04-01T00:00:00",
          "2022-05-01T00:00:00",
          "2022-06-01T00:00:00",
          "2022-07-01T00:00:00",
          "2022-08-01T00:00:00",
          "2022-09-01T00:00:00",
          "2022-10-01T00:00:00",
          "2022-11-01T00:00:00",
          "2022-12-01T00:00:00",
          "2023-01-01T00:00:00",
          "2023-02-01T00:00:00",
          "2023-03-01T00:00:00",
          "2023-04-01T00:00:00",
          "2023-05-01T00:00:00",
          "2023-06-01T00:00:00",
          "2023-07-01T00:00:00",
          "2023-08-01T00:00:00",
          "2023-09-01T00:00:00",
          "2023-10-01T00:00:00",
          "2023-11-01T00:00:00",
          "2023-12-01T00:00:00"
         ],
         "xaxis": "x13",
         "y": [
          1,
          25.7,
          36.1,
          75,
          119.7,
          130.7,
          131.1,
          152.1,
          221.7,
          246,
          376.3,
          480.9,
          492.5,
          514.7,
          530.7,
          556.8000000000001,
          679.8000000000001,
          825.3000000000001,
          829.7,
          871.5,
          926,
          1012,
          1053.8,
          1124.8
         ],
         "yaxis": "y12"
        },
        {
         "marker": {
          "color": "rgb(179,222,105)"
         },
         "name": "SALON DE PROVENCE",
         "type": "bar",
         "x": [
          "2022-01-01T00:00:00",
          "2022-02-01T00:00:00",
          "2022-03-01T00:00:00",
          "2022-04-01T00:00:00",
          "2022-05-01T00:00:00",
          "2022-06-01T00:00:00",
          "2022-07-01T00:00:00",
          "2022-08-01T00:00:00",
          "2022-09-01T00:00:00",
          "2022-10-01T00:00:00",
          "2022-11-01T00:00:00",
          "2022-12-01T00:00:00",
          "2023-01-01T00:00:00",
          "2023-02-01T00:00:00",
          "2023-03-01T00:00:00",
          "2023-04-01T00:00:00",
          "2023-05-01T00:00:00",
          "2023-06-01T00:00:00",
          "2023-07-01T00:00:00",
          "2023-08-01T00:00:00",
          "2023-09-01T00:00:00",
          "2023-10-01T00:00:00",
          "2023-11-01T00:00:00",
          "2023-12-01T00:00:00"
         ],
         "xaxis": "x13",
         "y": [
          2,
          38.2,
          6.6,
          25.6,
          7.6,
          17.2,
          0.2,
          51.1,
          47.1,
          11.5,
          46.5,
          111.5,
          2.6,
          8.4,
          17.9,
          4,
          49.9,
          86.9,
          4.8,
          17.4,
          17.4,
          50.1,
          30.8,
          35.2
         ],
         "yaxis": "y13"
        },
        {
         "line": {
          "color": "#A777F1"
         },
         "name": "Cumulé 13103001",
         "type": "scatter",
         "x": [
          "2022-01-01T00:00:00",
          "2022-02-01T00:00:00",
          "2022-03-01T00:00:00",
          "2022-04-01T00:00:00",
          "2022-05-01T00:00:00",
          "2022-06-01T00:00:00",
          "2022-07-01T00:00:00",
          "2022-08-01T00:00:00",
          "2022-09-01T00:00:00",
          "2022-10-01T00:00:00",
          "2022-11-01T00:00:00",
          "2022-12-01T00:00:00",
          "2023-01-01T00:00:00",
          "2023-02-01T00:00:00",
          "2023-03-01T00:00:00",
          "2023-04-01T00:00:00",
          "2023-05-01T00:00:00",
          "2023-06-01T00:00:00",
          "2023-07-01T00:00:00",
          "2023-08-01T00:00:00",
          "2023-09-01T00:00:00",
          "2023-10-01T00:00:00",
          "2023-11-01T00:00:00",
          "2023-12-01T00:00:00"
         ],
         "xaxis": "x13",
         "y": [
          2,
          40.2,
          46.800000000000004,
          72.4,
          80,
          97.2,
          97.4,
          148.5,
          195.6,
          207.1,
          253.6,
          365.1,
          367.70000000000005,
          376.1,
          394,
          398,
          447.9,
          534.8,
          539.5999999999999,
          556.9999999999999,
          574.3999999999999,
          624.4999999999999,
          655.2999999999998,
          690.4999999999999
         ],
         "yaxis": "y14"
        },
        {
         "marker": {
          "color": "rgb(252,205,229)"
         },
         "name": "MARSEILLE-OBS",
         "type": "bar",
         "x": [
          "2022-01-01T00:00:00",
          "2022-02-01T00:00:00",
          "2022-03-01T00:00:00",
          "2022-04-01T00:00:00",
          "2022-05-01T00:00:00",
          "2022-06-01T00:00:00",
          "2022-07-01T00:00:00",
          "2022-08-01T00:00:00",
          "2022-09-01T00:00:00",
          "2022-10-01T00:00:00",
          "2022-11-01T00:00:00",
          "2022-12-01T00:00:00",
          "2023-01-01T00:00:00",
          "2023-02-01T00:00:00",
          "2023-03-01T00:00:00",
          "2023-04-01T00:00:00",
          "2023-05-01T00:00:00",
          "2023-06-01T00:00:00",
          "2023-07-01T00:00:00",
          "2023-08-01T00:00:00",
          "2023-09-01T00:00:00",
          "2023-10-01T00:00:00",
          "2023-11-01T00:00:00",
          "2023-12-01T00:00:00"
         ],
         "xaxis": "x13",
         "y": [
          0.4,
          19.9,
          9.4,
          19.3,
          29.5,
          8.8,
          0,
          63.2,
          62.2,
          2,
          44.6,
          74.2,
          2.2,
          19.9,
          3.4,
          6.2,
          58,
          41.6,
          9.9,
          34.7,
          46.2,
          30.3,
          23.2,
          28.3
         ],
         "yaxis": "y15"
        },
        {
         "line": {
          "color": "#862A16"
         },
         "name": "Cumulé 13055001",
         "type": "scatter",
         "x": [
          "2022-01-01T00:00:00",
          "2022-02-01T00:00:00",
          "2022-03-01T00:00:00",
          "2022-04-01T00:00:00",
          "2022-05-01T00:00:00",
          "2022-06-01T00:00:00",
          "2022-07-01T00:00:00",
          "2022-08-01T00:00:00",
          "2022-09-01T00:00:00",
          "2022-10-01T00:00:00",
          "2022-11-01T00:00:00",
          "2022-12-01T00:00:00",
          "2023-01-01T00:00:00",
          "2023-02-01T00:00:00",
          "2023-03-01T00:00:00",
          "2023-04-01T00:00:00",
          "2023-05-01T00:00:00",
          "2023-06-01T00:00:00",
          "2023-07-01T00:00:00",
          "2023-08-01T00:00:00",
          "2023-09-01T00:00:00",
          "2023-10-01T00:00:00",
          "2023-11-01T00:00:00",
          "2023-12-01T00:00:00"
         ],
         "xaxis": "x13",
         "y": [
          0.4,
          20.299999999999997,
          29.699999999999996,
          49,
          78.5,
          87.3,
          87.3,
          150.5,
          212.7,
          214.7,
          259.3,
          333.5,
          335.7,
          355.59999999999997,
          358.99999999999994,
          365.19999999999993,
          423.19999999999993,
          464.79999999999995,
          474.69999999999993,
          509.3999999999999,
          555.5999999999999,
          585.8999999999999,
          609.0999999999999,
          637.3999999999999
         ],
         "yaxis": "y16"
        },
        {
         "marker": {
          "color": "rgb(217,217,217)"
         },
         "name": "LE LUC",
         "type": "bar",
         "x": [
          "2022-01-01T00:00:00",
          "2022-02-01T00:00:00",
          "2022-03-01T00:00:00",
          "2022-04-01T00:00:00",
          "2022-05-01T00:00:00",
          "2022-06-01T00:00:00",
          "2022-07-01T00:00:00",
          "2022-08-01T00:00:00",
          "2022-09-01T00:00:00",
          "2022-10-01T00:00:00",
          "2022-11-01T00:00:00",
          "2022-12-01T00:00:00",
          "2023-01-01T00:00:00",
          "2023-02-01T00:00:00",
          "2023-03-01T00:00:00",
          "2023-04-01T00:00:00",
          "2023-05-01T00:00:00",
          "2023-06-01T00:00:00",
          "2023-07-01T00:00:00",
          "2023-08-01T00:00:00",
          "2023-09-01T00:00:00",
          "2023-10-01T00:00:00",
          "2023-11-01T00:00:00",
          "2023-12-01T00:00:00"
         ],
         "xaxis": "x13",
         "y": [
          0.8,
          31.9,
          28.2,
          45.8,
          38.1,
          16.6,
          0.6,
          54.1,
          41.1,
          13.5,
          67.3,
          137.1,
          10,
          37.4,
          4.4,
          11.6,
          133.5,
          130.7,
          0.8,
          24.3,
          32.6,
          72,
          21.7,
          53.8
         ],
         "yaxis": "y17"
        },
        {
         "line": {
          "color": "#778AAE"
         },
         "name": "Cumulé 83031001",
         "type": "scatter",
         "x": [
          "2022-01-01T00:00:00",
          "2022-02-01T00:00:00",
          "2022-03-01T00:00:00",
          "2022-04-01T00:00:00",
          "2022-05-01T00:00:00",
          "2022-06-01T00:00:00",
          "2022-07-01T00:00:00",
          "2022-08-01T00:00:00",
          "2022-09-01T00:00:00",
          "2022-10-01T00:00:00",
          "2022-11-01T00:00:00",
          "2022-12-01T00:00:00",
          "2023-01-01T00:00:00",
          "2023-02-01T00:00:00",
          "2023-03-01T00:00:00",
          "2023-04-01T00:00:00",
          "2023-05-01T00:00:00",
          "2023-06-01T00:00:00",
          "2023-07-01T00:00:00",
          "2023-08-01T00:00:00",
          "2023-09-01T00:00:00",
          "2023-10-01T00:00:00",
          "2023-11-01T00:00:00",
          "2023-12-01T00:00:00"
         ],
         "xaxis": "x13",
         "y": [
          0.8,
          32.699999999999996,
          60.89999999999999,
          106.69999999999999,
          144.79999999999998,
          161.39999999999998,
          161.99999999999997,
          216.09999999999997,
          257.2,
          270.7,
          338,
          475.1,
          485.1,
          522.5,
          526.9,
          538.5,
          672,
          802.7,
          803.5,
          827.8,
          860.4,
          932.4,
          954.1,
          1007.9
         ],
         "yaxis": "y18"
        },
        {
         "marker": {
          "color": "rgb(188,128,189)"
         },
         "name": "FREJUS",
         "type": "bar",
         "x": [
          "2022-01-01T00:00:00",
          "2022-02-01T00:00:00",
          "2022-03-01T00:00:00",
          "2022-04-01T00:00:00",
          "2022-05-01T00:00:00",
          "2022-06-01T00:00:00",
          "2022-07-01T00:00:00",
          "2022-08-01T00:00:00",
          "2022-09-01T00:00:00",
          "2022-10-01T00:00:00",
          "2022-11-01T00:00:00",
          "2022-12-01T00:00:00",
          "2023-01-01T00:00:00",
          "2023-02-01T00:00:00",
          "2023-03-01T00:00:00",
          "2023-04-01T00:00:00",
          "2023-05-01T00:00:00",
          "2023-06-01T00:00:00",
          "2023-07-01T00:00:00",
          "2023-08-01T00:00:00",
          "2023-09-01T00:00:00",
          "2023-10-01T00:00:00",
          "2023-11-01T00:00:00",
          "2023-12-01T00:00:00"
         ],
         "xaxis": "x13",
         "y": [
          2.4,
          36.2,
          30.4,
          40.4,
          3.8,
          43.4,
          0.2,
          33.1,
          44,
          32.8,
          74.7,
          99.4,
          21.6,
          30.8,
          5.4,
          15.6,
          37.6,
          40.6,
          0.6,
          23.8,
          29.9,
          83.1,
          20.4,
          50.4
         ],
         "yaxis": "y19"
        },
        {
         "line": {
          "color": "#6C7C32"
         },
         "name": "Cumulé 83061001",
         "type": "scatter",
         "x": [
          "2022-01-01T00:00:00",
          "2022-02-01T00:00:00",
          "2022-03-01T00:00:00",
          "2022-04-01T00:00:00",
          "2022-05-01T00:00:00",
          "2022-06-01T00:00:00",
          "2022-07-01T00:00:00",
          "2022-08-01T00:00:00",
          "2022-09-01T00:00:00",
          "2022-10-01T00:00:00",
          "2022-11-01T00:00:00",
          "2022-12-01T00:00:00",
          "2023-01-01T00:00:00",
          "2023-02-01T00:00:00",
          "2023-03-01T00:00:00",
          "2023-04-01T00:00:00",
          "2023-05-01T00:00:00",
          "2023-06-01T00:00:00",
          "2023-07-01T00:00:00",
          "2023-08-01T00:00:00",
          "2023-09-01T00:00:00",
          "2023-10-01T00:00:00",
          "2023-11-01T00:00:00",
          "2023-12-01T00:00:00"
         ],
         "xaxis": "x13",
         "y": [
          2.4,
          38.6,
          69,
          109.4,
          113.2,
          156.6,
          156.79999999999998,
          189.89999999999998,
          233.89999999999998,
          266.7,
          341.4,
          440.79999999999995,
          462.4,
          493.2,
          498.59999999999997,
          514.1999999999999,
          551.8,
          592.4,
          593,
          616.8,
          646.6999999999999,
          729.8,
          750.1999999999999,
          800.5999999999999
         ],
         "yaxis": "y20"
        },
        {
         "marker": {
          "color": "rgb(204,235,197)"
         },
         "name": "TOULON",
         "type": "bar",
         "x": [
          "2022-01-01T00:00:00",
          "2022-02-01T00:00:00",
          "2022-03-01T00:00:00",
          "2022-04-01T00:00:00",
          "2022-05-01T00:00:00",
          "2022-06-01T00:00:00",
          "2022-07-01T00:00:00",
          "2022-08-01T00:00:00",
          "2022-09-01T00:00:00",
          "2022-10-01T00:00:00",
          "2022-11-01T00:00:00",
          "2022-12-01T00:00:00",
          "2023-01-01T00:00:00",
          "2023-02-01T00:00:00",
          "2023-03-01T00:00:00",
          "2023-04-01T00:00:00",
          "2023-05-01T00:00:00",
          "2023-06-01T00:00:00",
          "2023-07-01T00:00:00",
          "2023-08-01T00:00:00",
          "2023-09-01T00:00:00",
          "2023-10-01T00:00:00",
          "2023-11-01T00:00:00",
          "2023-12-01T00:00:00"
         ],
         "xaxis": "x13",
         "y": [
          2.8,
          27,
          16.4,
          26.2,
          28.6,
          24.5,
          0.2,
          40.9,
          64.7,
          13.2,
          62.2,
          107.2,
          20.4,
          49,
          15.8,
          30.1,
          47.8,
          59.6,
          1.4,
          7.2,
          27.1,
          115,
          25.8,
          65
         ],
         "yaxis": "y21"
        },
        {
         "line": {
          "color": "#B2828D"
         },
         "name": "Cumulé 83137001",
         "type": "scatter",
         "x": [
          "2022-01-01T00:00:00",
          "2022-02-01T00:00:00",
          "2022-03-01T00:00:00",
          "2022-04-01T00:00:00",
          "2022-05-01T00:00:00",
          "2022-06-01T00:00:00",
          "2022-07-01T00:00:00",
          "2022-08-01T00:00:00",
          "2022-09-01T00:00:00",
          "2022-10-01T00:00:00",
          "2022-11-01T00:00:00",
          "2022-12-01T00:00:00",
          "2023-01-01T00:00:00",
          "2023-02-01T00:00:00",
          "2023-03-01T00:00:00",
          "2023-04-01T00:00:00",
          "2023-05-01T00:00:00",
          "2023-06-01T00:00:00",
          "2023-07-01T00:00:00",
          "2023-08-01T00:00:00",
          "2023-09-01T00:00:00",
          "2023-10-01T00:00:00",
          "2023-11-01T00:00:00",
          "2023-12-01T00:00:00"
         ],
         "xaxis": "x13",
         "y": [
          2.8,
          29.8,
          46.2,
          72.4,
          101,
          125.5,
          125.7,
          166.6,
          231.3,
          244.5,
          306.7,
          413.9,
          434.29999999999995,
          483.29999999999995,
          499.09999999999997,
          529.1999999999999,
          576.9999999999999,
          636.5999999999999,
          637.9999999999999,
          645.1999999999999,
          672.3,
          787.3,
          813.0999999999999,
          878.0999999999999
         ],
         "yaxis": "y22"
        },
        {
         "marker": {
          "color": "rgb(255,237,111)"
         },
         "name": "APT-VITON",
         "type": "bar",
         "x": [
          "2022-01-01T00:00:00",
          "2022-02-01T00:00:00",
          "2022-03-01T00:00:00",
          "2022-04-01T00:00:00",
          "2022-05-01T00:00:00",
          "2022-06-01T00:00:00",
          "2022-07-01T00:00:00",
          "2022-08-01T00:00:00",
          "2022-09-01T00:00:00",
          "2022-10-01T00:00:00",
          "2022-11-01T00:00:00",
          "2022-12-01T00:00:00",
          "2023-01-01T00:00:00",
          "2023-02-01T00:00:00",
          "2023-03-01T00:00:00",
          "2023-04-01T00:00:00",
          "2023-05-01T00:00:00",
          "2023-06-01T00:00:00",
          "2023-07-01T00:00:00",
          "2023-08-01T00:00:00",
          "2023-09-01T00:00:00",
          "2023-10-01T00:00:00",
          "2023-11-01T00:00:00",
          "2023-12-01T00:00:00"
         ],
         "xaxis": "x13",
         "y": [
          1.8,
          23.7,
          11.6,
          53.7,
          47.3,
          12.1,
          1.4,
          19.1,
          36.2,
          72.1,
          151.6,
          147.3,
          12.6,
          10.4,
          28.8,
          24.7,
          145.3,
          192.8,
          1,
          47.8,
          16.8,
          84.1,
          37.6,
          60.4
         ],
         "yaxis": "y23"
        },
        {
         "line": {
          "color": "#FC0080"
         },
         "name": "Cumulé 84003002",
         "type": "scatter",
         "x": [
          "2022-01-01T00:00:00",
          "2022-02-01T00:00:00",
          "2022-03-01T00:00:00",
          "2022-04-01T00:00:00",
          "2022-05-01T00:00:00",
          "2022-06-01T00:00:00",
          "2022-07-01T00:00:00",
          "2022-08-01T00:00:00",
          "2022-09-01T00:00:00",
          "2022-10-01T00:00:00",
          "2022-11-01T00:00:00",
          "2022-12-01T00:00:00",
          "2023-01-01T00:00:00",
          "2023-02-01T00:00:00",
          "2023-03-01T00:00:00",
          "2023-04-01T00:00:00",
          "2023-05-01T00:00:00",
          "2023-06-01T00:00:00",
          "2023-07-01T00:00:00",
          "2023-08-01T00:00:00",
          "2023-09-01T00:00:00",
          "2023-10-01T00:00:00",
          "2023-11-01T00:00:00",
          "2023-12-01T00:00:00"
         ],
         "xaxis": "x13",
         "y": [
          1.8,
          25.5,
          37.1,
          90.80000000000001,
          138.10000000000002,
          150.20000000000002,
          151.60000000000002,
          170.70000000000002,
          206.90000000000003,
          279,
          430.6,
          577.9000000000001,
          590.5000000000001,
          600.9000000000001,
          629.7,
          654.4000000000001,
          799.7,
          992.5,
          993.5,
          1041.3,
          1058.1,
          1142.1999999999998,
          1179.7999999999997,
          1240.1999999999998
         ],
         "yaxis": "y24"
        },
        {
         "marker": {
          "color": "rgb(141,211,199)"
         },
         "name": "LA BASTIDE DES JOURDANS",
         "type": "bar",
         "x": [
          "2022-01-01T00:00:00",
          "2022-02-01T00:00:00",
          "2022-03-01T00:00:00",
          "2022-04-01T00:00:00",
          "2022-05-01T00:00:00",
          "2022-06-01T00:00:00",
          "2022-07-01T00:00:00",
          "2022-08-01T00:00:00",
          "2022-09-01T00:00:00",
          "2022-10-01T00:00:00",
          "2022-11-01T00:00:00",
          "2022-12-01T00:00:00",
          "2023-01-01T00:00:00",
          "2023-02-01T00:00:00",
          "2023-03-01T00:00:00",
          "2023-04-01T00:00:00",
          "2023-05-01T00:00:00",
          "2023-06-01T00:00:00",
          "2023-07-01T00:00:00",
          "2023-08-01T00:00:00",
          "2023-09-01T00:00:00",
          "2023-10-01T00:00:00",
          "2023-11-01T00:00:00",
          "2023-12-01T00:00:00"
         ],
         "xaxis": "x13",
         "y": [
          3.4,
          18.4,
          6.4,
          41.5,
          24.5,
          10.5,
          1,
          36.8,
          43.2,
          45.2,
          110.8,
          106.6,
          11.4,
          13,
          16.4,
          47.1,
          89.9,
          157.3,
          2,
          37.4,
          41.7,
          67.4,
          22,
          42.6
         ],
         "yaxis": "y25"
        },
        {
         "line": {
          "color": "#FB00D1"
         },
         "name": "Cumulé 84009002",
         "type": "scatter",
         "x": [
          "2022-01-01T00:00:00",
          "2022-02-01T00:00:00",
          "2022-03-01T00:00:00",
          "2022-04-01T00:00:00",
          "2022-05-01T00:00:00",
          "2022-06-01T00:00:00",
          "2022-07-01T00:00:00",
          "2022-08-01T00:00:00",
          "2022-09-01T00:00:00",
          "2022-10-01T00:00:00",
          "2022-11-01T00:00:00",
          "2022-12-01T00:00:00",
          "2023-01-01T00:00:00",
          "2023-02-01T00:00:00",
          "2023-03-01T00:00:00",
          "2023-04-01T00:00:00",
          "2023-05-01T00:00:00",
          "2023-06-01T00:00:00",
          "2023-07-01T00:00:00",
          "2023-08-01T00:00:00",
          "2023-09-01T00:00:00",
          "2023-10-01T00:00:00",
          "2023-11-01T00:00:00",
          "2023-12-01T00:00:00"
         ],
         "xaxis": "x13",
         "y": [
          3.4,
          21.799999999999997,
          28.199999999999996,
          69.69999999999999,
          94.19999999999999,
          104.69999999999999,
          105.69999999999999,
          142.5,
          185.7,
          230.89999999999998,
          341.7,
          448.29999999999995,
          459.69999999999993,
          472.69999999999993,
          489.0999999999999,
          536.1999999999999,
          626.0999999999999,
          783.3999999999999,
          785.3999999999999,
          822.7999999999998,
          864.4999999999999,
          931.8999999999999,
          953.8999999999999,
          996.4999999999999
         ],
         "yaxis": "y26"
        }
       ],
       "layout": {
        "annotations": [
         {
          "font": {
           "size": 16
          },
          "showarrow": false,
          "text": "04088001 - FORCALQUIER",
          "x": 0.47,
          "xanchor": "center",
          "xref": "paper",
          "y": 1,
          "yanchor": "bottom",
          "yref": "paper"
         },
         {
          "font": {
           "size": 16
          },
          "showarrow": false,
          "text": "04039001 - CASTELLANE",
          "x": 0.47,
          "xanchor": "center",
          "xref": "paper",
          "y": 0.9201183431952662,
          "yanchor": "bottom",
          "yref": "paper"
         },
         {
          "font": {
           "size": 16
          },
          "showarrow": false,
          "text": "04230001 - VALENSOLE",
          "x": 0.47,
          "xanchor": "center",
          "xref": "paper",
          "y": 0.8402366863905325,
          "yanchor": "bottom",
          "yref": "paper"
         },
         {
          "font": {
           "size": 16
          },
          "showarrow": false,
          "text": "05046001 - EMBRUN",
          "x": 0.47,
          "xanchor": "center",
          "xref": "paper",
          "y": 0.7603550295857988,
          "yanchor": "bottom",
          "yref": "paper"
         },
         {
          "font": {
           "size": 16
          },
          "showarrow": false,
          "text": "13001009 - AIX EN PROVENCE",
          "x": 0.47,
          "xanchor": "center",
          "xref": "paper",
          "y": 0.680473372781065,
          "yanchor": "bottom",
          "yref": "paper"
         },
         {
          "font": {
           "size": 16
          },
          "showarrow": false,
          "text": "13111002 - VAUVENARGUES",
          "x": 0.47,
          "xanchor": "center",
          "xref": "paper",
          "y": 0.6005917159763314,
          "yanchor": "bottom",
          "yref": "paper"
         },
         {
          "font": {
           "size": 16
          },
          "showarrow": false,
          "text": "13103001 - SALON DE PROVENCE",
          "x": 0.47,
          "xanchor": "center",
          "xref": "paper",
          "y": 0.5207100591715976,
          "yanchor": "bottom",
          "yref": "paper"
         },
         {
          "font": {
           "size": 16
          },
          "showarrow": false,
          "text": "13055001 - MARSEILLE-OBS",
          "x": 0.47,
          "xanchor": "center",
          "xref": "paper",
          "y": 0.4408284023668639,
          "yanchor": "bottom",
          "yref": "paper"
         },
         {
          "font": {
           "size": 16
          },
          "showarrow": false,
          "text": "83031001 - LE LUC",
          "x": 0.47,
          "xanchor": "center",
          "xref": "paper",
          "y": 0.36094674556213013,
          "yanchor": "bottom",
          "yref": "paper"
         },
         {
          "font": {
           "size": 16
          },
          "showarrow": false,
          "text": "83061001 - FREJUS",
          "x": 0.47,
          "xanchor": "center",
          "xref": "paper",
          "y": 0.28106508875739644,
          "yanchor": "bottom",
          "yref": "paper"
         },
         {
          "font": {
           "size": 16
          },
          "showarrow": false,
          "text": "83137001 - TOULON",
          "x": 0.47,
          "xanchor": "center",
          "xref": "paper",
          "y": 0.2011834319526627,
          "yanchor": "bottom",
          "yref": "paper"
         },
         {
          "font": {
           "size": 16
          },
          "showarrow": false,
          "text": "84003002 - APT-VITON",
          "x": 0.47,
          "xanchor": "center",
          "xref": "paper",
          "y": 0.12130177514792898,
          "yanchor": "bottom",
          "yref": "paper"
         },
         {
          "font": {
           "size": 16
          },
          "showarrow": false,
          "text": "84009002 - LA BASTIDE DES JOURDANS",
          "x": 0.47,
          "xanchor": "center",
          "xref": "paper",
          "y": 0.04142011834319526,
          "yanchor": "bottom",
          "yref": "paper"
         }
        ],
        "height": 1729,
        "hoverlabel": {
         "bgcolor": "rgba(255,255,255,0.6)"
        },
        "hovermode": "x unified",
        "template": {
         "data": {
          "bar": [
           {
            "error_x": {
             "color": "#2a3f5f"
            },
            "error_y": {
             "color": "#2a3f5f"
            },
            "marker": {
             "line": {
              "color": "#E5ECF6",
              "width": 0.5
             },
             "pattern": {
              "fillmode": "overlay",
              "size": 10,
              "solidity": 0.2
             }
            },
            "type": "bar"
           }
          ],
          "barpolar": [
           {
            "marker": {
             "line": {
              "color": "#E5ECF6",
              "width": 0.5
             },
             "pattern": {
              "fillmode": "overlay",
              "size": 10,
              "solidity": 0.2
             }
            },
            "type": "barpolar"
           }
          ],
          "carpet": [
           {
            "aaxis": {
             "endlinecolor": "#2a3f5f",
             "gridcolor": "white",
             "linecolor": "white",
             "minorgridcolor": "white",
             "startlinecolor": "#2a3f5f"
            },
            "baxis": {
             "endlinecolor": "#2a3f5f",
             "gridcolor": "white",
             "linecolor": "white",
             "minorgridcolor": "white",
             "startlinecolor": "#2a3f5f"
            },
            "type": "carpet"
           }
          ],
          "choropleth": [
           {
            "colorbar": {
             "outlinewidth": 0,
             "ticks": ""
            },
            "type": "choropleth"
           }
          ],
          "contour": [
           {
            "colorbar": {
             "outlinewidth": 0,
             "ticks": ""
            },
            "colorscale": [
             [
              0,
              "#0d0887"
             ],
             [
              0.1111111111111111,
              "#46039f"
             ],
             [
              0.2222222222222222,
              "#7201a8"
             ],
             [
              0.3333333333333333,
              "#9c179e"
             ],
             [
              0.4444444444444444,
              "#bd3786"
             ],
             [
              0.5555555555555556,
              "#d8576b"
             ],
             [
              0.6666666666666666,
              "#ed7953"
             ],
             [
              0.7777777777777778,
              "#fb9f3a"
             ],
             [
              0.8888888888888888,
              "#fdca26"
             ],
             [
              1,
              "#f0f921"
             ]
            ],
            "type": "contour"
           }
          ],
          "contourcarpet": [
           {
            "colorbar": {
             "outlinewidth": 0,
             "ticks": ""
            },
            "type": "contourcarpet"
           }
          ],
          "heatmap": [
           {
            "colorbar": {
             "outlinewidth": 0,
             "ticks": ""
            },
            "colorscale": [
             [
              0,
              "#0d0887"
             ],
             [
              0.1111111111111111,
              "#46039f"
             ],
             [
              0.2222222222222222,
              "#7201a8"
             ],
             [
              0.3333333333333333,
              "#9c179e"
             ],
             [
              0.4444444444444444,
              "#bd3786"
             ],
             [
              0.5555555555555556,
              "#d8576b"
             ],
             [
              0.6666666666666666,
              "#ed7953"
             ],
             [
              0.7777777777777778,
              "#fb9f3a"
             ],
             [
              0.8888888888888888,
              "#fdca26"
             ],
             [
              1,
              "#f0f921"
             ]
            ],
            "type": "heatmap"
           }
          ],
          "heatmapgl": [
           {
            "colorbar": {
             "outlinewidth": 0,
             "ticks": ""
            },
            "colorscale": [
             [
              0,
              "#0d0887"
             ],
             [
              0.1111111111111111,
              "#46039f"
             ],
             [
              0.2222222222222222,
              "#7201a8"
             ],
             [
              0.3333333333333333,
              "#9c179e"
             ],
             [
              0.4444444444444444,
              "#bd3786"
             ],
             [
              0.5555555555555556,
              "#d8576b"
             ],
             [
              0.6666666666666666,
              "#ed7953"
             ],
             [
              0.7777777777777778,
              "#fb9f3a"
             ],
             [
              0.8888888888888888,
              "#fdca26"
             ],
             [
              1,
              "#f0f921"
             ]
            ],
            "type": "heatmapgl"
           }
          ],
          "histogram": [
           {
            "marker": {
             "pattern": {
              "fillmode": "overlay",
              "size": 10,
              "solidity": 0.2
             }
            },
            "type": "histogram"
           }
          ],
          "histogram2d": [
           {
            "colorbar": {
             "outlinewidth": 0,
             "ticks": ""
            },
            "colorscale": [
             [
              0,
              "#0d0887"
             ],
             [
              0.1111111111111111,
              "#46039f"
             ],
             [
              0.2222222222222222,
              "#7201a8"
             ],
             [
              0.3333333333333333,
              "#9c179e"
             ],
             [
              0.4444444444444444,
              "#bd3786"
             ],
             [
              0.5555555555555556,
              "#d8576b"
             ],
             [
              0.6666666666666666,
              "#ed7953"
             ],
             [
              0.7777777777777778,
              "#fb9f3a"
             ],
             [
              0.8888888888888888,
              "#fdca26"
             ],
             [
              1,
              "#f0f921"
             ]
            ],
            "type": "histogram2d"
           }
          ],
          "histogram2dcontour": [
           {
            "colorbar": {
             "outlinewidth": 0,
             "ticks": ""
            },
            "colorscale": [
             [
              0,
              "#0d0887"
             ],
             [
              0.1111111111111111,
              "#46039f"
             ],
             [
              0.2222222222222222,
              "#7201a8"
             ],
             [
              0.3333333333333333,
              "#9c179e"
             ],
             [
              0.4444444444444444,
              "#bd3786"
             ],
             [
              0.5555555555555556,
              "#d8576b"
             ],
             [
              0.6666666666666666,
              "#ed7953"
             ],
             [
              0.7777777777777778,
              "#fb9f3a"
             ],
             [
              0.8888888888888888,
              "#fdca26"
             ],
             [
              1,
              "#f0f921"
             ]
            ],
            "type": "histogram2dcontour"
           }
          ],
          "mesh3d": [
           {
            "colorbar": {
             "outlinewidth": 0,
             "ticks": ""
            },
            "type": "mesh3d"
           }
          ],
          "parcoords": [
           {
            "line": {
             "colorbar": {
              "outlinewidth": 0,
              "ticks": ""
             }
            },
            "type": "parcoords"
           }
          ],
          "pie": [
           {
            "automargin": true,
            "type": "pie"
           }
          ],
          "scatter": [
           {
            "marker": {
             "colorbar": {
              "outlinewidth": 0,
              "ticks": ""
             }
            },
            "type": "scatter"
           }
          ],
          "scatter3d": [
           {
            "line": {
             "colorbar": {
              "outlinewidth": 0,
              "ticks": ""
             }
            },
            "marker": {
             "colorbar": {
              "outlinewidth": 0,
              "ticks": ""
             }
            },
            "type": "scatter3d"
           }
          ],
          "scattercarpet": [
           {
            "marker": {
             "colorbar": {
              "outlinewidth": 0,
              "ticks": ""
             }
            },
            "type": "scattercarpet"
           }
          ],
          "scattergeo": [
           {
            "marker": {
             "colorbar": {
              "outlinewidth": 0,
              "ticks": ""
             }
            },
            "type": "scattergeo"
           }
          ],
          "scattergl": [
           {
            "marker": {
             "colorbar": {
              "outlinewidth": 0,
              "ticks": ""
             }
            },
            "type": "scattergl"
           }
          ],
          "scattermapbox": [
           {
            "marker": {
             "colorbar": {
              "outlinewidth": 0,
              "ticks": ""
             }
            },
            "type": "scattermapbox"
           }
          ],
          "scatterpolar": [
           {
            "marker": {
             "colorbar": {
              "outlinewidth": 0,
              "ticks": ""
             }
            },
            "type": "scatterpolar"
           }
          ],
          "scatterpolargl": [
           {
            "marker": {
             "colorbar": {
              "outlinewidth": 0,
              "ticks": ""
             }
            },
            "type": "scatterpolargl"
           }
          ],
          "scatterternary": [
           {
            "marker": {
             "colorbar": {
              "outlinewidth": 0,
              "ticks": ""
             }
            },
            "type": "scatterternary"
           }
          ],
          "surface": [
           {
            "colorbar": {
             "outlinewidth": 0,
             "ticks": ""
            },
            "colorscale": [
             [
              0,
              "#0d0887"
             ],
             [
              0.1111111111111111,
              "#46039f"
             ],
             [
              0.2222222222222222,
              "#7201a8"
             ],
             [
              0.3333333333333333,
              "#9c179e"
             ],
             [
              0.4444444444444444,
              "#bd3786"
             ],
             [
              0.5555555555555556,
              "#d8576b"
             ],
             [
              0.6666666666666666,
              "#ed7953"
             ],
             [
              0.7777777777777778,
              "#fb9f3a"
             ],
             [
              0.8888888888888888,
              "#fdca26"
             ],
             [
              1,
              "#f0f921"
             ]
            ],
            "type": "surface"
           }
          ],
          "table": [
           {
            "cells": {
             "fill": {
              "color": "#EBF0F8"
             },
             "line": {
              "color": "white"
             }
            },
            "header": {
             "fill": {
              "color": "#C8D4E3"
             },
             "line": {
              "color": "white"
             }
            },
            "type": "table"
           }
          ]
         },
         "layout": {
          "annotationdefaults": {
           "arrowcolor": "#2a3f5f",
           "arrowhead": 0,
           "arrowwidth": 1
          },
          "autotypenumbers": "strict",
          "coloraxis": {
           "colorbar": {
            "outlinewidth": 0,
            "ticks": ""
           }
          },
          "colorscale": {
           "diverging": [
            [
             0,
             "#8e0152"
            ],
            [
             0.1,
             "#c51b7d"
            ],
            [
             0.2,
             "#de77ae"
            ],
            [
             0.3,
             "#f1b6da"
            ],
            [
             0.4,
             "#fde0ef"
            ],
            [
             0.5,
             "#f7f7f7"
            ],
            [
             0.6,
             "#e6f5d0"
            ],
            [
             0.7,
             "#b8e186"
            ],
            [
             0.8,
             "#7fbc41"
            ],
            [
             0.9,
             "#4d9221"
            ],
            [
             1,
             "#276419"
            ]
           ],
           "sequential": [
            [
             0,
             "#0d0887"
            ],
            [
             0.1111111111111111,
             "#46039f"
            ],
            [
             0.2222222222222222,
             "#7201a8"
            ],
            [
             0.3333333333333333,
             "#9c179e"
            ],
            [
             0.4444444444444444,
             "#bd3786"
            ],
            [
             0.5555555555555556,
             "#d8576b"
            ],
            [
             0.6666666666666666,
             "#ed7953"
            ],
            [
             0.7777777777777778,
             "#fb9f3a"
            ],
            [
             0.8888888888888888,
             "#fdca26"
            ],
            [
             1,
             "#f0f921"
            ]
           ],
           "sequentialminus": [
            [
             0,
             "#0d0887"
            ],
            [
             0.1111111111111111,
             "#46039f"
            ],
            [
             0.2222222222222222,
             "#7201a8"
            ],
            [
             0.3333333333333333,
             "#9c179e"
            ],
            [
             0.4444444444444444,
             "#bd3786"
            ],
            [
             0.5555555555555556,
             "#d8576b"
            ],
            [
             0.6666666666666666,
             "#ed7953"
            ],
            [
             0.7777777777777778,
             "#fb9f3a"
            ],
            [
             0.8888888888888888,
             "#fdca26"
            ],
            [
             1,
             "#f0f921"
            ]
           ]
          },
          "colorway": [
           "#636efa",
           "#EF553B",
           "#00cc96",
           "#ab63fa",
           "#FFA15A",
           "#19d3f3",
           "#FF6692",
           "#B6E880",
           "#FF97FF",
           "#FECB52"
          ],
          "font": {
           "color": "#2a3f5f"
          },
          "geo": {
           "bgcolor": "white",
           "lakecolor": "white",
           "landcolor": "#E5ECF6",
           "showlakes": true,
           "showland": true,
           "subunitcolor": "white"
          },
          "hoverlabel": {
           "align": "left"
          },
          "hovermode": "closest",
          "mapbox": {
           "style": "light"
          },
          "paper_bgcolor": "white",
          "plot_bgcolor": "#E5ECF6",
          "polar": {
           "angularaxis": {
            "gridcolor": "white",
            "linecolor": "white",
            "ticks": ""
           },
           "bgcolor": "#E5ECF6",
           "radialaxis": {
            "gridcolor": "white",
            "linecolor": "white",
            "ticks": ""
           }
          },
          "scene": {
           "xaxis": {
            "backgroundcolor": "#E5ECF6",
            "gridcolor": "white",
            "gridwidth": 2,
            "linecolor": "white",
            "showbackground": true,
            "ticks": "",
            "zerolinecolor": "white"
           },
           "yaxis": {
            "backgroundcolor": "#E5ECF6",
            "gridcolor": "white",
            "gridwidth": 2,
            "linecolor": "white",
            "showbackground": true,
            "ticks": "",
            "zerolinecolor": "white"
           },
           "zaxis": {
            "backgroundcolor": "#E5ECF6",
            "gridcolor": "white",
            "gridwidth": 2,
            "linecolor": "white",
            "showbackground": true,
            "ticks": "",
            "zerolinecolor": "white"
           }
          },
          "shapedefaults": {
           "line": {
            "color": "#2a3f5f"
           }
          },
          "ternary": {
           "aaxis": {
            "gridcolor": "white",
            "linecolor": "white",
            "ticks": ""
           },
           "baxis": {
            "gridcolor": "white",
            "linecolor": "white",
            "ticks": ""
           },
           "bgcolor": "#E5ECF6",
           "caxis": {
            "gridcolor": "white",
            "linecolor": "white",
            "ticks": ""
           }
          },
          "title": {
           "x": 0.05
          },
          "xaxis": {
           "automargin": true,
           "gridcolor": "white",
           "linecolor": "white",
           "ticks": "",
           "title": {
            "standoff": 15
           },
           "zerolinecolor": "white",
           "zerolinewidth": 2
          },
          "yaxis": {
           "automargin": true,
           "gridcolor": "white",
           "linecolor": "white",
           "ticks": "",
           "title": {
            "standoff": 15
           },
           "zerolinecolor": "white",
           "zerolinewidth": 2
          }
         }
        },
        "title": {
         "text": "meteo.data - Précipitations mensuelles (mm) - 2023-12-19",
         "x": 0.5
        },
        "width": 1000,
        "xaxis": {
         "anchor": "y",
         "domain": [
          0,
          0.94
         ],
         "matches": "x13",
         "showticklabels": false
        },
        "xaxis10": {
         "anchor": "y19",
         "domain": [
          0,
          0.94
         ],
         "matches": "x13",
         "showticklabels": false
        },
        "xaxis11": {
         "anchor": "y21",
         "domain": [
          0,
          0.94
         ],
         "matches": "x13",
         "showticklabels": false
        },
        "xaxis12": {
         "anchor": "y23",
         "domain": [
          0,
          0.94
         ],
         "matches": "x13",
         "showticklabels": false
        },
        "xaxis13": {
         "anchor": "y25",
         "domain": [
          0,
          0.94
         ]
        },
        "xaxis2": {
         "anchor": "y3",
         "domain": [
          0,
          0.94
         ],
         "matches": "x13",
         "showticklabels": false
        },
        "xaxis3": {
         "anchor": "y5",
         "domain": [
          0,
          0.94
         ],
         "matches": "x13",
         "showticklabels": false
        },
        "xaxis4": {
         "anchor": "y7",
         "domain": [
          0,
          0.94
         ],
         "matches": "x13",
         "showticklabels": false
        },
        "xaxis5": {
         "anchor": "y9",
         "domain": [
          0,
          0.94
         ],
         "matches": "x13",
         "showticklabels": false
        },
        "xaxis6": {
         "anchor": "y11",
         "domain": [
          0,
          0.94
         ],
         "matches": "x13",
         "showticklabels": false
        },
        "xaxis7": {
         "anchor": "y13",
         "domain": [
          0,
          0.94
         ],
         "matches": "x13",
         "showticklabels": false
        },
        "xaxis8": {
         "anchor": "y15",
         "domain": [
          0,
          0.94
         ],
         "matches": "x13",
         "showticklabels": false
        },
        "xaxis9": {
         "anchor": "y17",
         "domain": [
          0,
          0.94
         ],
         "matches": "x13",
         "showticklabels": false
        },
        "yaxis": {
         "anchor": "x",
         "domain": [
          0.9585798816568047,
          1
         ],
         "range": [
          0,
          214.2
         ]
        },
        "yaxis10": {
         "anchor": "x5",
         "overlaying": "y9",
         "range": [
          0,
          1562.8
         ],
         "side": "right",
         "title": {
          "text": "Cumulé"
         }
        },
        "yaxis11": {
         "anchor": "x6",
         "domain": [
          0.5591715976331362,
          0.6005917159763314
         ],
         "range": [
          0,
          214.2
         ]
        },
        "yaxis12": {
         "anchor": "x6",
         "overlaying": "y11",
         "range": [
          0,
          1562.8
         ],
         "side": "right",
         "title": {
          "text": "Cumulé"
         }
        },
        "yaxis13": {
         "anchor": "x7",
         "domain": [
          0.47928994082840237,
          0.5207100591715976
         ],
         "range": [
          0,
          214.2
         ]
        },
        "yaxis14": {
         "anchor": "x7",
         "overlaying": "y13",
         "range": [
          0,
          1562.8
         ],
         "side": "right",
         "title": {
          "text": "Cumulé"
         }
        },
        "yaxis15": {
         "anchor": "x8",
         "domain": [
          0.3994082840236686,
          0.4408284023668639
         ],
         "range": [
          0,
          214.2
         ]
        },
        "yaxis16": {
         "anchor": "x8",
         "overlaying": "y15",
         "range": [
          0,
          1562.8
         ],
         "side": "right",
         "title": {
          "text": "Cumulé"
         }
        },
        "yaxis17": {
         "anchor": "x9",
         "domain": [
          0.3195266272189349,
          0.36094674556213013
         ],
         "range": [
          0,
          214.2
         ]
        },
        "yaxis18": {
         "anchor": "x9",
         "overlaying": "y17",
         "range": [
          0,
          1562.8
         ],
         "side": "right",
         "title": {
          "text": "Cumulé"
         }
        },
        "yaxis19": {
         "anchor": "x10",
         "domain": [
          0.23964497041420119,
          0.28106508875739644
         ],
         "range": [
          0,
          214.2
         ]
        },
        "yaxis2": {
         "anchor": "x",
         "overlaying": "y",
         "range": [
          0,
          1562.8
         ],
         "side": "right",
         "title": {
          "text": "Cumulé"
         }
        },
        "yaxis20": {
         "anchor": "x10",
         "overlaying": "y19",
         "range": [
          0,
          1562.8
         ],
         "side": "right",
         "title": {
          "text": "Cumulé"
         }
        },
        "yaxis21": {
         "anchor": "x11",
         "domain": [
          0.15976331360946744,
          0.2011834319526627
         ],
         "range": [
          0,
          214.2
         ]
        },
        "yaxis22": {
         "anchor": "x11",
         "overlaying": "y21",
         "range": [
          0,
          1562.8
         ],
         "side": "right",
         "title": {
          "text": "Cumulé"
         }
        },
        "yaxis23": {
         "anchor": "x12",
         "domain": [
          0.07988165680473372,
          0.12130177514792898
         ],
         "range": [
          0,
          214.2
         ]
        },
        "yaxis24": {
         "anchor": "x12",
         "overlaying": "y23",
         "range": [
          0,
          1562.8
         ],
         "side": "right",
         "title": {
          "text": "Cumulé"
         }
        },
        "yaxis25": {
         "anchor": "x13",
         "domain": [
          0,
          0.04142011834319526
         ],
         "range": [
          0,
          214.2
         ]
        },
        "yaxis26": {
         "anchor": "x13",
         "overlaying": "y25",
         "range": [
          0,
          1562.8
         ],
         "side": "right",
         "title": {
          "text": "Cumulé"
         }
        },
        "yaxis3": {
         "anchor": "x2",
         "domain": [
          0.8786982248520709,
          0.9201183431952662
         ],
         "range": [
          0,
          214.2
         ]
        },
        "yaxis4": {
         "anchor": "x2",
         "overlaying": "y3",
         "range": [
          0,
          1562.8
         ],
         "side": "right",
         "title": {
          "text": "Cumulé"
         }
        },
        "yaxis5": {
         "anchor": "x3",
         "domain": [
          0.7988165680473372,
          0.8402366863905325
         ],
         "range": [
          0,
          214.2
         ]
        },
        "yaxis6": {
         "anchor": "x3",
         "overlaying": "y5",
         "range": [
          0,
          1562.8
         ],
         "side": "right",
         "title": {
          "text": "Cumulé"
         }
        },
        "yaxis7": {
         "anchor": "x4",
         "domain": [
          0.7189349112426036,
          0.7603550295857988
         ],
         "range": [
          0,
          214.2
         ]
        },
        "yaxis8": {
         "anchor": "x4",
         "overlaying": "y7",
         "range": [
          0,
          1562.8
         ],
         "side": "right",
         "title": {
          "text": "Cumulé"
         }
        },
        "yaxis9": {
         "anchor": "x5",
         "domain": [
          0.6390532544378698,
          0.680473372781065
         ],
         "range": [
          0,
          214.2
         ]
        }
       }
      }
     },
     "metadata": {},
     "output_type": "display_data"
    }
   ],
   "source": [
    "# trace un graphique plotly de df avec la colonne 'AAAAMM' en abscisse et la colonne 'RR' en ordonnée\n",
    "# chaque poste de la colonnee 'NUM_POSTE' est représenté dans un subplot séparé\n",
    "import plotly.graph_objects as go\n",
    "from plotly.subplots import make_subplots\n",
    "import plotly\n",
    "\n",
    "#-------------- initialisation des paramètres du graphique\n",
    "df_postes= df[df['NUM_POSTE'].isin(postes)]\n",
    "\n",
    "color_sequence_bar = plotly.colors.qualitative.Set3\n",
    "# définit une séquence de couleurs inversée pour les courbes cumulées\n",
    "# color_sequence_scatter = color_sequence_bar[::-1]\n",
    "color_sequence_scatter = plotly.colors.qualitative.Dark24\n",
    "\n",
    "specs= [[{'secondary_y': True}]]*len(postes)\n",
    "\n",
    "#-------------- Graphique\n",
    "fig = make_subplots(rows= len(postes), cols= 1, shared_xaxes= True,\n",
    "                    subplot_titles= [f\"{poste} - {df_postes[df_postes['NUM_POSTE'] == poste]['NOM_USUEL'].iloc[0]}\" for poste in postes], specs= specs)\n",
    "\n",
    "for i, poste in enumerate(postes):\n",
    "    df_poste = df_postes[df_postes['NUM_POSTE'] == poste]\n",
    "    fig.add_trace(go.Bar(x= df_poste['AAAAMM'], y= df_poste['RR'], \n",
    "                          # name= poste\n",
    "                         name= df_postes[df_postes['NUM_POSTE'] == poste]['NOM_USUEL'].iloc[0],\n",
    "                         marker= dict(color=color_sequence_bar[i % len(color_sequence_bar)]),  # Utilisez la couleur correspondante de la séquence\n",
    "                         ),\n",
    "                row= i+1, col= 1)\n",
    "    fig.add_trace(go.Scatter(x= df_poste['AAAAMM'], y= df_poste['RR'].cumsum(), \n",
    "                             name= f\"Cumulé {poste}\", yaxis= \"y2\",\n",
    "                             line= dict(color=color_sequence_scatter[i % len(color_sequence_scatter)]),  # Utilisez la couleur correspondante de la séquence\n",
    "                             ), \n",
    "                 row=i+1, col=1, secondary_y= True)\n",
    "\n",
    "fig.update_layout(title_text= 'meteo.data - ' + \"Précipitations mensuelles (mm) - \" + now.strftime(\"%Y-%m-%d\") , title_x= 0.5, height= 133.*len(postes), width= 1000,\n",
    "                    hovermode= 'x unified', hoverlabel= dict(bgcolor='rgba(255,255,255,0.6)'),\n",
    "                    )\n",
    "# Trace une ligne verticale au travers tous les subplots matérialisant l'abscisse survolée par la souris \n",
    "xlast= 'x' + str(len(postes))\n",
    "fig.update_traces(xaxis= xlast)\n",
    "max_value= df_postes['RR'].max()\n",
    "max_value_cum= df_postes.groupby(['NUM_POSTE']).sum()['RR'].max()\n",
    "fig.update_yaxes(range= [0, max_value], secondary_y= False)  # Replace max_value with the desired maximum coordinate\n",
    "fig.update_yaxes(title_text= \"Cumulé\", \n",
    "                 range= [0, max_value_cum], secondary_y= True)\n",
    "# sauvegarde le graphique dans un fichier HTML\n",
    "fig.write_html(os.path.join(folder_csv, \"meteo.data MENS\" + template_end[:-4] + \".html\"))\n",
    "fig.show()"
   ]
  },
  {
   "cell_type": "code",
   "execution_count": 161,
   "metadata": {},
   "outputs": [
    {
     "data": {
      "text/plain": [
       "['05046001',\n",
       " '06088001',\n",
       " '06029001',\n",
       " '13001009',\n",
       " '13111002',\n",
       " '13103001',\n",
       " '13055001',\n",
       " '83031001',\n",
       " '83061001',\n",
       " '83137001',\n",
       " '84003002',\n",
       " '84009002']"
      ]
     },
     "execution_count": 161,
     "metadata": {},
     "output_type": "execute_result"
    }
   ],
   "source": [
    "postes"
   ]
  },
  {
   "cell_type": "code",
   "execution_count": 133,
   "metadata": {},
   "outputs": [
    {
     "ename": "IndexError",
     "evalue": "single positional indexer is out-of-bounds",
     "output_type": "error",
     "traceback": [
      "\u001b[1;31m---------------------------------------------------------------------------\u001b[0m",
      "\u001b[1;31mIndexError\u001b[0m                                Traceback (most recent call last)",
      "Input \u001b[1;32mIn [133]\u001b[0m, in \u001b[0;36m<module>\u001b[1;34m\u001b[0m\n\u001b[1;32m----> 1\u001b[0m [df_postes[df_postes[\u001b[38;5;124m'\u001b[39m\u001b[38;5;124mNUM_POSTE\u001b[39m\u001b[38;5;124m'\u001b[39m] \u001b[38;5;241m==\u001b[39m poste][\u001b[38;5;124m'\u001b[39m\u001b[38;5;124mNOM_USUEL\u001b[39m\u001b[38;5;124m'\u001b[39m]\u001b[38;5;241m.\u001b[39miloc[\u001b[38;5;241m0\u001b[39m] \u001b[38;5;28;01mfor\u001b[39;00m poste \u001b[38;5;129;01min\u001b[39;00m postes]\n",
      "Input \u001b[1;32mIn [133]\u001b[0m, in \u001b[0;36m<listcomp>\u001b[1;34m(.0)\u001b[0m\n\u001b[1;32m----> 1\u001b[0m [\u001b[43mdf_postes\u001b[49m\u001b[43m[\u001b[49m\u001b[43mdf_postes\u001b[49m\u001b[43m[\u001b[49m\u001b[38;5;124;43m'\u001b[39;49m\u001b[38;5;124;43mNUM_POSTE\u001b[39;49m\u001b[38;5;124;43m'\u001b[39;49m\u001b[43m]\u001b[49m\u001b[43m \u001b[49m\u001b[38;5;241;43m==\u001b[39;49m\u001b[43m \u001b[49m\u001b[43mposte\u001b[49m\u001b[43m]\u001b[49m\u001b[43m[\u001b[49m\u001b[38;5;124;43m'\u001b[39;49m\u001b[38;5;124;43mNOM_USUEL\u001b[39;49m\u001b[38;5;124;43m'\u001b[39;49m\u001b[43m]\u001b[49m\u001b[38;5;241;43m.\u001b[39;49m\u001b[43miloc\u001b[49m\u001b[43m[\u001b[49m\u001b[38;5;241;43m0\u001b[39;49m\u001b[43m]\u001b[49m \u001b[38;5;28;01mfor\u001b[39;00m poste \u001b[38;5;129;01min\u001b[39;00m postes]\n",
      "File \u001b[1;32mc:\\Users\\DUFFAR\\AppData\\Local\\Continuum\\anaconda3\\envs\\python38\\lib\\site-packages\\pandas\\core\\indexing.py:967\u001b[0m, in \u001b[0;36m_LocationIndexer.__getitem__\u001b[1;34m(self, key)\u001b[0m\n\u001b[0;32m    964\u001b[0m axis \u001b[38;5;241m=\u001b[39m \u001b[38;5;28mself\u001b[39m\u001b[38;5;241m.\u001b[39maxis \u001b[38;5;129;01mor\u001b[39;00m \u001b[38;5;241m0\u001b[39m\n\u001b[0;32m    966\u001b[0m maybe_callable \u001b[38;5;241m=\u001b[39m com\u001b[38;5;241m.\u001b[39mapply_if_callable(key, \u001b[38;5;28mself\u001b[39m\u001b[38;5;241m.\u001b[39mobj)\n\u001b[1;32m--> 967\u001b[0m \u001b[38;5;28;01mreturn\u001b[39;00m \u001b[38;5;28;43mself\u001b[39;49m\u001b[38;5;241;43m.\u001b[39;49m\u001b[43m_getitem_axis\u001b[49m\u001b[43m(\u001b[49m\u001b[43mmaybe_callable\u001b[49m\u001b[43m,\u001b[49m\u001b[43m \u001b[49m\u001b[43maxis\u001b[49m\u001b[38;5;241;43m=\u001b[39;49m\u001b[43maxis\u001b[49m\u001b[43m)\u001b[49m\n",
      "File \u001b[1;32mc:\\Users\\DUFFAR\\AppData\\Local\\Continuum\\anaconda3\\envs\\python38\\lib\\site-packages\\pandas\\core\\indexing.py:1520\u001b[0m, in \u001b[0;36m_iLocIndexer._getitem_axis\u001b[1;34m(self, key, axis)\u001b[0m\n\u001b[0;32m   1517\u001b[0m     \u001b[38;5;28;01mraise\u001b[39;00m \u001b[38;5;167;01mTypeError\u001b[39;00m(\u001b[38;5;124m\"\u001b[39m\u001b[38;5;124mCannot index by location index with a non-integer key\u001b[39m\u001b[38;5;124m\"\u001b[39m)\n\u001b[0;32m   1519\u001b[0m \u001b[38;5;66;03m# validate the location\u001b[39;00m\n\u001b[1;32m-> 1520\u001b[0m \u001b[38;5;28;43mself\u001b[39;49m\u001b[38;5;241;43m.\u001b[39;49m\u001b[43m_validate_integer\u001b[49m\u001b[43m(\u001b[49m\u001b[43mkey\u001b[49m\u001b[43m,\u001b[49m\u001b[43m \u001b[49m\u001b[43maxis\u001b[49m\u001b[43m)\u001b[49m\n\u001b[0;32m   1522\u001b[0m \u001b[38;5;28;01mreturn\u001b[39;00m \u001b[38;5;28mself\u001b[39m\u001b[38;5;241m.\u001b[39mobj\u001b[38;5;241m.\u001b[39m_ixs(key, axis\u001b[38;5;241m=\u001b[39maxis)\n",
      "File \u001b[1;32mc:\\Users\\DUFFAR\\AppData\\Local\\Continuum\\anaconda3\\envs\\python38\\lib\\site-packages\\pandas\\core\\indexing.py:1452\u001b[0m, in \u001b[0;36m_iLocIndexer._validate_integer\u001b[1;34m(self, key, axis)\u001b[0m\n\u001b[0;32m   1450\u001b[0m len_axis \u001b[38;5;241m=\u001b[39m \u001b[38;5;28mlen\u001b[39m(\u001b[38;5;28mself\u001b[39m\u001b[38;5;241m.\u001b[39mobj\u001b[38;5;241m.\u001b[39m_get_axis(axis))\n\u001b[0;32m   1451\u001b[0m \u001b[38;5;28;01mif\u001b[39;00m key \u001b[38;5;241m>\u001b[39m\u001b[38;5;241m=\u001b[39m len_axis \u001b[38;5;129;01mor\u001b[39;00m key \u001b[38;5;241m<\u001b[39m \u001b[38;5;241m-\u001b[39mlen_axis:\n\u001b[1;32m-> 1452\u001b[0m     \u001b[38;5;28;01mraise\u001b[39;00m \u001b[38;5;167;01mIndexError\u001b[39;00m(\u001b[38;5;124m\"\u001b[39m\u001b[38;5;124msingle positional indexer is out-of-bounds\u001b[39m\u001b[38;5;124m\"\u001b[39m)\n",
      "\u001b[1;31mIndexError\u001b[0m: single positional indexer is out-of-bounds"
     ]
    }
   ],
   "source": [
    "[ df_postes[df_postes['NUM_POSTE'] == poste]['NOM_USUEL'].iloc[0] for poste in postes ]"
   ]
  }
 ],
 "metadata": {
  "kernelspec": {
   "display_name": "python38",
   "language": "python",
   "name": "python3"
  },
  "language_info": {
   "codemirror_mode": {
    "name": "ipython",
    "version": 3
   },
   "file_extension": ".py",
   "mimetype": "text/x-python",
   "name": "python",
   "nbconvert_exporter": "python",
   "pygments_lexer": "ipython3",
   "version": "3.8.12"
  }
 },
 "nbformat": 4,
 "nbformat_minor": 2
}
