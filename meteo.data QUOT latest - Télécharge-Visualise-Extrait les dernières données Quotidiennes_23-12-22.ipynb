{
 "cells": [
  {
   "cell_type": "markdown",
   "metadata": {},
   "source": [
    "### Portail meteo.data - Téléchargement-affichage-Extraction des \"dernières\" données (latest) QUOTIDIENNES de Météo-France (RR-T-Vent)\n",
    "Ce script ntraite uniquement le fichier \"RR-T-vent\" (Précipitations, Température, Vent) à l'exclusion du fichier \"autres-parametres\" contenant notamment l'ETP.<br>\n",
    "Une connexion internet est nécessaire pour accéder aux archives des données à l'url ci-dessous.\n",
    "\n",
    "- Les \"dernières\" données (latest) correspondent aux fichiers mis à jour quotidiennement, et qui vont du mois de janvier de l'année précédente au mois en cours même partiel.\n",
    "- Les fichiers quotidiens sont téléchargés et décompressés automatiquement, pour plusieurs départements si besoin\n",
    "- Les graphiques chronologiques QUOTIDIEN & MENSUEL sont tracés pour le paramètre Précipitations RR des postes choisis par l'utilisateur\n",
    "- Un fichier excel rassemble:\n",
    "    - Les données intégrales (tous paramètres de la période \"Latest\" pour tous les postes des départements concernés).\n",
    "    - la comparaison des précipitations pour les postes et la période choisis, avec les graphiques quotidien & mensuel\n",
    "\n",
    "data : https://meteo.data.gouv.fr/ (6 min, horaire, quotidien, mensuel)<br>\n",
    "Fiche PDF des postes : https://www.data.gouv.fr/fr/datasets/r/bee4b0c7-260a-40fe-b463-ed5631d6dc39 (paramètres et périodes de mesure)<br>\n",
    "Fichier CSV descriptif champs: https://www.data.gouv.fr/fr/datasets/r/6a8df7e9-45ff-445d-9260-6c65475dda86\n",
    "\n",
    "Utilisez mon autre script pour visualiser sous forme de carte la liste des postes météorologiques fournie par Météo-France sous forme de fichier JSON https://meteo.data.gouv.fr/https://www.data.gouv.fr/fr/datasets/r/1fe544d8-4615-4642-a307-5956a7d90922\n",
    "\n",
    "Auteur: https://github.com/loicduffar"
   ]
  },
  {
   "cell_type": "markdown",
   "metadata": {},
   "source": [
    "##### 1) Télécharge les archives ZIP & décompresse les fichiers CSV LATEST (DERNIERE PERIODE DISPONIBLE)\n",
    "\n",
    "- Définir les chemins d'enregistrement pour les archives GZ et pour les fichier CSV décompressés\n",
    "- Définir les postes à interroger par leur code (voir fichier \"fiches.json\" sur https://www.data.gouv.fr/fr/datasets/r/1fe544d8-4615-4642-a307-5956a7d90922)\n",
    "- Les archives LATEST sont automatiquement téléchargées et décompressées\n"
   ]
  },
  {
   "cell_type": "code",
   "execution_count": 120,
   "metadata": {},
   "outputs": [
    {
     "name": "stdout",
     "output_type": "stream",
     "text": [
      "2023-12-22 17:00\n",
      "Départements concernés:  ['04', '13', '83', '84']\n",
      "Téléchargement:  X:\\1-COMMUN\\DIS\\Documentation\\Hydrologie\\Documentation externe\\Climat France\\Météo-France\\meteo.data\\archives\\2023 Déc\\base\\Q\\Q_04_latest-2022-2023_RR-T-Vent.csv.gz\n",
      "Décompression X:\\1-COMMUN\\DIS\\Documentation\\Hydrologie\\Documentation externe\\Climat France\\Météo-France\\meteo.data\\base\\Q\\Q_04_latest-2022-2023_RR-T-Vent.csv\n",
      "Lecture:  X:\\1-COMMUN\\DIS\\Documentation\\Hydrologie\\Documentation externe\\Climat France\\Météo-France\\meteo.data\\base\\Q\\Q_04_latest-2022-2023_RR-T-Vent.csv\n",
      "Téléchargement:  X:\\1-COMMUN\\DIS\\Documentation\\Hydrologie\\Documentation externe\\Climat France\\Météo-France\\meteo.data\\archives\\2023 Déc\\base\\Q\\Q_13_latest-2022-2023_RR-T-Vent.csv.gz\n",
      "Décompression X:\\1-COMMUN\\DIS\\Documentation\\Hydrologie\\Documentation externe\\Climat France\\Météo-France\\meteo.data\\base\\Q\\Q_13_latest-2022-2023_RR-T-Vent.csv\n",
      "Lecture:  X:\\1-COMMUN\\DIS\\Documentation\\Hydrologie\\Documentation externe\\Climat France\\Météo-France\\meteo.data\\base\\Q\\Q_13_latest-2022-2023_RR-T-Vent.csv\n",
      "Téléchargement:  X:\\1-COMMUN\\DIS\\Documentation\\Hydrologie\\Documentation externe\\Climat France\\Météo-France\\meteo.data\\archives\\2023 Déc\\base\\Q\\Q_83_latest-2022-2023_RR-T-Vent.csv.gz\n",
      "Décompression X:\\1-COMMUN\\DIS\\Documentation\\Hydrologie\\Documentation externe\\Climat France\\Météo-France\\meteo.data\\base\\Q\\Q_83_latest-2022-2023_RR-T-Vent.csv\n",
      "Lecture:  X:\\1-COMMUN\\DIS\\Documentation\\Hydrologie\\Documentation externe\\Climat France\\Météo-France\\meteo.data\\base\\Q\\Q_83_latest-2022-2023_RR-T-Vent.csv\n",
      "Téléchargement:  X:\\1-COMMUN\\DIS\\Documentation\\Hydrologie\\Documentation externe\\Climat France\\Météo-France\\meteo.data\\archives\\2023 Déc\\base\\Q\\Q_84_latest-2022-2023_RR-T-Vent.csv.gz\n",
      "Décompression X:\\1-COMMUN\\DIS\\Documentation\\Hydrologie\\Documentation externe\\Climat France\\Météo-France\\meteo.data\\base\\Q\\Q_84_latest-2022-2023_RR-T-Vent.csv\n",
      "Lecture:  X:\\1-COMMUN\\DIS\\Documentation\\Hydrologie\\Documentation externe\\Climat France\\Météo-France\\meteo.data\\base\\Q\\Q_84_latest-2022-2023_RR-T-Vent.csv\n"
     ]
    },
    {
     "data": {
      "text/html": [
       "<div>\n",
       "<style scoped>\n",
       "    .dataframe tbody tr th:only-of-type {\n",
       "        vertical-align: middle;\n",
       "    }\n",
       "\n",
       "    .dataframe tbody tr th {\n",
       "        vertical-align: top;\n",
       "    }\n",
       "\n",
       "    .dataframe thead th {\n",
       "        text-align: right;\n",
       "    }\n",
       "</style>\n",
       "<table border=\"1\" class=\"dataframe\">\n",
       "  <thead>\n",
       "    <tr style=\"text-align: right;\">\n",
       "      <th></th>\n",
       "      <th>NUM_POSTE</th>\n",
       "      <th>NOM_USUEL</th>\n",
       "      <th>LAT</th>\n",
       "      <th>LON</th>\n",
       "      <th>ALTI</th>\n",
       "      <th>DATE</th>\n",
       "      <th>RR</th>\n",
       "      <th>QRR</th>\n",
       "      <th>TN</th>\n",
       "      <th>QTN</th>\n",
       "      <th>...</th>\n",
       "      <th>DXI2</th>\n",
       "      <th>QDXI2</th>\n",
       "      <th>HXI2</th>\n",
       "      <th>QHXI2</th>\n",
       "      <th>FXI3S</th>\n",
       "      <th>QFXI3S</th>\n",
       "      <th>DXI3S</th>\n",
       "      <th>QDXI3S</th>\n",
       "      <th>HXI3S</th>\n",
       "      <th>QHXI3S</th>\n",
       "    </tr>\n",
       "  </thead>\n",
       "  <tbody>\n",
       "    <tr>\n",
       "      <th>0</th>\n",
       "      <td>04006005</td>\n",
       "      <td>ALLOS_SAPC</td>\n",
       "      <td>44.242500</td>\n",
       "      <td>6.625333</td>\n",
       "      <td>1400</td>\n",
       "      <td>2022-01-01</td>\n",
       "      <td>0.0</td>\n",
       "      <td>1.0</td>\n",
       "      <td>1.1</td>\n",
       "      <td>1.0</td>\n",
       "      <td>...</td>\n",
       "      <td>NaN</td>\n",
       "      <td>NaN</td>\n",
       "      <td>NaN</td>\n",
       "      <td>NaN</td>\n",
       "      <td>NaN</td>\n",
       "      <td>NaN</td>\n",
       "      <td>NaN</td>\n",
       "      <td>NaN</td>\n",
       "      <td>NaN</td>\n",
       "      <td>NaN</td>\n",
       "    </tr>\n",
       "    <tr>\n",
       "      <th>1</th>\n",
       "      <td>04006005</td>\n",
       "      <td>ALLOS_SAPC</td>\n",
       "      <td>44.242500</td>\n",
       "      <td>6.625333</td>\n",
       "      <td>1400</td>\n",
       "      <td>2022-01-02</td>\n",
       "      <td>0.0</td>\n",
       "      <td>1.0</td>\n",
       "      <td>1.0</td>\n",
       "      <td>1.0</td>\n",
       "      <td>...</td>\n",
       "      <td>NaN</td>\n",
       "      <td>NaN</td>\n",
       "      <td>NaN</td>\n",
       "      <td>NaN</td>\n",
       "      <td>NaN</td>\n",
       "      <td>NaN</td>\n",
       "      <td>NaN</td>\n",
       "      <td>NaN</td>\n",
       "      <td>NaN</td>\n",
       "      <td>NaN</td>\n",
       "    </tr>\n",
       "    <tr>\n",
       "      <th>2</th>\n",
       "      <td>04006005</td>\n",
       "      <td>ALLOS_SAPC</td>\n",
       "      <td>44.242500</td>\n",
       "      <td>6.625333</td>\n",
       "      <td>1400</td>\n",
       "      <td>2022-01-03</td>\n",
       "      <td>0.0</td>\n",
       "      <td>1.0</td>\n",
       "      <td>-0.4</td>\n",
       "      <td>1.0</td>\n",
       "      <td>...</td>\n",
       "      <td>NaN</td>\n",
       "      <td>NaN</td>\n",
       "      <td>NaN</td>\n",
       "      <td>NaN</td>\n",
       "      <td>NaN</td>\n",
       "      <td>NaN</td>\n",
       "      <td>NaN</td>\n",
       "      <td>NaN</td>\n",
       "      <td>NaN</td>\n",
       "      <td>NaN</td>\n",
       "    </tr>\n",
       "    <tr>\n",
       "      <th>3</th>\n",
       "      <td>04006005</td>\n",
       "      <td>ALLOS_SAPC</td>\n",
       "      <td>44.242500</td>\n",
       "      <td>6.625333</td>\n",
       "      <td>1400</td>\n",
       "      <td>2022-01-04</td>\n",
       "      <td>1.6</td>\n",
       "      <td>1.0</td>\n",
       "      <td>0.2</td>\n",
       "      <td>1.0</td>\n",
       "      <td>...</td>\n",
       "      <td>NaN</td>\n",
       "      <td>NaN</td>\n",
       "      <td>NaN</td>\n",
       "      <td>NaN</td>\n",
       "      <td>NaN</td>\n",
       "      <td>NaN</td>\n",
       "      <td>NaN</td>\n",
       "      <td>NaN</td>\n",
       "      <td>NaN</td>\n",
       "      <td>NaN</td>\n",
       "    </tr>\n",
       "    <tr>\n",
       "      <th>4</th>\n",
       "      <td>04006005</td>\n",
       "      <td>ALLOS_SAPC</td>\n",
       "      <td>44.242500</td>\n",
       "      <td>6.625333</td>\n",
       "      <td>1400</td>\n",
       "      <td>2022-01-05</td>\n",
       "      <td>0.0</td>\n",
       "      <td>1.0</td>\n",
       "      <td>0.0</td>\n",
       "      <td>1.0</td>\n",
       "      <td>...</td>\n",
       "      <td>NaN</td>\n",
       "      <td>NaN</td>\n",
       "      <td>NaN</td>\n",
       "      <td>NaN</td>\n",
       "      <td>NaN</td>\n",
       "      <td>NaN</td>\n",
       "      <td>NaN</td>\n",
       "      <td>NaN</td>\n",
       "      <td>NaN</td>\n",
       "      <td>NaN</td>\n",
       "    </tr>\n",
       "    <tr>\n",
       "      <th>...</th>\n",
       "      <td>...</td>\n",
       "      <td>...</td>\n",
       "      <td>...</td>\n",
       "      <td>...</td>\n",
       "      <td>...</td>\n",
       "      <td>...</td>\n",
       "      <td>...</td>\n",
       "      <td>...</td>\n",
       "      <td>...</td>\n",
       "      <td>...</td>\n",
       "      <td>...</td>\n",
       "      <td>...</td>\n",
       "      <td>...</td>\n",
       "      <td>...</td>\n",
       "      <td>...</td>\n",
       "      <td>...</td>\n",
       "      <td>...</td>\n",
       "      <td>...</td>\n",
       "      <td>...</td>\n",
       "      <td>...</td>\n",
       "      <td>...</td>\n",
       "    </tr>\n",
       "    <tr>\n",
       "      <th>12937</th>\n",
       "      <td>84150001</td>\n",
       "      <td>VISAN</td>\n",
       "      <td>44.336667</td>\n",
       "      <td>4.905500</td>\n",
       "      <td>141</td>\n",
       "      <td>2023-12-16</td>\n",
       "      <td>0.0</td>\n",
       "      <td>1.0</td>\n",
       "      <td>5.4</td>\n",
       "      <td>1.0</td>\n",
       "      <td>...</td>\n",
       "      <td>NaN</td>\n",
       "      <td>NaN</td>\n",
       "      <td>NaN</td>\n",
       "      <td>NaN</td>\n",
       "      <td>15.0</td>\n",
       "      <td>1.0</td>\n",
       "      <td>NaN</td>\n",
       "      <td>NaN</td>\n",
       "      <td>728.0</td>\n",
       "      <td>9.0</td>\n",
       "    </tr>\n",
       "    <tr>\n",
       "      <th>12938</th>\n",
       "      <td>84150001</td>\n",
       "      <td>VISAN</td>\n",
       "      <td>44.336667</td>\n",
       "      <td>4.905500</td>\n",
       "      <td>141</td>\n",
       "      <td>2023-12-17</td>\n",
       "      <td>0.0</td>\n",
       "      <td>1.0</td>\n",
       "      <td>-1.7</td>\n",
       "      <td>1.0</td>\n",
       "      <td>...</td>\n",
       "      <td>NaN</td>\n",
       "      <td>NaN</td>\n",
       "      <td>NaN</td>\n",
       "      <td>NaN</td>\n",
       "      <td>9.1</td>\n",
       "      <td>1.0</td>\n",
       "      <td>NaN</td>\n",
       "      <td>NaN</td>\n",
       "      <td>37.0</td>\n",
       "      <td>9.0</td>\n",
       "    </tr>\n",
       "    <tr>\n",
       "      <th>12939</th>\n",
       "      <td>84150001</td>\n",
       "      <td>VISAN</td>\n",
       "      <td>44.336667</td>\n",
       "      <td>4.905500</td>\n",
       "      <td>141</td>\n",
       "      <td>2023-12-18</td>\n",
       "      <td>0.2</td>\n",
       "      <td>1.0</td>\n",
       "      <td>-3.4</td>\n",
       "      <td>1.0</td>\n",
       "      <td>...</td>\n",
       "      <td>NaN</td>\n",
       "      <td>NaN</td>\n",
       "      <td>NaN</td>\n",
       "      <td>NaN</td>\n",
       "      <td>3.1</td>\n",
       "      <td>1.0</td>\n",
       "      <td>NaN</td>\n",
       "      <td>NaN</td>\n",
       "      <td>1258.0</td>\n",
       "      <td>9.0</td>\n",
       "    </tr>\n",
       "    <tr>\n",
       "      <th>12940</th>\n",
       "      <td>84150001</td>\n",
       "      <td>VISAN</td>\n",
       "      <td>44.336667</td>\n",
       "      <td>4.905500</td>\n",
       "      <td>141</td>\n",
       "      <td>2023-12-19</td>\n",
       "      <td>0.2</td>\n",
       "      <td>1.0</td>\n",
       "      <td>-2.6</td>\n",
       "      <td>1.0</td>\n",
       "      <td>...</td>\n",
       "      <td>NaN</td>\n",
       "      <td>NaN</td>\n",
       "      <td>NaN</td>\n",
       "      <td>NaN</td>\n",
       "      <td>12.7</td>\n",
       "      <td>1.0</td>\n",
       "      <td>NaN</td>\n",
       "      <td>NaN</td>\n",
       "      <td>2319.0</td>\n",
       "      <td>9.0</td>\n",
       "    </tr>\n",
       "    <tr>\n",
       "      <th>12941</th>\n",
       "      <td>84150001</td>\n",
       "      <td>VISAN</td>\n",
       "      <td>44.336667</td>\n",
       "      <td>4.905500</td>\n",
       "      <td>141</td>\n",
       "      <td>2023-12-20</td>\n",
       "      <td>0.0</td>\n",
       "      <td>1.0</td>\n",
       "      <td>5.9</td>\n",
       "      <td>1.0</td>\n",
       "      <td>...</td>\n",
       "      <td>NaN</td>\n",
       "      <td>NaN</td>\n",
       "      <td>NaN</td>\n",
       "      <td>NaN</td>\n",
       "      <td>23.5</td>\n",
       "      <td>1.0</td>\n",
       "      <td>NaN</td>\n",
       "      <td>NaN</td>\n",
       "      <td>1813.0</td>\n",
       "      <td>9.0</td>\n",
       "    </tr>\n",
       "  </tbody>\n",
       "</table>\n",
       "<p>70504 rows × 56 columns</p>\n",
       "</div>"
      ],
      "text/plain": [
       "      NUM_POSTE   NOM_USUEL        LAT       LON  ALTI       DATE   RR  QRR  \\\n",
       "0      04006005  ALLOS_SAPC  44.242500  6.625333  1400 2022-01-01  0.0  1.0   \n",
       "1      04006005  ALLOS_SAPC  44.242500  6.625333  1400 2022-01-02  0.0  1.0   \n",
       "2      04006005  ALLOS_SAPC  44.242500  6.625333  1400 2022-01-03  0.0  1.0   \n",
       "3      04006005  ALLOS_SAPC  44.242500  6.625333  1400 2022-01-04  1.6  1.0   \n",
       "4      04006005  ALLOS_SAPC  44.242500  6.625333  1400 2022-01-05  0.0  1.0   \n",
       "...         ...         ...        ...       ...   ...        ...  ...  ...   \n",
       "12937  84150001       VISAN  44.336667  4.905500   141 2023-12-16  0.0  1.0   \n",
       "12938  84150001       VISAN  44.336667  4.905500   141 2023-12-17  0.0  1.0   \n",
       "12939  84150001       VISAN  44.336667  4.905500   141 2023-12-18  0.2  1.0   \n",
       "12940  84150001       VISAN  44.336667  4.905500   141 2023-12-19  0.2  1.0   \n",
       "12941  84150001       VISAN  44.336667  4.905500   141 2023-12-20  0.0  1.0   \n",
       "\n",
       "        TN  QTN  ...  DXI2  QDXI2  HXI2  QHXI2  FXI3S  QFXI3S  DXI3S  QDXI3S  \\\n",
       "0      1.1  1.0  ...   NaN    NaN   NaN    NaN    NaN     NaN    NaN     NaN   \n",
       "1      1.0  1.0  ...   NaN    NaN   NaN    NaN    NaN     NaN    NaN     NaN   \n",
       "2     -0.4  1.0  ...   NaN    NaN   NaN    NaN    NaN     NaN    NaN     NaN   \n",
       "3      0.2  1.0  ...   NaN    NaN   NaN    NaN    NaN     NaN    NaN     NaN   \n",
       "4      0.0  1.0  ...   NaN    NaN   NaN    NaN    NaN     NaN    NaN     NaN   \n",
       "...    ...  ...  ...   ...    ...   ...    ...    ...     ...    ...     ...   \n",
       "12937  5.4  1.0  ...   NaN    NaN   NaN    NaN   15.0     1.0    NaN     NaN   \n",
       "12938 -1.7  1.0  ...   NaN    NaN   NaN    NaN    9.1     1.0    NaN     NaN   \n",
       "12939 -3.4  1.0  ...   NaN    NaN   NaN    NaN    3.1     1.0    NaN     NaN   \n",
       "12940 -2.6  1.0  ...   NaN    NaN   NaN    NaN   12.7     1.0    NaN     NaN   \n",
       "12941  5.9  1.0  ...   NaN    NaN   NaN    NaN   23.5     1.0    NaN     NaN   \n",
       "\n",
       "        HXI3S  QHXI3S  \n",
       "0         NaN     NaN  \n",
       "1         NaN     NaN  \n",
       "2         NaN     NaN  \n",
       "3         NaN     NaN  \n",
       "4         NaN     NaN  \n",
       "...       ...     ...  \n",
       "12937   728.0     9.0  \n",
       "12938    37.0     9.0  \n",
       "12939  1258.0     9.0  \n",
       "12940  2319.0     9.0  \n",
       "12941  1813.0     9.0  \n",
       "\n",
       "[70504 rows x 56 columns]"
      ]
     },
     "metadata": {},
     "output_type": "display_data"
    }
   ],
   "source": [
    "############ Auteur: L. Duffar ###########\n",
    "############ Décembre 2023 ###########\n",
    "# python 3.8.12\n",
    "# Télécharge les les archives ZIP & et décompresse les fichiers CSV LATEST (DERNIERE PERIODE DISPONIBLE)\n",
    "import os\n",
    "import requests\n",
    "import pandas as pd\n",
    "import numpy as np\n",
    "import datetime\n",
    "import time\n",
    "import sys\n",
    "import gzip\n",
    "\n",
    "# ================ Personalisation ====================\n",
    "# Chemin d'enregistrement des archives gz et des fichiers CSV décompressés\n",
    "folder_gz= r\"X:\\1-COMMUN\\DIS\\Documentation\\Hydrologie\\Documentation externe\\Climat France\\Météo-France\\meteo.data\\archives\\2023 Déc\\base\\Q\"\n",
    "folder_csv= r\"X:\\1-COMMUN\\DIS\\Documentation\\Hydrologie\\Documentation externe\\Climat France\\Météo-France\\meteo.data\\base\\Q\"\n",
    "\n",
    "# Numéro des Postes météo souhaités (chaine de 8 caractères) - voir fichier \"fiches.json\" sur https://www.data.gouv.fr/fr/datasets/r/1fe544d8-4615-4642-a307-5956a7d90922\n",
    "# LES DEPARTEMENTS CORRESPONDANTS DOIVENT ËTRE PRESENTS DANS LA LISTE DES URLS (voir ======= Initialisation ==========)\n",
    "postes= [\n",
    "        '04088001', '04039001', '04230001',                  # Forcalquier, Castellane, Valensole \\\n",
    "        # '05046001',                                           # Embrun \\\n",
    "        # '06088001', '06029001',                               # Nice, Cannes \\\n",
    "        '13001009', '13111002', '13103001','13055001',        # Aix en Provence, Vauvenargue, Salon, Marseille, \\\n",
    "        '83031001', '83061001', '83137001',                   # Le Luc, Fréjus, Toulon \\\n",
    "        '84003002', '84009002',                               # # Apt-Viton, Bastide des Jourdans \\\n",
    "        ]                               \n",
    "\n",
    "# ================ Extrait du fichier data CSV ============= (les colonnes sont en réalité séparées par des points-virgules)\n",
    "# NUM_POSTE\tNOM_USUEL\tLAT\tLON\tALTI\tAAAAMMJJ\tRR\tQRR\tTN\tQTN\tHTN\tQHTN\tTX\tQTX\tHTX\tQHTX\tTM\tQTM\tTNTXM\tQTNTXM\tTAMPLI\tQTAMPLI\n",
    "# 13001009\tAIX EN PROVENCE\t43.5295\t5.4245\t173\t20220101\t0\t1\t4.6\t1\t820\t9\t9.4\t1\t1424\t9\t7.9\t1\t7\t1\t4.8\t1\n",
    "# 13001009\tAIX EN PROVENCE\t43.5295\t5.4245\t173\t20220102\t0\t1\t8.3\t1\t646\t9\t11.1\t1\t1145\t9\t9.1\t1\t9.7\t1\t2.8\t1\n",
    "# 13001009\tAIX EN PROVENCE\t43.5295\t5.4245\t173\t20220103\t0.2\t1\t4.6\t1\t655\t9\t13.5\t1\t1452\t9\t7.4\t1\t9.1\t1\t8.9\t1\n",
    "# 13001009\tAIX EN PROVENCE\t43.5295\t5.4245\t173\t20220104\t1.4\t1\t4.5\t1\t2348\t9\t13.7\t1\t1123\t9\t10.1\t1\t9.1\t1\t9.2\t1\n",
    "# 13001009\tAIX EN PROVENCE\t43.5295\t5.4245\t173\t20220105\t0\t1\t4.6\t1\t1742\t9\t8.7\t1\t601\t9\t6.8\t1\t6.7\t1\t4.1\t1\n",
    "\n",
    "# ================ Extrait du fichier CSV Descriptif de quelques paramètres (les plus souvent utiles, précipitations et températures) =============(les colonnes sont en réalité séparées par \":\")\n",
    "# NUM_POSTE   \t numéro Météo-France du poste sur 8 chiffres\n",
    "# NOM_USUEL   \t nom usuel du poste\n",
    "# LAT         \t latitude, négative au sud (en degrés et millionièmes de degré)\n",
    "# LON         \t longitude, négative à l’ouest de GREENWICH (en degrés et millionièmes de degré)\n",
    "# ALTI        \t altitude du pied de l'abri ou du pluviomètre si pas d'abri (en m)\n",
    "# AAAAMMJJ    \t date de la mesure (année mois jour)\n",
    "# RR          \t quantité de précipitation tombée en 24 heures (de 06h FU le jour J à 06h FU le jour J+1). La valeur relevée à J+1 est affectée au jour J (en mm et 1/10)\n",
    "# TN          \t température minimale sous abri (en °C et 1/10)\n",
    "# HTN         \t heure de TN (hhmm)\n",
    "# TX          \t température maximale sous abri (en °C et 1/10)\n",
    "# HTX         \t heure de TX (hhmm)\n",
    "# TM          \t moyenne quotidienne des températures horaires sous abri (en °C et 1/10)\n",
    "# TNTXM       \t moyenne quotidienne (TN+TX)/2 (en °C et 1/10)\n",
    "# TAMPLI      \t amplitude thermique quotidienne -  écart entre TX et TN quotidiens (TX-TN) (en °C et 1/10)\n",
    "# TNSOL       \t température quotidienne minimale à 10 cm au-dessus du sol (en °C et 1/10)\n",
    "# TN50        \t température quotidienne minimale à 50 cm au-dessus du sol (en °C et 1/10)\n",
    "# DG          \t durée de gel sous abri (T ≤ 0°C) (en mn)\n",
    "\n",
    "# ================ Initialisation ====================\n",
    "# Structure du nom des fichiers de données QUOTIDIENNES (1 fichier par département dont le numéro sera ajouté automatiquement au début et à la fin du template ci-dessous)\n",
    "template_start= 'Q_'\n",
    "template_end= '_latest-2022-2023_RR-T-Vent.csv'\n",
    "\n",
    "# ---------------- urls de téléchargement des archives PAR DEPARTEMENT des dernières données depuis janvier de l'année précédente https://meteo.data.gouv.fr/ (Ajouter d'autres départements si besoin)\n",
    "url_desc = \"https://www.data.gouv.fr/fr/datasets/r/6a8df7e9-45ff-445d-9260-6c65475dda86\"\n",
    "urls= dict()\n",
    "urls['04']= \"https://www.data.gouv.fr/fr/datasets/r/52355223-df85-49a9-9031-14b8a604c28c\" \n",
    "urls['05']= 'https://www.data.gouv.fr/fr/datasets/r/27bfba71-f9d2-4cbb-a784-7a893d933485'\n",
    "urls['06']= 'https://www.data.gouv.fr/fr/datasets/r/6d848c25-210b-40a4-b3c2-a4084bf660a7'\n",
    "urls['13']= 'https://www.data.gouv.fr/fr/datasets/r/eb4d0600-e90b-4517-a429-599ed13dbae0'\n",
    "urls['83']= 'https://www.data.gouv.fr/fr/datasets/r/5889ea7c-e285-46cb-8ea6-1c317fa4dada'\n",
    "urls['84']= 'https://www.data.gouv.fr/fr/datasets/r/b47bd200-0ba7-419c-9385-4ce8ff8c199c'\n",
    "# print(urls)\n",
    "\n",
    "# ---------------- Définition des fonctions\n",
    "def convert_to_date(aaaammdd):\n",
    "    return pd.to_datetime(str(aaaammdd), format='%Y%m%d', errors='coerce')\n",
    "\n",
    "def download_file(url, filename):\n",
    "    file= os.path.join(folder_gz, filename) + '.gz'\n",
    "    print('Téléchargement: ', file)\n",
    "    response = requests.get(url)\n",
    "    if response.status_code == 200:\n",
    "        with open(file, 'wb') as f:\n",
    "            f.write(response.content)\n",
    "        # print(\"Téléchargement terminé\")\n",
    "    else:\n",
    "        print(\"Fichier non présent à l'url habituelle: \", file)\n",
    "\n",
    "def decompress_gz(filename):\n",
    "    file= os.path.join(folder_gz, filename) + '.gz'\n",
    "    \n",
    "    if os.path.exists(file):\n",
    "        with gzip.open(file, 'rb') as f_in:\n",
    "            file= os.path.join(folder_csv, filename) \n",
    "            print('Décompression', file)\n",
    "            with open(file, 'wb') as f_out:\n",
    "                f_out.write(f_in.read())\n",
    "    else:\n",
    "        print(\"Fichier non trouvé: \", file)\n",
    "\n",
    "def read_csv(filename):\n",
    "    file= os.path.join(folder_csv, filename)\n",
    "    print('Lecture: ', file)\n",
    "    df= pd.read_csv(file, header=0, sep=\";\", dtype={\"NUM_POSTE\":str, 'AAAAMMJJ':str}, parse_dates=['AAAAMMJJ'], date_parser= convert_to_date)\n",
    "    return df\n",
    "\n",
    "# ================ Traitement ====================\n",
    "now= datetime.datetime.now()\n",
    "print(now.strftime(\"%Y-%m-%d %H:%M\"))\n",
    "\n",
    "# Lit en ligne le fichier \"Q_descriptif_champs_RR-T-Vent.csv\" de description des champs\n",
    "# définit un dataframe pandas avec les 2 colonnes \"param\" et \"name_long\" pour la description des champs \n",
    "df_desc = pd.read_csv(url_desc, sep=\":\", header= None, index_col=0, names= [\"param\", \"name_long\", 'complement'], dtype={\"param\":str, \"name_long\":str, 'complement':str}, encoding= 'utf-8')\n",
    "df_desc.index= df_desc.index.str.strip()\n",
    "# display(df_desc)\n",
    "\n",
    "# fait la liste des départements concernés et garde les 2 premiers chiffres uniques\n",
    "# On récupère les 2 premiers chiffres de chaque poste\n",
    "departements = []\n",
    "for poste in postes:\n",
    "    departements.append(poste[:2])\n",
    "# On ne garde que départements uniques\n",
    "departements = list(set(departements)) # set() ignore automatiquement les doublons (ce qui évite de passer par array numpy pour utiliser la fonction np.unique() )\n",
    "# On trie la liste\n",
    "departements.sort()\n",
    "# On affiche la liste\n",
    "print('Départements concernés: ', departements)\n",
    "\n",
    "# Téléchargement/décompression/lecture des fichiers dans une boucle sur les départements (urls tirées du dictionnaire 'urls')\n",
    "for i, departement in enumerate(departements):\n",
    "    # On récupère l'url\n",
    "    url = urls[departement]\n",
    "    # Formation du nom du fichier à partir du template et du numéro de département\n",
    "    filename = f\"{template_start}{departement}{template_end}\"\n",
    "    download_file(url, filename)\n",
    "    decompress_gz(filename)\n",
    "    # Lecture du fichier CSV dans un dataframe pandas\n",
    "    df_departement= read_csv(filename)\n",
    "    if i== 0:\n",
    "        # initialisation du dataframe final df avec les données du premier département        \n",
    "        df= df_departement\n",
    "    else:\n",
    "        df= pd.concat([df, df_departement])        \n",
    "\n",
    "df['NUM_POSTE'] = df['NUM_POSTE'].str.strip()\n",
    "# renome la colonne \"AAAMMJJ\" en \"DATE\"\n",
    "df.rename(columns={'AAAAMMJJ':'DATE'}, inplace=True)\n",
    "display(df)"
   ]
  },
  {
   "cell_type": "markdown",
   "metadata": {},
   "source": [
    "##### 2) Tracé du graphique des précipitations qutotidiennes\n",
    "\n",
    "Les dates de début et de fin du graphique sont définies comme suit:\n",
    "- Laissez le script déterminer automatiquement les 2 derniers mois\n",
    "- ou définir la date de début et de fin,\n",
    "- ou None pour respectivement le début et la fin du fichier LATEST (premier jour de l'année précédente et veille du téléchargement)\n",
    "\n",
    "NB: on peut choisir le paramètre mais la présentation actuelle est spécialement adaptée aux précipitations"
   ]
  },
  {
   "cell_type": "code",
   "execution_count": 121,
   "metadata": {},
   "outputs": [
    {
     "name": "stdout",
     "output_type": "stream",
     "text": [
      "2023-12-22 17:00\n",
      "Cumuls mensuels de pluie des postes et de la période choisis: Attention le cumul du dernier mois est incomplet à ce jour\n"
     ]
    },
    {
     "data": {
      "text/html": [
       "<div>\n",
       "<style scoped>\n",
       "    .dataframe tbody tr th:only-of-type {\n",
       "        vertical-align: middle;\n",
       "    }\n",
       "\n",
       "    .dataframe tbody tr th {\n",
       "        vertical-align: top;\n",
       "    }\n",
       "\n",
       "    .dataframe thead th {\n",
       "        text-align: right;\n",
       "    }\n",
       "</style>\n",
       "<table border=\"1\" class=\"dataframe\">\n",
       "  <thead>\n",
       "    <tr style=\"text-align: right;\">\n",
       "      <th>NOM_USUEL</th>\n",
       "      <th>AIX EN PROVENCE</th>\n",
       "      <th>APT-VITON</th>\n",
       "      <th>CASTELLANE</th>\n",
       "      <th>FORCALQUIER</th>\n",
       "      <th>FREJUS</th>\n",
       "      <th>LA BASTIDE DES JOURDANS</th>\n",
       "      <th>LE LUC</th>\n",
       "      <th>MARSEILLE-OBS</th>\n",
       "      <th>SALON DE PROVENCE</th>\n",
       "      <th>TOULON</th>\n",
       "      <th>VALENSOLE</th>\n",
       "      <th>VAUVENARGUES</th>\n",
       "    </tr>\n",
       "    <tr>\n",
       "      <th>DATE</th>\n",
       "      <th></th>\n",
       "      <th></th>\n",
       "      <th></th>\n",
       "      <th></th>\n",
       "      <th></th>\n",
       "      <th></th>\n",
       "      <th></th>\n",
       "      <th></th>\n",
       "      <th></th>\n",
       "      <th></th>\n",
       "      <th></th>\n",
       "      <th></th>\n",
       "    </tr>\n",
       "  </thead>\n",
       "  <tbody>\n",
       "    <tr>\n",
       "      <th>2023-11-01</th>\n",
       "      <td>30.2</td>\n",
       "      <td>37.6</td>\n",
       "      <td>102.2</td>\n",
       "      <td>63.1</td>\n",
       "      <td>20.4</td>\n",
       "      <td>22.0</td>\n",
       "      <td>21.7</td>\n",
       "      <td>23.2</td>\n",
       "      <td>30.8</td>\n",
       "      <td>25.8</td>\n",
       "      <td>36.4</td>\n",
       "      <td>41.8</td>\n",
       "    </tr>\n",
       "    <tr>\n",
       "      <th>2023-12-01</th>\n",
       "      <td>42.6</td>\n",
       "      <td>60.4</td>\n",
       "      <td>76.3</td>\n",
       "      <td>NaN</td>\n",
       "      <td>50.6</td>\n",
       "      <td>42.6</td>\n",
       "      <td>53.8</td>\n",
       "      <td>28.3</td>\n",
       "      <td>35.4</td>\n",
       "      <td>65.4</td>\n",
       "      <td>56.8</td>\n",
       "      <td>71.0</td>\n",
       "    </tr>\n",
       "  </tbody>\n",
       "</table>\n",
       "</div>"
      ],
      "text/plain": [
       "NOM_USUEL   AIX EN PROVENCE  APT-VITON  CASTELLANE  FORCALQUIER  FREJUS  \\\n",
       "DATE                                                                      \n",
       "2023-11-01             30.2       37.6       102.2         63.1    20.4   \n",
       "2023-12-01             42.6       60.4        76.3          NaN    50.6   \n",
       "\n",
       "NOM_USUEL   LA BASTIDE DES JOURDANS  LE LUC  MARSEILLE-OBS  SALON DE PROVENCE  \\\n",
       "DATE                                                                            \n",
       "2023-11-01                     22.0    21.7           23.2               30.8   \n",
       "2023-12-01                     42.6    53.8           28.3               35.4   \n",
       "\n",
       "NOM_USUEL   TOULON  VALENSOLE  VAUVENARGUES  \n",
       "DATE                                         \n",
       "2023-11-01    25.8       36.4          41.8  \n",
       "2023-12-01    65.4       56.8          71.0  "
      ]
     },
     "metadata": {},
     "output_type": "display_data"
    },
    {
     "data": {
      "application/vnd.plotly.v1+json": {
       "config": {
        "plotlyServerURL": "https://plot.ly"
       },
       "data": [
        {
         "marker": {
          "color": "#2E91E5",
          "line": {
           "color": "rgb(100,100,100)",
           "width": 1
          }
         },
         "name": "FORCALQUIER",
         "type": "bar",
         "x": [
          "2023-11-01T00:00:00",
          "2023-11-02T00:00:00",
          "2023-11-03T00:00:00",
          "2023-11-04T00:00:00",
          "2023-11-05T00:00:00",
          "2023-11-06T00:00:00",
          "2023-11-07T00:00:00",
          "2023-11-08T00:00:00",
          "2023-11-09T00:00:00",
          "2023-11-10T00:00:00",
          "2023-11-11T00:00:00",
          "2023-11-12T00:00:00",
          "2023-11-13T00:00:00",
          "2023-11-14T00:00:00",
          "2023-11-15T00:00:00",
          "2023-11-16T00:00:00",
          "2023-11-17T00:00:00",
          "2023-11-18T00:00:00",
          "2023-11-19T00:00:00",
          "2023-11-20T00:00:00",
          "2023-11-21T00:00:00",
          "2023-11-22T00:00:00",
          "2023-11-23T00:00:00",
          "2023-11-24T00:00:00",
          "2023-11-25T00:00:00",
          "2023-11-26T00:00:00",
          "2023-11-27T00:00:00",
          "2023-11-28T00:00:00",
          "2023-11-29T00:00:00",
          "2023-11-30T00:00:00"
         ],
         "xaxis": "x",
         "y": [
          2,
          10.4,
          1.8,
          11.2,
          0,
          0,
          0,
          0.3,
          18.1,
          1.3,
          3.7,
          0,
          0.1,
          0,
          0,
          1.4,
          0,
          0,
          0,
          0,
          0,
          0,
          0,
          0,
          0,
          0,
          2.7,
          0,
          7.1,
          3
         ],
         "yaxis": "y"
        },
        {
         "line": {
          "color": "gray"
         },
         "name": "Cumulé 04088001",
         "type": "scatter",
         "x": [
          "2023-11-01T00:00:00",
          "2023-11-02T00:00:00",
          "2023-11-03T00:00:00",
          "2023-11-04T00:00:00",
          "2023-11-05T00:00:00",
          "2023-11-06T00:00:00",
          "2023-11-07T00:00:00",
          "2023-11-08T00:00:00",
          "2023-11-09T00:00:00",
          "2023-11-10T00:00:00",
          "2023-11-11T00:00:00",
          "2023-11-12T00:00:00",
          "2023-11-13T00:00:00",
          "2023-11-14T00:00:00",
          "2023-11-15T00:00:00",
          "2023-11-16T00:00:00",
          "2023-11-17T00:00:00",
          "2023-11-18T00:00:00",
          "2023-11-19T00:00:00",
          "2023-11-20T00:00:00",
          "2023-11-21T00:00:00",
          "2023-11-22T00:00:00",
          "2023-11-23T00:00:00",
          "2023-11-24T00:00:00",
          "2023-11-25T00:00:00",
          "2023-11-26T00:00:00",
          "2023-11-27T00:00:00",
          "2023-11-28T00:00:00",
          "2023-11-29T00:00:00",
          "2023-11-30T00:00:00"
         ],
         "xaxis": "x",
         "y": [
          2,
          12.4,
          14.200000000000001,
          25.4,
          25.4,
          25.4,
          25.4,
          25.7,
          43.8,
          45.099999999999994,
          48.8,
          48.8,
          48.9,
          48.9,
          48.9,
          50.3,
          50.3,
          50.3,
          50.3,
          50.3,
          50.3,
          50.3,
          50.3,
          50.3,
          50.3,
          50.3,
          53,
          53,
          60.1,
          63.1
         ],
         "yaxis": "y2"
        },
        {
         "marker": {
          "color": "#E15F99",
          "line": {
           "color": "rgb(100,100,100)",
           "width": 1
          }
         },
         "name": "CASTELLANE",
         "type": "bar",
         "x": [
          "2023-11-01T00:00:00",
          "2023-11-02T00:00:00",
          "2023-11-03T00:00:00",
          "2023-11-04T00:00:00",
          "2023-11-05T00:00:00",
          "2023-11-06T00:00:00",
          "2023-11-07T00:00:00",
          "2023-11-08T00:00:00",
          "2023-11-09T00:00:00",
          "2023-11-10T00:00:00",
          "2023-11-11T00:00:00",
          "2023-11-12T00:00:00",
          "2023-11-13T00:00:00",
          "2023-11-14T00:00:00",
          "2023-11-15T00:00:00",
          "2023-11-16T00:00:00",
          "2023-11-17T00:00:00",
          "2023-11-18T00:00:00",
          "2023-11-19T00:00:00",
          "2023-11-20T00:00:00",
          "2023-11-21T00:00:00",
          "2023-11-22T00:00:00",
          "2023-11-23T00:00:00",
          "2023-11-24T00:00:00",
          "2023-11-25T00:00:00",
          "2023-11-26T00:00:00",
          "2023-11-27T00:00:00",
          "2023-11-28T00:00:00",
          "2023-11-29T00:00:00",
          "2023-11-30T00:00:00",
          "2023-12-01T00:00:00",
          "2023-12-02T00:00:00",
          "2023-12-03T00:00:00",
          "2023-12-04T00:00:00",
          "2023-12-05T00:00:00",
          "2023-12-06T00:00:00",
          "2023-12-07T00:00:00",
          "2023-12-08T00:00:00",
          "2023-12-09T00:00:00",
          "2023-12-10T00:00:00",
          "2023-12-11T00:00:00",
          "2023-12-12T00:00:00",
          "2023-12-13T00:00:00",
          "2023-12-14T00:00:00",
          "2023-12-15T00:00:00",
          "2023-12-16T00:00:00",
          "2023-12-17T00:00:00",
          "2023-12-18T00:00:00",
          "2023-12-19T00:00:00",
          "2023-12-20T00:00:00"
         ],
         "xaxis": "x2",
         "y": [
          5.6,
          26.6,
          0.4,
          23.3,
          0.2,
          0,
          0.2,
          0.4,
          9,
          1.2,
          4.6,
          0.2,
          0,
          0,
          0,
          1.2,
          0,
          0.2,
          0.2,
          0,
          0,
          0.2,
          0.2,
          0,
          0,
          0,
          4.6,
          0,
          14.5,
          9.4,
          16.7,
          0,
          0,
          0.2,
          8.4,
          1.2,
          15.7,
          25.5,
          2,
          1.4,
          0.6,
          2.8,
          0.8,
          0,
          0.2,
          0.2,
          0.2,
          0.2,
          0.2,
          0
         ],
         "yaxis": "y3"
        },
        {
         "line": {
          "color": "gray"
         },
         "name": "Cumulé 04039001",
         "type": "scatter",
         "x": [
          "2023-11-01T00:00:00",
          "2023-11-02T00:00:00",
          "2023-11-03T00:00:00",
          "2023-11-04T00:00:00",
          "2023-11-05T00:00:00",
          "2023-11-06T00:00:00",
          "2023-11-07T00:00:00",
          "2023-11-08T00:00:00",
          "2023-11-09T00:00:00",
          "2023-11-10T00:00:00",
          "2023-11-11T00:00:00",
          "2023-11-12T00:00:00",
          "2023-11-13T00:00:00",
          "2023-11-14T00:00:00",
          "2023-11-15T00:00:00",
          "2023-11-16T00:00:00",
          "2023-11-17T00:00:00",
          "2023-11-18T00:00:00",
          "2023-11-19T00:00:00",
          "2023-11-20T00:00:00",
          "2023-11-21T00:00:00",
          "2023-11-22T00:00:00",
          "2023-11-23T00:00:00",
          "2023-11-24T00:00:00",
          "2023-11-25T00:00:00",
          "2023-11-26T00:00:00",
          "2023-11-27T00:00:00",
          "2023-11-28T00:00:00",
          "2023-11-29T00:00:00",
          "2023-11-30T00:00:00",
          "2023-12-01T00:00:00",
          "2023-12-02T00:00:00",
          "2023-12-03T00:00:00",
          "2023-12-04T00:00:00",
          "2023-12-05T00:00:00",
          "2023-12-06T00:00:00",
          "2023-12-07T00:00:00",
          "2023-12-08T00:00:00",
          "2023-12-09T00:00:00",
          "2023-12-10T00:00:00",
          "2023-12-11T00:00:00",
          "2023-12-12T00:00:00",
          "2023-12-13T00:00:00",
          "2023-12-14T00:00:00",
          "2023-12-15T00:00:00",
          "2023-12-16T00:00:00",
          "2023-12-17T00:00:00",
          "2023-12-18T00:00:00",
          "2023-12-19T00:00:00",
          "2023-12-20T00:00:00"
         ],
         "xaxis": "x2",
         "y": [
          5.6,
          32.2,
          32.6,
          55.900000000000006,
          56.10000000000001,
          56.10000000000001,
          56.30000000000001,
          56.70000000000001,
          65.70000000000002,
          66.90000000000002,
          71.50000000000001,
          71.70000000000002,
          71.70000000000002,
          71.70000000000002,
          71.70000000000002,
          72.90000000000002,
          72.90000000000002,
          73.10000000000002,
          73.30000000000003,
          73.30000000000003,
          73.30000000000003,
          73.50000000000003,
          73.70000000000003,
          73.70000000000003,
          73.70000000000003,
          73.70000000000003,
          78.30000000000003,
          78.30000000000003,
          92.80000000000003,
          102.20000000000003,
          118.90000000000003,
          118.90000000000003,
          118.90000000000003,
          119.10000000000004,
          127.50000000000004,
          128.70000000000005,
          144.40000000000003,
          169.90000000000003,
          171.90000000000003,
          173.30000000000004,
          173.90000000000003,
          176.70000000000005,
          177.50000000000006,
          177.50000000000006,
          177.70000000000005,
          177.90000000000003,
          178.10000000000002,
          178.3,
          178.5,
          178.5
         ],
         "yaxis": "y4"
        },
        {
         "marker": {
          "color": "#1CA71C",
          "line": {
           "color": "rgb(100,100,100)",
           "width": 1
          }
         },
         "name": "VALENSOLE",
         "type": "bar",
         "x": [
          "2023-11-01T00:00:00",
          "2023-11-02T00:00:00",
          "2023-11-03T00:00:00",
          "2023-11-04T00:00:00",
          "2023-11-05T00:00:00",
          "2023-11-06T00:00:00",
          "2023-11-07T00:00:00",
          "2023-11-08T00:00:00",
          "2023-11-09T00:00:00",
          "2023-11-10T00:00:00",
          "2023-11-11T00:00:00",
          "2023-11-12T00:00:00",
          "2023-11-13T00:00:00",
          "2023-11-14T00:00:00",
          "2023-11-15T00:00:00",
          "2023-11-16T00:00:00",
          "2023-11-17T00:00:00",
          "2023-11-18T00:00:00",
          "2023-11-19T00:00:00",
          "2023-11-20T00:00:00",
          "2023-11-21T00:00:00",
          "2023-11-22T00:00:00",
          "2023-11-23T00:00:00",
          "2023-11-24T00:00:00",
          "2023-11-25T00:00:00",
          "2023-11-26T00:00:00",
          "2023-11-27T00:00:00",
          "2023-11-28T00:00:00",
          "2023-11-29T00:00:00",
          "2023-11-30T00:00:00",
          "2023-12-01T00:00:00",
          "2023-12-02T00:00:00",
          "2023-12-03T00:00:00",
          "2023-12-04T00:00:00",
          "2023-12-05T00:00:00",
          "2023-12-06T00:00:00",
          "2023-12-07T00:00:00",
          "2023-12-08T00:00:00",
          "2023-12-09T00:00:00",
          "2023-12-10T00:00:00",
          "2023-12-11T00:00:00",
          "2023-12-12T00:00:00",
          "2023-12-13T00:00:00",
          "2023-12-14T00:00:00",
          "2023-12-15T00:00:00",
          "2023-12-16T00:00:00",
          "2023-12-17T00:00:00",
          "2023-12-18T00:00:00",
          "2023-12-19T00:00:00",
          "2023-12-20T00:00:00"
         ],
         "xaxis": "x3",
         "y": [
          0.8,
          11.2,
          1.4,
          6.4,
          0,
          0,
          0,
          0.2,
          5.2,
          0.8,
          2.8,
          0,
          0,
          0,
          0,
          1.4,
          0,
          0,
          0,
          0,
          0,
          0,
          0,
          0,
          0,
          0,
          3.2,
          0.2,
          2.4,
          0.4,
          9.6,
          0,
          0,
          8,
          0,
          0,
          14.6,
          19.8,
          0.8,
          1.2,
          1.2,
          1.6,
          0,
          0,
          0,
          0,
          0,
          0,
          0,
          0
         ],
         "yaxis": "y5"
        },
        {
         "line": {
          "color": "gray"
         },
         "name": "Cumulé 04230001",
         "type": "scatter",
         "x": [
          "2023-11-01T00:00:00",
          "2023-11-02T00:00:00",
          "2023-11-03T00:00:00",
          "2023-11-04T00:00:00",
          "2023-11-05T00:00:00",
          "2023-11-06T00:00:00",
          "2023-11-07T00:00:00",
          "2023-11-08T00:00:00",
          "2023-11-09T00:00:00",
          "2023-11-10T00:00:00",
          "2023-11-11T00:00:00",
          "2023-11-12T00:00:00",
          "2023-11-13T00:00:00",
          "2023-11-14T00:00:00",
          "2023-11-15T00:00:00",
          "2023-11-16T00:00:00",
          "2023-11-17T00:00:00",
          "2023-11-18T00:00:00",
          "2023-11-19T00:00:00",
          "2023-11-20T00:00:00",
          "2023-11-21T00:00:00",
          "2023-11-22T00:00:00",
          "2023-11-23T00:00:00",
          "2023-11-24T00:00:00",
          "2023-11-25T00:00:00",
          "2023-11-26T00:00:00",
          "2023-11-27T00:00:00",
          "2023-11-28T00:00:00",
          "2023-11-29T00:00:00",
          "2023-11-30T00:00:00",
          "2023-12-01T00:00:00",
          "2023-12-02T00:00:00",
          "2023-12-03T00:00:00",
          "2023-12-04T00:00:00",
          "2023-12-05T00:00:00",
          "2023-12-06T00:00:00",
          "2023-12-07T00:00:00",
          "2023-12-08T00:00:00",
          "2023-12-09T00:00:00",
          "2023-12-10T00:00:00",
          "2023-12-11T00:00:00",
          "2023-12-12T00:00:00",
          "2023-12-13T00:00:00",
          "2023-12-14T00:00:00",
          "2023-12-15T00:00:00",
          "2023-12-16T00:00:00",
          "2023-12-17T00:00:00",
          "2023-12-18T00:00:00",
          "2023-12-19T00:00:00",
          "2023-12-20T00:00:00"
         ],
         "xaxis": "x3",
         "y": [
          0.8,
          12,
          13.4,
          19.8,
          19.8,
          19.8,
          19.8,
          20,
          25.2,
          26,
          28.8,
          28.8,
          28.8,
          28.8,
          28.8,
          30.2,
          30.2,
          30.2,
          30.2,
          30.2,
          30.2,
          30.2,
          30.2,
          30.2,
          30.2,
          30.2,
          33.4,
          33.6,
          36,
          36.4,
          46,
          46,
          46,
          54,
          54,
          54,
          68.6,
          88.39999999999999,
          89.19999999999999,
          90.39999999999999,
          91.6,
          93.19999999999999,
          93.19999999999999,
          93.19999999999999,
          93.19999999999999,
          93.19999999999999,
          93.19999999999999,
          93.19999999999999,
          93.19999999999999,
          93.19999999999999
         ],
         "yaxis": "y6"
        },
        {
         "marker": {
          "color": "#FB0D0D",
          "line": {
           "color": "rgb(100,100,100)",
           "width": 1
          }
         },
         "name": "AIX EN PROVENCE",
         "type": "bar",
         "x": [
          "2023-11-01T00:00:00",
          "2023-11-02T00:00:00",
          "2023-11-03T00:00:00",
          "2023-11-04T00:00:00",
          "2023-11-05T00:00:00",
          "2023-11-06T00:00:00",
          "2023-11-07T00:00:00",
          "2023-11-08T00:00:00",
          "2023-11-09T00:00:00",
          "2023-11-10T00:00:00",
          "2023-11-11T00:00:00",
          "2023-11-12T00:00:00",
          "2023-11-13T00:00:00",
          "2023-11-14T00:00:00",
          "2023-11-15T00:00:00",
          "2023-11-16T00:00:00",
          "2023-11-17T00:00:00",
          "2023-11-18T00:00:00",
          "2023-11-19T00:00:00",
          "2023-11-20T00:00:00",
          "2023-11-21T00:00:00",
          "2023-11-22T00:00:00",
          "2023-11-23T00:00:00",
          "2023-11-24T00:00:00",
          "2023-11-25T00:00:00",
          "2023-11-26T00:00:00",
          "2023-11-27T00:00:00",
          "2023-11-28T00:00:00",
          "2023-11-29T00:00:00",
          "2023-11-30T00:00:00",
          "2023-12-01T00:00:00",
          "2023-12-02T00:00:00",
          "2023-12-03T00:00:00",
          "2023-12-04T00:00:00",
          "2023-12-05T00:00:00",
          "2023-12-06T00:00:00",
          "2023-12-07T00:00:00",
          "2023-12-08T00:00:00",
          "2023-12-09T00:00:00",
          "2023-12-10T00:00:00",
          "2023-12-11T00:00:00",
          "2023-12-12T00:00:00",
          "2023-12-13T00:00:00",
          "2023-12-14T00:00:00",
          "2023-12-15T00:00:00",
          "2023-12-16T00:00:00",
          "2023-12-17T00:00:00",
          "2023-12-18T00:00:00",
          "2023-12-19T00:00:00",
          "2023-12-20T00:00:00"
         ],
         "xaxis": "x4",
         "y": [
          0,
          4.2,
          0.6,
          1.8,
          0,
          0.8,
          0.2,
          0,
          8.2,
          2.2,
          5,
          0.2,
          0,
          0,
          0,
          1.8,
          0,
          0,
          0.2,
          0,
          0.2,
          0.2,
          0,
          0.2,
          0,
          0,
          2.6,
          0,
          1.8,
          0,
          2.6,
          0,
          0,
          7,
          0.2,
          0,
          14.6,
          13.8,
          1.4,
          0.6,
          0.6,
          0.6,
          0.4,
          0,
          0,
          0.4,
          0,
          0.2,
          0.2,
          0
         ],
         "yaxis": "y7"
        },
        {
         "line": {
          "color": "gray"
         },
         "name": "Cumulé 13001009",
         "type": "scatter",
         "x": [
          "2023-11-01T00:00:00",
          "2023-11-02T00:00:00",
          "2023-11-03T00:00:00",
          "2023-11-04T00:00:00",
          "2023-11-05T00:00:00",
          "2023-11-06T00:00:00",
          "2023-11-07T00:00:00",
          "2023-11-08T00:00:00",
          "2023-11-09T00:00:00",
          "2023-11-10T00:00:00",
          "2023-11-11T00:00:00",
          "2023-11-12T00:00:00",
          "2023-11-13T00:00:00",
          "2023-11-14T00:00:00",
          "2023-11-15T00:00:00",
          "2023-11-16T00:00:00",
          "2023-11-17T00:00:00",
          "2023-11-18T00:00:00",
          "2023-11-19T00:00:00",
          "2023-11-20T00:00:00",
          "2023-11-21T00:00:00",
          "2023-11-22T00:00:00",
          "2023-11-23T00:00:00",
          "2023-11-24T00:00:00",
          "2023-11-25T00:00:00",
          "2023-11-26T00:00:00",
          "2023-11-27T00:00:00",
          "2023-11-28T00:00:00",
          "2023-11-29T00:00:00",
          "2023-11-30T00:00:00",
          "2023-12-01T00:00:00",
          "2023-12-02T00:00:00",
          "2023-12-03T00:00:00",
          "2023-12-04T00:00:00",
          "2023-12-05T00:00:00",
          "2023-12-06T00:00:00",
          "2023-12-07T00:00:00",
          "2023-12-08T00:00:00",
          "2023-12-09T00:00:00",
          "2023-12-10T00:00:00",
          "2023-12-11T00:00:00",
          "2023-12-12T00:00:00",
          "2023-12-13T00:00:00",
          "2023-12-14T00:00:00",
          "2023-12-15T00:00:00",
          "2023-12-16T00:00:00",
          "2023-12-17T00:00:00",
          "2023-12-18T00:00:00",
          "2023-12-19T00:00:00",
          "2023-12-20T00:00:00"
         ],
         "xaxis": "x4",
         "y": [
          0,
          4.2,
          4.8,
          6.6,
          6.6,
          7.3999999999999995,
          7.6,
          7.6,
          15.799999999999999,
          18,
          23,
          23.2,
          23.2,
          23.2,
          23.2,
          25,
          25,
          25,
          25.2,
          25.2,
          25.4,
          25.599999999999998,
          25.599999999999998,
          25.799999999999997,
          25.799999999999997,
          25.799999999999997,
          28.4,
          28.4,
          30.2,
          30.2,
          32.8,
          32.8,
          32.8,
          39.8,
          40,
          40,
          54.6,
          68.4,
          69.80000000000001,
          70.4,
          71,
          71.6,
          72,
          72,
          72,
          72.4,
          72.4,
          72.60000000000001,
          72.80000000000001,
          72.80000000000001
         ],
         "yaxis": "y8"
        },
        {
         "marker": {
          "color": "#DA16FF",
          "line": {
           "color": "rgb(100,100,100)",
           "width": 1
          }
         },
         "name": "VAUVENARGUES",
         "type": "bar",
         "x": [
          "2023-11-01T00:00:00",
          "2023-11-02T00:00:00",
          "2023-11-03T00:00:00",
          "2023-11-04T00:00:00",
          "2023-11-05T00:00:00",
          "2023-11-06T00:00:00",
          "2023-11-07T00:00:00",
          "2023-11-08T00:00:00",
          "2023-11-09T00:00:00",
          "2023-11-10T00:00:00",
          "2023-11-11T00:00:00",
          "2023-11-12T00:00:00",
          "2023-11-13T00:00:00",
          "2023-11-14T00:00:00",
          "2023-11-15T00:00:00",
          "2023-11-16T00:00:00",
          "2023-11-17T00:00:00",
          "2023-11-18T00:00:00",
          "2023-11-19T00:00:00",
          "2023-11-20T00:00:00",
          "2023-11-21T00:00:00",
          "2023-11-22T00:00:00",
          "2023-11-23T00:00:00",
          "2023-11-24T00:00:00",
          "2023-11-25T00:00:00",
          "2023-11-26T00:00:00",
          "2023-11-27T00:00:00",
          "2023-11-28T00:00:00",
          "2023-11-29T00:00:00",
          "2023-11-30T00:00:00",
          "2023-12-01T00:00:00",
          "2023-12-02T00:00:00",
          "2023-12-03T00:00:00",
          "2023-12-04T00:00:00",
          "2023-12-05T00:00:00",
          "2023-12-06T00:00:00",
          "2023-12-07T00:00:00",
          "2023-12-08T00:00:00",
          "2023-12-09T00:00:00",
          "2023-12-10T00:00:00",
          "2023-12-11T00:00:00",
          "2023-12-12T00:00:00",
          "2023-12-13T00:00:00",
          "2023-12-14T00:00:00",
          "2023-12-15T00:00:00",
          "2023-12-16T00:00:00",
          "2023-12-17T00:00:00",
          "2023-12-18T00:00:00",
          "2023-12-19T00:00:00",
          "2023-12-20T00:00:00"
         ],
         "xaxis": "x5",
         "y": [
          1.4,
          9.6,
          0.2,
          6.4,
          0,
          0,
          0,
          0.2,
          9.4,
          1.8,
          6,
          0,
          0,
          0,
          0,
          1.8,
          0,
          0,
          0,
          0,
          0,
          0,
          0,
          0,
          0,
          0,
          2.2,
          0,
          2.6,
          0.2,
          9.2,
          0,
          0,
          13.4,
          0,
          0,
          21.4,
          23,
          2.2,
          0.6,
          0.2,
          1,
          0,
          0,
          0,
          0,
          0,
          0,
          0,
          0
         ],
         "yaxis": "y9"
        },
        {
         "line": {
          "color": "gray"
         },
         "name": "Cumulé 13111002",
         "type": "scatter",
         "x": [
          "2023-11-01T00:00:00",
          "2023-11-02T00:00:00",
          "2023-11-03T00:00:00",
          "2023-11-04T00:00:00",
          "2023-11-05T00:00:00",
          "2023-11-06T00:00:00",
          "2023-11-07T00:00:00",
          "2023-11-08T00:00:00",
          "2023-11-09T00:00:00",
          "2023-11-10T00:00:00",
          "2023-11-11T00:00:00",
          "2023-11-12T00:00:00",
          "2023-11-13T00:00:00",
          "2023-11-14T00:00:00",
          "2023-11-15T00:00:00",
          "2023-11-16T00:00:00",
          "2023-11-17T00:00:00",
          "2023-11-18T00:00:00",
          "2023-11-19T00:00:00",
          "2023-11-20T00:00:00",
          "2023-11-21T00:00:00",
          "2023-11-22T00:00:00",
          "2023-11-23T00:00:00",
          "2023-11-24T00:00:00",
          "2023-11-25T00:00:00",
          "2023-11-26T00:00:00",
          "2023-11-27T00:00:00",
          "2023-11-28T00:00:00",
          "2023-11-29T00:00:00",
          "2023-11-30T00:00:00",
          "2023-12-01T00:00:00",
          "2023-12-02T00:00:00",
          "2023-12-03T00:00:00",
          "2023-12-04T00:00:00",
          "2023-12-05T00:00:00",
          "2023-12-06T00:00:00",
          "2023-12-07T00:00:00",
          "2023-12-08T00:00:00",
          "2023-12-09T00:00:00",
          "2023-12-10T00:00:00",
          "2023-12-11T00:00:00",
          "2023-12-12T00:00:00",
          "2023-12-13T00:00:00",
          "2023-12-14T00:00:00",
          "2023-12-15T00:00:00",
          "2023-12-16T00:00:00",
          "2023-12-17T00:00:00",
          "2023-12-18T00:00:00",
          "2023-12-19T00:00:00",
          "2023-12-20T00:00:00"
         ],
         "xaxis": "x5",
         "y": [
          1.4,
          11,
          11.2,
          17.6,
          17.6,
          17.6,
          17.6,
          17.8,
          27.200000000000003,
          29.000000000000004,
          35,
          35,
          35,
          35,
          35,
          36.8,
          36.8,
          36.8,
          36.8,
          36.8,
          36.8,
          36.8,
          36.8,
          36.8,
          36.8,
          36.8,
          39,
          39,
          41.6,
          41.800000000000004,
          51,
          51,
          51,
          64.4,
          64.4,
          64.4,
          85.80000000000001,
          108.80000000000001,
          111.00000000000001,
          111.60000000000001,
          111.80000000000001,
          112.80000000000001,
          112.80000000000001,
          112.80000000000001,
          112.80000000000001,
          112.80000000000001,
          112.80000000000001,
          112.80000000000001,
          112.80000000000001,
          112.80000000000001
         ],
         "yaxis": "y10"
        },
        {
         "marker": {
          "color": "#222A2A",
          "line": {
           "color": "rgb(100,100,100)",
           "width": 1
          }
         },
         "name": "SALON DE PROVENCE",
         "type": "bar",
         "x": [
          "2023-11-01T00:00:00",
          "2023-11-02T00:00:00",
          "2023-11-03T00:00:00",
          "2023-11-04T00:00:00",
          "2023-11-05T00:00:00",
          "2023-11-06T00:00:00",
          "2023-11-07T00:00:00",
          "2023-11-08T00:00:00",
          "2023-11-09T00:00:00",
          "2023-11-10T00:00:00",
          "2023-11-11T00:00:00",
          "2023-11-12T00:00:00",
          "2023-11-13T00:00:00",
          "2023-11-14T00:00:00",
          "2023-11-15T00:00:00",
          "2023-11-16T00:00:00",
          "2023-11-17T00:00:00",
          "2023-11-18T00:00:00",
          "2023-11-19T00:00:00",
          "2023-11-20T00:00:00",
          "2023-11-21T00:00:00",
          "2023-11-22T00:00:00",
          "2023-11-23T00:00:00",
          "2023-11-24T00:00:00",
          "2023-11-25T00:00:00",
          "2023-11-26T00:00:00",
          "2023-11-27T00:00:00",
          "2023-11-28T00:00:00",
          "2023-11-29T00:00:00",
          "2023-11-30T00:00:00",
          "2023-12-01T00:00:00",
          "2023-12-02T00:00:00",
          "2023-12-03T00:00:00",
          "2023-12-04T00:00:00",
          "2023-12-05T00:00:00",
          "2023-12-06T00:00:00",
          "2023-12-07T00:00:00",
          "2023-12-08T00:00:00",
          "2023-12-09T00:00:00",
          "2023-12-10T00:00:00",
          "2023-12-11T00:00:00",
          "2023-12-12T00:00:00",
          "2023-12-13T00:00:00",
          "2023-12-14T00:00:00",
          "2023-12-15T00:00:00",
          "2023-12-16T00:00:00",
          "2023-12-17T00:00:00",
          "2023-12-18T00:00:00",
          "2023-12-19T00:00:00",
          "2023-12-20T00:00:00"
         ],
         "xaxis": "x6",
         "y": [
          0,
          3,
          0.4,
          0.4,
          0,
          1.4,
          0,
          0.6,
          15.2,
          0.6,
          4.6,
          0,
          0,
          0,
          0,
          1.4,
          0,
          0,
          0,
          0,
          0,
          0,
          0,
          0,
          0,
          0,
          1.8,
          0.2,
          0.6,
          0.6,
          3.4,
          0,
          0,
          6.6,
          0,
          0,
          19.2,
          4.6,
          0,
          0.2,
          0,
          0.6,
          0.2,
          0.2,
          0,
          0,
          0.2,
          0,
          0.2,
          0
         ],
         "yaxis": "y11"
        },
        {
         "line": {
          "color": "gray"
         },
         "name": "Cumulé 13103001",
         "type": "scatter",
         "x": [
          "2023-11-01T00:00:00",
          "2023-11-02T00:00:00",
          "2023-11-03T00:00:00",
          "2023-11-04T00:00:00",
          "2023-11-05T00:00:00",
          "2023-11-06T00:00:00",
          "2023-11-07T00:00:00",
          "2023-11-08T00:00:00",
          "2023-11-09T00:00:00",
          "2023-11-10T00:00:00",
          "2023-11-11T00:00:00",
          "2023-11-12T00:00:00",
          "2023-11-13T00:00:00",
          "2023-11-14T00:00:00",
          "2023-11-15T00:00:00",
          "2023-11-16T00:00:00",
          "2023-11-17T00:00:00",
          "2023-11-18T00:00:00",
          "2023-11-19T00:00:00",
          "2023-11-20T00:00:00",
          "2023-11-21T00:00:00",
          "2023-11-22T00:00:00",
          "2023-11-23T00:00:00",
          "2023-11-24T00:00:00",
          "2023-11-25T00:00:00",
          "2023-11-26T00:00:00",
          "2023-11-27T00:00:00",
          "2023-11-28T00:00:00",
          "2023-11-29T00:00:00",
          "2023-11-30T00:00:00",
          "2023-12-01T00:00:00",
          "2023-12-02T00:00:00",
          "2023-12-03T00:00:00",
          "2023-12-04T00:00:00",
          "2023-12-05T00:00:00",
          "2023-12-06T00:00:00",
          "2023-12-07T00:00:00",
          "2023-12-08T00:00:00",
          "2023-12-09T00:00:00",
          "2023-12-10T00:00:00",
          "2023-12-11T00:00:00",
          "2023-12-12T00:00:00",
          "2023-12-13T00:00:00",
          "2023-12-14T00:00:00",
          "2023-12-15T00:00:00",
          "2023-12-16T00:00:00",
          "2023-12-17T00:00:00",
          "2023-12-18T00:00:00",
          "2023-12-19T00:00:00",
          "2023-12-20T00:00:00"
         ],
         "xaxis": "x6",
         "y": [
          0,
          3,
          3.4,
          3.8,
          3.8,
          5.199999999999999,
          5.199999999999999,
          5.799999999999999,
          21,
          21.6,
          26.200000000000003,
          26.200000000000003,
          26.200000000000003,
          26.200000000000003,
          26.200000000000003,
          27.6,
          27.6,
          27.6,
          27.6,
          27.6,
          27.6,
          27.6,
          27.6,
          27.6,
          27.6,
          27.6,
          29.400000000000002,
          29.6,
          30.200000000000003,
          30.800000000000004,
          34.2,
          34.2,
          34.2,
          40.800000000000004,
          40.800000000000004,
          40.800000000000004,
          60,
          64.6,
          64.6,
          64.8,
          64.8,
          65.39999999999999,
          65.6,
          65.8,
          65.8,
          65.8,
          66,
          66,
          66.2,
          66.2
         ],
         "yaxis": "y12"
        },
        {
         "marker": {
          "color": "#B68100",
          "line": {
           "color": "rgb(100,100,100)",
           "width": 1
          }
         },
         "name": "MARSEILLE-OBS",
         "type": "bar",
         "x": [
          "2023-11-01T00:00:00",
          "2023-11-02T00:00:00",
          "2023-11-03T00:00:00",
          "2023-11-04T00:00:00",
          "2023-11-05T00:00:00",
          "2023-11-06T00:00:00",
          "2023-11-07T00:00:00",
          "2023-11-08T00:00:00",
          "2023-11-09T00:00:00",
          "2023-11-10T00:00:00",
          "2023-11-11T00:00:00",
          "2023-11-12T00:00:00",
          "2023-11-13T00:00:00",
          "2023-11-14T00:00:00",
          "2023-11-15T00:00:00",
          "2023-11-16T00:00:00",
          "2023-11-17T00:00:00",
          "2023-11-18T00:00:00",
          "2023-11-19T00:00:00",
          "2023-11-20T00:00:00",
          "2023-11-21T00:00:00",
          "2023-11-22T00:00:00",
          "2023-11-23T00:00:00",
          "2023-11-24T00:00:00",
          "2023-11-25T00:00:00",
          "2023-11-26T00:00:00",
          "2023-11-27T00:00:00",
          "2023-11-28T00:00:00",
          "2023-11-29T00:00:00",
          "2023-11-30T00:00:00",
          "2023-12-01T00:00:00",
          "2023-12-02T00:00:00",
          "2023-12-03T00:00:00",
          "2023-12-04T00:00:00",
          "2023-12-05T00:00:00",
          "2023-12-06T00:00:00",
          "2023-12-07T00:00:00",
          "2023-12-08T00:00:00",
          "2023-12-09T00:00:00",
          "2023-12-10T00:00:00",
          "2023-12-11T00:00:00",
          "2023-12-12T00:00:00",
          "2023-12-13T00:00:00",
          "2023-12-14T00:00:00",
          "2023-12-15T00:00:00",
          "2023-12-16T00:00:00",
          "2023-12-17T00:00:00",
          "2023-12-18T00:00:00",
          "2023-12-19T00:00:00",
          "2023-12-20T00:00:00"
         ],
         "xaxis": "x7",
         "y": [
          0.8,
          5,
          1.6,
          1.2,
          0,
          0,
          0,
          0,
          8.4,
          1.4,
          2.4,
          0.2,
          0,
          0,
          0,
          0.6,
          0,
          0,
          0,
          0,
          0,
          0,
          0,
          0,
          0,
          0,
          1,
          0,
          0.6,
          0,
          1.2,
          0,
          0,
          5,
          0,
          0,
          16.7,
          4.4,
          0.6,
          0,
          0,
          0.2,
          0.2,
          0,
          0,
          0,
          0,
          0,
          0,
          0
         ],
         "yaxis": "y13"
        },
        {
         "line": {
          "color": "gray"
         },
         "name": "Cumulé 13055001",
         "type": "scatter",
         "x": [
          "2023-11-01T00:00:00",
          "2023-11-02T00:00:00",
          "2023-11-03T00:00:00",
          "2023-11-04T00:00:00",
          "2023-11-05T00:00:00",
          "2023-11-06T00:00:00",
          "2023-11-07T00:00:00",
          "2023-11-08T00:00:00",
          "2023-11-09T00:00:00",
          "2023-11-10T00:00:00",
          "2023-11-11T00:00:00",
          "2023-11-12T00:00:00",
          "2023-11-13T00:00:00",
          "2023-11-14T00:00:00",
          "2023-11-15T00:00:00",
          "2023-11-16T00:00:00",
          "2023-11-17T00:00:00",
          "2023-11-18T00:00:00",
          "2023-11-19T00:00:00",
          "2023-11-20T00:00:00",
          "2023-11-21T00:00:00",
          "2023-11-22T00:00:00",
          "2023-11-23T00:00:00",
          "2023-11-24T00:00:00",
          "2023-11-25T00:00:00",
          "2023-11-26T00:00:00",
          "2023-11-27T00:00:00",
          "2023-11-28T00:00:00",
          "2023-11-29T00:00:00",
          "2023-11-30T00:00:00",
          "2023-12-01T00:00:00",
          "2023-12-02T00:00:00",
          "2023-12-03T00:00:00",
          "2023-12-04T00:00:00",
          "2023-12-05T00:00:00",
          "2023-12-06T00:00:00",
          "2023-12-07T00:00:00",
          "2023-12-08T00:00:00",
          "2023-12-09T00:00:00",
          "2023-12-10T00:00:00",
          "2023-12-11T00:00:00",
          "2023-12-12T00:00:00",
          "2023-12-13T00:00:00",
          "2023-12-14T00:00:00",
          "2023-12-15T00:00:00",
          "2023-12-16T00:00:00",
          "2023-12-17T00:00:00",
          "2023-12-18T00:00:00",
          "2023-12-19T00:00:00",
          "2023-12-20T00:00:00"
         ],
         "xaxis": "x7",
         "y": [
          0.8,
          5.8,
          7.4,
          8.6,
          8.6,
          8.6,
          8.6,
          8.6,
          17,
          18.4,
          20.799999999999997,
          20.999999999999996,
          20.999999999999996,
          20.999999999999996,
          20.999999999999996,
          21.599999999999998,
          21.599999999999998,
          21.599999999999998,
          21.599999999999998,
          21.599999999999998,
          21.599999999999998,
          21.599999999999998,
          21.599999999999998,
          21.599999999999998,
          21.599999999999998,
          21.599999999999998,
          22.599999999999998,
          22.599999999999998,
          23.2,
          23.2,
          24.4,
          24.4,
          24.4,
          29.4,
          29.4,
          29.4,
          46.099999999999994,
          50.49999999999999,
          51.099999999999994,
          51.099999999999994,
          51.099999999999994,
          51.3,
          51.5,
          51.5,
          51.5,
          51.5,
          51.5,
          51.5,
          51.5,
          51.5
         ],
         "yaxis": "y14"
        },
        {
         "marker": {
          "color": "#750D86",
          "line": {
           "color": "rgb(100,100,100)",
           "width": 1
          }
         },
         "name": "LE LUC",
         "type": "bar",
         "x": [
          "2023-11-01T00:00:00",
          "2023-11-02T00:00:00",
          "2023-11-03T00:00:00",
          "2023-11-04T00:00:00",
          "2023-11-05T00:00:00",
          "2023-11-06T00:00:00",
          "2023-11-07T00:00:00",
          "2023-11-08T00:00:00",
          "2023-11-09T00:00:00",
          "2023-11-10T00:00:00",
          "2023-11-11T00:00:00",
          "2023-11-12T00:00:00",
          "2023-11-13T00:00:00",
          "2023-11-14T00:00:00",
          "2023-11-15T00:00:00",
          "2023-11-16T00:00:00",
          "2023-11-17T00:00:00",
          "2023-11-18T00:00:00",
          "2023-11-19T00:00:00",
          "2023-11-20T00:00:00",
          "2023-11-21T00:00:00",
          "2023-11-22T00:00:00",
          "2023-11-23T00:00:00",
          "2023-11-24T00:00:00",
          "2023-11-25T00:00:00",
          "2023-11-26T00:00:00",
          "2023-11-27T00:00:00",
          "2023-11-28T00:00:00",
          "2023-11-29T00:00:00",
          "2023-11-30T00:00:00",
          "2023-12-01T00:00:00",
          "2023-12-02T00:00:00",
          "2023-12-03T00:00:00",
          "2023-12-04T00:00:00",
          "2023-12-05T00:00:00",
          "2023-12-06T00:00:00",
          "2023-12-07T00:00:00",
          "2023-12-08T00:00:00",
          "2023-12-09T00:00:00",
          "2023-12-10T00:00:00",
          "2023-12-11T00:00:00",
          "2023-12-12T00:00:00",
          "2023-12-13T00:00:00",
          "2023-12-14T00:00:00",
          "2023-12-15T00:00:00",
          "2023-12-16T00:00:00",
          "2023-12-17T00:00:00",
          "2023-12-18T00:00:00",
          "2023-12-19T00:00:00",
          "2023-12-20T00:00:00"
         ],
         "xaxis": "x8",
         "y": [
          2,
          4.6,
          0,
          3.6,
          0,
          0,
          0,
          0,
          6.9,
          0,
          0.6,
          0,
          0,
          0,
          0,
          0.2,
          0,
          0,
          0,
          0,
          0,
          0,
          0,
          0,
          0,
          0,
          0.4,
          0,
          3.2,
          0.2,
          0.6,
          0,
          0,
          15.9,
          0,
          0,
          6.7,
          30.4,
          0,
          0.2,
          0,
          0,
          0,
          0,
          0,
          0,
          0,
          0,
          0,
          0
         ],
         "yaxis": "y15"
        },
        {
         "line": {
          "color": "gray"
         },
         "name": "Cumulé 83031001",
         "type": "scatter",
         "x": [
          "2023-11-01T00:00:00",
          "2023-11-02T00:00:00",
          "2023-11-03T00:00:00",
          "2023-11-04T00:00:00",
          "2023-11-05T00:00:00",
          "2023-11-06T00:00:00",
          "2023-11-07T00:00:00",
          "2023-11-08T00:00:00",
          "2023-11-09T00:00:00",
          "2023-11-10T00:00:00",
          "2023-11-11T00:00:00",
          "2023-11-12T00:00:00",
          "2023-11-13T00:00:00",
          "2023-11-14T00:00:00",
          "2023-11-15T00:00:00",
          "2023-11-16T00:00:00",
          "2023-11-17T00:00:00",
          "2023-11-18T00:00:00",
          "2023-11-19T00:00:00",
          "2023-11-20T00:00:00",
          "2023-11-21T00:00:00",
          "2023-11-22T00:00:00",
          "2023-11-23T00:00:00",
          "2023-11-24T00:00:00",
          "2023-11-25T00:00:00",
          "2023-11-26T00:00:00",
          "2023-11-27T00:00:00",
          "2023-11-28T00:00:00",
          "2023-11-29T00:00:00",
          "2023-11-30T00:00:00",
          "2023-12-01T00:00:00",
          "2023-12-02T00:00:00",
          "2023-12-03T00:00:00",
          "2023-12-04T00:00:00",
          "2023-12-05T00:00:00",
          "2023-12-06T00:00:00",
          "2023-12-07T00:00:00",
          "2023-12-08T00:00:00",
          "2023-12-09T00:00:00",
          "2023-12-10T00:00:00",
          "2023-12-11T00:00:00",
          "2023-12-12T00:00:00",
          "2023-12-13T00:00:00",
          "2023-12-14T00:00:00",
          "2023-12-15T00:00:00",
          "2023-12-16T00:00:00",
          "2023-12-17T00:00:00",
          "2023-12-18T00:00:00",
          "2023-12-19T00:00:00",
          "2023-12-20T00:00:00"
         ],
         "xaxis": "x8",
         "y": [
          2,
          6.6,
          6.6,
          10.2,
          10.2,
          10.2,
          10.2,
          10.2,
          17.1,
          17.1,
          17.700000000000003,
          17.700000000000003,
          17.700000000000003,
          17.700000000000003,
          17.700000000000003,
          17.900000000000002,
          17.900000000000002,
          17.900000000000002,
          17.900000000000002,
          17.900000000000002,
          17.900000000000002,
          17.900000000000002,
          17.900000000000002,
          17.900000000000002,
          17.900000000000002,
          17.900000000000002,
          18.3,
          18.3,
          21.5,
          21.7,
          22.3,
          22.3,
          22.3,
          38.2,
          38.2,
          38.2,
          44.900000000000006,
          75.30000000000001,
          75.30000000000001,
          75.50000000000001,
          75.50000000000001,
          75.50000000000001,
          75.50000000000001,
          75.50000000000001,
          75.50000000000001,
          75.50000000000001,
          75.50000000000001,
          75.50000000000001,
          75.50000000000001,
          75.50000000000001
         ],
         "yaxis": "y16"
        },
        {
         "marker": {
          "color": "#EB663B",
          "line": {
           "color": "rgb(100,100,100)",
           "width": 1
          }
         },
         "name": "FREJUS",
         "type": "bar",
         "x": [
          "2023-11-01T00:00:00",
          "2023-11-02T00:00:00",
          "2023-11-03T00:00:00",
          "2023-11-04T00:00:00",
          "2023-11-05T00:00:00",
          "2023-11-06T00:00:00",
          "2023-11-07T00:00:00",
          "2023-11-08T00:00:00",
          "2023-11-09T00:00:00",
          "2023-11-10T00:00:00",
          "2023-11-11T00:00:00",
          "2023-11-12T00:00:00",
          "2023-11-13T00:00:00",
          "2023-11-14T00:00:00",
          "2023-11-15T00:00:00",
          "2023-11-16T00:00:00",
          "2023-11-17T00:00:00",
          "2023-11-18T00:00:00",
          "2023-11-19T00:00:00",
          "2023-11-20T00:00:00",
          "2023-11-21T00:00:00",
          "2023-11-22T00:00:00",
          "2023-11-23T00:00:00",
          "2023-11-24T00:00:00",
          "2023-11-25T00:00:00",
          "2023-11-26T00:00:00",
          "2023-11-27T00:00:00",
          "2023-11-28T00:00:00",
          "2023-11-29T00:00:00",
          "2023-11-30T00:00:00",
          "2023-12-01T00:00:00",
          "2023-12-02T00:00:00",
          "2023-12-03T00:00:00",
          "2023-12-04T00:00:00",
          "2023-12-05T00:00:00",
          "2023-12-06T00:00:00",
          "2023-12-07T00:00:00",
          "2023-12-08T00:00:00",
          "2023-12-09T00:00:00",
          "2023-12-10T00:00:00",
          "2023-12-11T00:00:00",
          "2023-12-12T00:00:00",
          "2023-12-13T00:00:00",
          "2023-12-14T00:00:00",
          "2023-12-15T00:00:00",
          "2023-12-16T00:00:00",
          "2023-12-17T00:00:00",
          "2023-12-18T00:00:00",
          "2023-12-19T00:00:00",
          "2023-12-20T00:00:00"
         ],
         "xaxis": "x9",
         "y": [
          0.6,
          3.2,
          0,
          9.2,
          0,
          0,
          0,
          0,
          3.8,
          0,
          0.6,
          0,
          0,
          0,
          0,
          0.2,
          0,
          0,
          0,
          0,
          0,
          0,
          0,
          0,
          0,
          0,
          0,
          0,
          2.2,
          0.6,
          0.8,
          0,
          0,
          10,
          0,
          0,
          9.6,
          30,
          0,
          0,
          0,
          0,
          0,
          0,
          0,
          0,
          0,
          0,
          0.2,
          0
         ],
         "yaxis": "y17"
        },
        {
         "line": {
          "color": "gray"
         },
         "name": "Cumulé 83061001",
         "type": "scatter",
         "x": [
          "2023-11-01T00:00:00",
          "2023-11-02T00:00:00",
          "2023-11-03T00:00:00",
          "2023-11-04T00:00:00",
          "2023-11-05T00:00:00",
          "2023-11-06T00:00:00",
          "2023-11-07T00:00:00",
          "2023-11-08T00:00:00",
          "2023-11-09T00:00:00",
          "2023-11-10T00:00:00",
          "2023-11-11T00:00:00",
          "2023-11-12T00:00:00",
          "2023-11-13T00:00:00",
          "2023-11-14T00:00:00",
          "2023-11-15T00:00:00",
          "2023-11-16T00:00:00",
          "2023-11-17T00:00:00",
          "2023-11-18T00:00:00",
          "2023-11-19T00:00:00",
          "2023-11-20T00:00:00",
          "2023-11-21T00:00:00",
          "2023-11-22T00:00:00",
          "2023-11-23T00:00:00",
          "2023-11-24T00:00:00",
          "2023-11-25T00:00:00",
          "2023-11-26T00:00:00",
          "2023-11-27T00:00:00",
          "2023-11-28T00:00:00",
          "2023-11-29T00:00:00",
          "2023-11-30T00:00:00",
          "2023-12-01T00:00:00",
          "2023-12-02T00:00:00",
          "2023-12-03T00:00:00",
          "2023-12-04T00:00:00",
          "2023-12-05T00:00:00",
          "2023-12-06T00:00:00",
          "2023-12-07T00:00:00",
          "2023-12-08T00:00:00",
          "2023-12-09T00:00:00",
          "2023-12-10T00:00:00",
          "2023-12-11T00:00:00",
          "2023-12-12T00:00:00",
          "2023-12-13T00:00:00",
          "2023-12-14T00:00:00",
          "2023-12-15T00:00:00",
          "2023-12-16T00:00:00",
          "2023-12-17T00:00:00",
          "2023-12-18T00:00:00",
          "2023-12-19T00:00:00",
          "2023-12-20T00:00:00"
         ],
         "xaxis": "x9",
         "y": [
          0.6,
          3.8000000000000003,
          3.8000000000000003,
          13,
          13,
          13,
          13,
          13,
          16.8,
          16.8,
          17.400000000000002,
          17.400000000000002,
          17.400000000000002,
          17.400000000000002,
          17.400000000000002,
          17.6,
          17.6,
          17.6,
          17.6,
          17.6,
          17.6,
          17.6,
          17.6,
          17.6,
          17.6,
          17.6,
          17.6,
          17.6,
          19.8,
          20.400000000000002,
          21.200000000000003,
          21.200000000000003,
          21.200000000000003,
          31.200000000000003,
          31.200000000000003,
          31.200000000000003,
          40.800000000000004,
          70.80000000000001,
          70.80000000000001,
          70.80000000000001,
          70.80000000000001,
          70.80000000000001,
          70.80000000000001,
          70.80000000000001,
          70.80000000000001,
          70.80000000000001,
          70.80000000000001,
          70.80000000000001,
          71.00000000000001,
          71.00000000000001
         ],
         "yaxis": "y18"
        },
        {
         "marker": {
          "color": "#511CFB",
          "line": {
           "color": "rgb(100,100,100)",
           "width": 1
          }
         },
         "name": "TOULON",
         "type": "bar",
         "x": [
          "2023-11-01T00:00:00",
          "2023-11-02T00:00:00",
          "2023-11-03T00:00:00",
          "2023-11-04T00:00:00",
          "2023-11-05T00:00:00",
          "2023-11-06T00:00:00",
          "2023-11-07T00:00:00",
          "2023-11-08T00:00:00",
          "2023-11-09T00:00:00",
          "2023-11-10T00:00:00",
          "2023-11-11T00:00:00",
          "2023-11-12T00:00:00",
          "2023-11-13T00:00:00",
          "2023-11-14T00:00:00",
          "2023-11-15T00:00:00",
          "2023-11-16T00:00:00",
          "2023-11-17T00:00:00",
          "2023-11-18T00:00:00",
          "2023-11-19T00:00:00",
          "2023-11-20T00:00:00",
          "2023-11-21T00:00:00",
          "2023-11-22T00:00:00",
          "2023-11-23T00:00:00",
          "2023-11-24T00:00:00",
          "2023-11-25T00:00:00",
          "2023-11-26T00:00:00",
          "2023-11-27T00:00:00",
          "2023-11-28T00:00:00",
          "2023-11-29T00:00:00",
          "2023-11-30T00:00:00",
          "2023-12-01T00:00:00",
          "2023-12-02T00:00:00",
          "2023-12-03T00:00:00",
          "2023-12-04T00:00:00",
          "2023-12-05T00:00:00",
          "2023-12-06T00:00:00",
          "2023-12-07T00:00:00",
          "2023-12-08T00:00:00",
          "2023-12-09T00:00:00",
          "2023-12-10T00:00:00",
          "2023-12-11T00:00:00",
          "2023-12-12T00:00:00",
          "2023-12-13T00:00:00",
          "2023-12-14T00:00:00",
          "2023-12-15T00:00:00",
          "2023-12-16T00:00:00",
          "2023-12-17T00:00:00",
          "2023-12-18T00:00:00",
          "2023-12-19T00:00:00",
          "2023-12-20T00:00:00"
         ],
         "xaxis": "x10",
         "y": [
          0,
          3.8,
          2,
          3.2,
          0,
          0,
          0,
          0,
          12.8,
          0.2,
          2,
          0,
          0,
          0,
          0,
          0.2,
          0,
          0,
          0,
          0,
          0,
          0,
          0,
          0,
          0,
          0,
          0.4,
          0,
          1,
          0.2,
          0.2,
          0,
          0,
          23,
          0,
          0,
          29.2,
          11.8,
          0.2,
          0,
          0,
          0,
          0,
          0,
          0,
          0.2,
          0.2,
          0.2,
          0.2,
          0.2
         ],
         "yaxis": "y19"
        },
        {
         "line": {
          "color": "gray"
         },
         "name": "Cumulé 83137001",
         "type": "scatter",
         "x": [
          "2023-11-01T00:00:00",
          "2023-11-02T00:00:00",
          "2023-11-03T00:00:00",
          "2023-11-04T00:00:00",
          "2023-11-05T00:00:00",
          "2023-11-06T00:00:00",
          "2023-11-07T00:00:00",
          "2023-11-08T00:00:00",
          "2023-11-09T00:00:00",
          "2023-11-10T00:00:00",
          "2023-11-11T00:00:00",
          "2023-11-12T00:00:00",
          "2023-11-13T00:00:00",
          "2023-11-14T00:00:00",
          "2023-11-15T00:00:00",
          "2023-11-16T00:00:00",
          "2023-11-17T00:00:00",
          "2023-11-18T00:00:00",
          "2023-11-19T00:00:00",
          "2023-11-20T00:00:00",
          "2023-11-21T00:00:00",
          "2023-11-22T00:00:00",
          "2023-11-23T00:00:00",
          "2023-11-24T00:00:00",
          "2023-11-25T00:00:00",
          "2023-11-26T00:00:00",
          "2023-11-27T00:00:00",
          "2023-11-28T00:00:00",
          "2023-11-29T00:00:00",
          "2023-11-30T00:00:00",
          "2023-12-01T00:00:00",
          "2023-12-02T00:00:00",
          "2023-12-03T00:00:00",
          "2023-12-04T00:00:00",
          "2023-12-05T00:00:00",
          "2023-12-06T00:00:00",
          "2023-12-07T00:00:00",
          "2023-12-08T00:00:00",
          "2023-12-09T00:00:00",
          "2023-12-10T00:00:00",
          "2023-12-11T00:00:00",
          "2023-12-12T00:00:00",
          "2023-12-13T00:00:00",
          "2023-12-14T00:00:00",
          "2023-12-15T00:00:00",
          "2023-12-16T00:00:00",
          "2023-12-17T00:00:00",
          "2023-12-18T00:00:00",
          "2023-12-19T00:00:00",
          "2023-12-20T00:00:00"
         ],
         "xaxis": "x10",
         "y": [
          0,
          3.8,
          5.8,
          9,
          9,
          9,
          9,
          9,
          21.8,
          22,
          24,
          24,
          24,
          24,
          24,
          24.2,
          24.2,
          24.2,
          24.2,
          24.2,
          24.2,
          24.2,
          24.2,
          24.2,
          24.2,
          24.2,
          24.599999999999998,
          24.599999999999998,
          25.599999999999998,
          25.799999999999997,
          25.999999999999996,
          25.999999999999996,
          25.999999999999996,
          49,
          49,
          49,
          78.2,
          90,
          90.2,
          90.2,
          90.2,
          90.2,
          90.2,
          90.2,
          90.2,
          90.4,
          90.60000000000001,
          90.80000000000001,
          91.00000000000001,
          91.20000000000002
         ],
         "yaxis": "y20"
        },
        {
         "marker": {
          "color": "#00A08B",
          "line": {
           "color": "rgb(100,100,100)",
           "width": 1
          }
         },
         "name": "APT-VITON",
         "type": "bar",
         "x": [
          "2023-11-01T00:00:00",
          "2023-11-02T00:00:00",
          "2023-11-03T00:00:00",
          "2023-11-04T00:00:00",
          "2023-11-05T00:00:00",
          "2023-11-06T00:00:00",
          "2023-11-07T00:00:00",
          "2023-11-08T00:00:00",
          "2023-11-09T00:00:00",
          "2023-11-10T00:00:00",
          "2023-11-11T00:00:00",
          "2023-11-12T00:00:00",
          "2023-11-13T00:00:00",
          "2023-11-14T00:00:00",
          "2023-11-15T00:00:00",
          "2023-11-16T00:00:00",
          "2023-11-17T00:00:00",
          "2023-11-18T00:00:00",
          "2023-11-19T00:00:00",
          "2023-11-20T00:00:00",
          "2023-11-21T00:00:00",
          "2023-11-22T00:00:00",
          "2023-11-23T00:00:00",
          "2023-11-24T00:00:00",
          "2023-11-25T00:00:00",
          "2023-11-26T00:00:00",
          "2023-11-27T00:00:00",
          "2023-11-28T00:00:00",
          "2023-11-29T00:00:00",
          "2023-11-30T00:00:00",
          "2023-12-01T00:00:00",
          "2023-12-02T00:00:00",
          "2023-12-03T00:00:00",
          "2023-12-04T00:00:00",
          "2023-12-05T00:00:00",
          "2023-12-06T00:00:00",
          "2023-12-07T00:00:00",
          "2023-12-08T00:00:00",
          "2023-12-09T00:00:00",
          "2023-12-10T00:00:00",
          "2023-12-11T00:00:00",
          "2023-12-12T00:00:00",
          "2023-12-13T00:00:00",
          "2023-12-14T00:00:00",
          "2023-12-15T00:00:00",
          "2023-12-16T00:00:00",
          "2023-12-17T00:00:00",
          "2023-12-18T00:00:00",
          "2023-12-19T00:00:00",
          "2023-12-20T00:00:00"
         ],
         "xaxis": "x11",
         "y": [
          0.6,
          6.6,
          2.2,
          4.6,
          0.2,
          0.2,
          0.2,
          0.4,
          11,
          1.2,
          3.4,
          0.2,
          0,
          0,
          0,
          1,
          0.2,
          0.2,
          0,
          0,
          0,
          0,
          0,
          0,
          0,
          0,
          1.8,
          0,
          1.2,
          2.4,
          8.8,
          0,
          0,
          12.9,
          0.2,
          0.2,
          17.1,
          15.2,
          2,
          0.6,
          1,
          2,
          0.4,
          0,
          0,
          0,
          0,
          0,
          0,
          0
         ],
         "yaxis": "y21"
        },
        {
         "line": {
          "color": "gray"
         },
         "name": "Cumulé 84003002",
         "type": "scatter",
         "x": [
          "2023-11-01T00:00:00",
          "2023-11-02T00:00:00",
          "2023-11-03T00:00:00",
          "2023-11-04T00:00:00",
          "2023-11-05T00:00:00",
          "2023-11-06T00:00:00",
          "2023-11-07T00:00:00",
          "2023-11-08T00:00:00",
          "2023-11-09T00:00:00",
          "2023-11-10T00:00:00",
          "2023-11-11T00:00:00",
          "2023-11-12T00:00:00",
          "2023-11-13T00:00:00",
          "2023-11-14T00:00:00",
          "2023-11-15T00:00:00",
          "2023-11-16T00:00:00",
          "2023-11-17T00:00:00",
          "2023-11-18T00:00:00",
          "2023-11-19T00:00:00",
          "2023-11-20T00:00:00",
          "2023-11-21T00:00:00",
          "2023-11-22T00:00:00",
          "2023-11-23T00:00:00",
          "2023-11-24T00:00:00",
          "2023-11-25T00:00:00",
          "2023-11-26T00:00:00",
          "2023-11-27T00:00:00",
          "2023-11-28T00:00:00",
          "2023-11-29T00:00:00",
          "2023-11-30T00:00:00",
          "2023-12-01T00:00:00",
          "2023-12-02T00:00:00",
          "2023-12-03T00:00:00",
          "2023-12-04T00:00:00",
          "2023-12-05T00:00:00",
          "2023-12-06T00:00:00",
          "2023-12-07T00:00:00",
          "2023-12-08T00:00:00",
          "2023-12-09T00:00:00",
          "2023-12-10T00:00:00",
          "2023-12-11T00:00:00",
          "2023-12-12T00:00:00",
          "2023-12-13T00:00:00",
          "2023-12-14T00:00:00",
          "2023-12-15T00:00:00",
          "2023-12-16T00:00:00",
          "2023-12-17T00:00:00",
          "2023-12-18T00:00:00",
          "2023-12-19T00:00:00",
          "2023-12-20T00:00:00"
         ],
         "xaxis": "x11",
         "y": [
          0.6,
          7.199999999999999,
          9.399999999999999,
          13.999999999999998,
          14.199999999999998,
          14.399999999999997,
          14.599999999999996,
          14.999999999999996,
          25.999999999999996,
          27.199999999999996,
          30.599999999999994,
          30.799999999999994,
          30.799999999999994,
          30.799999999999994,
          30.799999999999994,
          31.799999999999994,
          31.999999999999993,
          32.199999999999996,
          32.199999999999996,
          32.199999999999996,
          32.199999999999996,
          32.199999999999996,
          32.199999999999996,
          32.199999999999996,
          32.199999999999996,
          32.199999999999996,
          33.99999999999999,
          33.99999999999999,
          35.199999999999996,
          37.599999999999994,
          46.39999999999999,
          46.39999999999999,
          46.39999999999999,
          59.29999999999999,
          59.49999999999999,
          59.699999999999996,
          76.8,
          92,
          94,
          94.6,
          95.6,
          97.6,
          98,
          98,
          98,
          98,
          98,
          98,
          98,
          98
         ],
         "yaxis": "y22"
        },
        {
         "marker": {
          "color": "#FB00D1",
          "line": {
           "color": "rgb(100,100,100)",
           "width": 1
          }
         },
         "name": "LA BASTIDE DES JOURDANS",
         "type": "bar",
         "x": [
          "2023-11-01T00:00:00",
          "2023-11-02T00:00:00",
          "2023-11-03T00:00:00",
          "2023-11-04T00:00:00",
          "2023-11-05T00:00:00",
          "2023-11-06T00:00:00",
          "2023-11-07T00:00:00",
          "2023-11-08T00:00:00",
          "2023-11-09T00:00:00",
          "2023-11-10T00:00:00",
          "2023-11-11T00:00:00",
          "2023-11-12T00:00:00",
          "2023-11-13T00:00:00",
          "2023-11-14T00:00:00",
          "2023-11-15T00:00:00",
          "2023-11-16T00:00:00",
          "2023-11-17T00:00:00",
          "2023-11-18T00:00:00",
          "2023-11-19T00:00:00",
          "2023-11-20T00:00:00",
          "2023-11-21T00:00:00",
          "2023-11-22T00:00:00",
          "2023-11-23T00:00:00",
          "2023-11-24T00:00:00",
          "2023-11-25T00:00:00",
          "2023-11-26T00:00:00",
          "2023-11-27T00:00:00",
          "2023-11-28T00:00:00",
          "2023-11-29T00:00:00",
          "2023-11-30T00:00:00",
          "2023-12-01T00:00:00",
          "2023-12-02T00:00:00",
          "2023-12-03T00:00:00",
          "2023-12-04T00:00:00",
          "2023-12-05T00:00:00",
          "2023-12-06T00:00:00",
          "2023-12-07T00:00:00",
          "2023-12-08T00:00:00",
          "2023-12-09T00:00:00",
          "2023-12-10T00:00:00",
          "2023-12-11T00:00:00",
          "2023-12-12T00:00:00",
          "2023-12-13T00:00:00",
          "2023-12-14T00:00:00",
          "2023-12-15T00:00:00",
          "2023-12-16T00:00:00",
          "2023-12-17T00:00:00",
          "2023-12-18T00:00:00",
          "2023-12-19T00:00:00",
          "2023-12-20T00:00:00"
         ],
         "xaxis": "x12",
         "y": [
          0.2,
          3.2,
          0.6,
          2.2,
          0,
          0,
          0,
          0,
          7,
          1.2,
          3,
          0,
          0,
          0,
          0,
          0.6,
          0,
          0,
          0.2,
          0,
          0,
          0,
          0,
          0.2,
          0,
          0,
          1.8,
          0,
          1.4,
          0.4,
          5,
          0,
          0,
          10.8,
          0,
          0,
          12.2,
          13,
          0.8,
          0.2,
          0.4,
          0.2,
          0,
          0,
          0,
          0,
          0,
          0,
          0,
          0
         ],
         "yaxis": "y23"
        },
        {
         "line": {
          "color": "gray"
         },
         "name": "Cumulé 84009002",
         "type": "scatter",
         "x": [
          "2023-11-01T00:00:00",
          "2023-11-02T00:00:00",
          "2023-11-03T00:00:00",
          "2023-11-04T00:00:00",
          "2023-11-05T00:00:00",
          "2023-11-06T00:00:00",
          "2023-11-07T00:00:00",
          "2023-11-08T00:00:00",
          "2023-11-09T00:00:00",
          "2023-11-10T00:00:00",
          "2023-11-11T00:00:00",
          "2023-11-12T00:00:00",
          "2023-11-13T00:00:00",
          "2023-11-14T00:00:00",
          "2023-11-15T00:00:00",
          "2023-11-16T00:00:00",
          "2023-11-17T00:00:00",
          "2023-11-18T00:00:00",
          "2023-11-19T00:00:00",
          "2023-11-20T00:00:00",
          "2023-11-21T00:00:00",
          "2023-11-22T00:00:00",
          "2023-11-23T00:00:00",
          "2023-11-24T00:00:00",
          "2023-11-25T00:00:00",
          "2023-11-26T00:00:00",
          "2023-11-27T00:00:00",
          "2023-11-28T00:00:00",
          "2023-11-29T00:00:00",
          "2023-11-30T00:00:00",
          "2023-12-01T00:00:00",
          "2023-12-02T00:00:00",
          "2023-12-03T00:00:00",
          "2023-12-04T00:00:00",
          "2023-12-05T00:00:00",
          "2023-12-06T00:00:00",
          "2023-12-07T00:00:00",
          "2023-12-08T00:00:00",
          "2023-12-09T00:00:00",
          "2023-12-10T00:00:00",
          "2023-12-11T00:00:00",
          "2023-12-12T00:00:00",
          "2023-12-13T00:00:00",
          "2023-12-14T00:00:00",
          "2023-12-15T00:00:00",
          "2023-12-16T00:00:00",
          "2023-12-17T00:00:00",
          "2023-12-18T00:00:00",
          "2023-12-19T00:00:00",
          "2023-12-20T00:00:00"
         ],
         "xaxis": "x12",
         "y": [
          0.2,
          3.4000000000000004,
          4,
          6.2,
          6.2,
          6.2,
          6.2,
          6.2,
          13.2,
          14.399999999999999,
          17.4,
          17.4,
          17.4,
          17.4,
          17.4,
          18,
          18,
          18,
          18.2,
          18.2,
          18.2,
          18.2,
          18.2,
          18.4,
          18.4,
          18.4,
          20.2,
          20.2,
          21.599999999999998,
          21.999999999999996,
          26.999999999999996,
          26.999999999999996,
          26.999999999999996,
          37.8,
          37.8,
          37.8,
          50,
          63,
          63.8,
          64,
          64.4,
          64.60000000000001,
          64.60000000000001,
          64.60000000000001,
          64.60000000000001,
          64.60000000000001,
          64.60000000000001,
          64.60000000000001,
          64.60000000000001,
          64.60000000000001
         ],
         "yaxis": "y24"
        }
       ],
       "layout": {
        "annotations": [
         {
          "font": {
           "size": 16
          },
          "showarrow": false,
          "text": "04088001 - FORCALQUIER",
          "x": 0.47,
          "xanchor": "center",
          "xref": "paper",
          "y": 1,
          "yanchor": "bottom",
          "yref": "paper"
         },
         {
          "font": {
           "size": 16
          },
          "showarrow": false,
          "text": "04039001 - CASTELLANE",
          "x": 0.47,
          "xanchor": "center",
          "xref": "paper",
          "y": 0.9131944444444444,
          "yanchor": "bottom",
          "yref": "paper"
         },
         {
          "font": {
           "size": 16
          },
          "showarrow": false,
          "text": "04230001 - VALENSOLE",
          "x": 0.47,
          "xanchor": "center",
          "xref": "paper",
          "y": 0.8263888888888888,
          "yanchor": "bottom",
          "yref": "paper"
         },
         {
          "font": {
           "size": 16
          },
          "showarrow": false,
          "text": "13001009 - AIX EN PROVENCE",
          "x": 0.47,
          "xanchor": "center",
          "xref": "paper",
          "y": 0.7395833333333333,
          "yanchor": "bottom",
          "yref": "paper"
         },
         {
          "font": {
           "size": 16
          },
          "showarrow": false,
          "text": "13111002 - VAUVENARGUES",
          "x": 0.47,
          "xanchor": "center",
          "xref": "paper",
          "y": 0.6527777777777777,
          "yanchor": "bottom",
          "yref": "paper"
         },
         {
          "font": {
           "size": 16
          },
          "showarrow": false,
          "text": "13103001 - SALON DE PROVENCE",
          "x": 0.47,
          "xanchor": "center",
          "xref": "paper",
          "y": 0.5659722222222223,
          "yanchor": "bottom",
          "yref": "paper"
         },
         {
          "font": {
           "size": 16
          },
          "showarrow": false,
          "text": "13055001 - MARSEILLE-OBS",
          "x": 0.47,
          "xanchor": "center",
          "xref": "paper",
          "y": 0.4791666666666667,
          "yanchor": "bottom",
          "yref": "paper"
         },
         {
          "font": {
           "size": 16
          },
          "showarrow": false,
          "text": "83031001 - LE LUC",
          "x": 0.47,
          "xanchor": "center",
          "xref": "paper",
          "y": 0.3923611111111111,
          "yanchor": "bottom",
          "yref": "paper"
         },
         {
          "font": {
           "size": 16
          },
          "showarrow": false,
          "text": "83061001 - FREJUS",
          "x": 0.47,
          "xanchor": "center",
          "xref": "paper",
          "y": 0.3055555555555556,
          "yanchor": "bottom",
          "yref": "paper"
         },
         {
          "font": {
           "size": 16
          },
          "showarrow": false,
          "text": "83137001 - TOULON",
          "x": 0.47,
          "xanchor": "center",
          "xref": "paper",
          "y": 0.21875,
          "yanchor": "bottom",
          "yref": "paper"
         },
         {
          "font": {
           "size": 16
          },
          "showarrow": false,
          "text": "84003002 - APT-VITON",
          "x": 0.47,
          "xanchor": "center",
          "xref": "paper",
          "y": 0.13194444444444445,
          "yanchor": "bottom",
          "yref": "paper"
         },
         {
          "font": {
           "size": 16
          },
          "showarrow": false,
          "text": "84009002 - LA BASTIDE DES JOURDANS",
          "x": 0.47,
          "xanchor": "center",
          "xref": "paper",
          "y": 0.045138888888888895,
          "yanchor": "bottom",
          "yref": "paper"
         }
        ],
        "height": 1596,
        "hoverlabel": {
         "bgcolor": "rgba(255,255,255,0.6)"
        },
        "hovermode": "x unified",
        "template": {
         "data": {
          "bar": [
           {
            "error_x": {
             "color": "#2a3f5f"
            },
            "error_y": {
             "color": "#2a3f5f"
            },
            "marker": {
             "line": {
              "color": "#E5ECF6",
              "width": 0.5
             },
             "pattern": {
              "fillmode": "overlay",
              "size": 10,
              "solidity": 0.2
             }
            },
            "type": "bar"
           }
          ],
          "barpolar": [
           {
            "marker": {
             "line": {
              "color": "#E5ECF6",
              "width": 0.5
             },
             "pattern": {
              "fillmode": "overlay",
              "size": 10,
              "solidity": 0.2
             }
            },
            "type": "barpolar"
           }
          ],
          "carpet": [
           {
            "aaxis": {
             "endlinecolor": "#2a3f5f",
             "gridcolor": "white",
             "linecolor": "white",
             "minorgridcolor": "white",
             "startlinecolor": "#2a3f5f"
            },
            "baxis": {
             "endlinecolor": "#2a3f5f",
             "gridcolor": "white",
             "linecolor": "white",
             "minorgridcolor": "white",
             "startlinecolor": "#2a3f5f"
            },
            "type": "carpet"
           }
          ],
          "choropleth": [
           {
            "colorbar": {
             "outlinewidth": 0,
             "ticks": ""
            },
            "type": "choropleth"
           }
          ],
          "contour": [
           {
            "colorbar": {
             "outlinewidth": 0,
             "ticks": ""
            },
            "colorscale": [
             [
              0,
              "#0d0887"
             ],
             [
              0.1111111111111111,
              "#46039f"
             ],
             [
              0.2222222222222222,
              "#7201a8"
             ],
             [
              0.3333333333333333,
              "#9c179e"
             ],
             [
              0.4444444444444444,
              "#bd3786"
             ],
             [
              0.5555555555555556,
              "#d8576b"
             ],
             [
              0.6666666666666666,
              "#ed7953"
             ],
             [
              0.7777777777777778,
              "#fb9f3a"
             ],
             [
              0.8888888888888888,
              "#fdca26"
             ],
             [
              1,
              "#f0f921"
             ]
            ],
            "type": "contour"
           }
          ],
          "contourcarpet": [
           {
            "colorbar": {
             "outlinewidth": 0,
             "ticks": ""
            },
            "type": "contourcarpet"
           }
          ],
          "heatmap": [
           {
            "colorbar": {
             "outlinewidth": 0,
             "ticks": ""
            },
            "colorscale": [
             [
              0,
              "#0d0887"
             ],
             [
              0.1111111111111111,
              "#46039f"
             ],
             [
              0.2222222222222222,
              "#7201a8"
             ],
             [
              0.3333333333333333,
              "#9c179e"
             ],
             [
              0.4444444444444444,
              "#bd3786"
             ],
             [
              0.5555555555555556,
              "#d8576b"
             ],
             [
              0.6666666666666666,
              "#ed7953"
             ],
             [
              0.7777777777777778,
              "#fb9f3a"
             ],
             [
              0.8888888888888888,
              "#fdca26"
             ],
             [
              1,
              "#f0f921"
             ]
            ],
            "type": "heatmap"
           }
          ],
          "heatmapgl": [
           {
            "colorbar": {
             "outlinewidth": 0,
             "ticks": ""
            },
            "colorscale": [
             [
              0,
              "#0d0887"
             ],
             [
              0.1111111111111111,
              "#46039f"
             ],
             [
              0.2222222222222222,
              "#7201a8"
             ],
             [
              0.3333333333333333,
              "#9c179e"
             ],
             [
              0.4444444444444444,
              "#bd3786"
             ],
             [
              0.5555555555555556,
              "#d8576b"
             ],
             [
              0.6666666666666666,
              "#ed7953"
             ],
             [
              0.7777777777777778,
              "#fb9f3a"
             ],
             [
              0.8888888888888888,
              "#fdca26"
             ],
             [
              1,
              "#f0f921"
             ]
            ],
            "type": "heatmapgl"
           }
          ],
          "histogram": [
           {
            "marker": {
             "pattern": {
              "fillmode": "overlay",
              "size": 10,
              "solidity": 0.2
             }
            },
            "type": "histogram"
           }
          ],
          "histogram2d": [
           {
            "colorbar": {
             "outlinewidth": 0,
             "ticks": ""
            },
            "colorscale": [
             [
              0,
              "#0d0887"
             ],
             [
              0.1111111111111111,
              "#46039f"
             ],
             [
              0.2222222222222222,
              "#7201a8"
             ],
             [
              0.3333333333333333,
              "#9c179e"
             ],
             [
              0.4444444444444444,
              "#bd3786"
             ],
             [
              0.5555555555555556,
              "#d8576b"
             ],
             [
              0.6666666666666666,
              "#ed7953"
             ],
             [
              0.7777777777777778,
              "#fb9f3a"
             ],
             [
              0.8888888888888888,
              "#fdca26"
             ],
             [
              1,
              "#f0f921"
             ]
            ],
            "type": "histogram2d"
           }
          ],
          "histogram2dcontour": [
           {
            "colorbar": {
             "outlinewidth": 0,
             "ticks": ""
            },
            "colorscale": [
             [
              0,
              "#0d0887"
             ],
             [
              0.1111111111111111,
              "#46039f"
             ],
             [
              0.2222222222222222,
              "#7201a8"
             ],
             [
              0.3333333333333333,
              "#9c179e"
             ],
             [
              0.4444444444444444,
              "#bd3786"
             ],
             [
              0.5555555555555556,
              "#d8576b"
             ],
             [
              0.6666666666666666,
              "#ed7953"
             ],
             [
              0.7777777777777778,
              "#fb9f3a"
             ],
             [
              0.8888888888888888,
              "#fdca26"
             ],
             [
              1,
              "#f0f921"
             ]
            ],
            "type": "histogram2dcontour"
           }
          ],
          "mesh3d": [
           {
            "colorbar": {
             "outlinewidth": 0,
             "ticks": ""
            },
            "type": "mesh3d"
           }
          ],
          "parcoords": [
           {
            "line": {
             "colorbar": {
              "outlinewidth": 0,
              "ticks": ""
             }
            },
            "type": "parcoords"
           }
          ],
          "pie": [
           {
            "automargin": true,
            "type": "pie"
           }
          ],
          "scatter": [
           {
            "marker": {
             "colorbar": {
              "outlinewidth": 0,
              "ticks": ""
             }
            },
            "type": "scatter"
           }
          ],
          "scatter3d": [
           {
            "line": {
             "colorbar": {
              "outlinewidth": 0,
              "ticks": ""
             }
            },
            "marker": {
             "colorbar": {
              "outlinewidth": 0,
              "ticks": ""
             }
            },
            "type": "scatter3d"
           }
          ],
          "scattercarpet": [
           {
            "marker": {
             "colorbar": {
              "outlinewidth": 0,
              "ticks": ""
             }
            },
            "type": "scattercarpet"
           }
          ],
          "scattergeo": [
           {
            "marker": {
             "colorbar": {
              "outlinewidth": 0,
              "ticks": ""
             }
            },
            "type": "scattergeo"
           }
          ],
          "scattergl": [
           {
            "marker": {
             "colorbar": {
              "outlinewidth": 0,
              "ticks": ""
             }
            },
            "type": "scattergl"
           }
          ],
          "scattermapbox": [
           {
            "marker": {
             "colorbar": {
              "outlinewidth": 0,
              "ticks": ""
             }
            },
            "type": "scattermapbox"
           }
          ],
          "scatterpolar": [
           {
            "marker": {
             "colorbar": {
              "outlinewidth": 0,
              "ticks": ""
             }
            },
            "type": "scatterpolar"
           }
          ],
          "scatterpolargl": [
           {
            "marker": {
             "colorbar": {
              "outlinewidth": 0,
              "ticks": ""
             }
            },
            "type": "scatterpolargl"
           }
          ],
          "scatterternary": [
           {
            "marker": {
             "colorbar": {
              "outlinewidth": 0,
              "ticks": ""
             }
            },
            "type": "scatterternary"
           }
          ],
          "surface": [
           {
            "colorbar": {
             "outlinewidth": 0,
             "ticks": ""
            },
            "colorscale": [
             [
              0,
              "#0d0887"
             ],
             [
              0.1111111111111111,
              "#46039f"
             ],
             [
              0.2222222222222222,
              "#7201a8"
             ],
             [
              0.3333333333333333,
              "#9c179e"
             ],
             [
              0.4444444444444444,
              "#bd3786"
             ],
             [
              0.5555555555555556,
              "#d8576b"
             ],
             [
              0.6666666666666666,
              "#ed7953"
             ],
             [
              0.7777777777777778,
              "#fb9f3a"
             ],
             [
              0.8888888888888888,
              "#fdca26"
             ],
             [
              1,
              "#f0f921"
             ]
            ],
            "type": "surface"
           }
          ],
          "table": [
           {
            "cells": {
             "fill": {
              "color": "#EBF0F8"
             },
             "line": {
              "color": "white"
             }
            },
            "header": {
             "fill": {
              "color": "#C8D4E3"
             },
             "line": {
              "color": "white"
             }
            },
            "type": "table"
           }
          ]
         },
         "layout": {
          "annotationdefaults": {
           "arrowcolor": "#2a3f5f",
           "arrowhead": 0,
           "arrowwidth": 1
          },
          "autotypenumbers": "strict",
          "coloraxis": {
           "colorbar": {
            "outlinewidth": 0,
            "ticks": ""
           }
          },
          "colorscale": {
           "diverging": [
            [
             0,
             "#8e0152"
            ],
            [
             0.1,
             "#c51b7d"
            ],
            [
             0.2,
             "#de77ae"
            ],
            [
             0.3,
             "#f1b6da"
            ],
            [
             0.4,
             "#fde0ef"
            ],
            [
             0.5,
             "#f7f7f7"
            ],
            [
             0.6,
             "#e6f5d0"
            ],
            [
             0.7,
             "#b8e186"
            ],
            [
             0.8,
             "#7fbc41"
            ],
            [
             0.9,
             "#4d9221"
            ],
            [
             1,
             "#276419"
            ]
           ],
           "sequential": [
            [
             0,
             "#0d0887"
            ],
            [
             0.1111111111111111,
             "#46039f"
            ],
            [
             0.2222222222222222,
             "#7201a8"
            ],
            [
             0.3333333333333333,
             "#9c179e"
            ],
            [
             0.4444444444444444,
             "#bd3786"
            ],
            [
             0.5555555555555556,
             "#d8576b"
            ],
            [
             0.6666666666666666,
             "#ed7953"
            ],
            [
             0.7777777777777778,
             "#fb9f3a"
            ],
            [
             0.8888888888888888,
             "#fdca26"
            ],
            [
             1,
             "#f0f921"
            ]
           ],
           "sequentialminus": [
            [
             0,
             "#0d0887"
            ],
            [
             0.1111111111111111,
             "#46039f"
            ],
            [
             0.2222222222222222,
             "#7201a8"
            ],
            [
             0.3333333333333333,
             "#9c179e"
            ],
            [
             0.4444444444444444,
             "#bd3786"
            ],
            [
             0.5555555555555556,
             "#d8576b"
            ],
            [
             0.6666666666666666,
             "#ed7953"
            ],
            [
             0.7777777777777778,
             "#fb9f3a"
            ],
            [
             0.8888888888888888,
             "#fdca26"
            ],
            [
             1,
             "#f0f921"
            ]
           ]
          },
          "colorway": [
           "#636efa",
           "#EF553B",
           "#00cc96",
           "#ab63fa",
           "#FFA15A",
           "#19d3f3",
           "#FF6692",
           "#B6E880",
           "#FF97FF",
           "#FECB52"
          ],
          "font": {
           "color": "#2a3f5f"
          },
          "geo": {
           "bgcolor": "white",
           "lakecolor": "white",
           "landcolor": "#E5ECF6",
           "showlakes": true,
           "showland": true,
           "subunitcolor": "white"
          },
          "hoverlabel": {
           "align": "left"
          },
          "hovermode": "closest",
          "mapbox": {
           "style": "light"
          },
          "paper_bgcolor": "white",
          "plot_bgcolor": "#E5ECF6",
          "polar": {
           "angularaxis": {
            "gridcolor": "white",
            "linecolor": "white",
            "ticks": ""
           },
           "bgcolor": "#E5ECF6",
           "radialaxis": {
            "gridcolor": "white",
            "linecolor": "white",
            "ticks": ""
           }
          },
          "scene": {
           "xaxis": {
            "backgroundcolor": "#E5ECF6",
            "gridcolor": "white",
            "gridwidth": 2,
            "linecolor": "white",
            "showbackground": true,
            "ticks": "",
            "zerolinecolor": "white"
           },
           "yaxis": {
            "backgroundcolor": "#E5ECF6",
            "gridcolor": "white",
            "gridwidth": 2,
            "linecolor": "white",
            "showbackground": true,
            "ticks": "",
            "zerolinecolor": "white"
           },
           "zaxis": {
            "backgroundcolor": "#E5ECF6",
            "gridcolor": "white",
            "gridwidth": 2,
            "linecolor": "white",
            "showbackground": true,
            "ticks": "",
            "zerolinecolor": "white"
           }
          },
          "shapedefaults": {
           "line": {
            "color": "#2a3f5f"
           }
          },
          "ternary": {
           "aaxis": {
            "gridcolor": "white",
            "linecolor": "white",
            "ticks": ""
           },
           "baxis": {
            "gridcolor": "white",
            "linecolor": "white",
            "ticks": ""
           },
           "bgcolor": "#E5ECF6",
           "caxis": {
            "gridcolor": "white",
            "linecolor": "white",
            "ticks": ""
           }
          },
          "title": {
           "x": 0.05
          },
          "xaxis": {
           "automargin": true,
           "gridcolor": "white",
           "linecolor": "white",
           "ticks": "",
           "title": {
            "standoff": 15
           },
           "zerolinecolor": "white",
           "zerolinewidth": 2
          },
          "yaxis": {
           "automargin": true,
           "gridcolor": "white",
           "linecolor": "white",
           "ticks": "",
           "title": {
            "standoff": 15
           },
           "zerolinecolor": "white",
           "zerolinewidth": 2
          }
         }
        },
        "title": {
         "text": "meteo.data - Précipitations qutotidiennes (mm) - 2023-12-22",
         "x": 0.5
        },
        "width": 1000,
        "xaxis": {
         "anchor": "y",
         "domain": [
          0,
          0.94
         ],
         "dtick": "M1",
         "matches": "x",
         "showgrid": true,
         "tickformat": "%d %b\n%Y",
         "tickmode": "linear"
        },
        "xaxis10": {
         "anchor": "y19",
         "domain": [
          0,
          0.94
         ],
         "dtick": "M1",
         "matches": "x",
         "showgrid": true,
         "tickformat": "%d %b\n%Y",
         "tickmode": "linear"
        },
        "xaxis11": {
         "anchor": "y21",
         "domain": [
          0,
          0.94
         ],
         "dtick": "M1",
         "matches": "x",
         "showgrid": true,
         "tickformat": "%d %b\n%Y",
         "tickmode": "linear"
        },
        "xaxis12": {
         "anchor": "y23",
         "domain": [
          0,
          0.94
         ],
         "dtick": "M1",
         "matches": "x",
         "range": [
          "2023-11-01T00:00:00",
          "2023-12-31T00:00:00"
         ],
         "showgrid": true,
         "tickformat": "%d %b\n%Y",
         "tickmode": "linear"
        },
        "xaxis2": {
         "anchor": "y3",
         "domain": [
          0,
          0.94
         ],
         "dtick": "M1",
         "matches": "x",
         "showgrid": true,
         "tickformat": "%d %b\n%Y",
         "tickmode": "linear"
        },
        "xaxis3": {
         "anchor": "y5",
         "domain": [
          0,
          0.94
         ],
         "dtick": "M1",
         "matches": "x",
         "showgrid": true,
         "tickformat": "%d %b\n%Y",
         "tickmode": "linear"
        },
        "xaxis4": {
         "anchor": "y7",
         "domain": [
          0,
          0.94
         ],
         "dtick": "M1",
         "matches": "x",
         "showgrid": true,
         "tickformat": "%d %b\n%Y",
         "tickmode": "linear"
        },
        "xaxis5": {
         "anchor": "y9",
         "domain": [
          0,
          0.94
         ],
         "dtick": "M1",
         "matches": "x",
         "showgrid": true,
         "tickformat": "%d %b\n%Y",
         "tickmode": "linear"
        },
        "xaxis6": {
         "anchor": "y11",
         "domain": [
          0,
          0.94
         ],
         "dtick": "M1",
         "matches": "x",
         "showgrid": true,
         "tickformat": "%d %b\n%Y",
         "tickmode": "linear"
        },
        "xaxis7": {
         "anchor": "y13",
         "domain": [
          0,
          0.94
         ],
         "dtick": "M1",
         "matches": "x",
         "showgrid": true,
         "tickformat": "%d %b\n%Y",
         "tickmode": "linear"
        },
        "xaxis8": {
         "anchor": "y15",
         "domain": [
          0,
          0.94
         ],
         "dtick": "M1",
         "matches": "x",
         "showgrid": true,
         "tickformat": "%d %b\n%Y",
         "tickmode": "linear"
        },
        "xaxis9": {
         "anchor": "y17",
         "domain": [
          0,
          0.94
         ],
         "dtick": "M1",
         "matches": "x",
         "showgrid": true,
         "tickformat": "%d %b\n%Y",
         "tickmode": "linear"
        },
        "yaxis": {
         "anchor": "x",
         "domain": [
          0.9548611111111112,
          1
         ],
         "range": [
          0,
          30.4
         ]
        },
        "yaxis10": {
         "anchor": "x5",
         "overlaying": "y9",
         "range": [
          0,
          178.5
         ],
         "showgrid": false,
         "side": "right",
         "title": {
          "text": "Cumulé"
         }
        },
        "yaxis11": {
         "anchor": "x6",
         "domain": [
          0.5208333333333334,
          0.5659722222222223
         ],
         "range": [
          0,
          30.4
         ]
        },
        "yaxis12": {
         "anchor": "x6",
         "overlaying": "y11",
         "range": [
          0,
          178.5
         ],
         "showgrid": false,
         "side": "right",
         "title": {
          "text": "Cumulé"
         }
        },
        "yaxis13": {
         "anchor": "x7",
         "domain": [
          0.4340277777777778,
          0.4791666666666667
         ],
         "range": [
          0,
          30.4
         ]
        },
        "yaxis14": {
         "anchor": "x7",
         "overlaying": "y13",
         "range": [
          0,
          178.5
         ],
         "showgrid": false,
         "side": "right",
         "title": {
          "text": "Cumulé"
         }
        },
        "yaxis15": {
         "anchor": "x8",
         "domain": [
          0.3472222222222222,
          0.3923611111111111
         ],
         "range": [
          0,
          30.4
         ]
        },
        "yaxis16": {
         "anchor": "x8",
         "overlaying": "y15",
         "range": [
          0,
          178.5
         ],
         "showgrid": false,
         "side": "right",
         "title": {
          "text": "Cumulé"
         }
        },
        "yaxis17": {
         "anchor": "x9",
         "domain": [
          0.2604166666666667,
          0.3055555555555556
         ],
         "range": [
          0,
          30.4
         ]
        },
        "yaxis18": {
         "anchor": "x9",
         "overlaying": "y17",
         "range": [
          0,
          178.5
         ],
         "showgrid": false,
         "side": "right",
         "title": {
          "text": "Cumulé"
         }
        },
        "yaxis19": {
         "anchor": "x10",
         "domain": [
          0.1736111111111111,
          0.21875
         ],
         "range": [
          0,
          30.4
         ]
        },
        "yaxis2": {
         "anchor": "x",
         "overlaying": "y",
         "range": [
          0,
          178.5
         ],
         "showgrid": false,
         "side": "right",
         "title": {
          "text": "Cumulé"
         }
        },
        "yaxis20": {
         "anchor": "x10",
         "overlaying": "y19",
         "range": [
          0,
          178.5
         ],
         "showgrid": false,
         "side": "right",
         "title": {
          "text": "Cumulé"
         }
        },
        "yaxis21": {
         "anchor": "x11",
         "domain": [
          0.08680555555555555,
          0.13194444444444445
         ],
         "range": [
          0,
          30.4
         ]
        },
        "yaxis22": {
         "anchor": "x11",
         "overlaying": "y21",
         "range": [
          0,
          178.5
         ],
         "showgrid": false,
         "side": "right",
         "title": {
          "text": "Cumulé"
         }
        },
        "yaxis23": {
         "anchor": "x12",
         "domain": [
          0,
          0.045138888888888895
         ],
         "range": [
          0,
          30.4
         ]
        },
        "yaxis24": {
         "anchor": "x12",
         "overlaying": "y23",
         "range": [
          0,
          178.5
         ],
         "showgrid": false,
         "side": "right",
         "title": {
          "text": "Cumulé"
         }
        },
        "yaxis3": {
         "anchor": "x2",
         "domain": [
          0.8680555555555556,
          0.9131944444444444
         ],
         "range": [
          0,
          30.4
         ]
        },
        "yaxis4": {
         "anchor": "x2",
         "overlaying": "y3",
         "range": [
          0,
          178.5
         ],
         "showgrid": false,
         "side": "right",
         "title": {
          "text": "Cumulé"
         }
        },
        "yaxis5": {
         "anchor": "x3",
         "domain": [
          0.78125,
          0.8263888888888888
         ],
         "range": [
          0,
          30.4
         ]
        },
        "yaxis6": {
         "anchor": "x3",
         "overlaying": "y5",
         "range": [
          0,
          178.5
         ],
         "showgrid": false,
         "side": "right",
         "title": {
          "text": "Cumulé"
         }
        },
        "yaxis7": {
         "anchor": "x4",
         "domain": [
          0.6944444444444444,
          0.7395833333333333
         ],
         "range": [
          0,
          30.4
         ]
        },
        "yaxis8": {
         "anchor": "x4",
         "overlaying": "y7",
         "range": [
          0,
          178.5
         ],
         "showgrid": false,
         "side": "right",
         "title": {
          "text": "Cumulé"
         }
        },
        "yaxis9": {
         "anchor": "x5",
         "domain": [
          0.6076388888888888,
          0.6527777777777777
         ],
         "range": [
          0,
          30.4
         ]
        }
       }
      }
     },
     "metadata": {},
     "output_type": "display_data"
    },
    {
     "name": "stdout",
     "output_type": "stream",
     "text": [
      "Précipitations quotidiennes des postes et de la période choisis\n"
     ]
    },
    {
     "data": {
      "text/html": [
       "<div>\n",
       "<style scoped>\n",
       "    .dataframe tbody tr th:only-of-type {\n",
       "        vertical-align: middle;\n",
       "    }\n",
       "\n",
       "    .dataframe tbody tr th {\n",
       "        vertical-align: top;\n",
       "    }\n",
       "\n",
       "    .dataframe thead th {\n",
       "        text-align: right;\n",
       "    }\n",
       "</style>\n",
       "<table border=\"1\" class=\"dataframe\">\n",
       "  <thead>\n",
       "    <tr style=\"text-align: right;\">\n",
       "      <th>NOM_USUEL</th>\n",
       "      <th>AIX EN PROVENCE</th>\n",
       "      <th>APT-VITON</th>\n",
       "      <th>CASTELLANE</th>\n",
       "      <th>FORCALQUIER</th>\n",
       "      <th>FREJUS</th>\n",
       "      <th>LA BASTIDE DES JOURDANS</th>\n",
       "      <th>LE LUC</th>\n",
       "      <th>MARSEILLE-OBS</th>\n",
       "      <th>SALON DE PROVENCE</th>\n",
       "      <th>TOULON</th>\n",
       "      <th>VALENSOLE</th>\n",
       "      <th>VAUVENARGUES</th>\n",
       "    </tr>\n",
       "    <tr>\n",
       "      <th>DATE</th>\n",
       "      <th></th>\n",
       "      <th></th>\n",
       "      <th></th>\n",
       "      <th></th>\n",
       "      <th></th>\n",
       "      <th></th>\n",
       "      <th></th>\n",
       "      <th></th>\n",
       "      <th></th>\n",
       "      <th></th>\n",
       "      <th></th>\n",
       "      <th></th>\n",
       "    </tr>\n",
       "  </thead>\n",
       "  <tbody>\n",
       "    <tr>\n",
       "      <th>2023-11-01</th>\n",
       "      <td>0.0</td>\n",
       "      <td>0.6</td>\n",
       "      <td>5.6</td>\n",
       "      <td>2.0</td>\n",
       "      <td>0.6</td>\n",
       "      <td>0.2</td>\n",
       "      <td>2.0</td>\n",
       "      <td>0.8</td>\n",
       "      <td>0.0</td>\n",
       "      <td>0.0</td>\n",
       "      <td>0.8</td>\n",
       "      <td>1.4</td>\n",
       "    </tr>\n",
       "    <tr>\n",
       "      <th>2023-11-02</th>\n",
       "      <td>4.2</td>\n",
       "      <td>6.6</td>\n",
       "      <td>26.6</td>\n",
       "      <td>10.4</td>\n",
       "      <td>3.2</td>\n",
       "      <td>3.2</td>\n",
       "      <td>4.6</td>\n",
       "      <td>5.0</td>\n",
       "      <td>3.0</td>\n",
       "      <td>3.8</td>\n",
       "      <td>11.2</td>\n",
       "      <td>9.6</td>\n",
       "    </tr>\n",
       "    <tr>\n",
       "      <th>2023-11-03</th>\n",
       "      <td>0.6</td>\n",
       "      <td>2.2</td>\n",
       "      <td>0.4</td>\n",
       "      <td>1.8</td>\n",
       "      <td>0.0</td>\n",
       "      <td>0.6</td>\n",
       "      <td>0.0</td>\n",
       "      <td>1.6</td>\n",
       "      <td>0.4</td>\n",
       "      <td>2.0</td>\n",
       "      <td>1.4</td>\n",
       "      <td>0.2</td>\n",
       "    </tr>\n",
       "    <tr>\n",
       "      <th>2023-11-04</th>\n",
       "      <td>1.8</td>\n",
       "      <td>4.6</td>\n",
       "      <td>23.3</td>\n",
       "      <td>11.2</td>\n",
       "      <td>9.2</td>\n",
       "      <td>2.2</td>\n",
       "      <td>3.6</td>\n",
       "      <td>1.2</td>\n",
       "      <td>0.4</td>\n",
       "      <td>3.2</td>\n",
       "      <td>6.4</td>\n",
       "      <td>6.4</td>\n",
       "    </tr>\n",
       "    <tr>\n",
       "      <th>2023-11-05</th>\n",
       "      <td>0.0</td>\n",
       "      <td>0.2</td>\n",
       "      <td>0.2</td>\n",
       "      <td>0.0</td>\n",
       "      <td>0.0</td>\n",
       "      <td>0.0</td>\n",
       "      <td>0.0</td>\n",
       "      <td>0.0</td>\n",
       "      <td>0.0</td>\n",
       "      <td>0.0</td>\n",
       "      <td>0.0</td>\n",
       "      <td>0.0</td>\n",
       "    </tr>\n",
       "    <tr>\n",
       "      <th>2023-11-06</th>\n",
       "      <td>0.8</td>\n",
       "      <td>0.2</td>\n",
       "      <td>0.0</td>\n",
       "      <td>0.0</td>\n",
       "      <td>0.0</td>\n",
       "      <td>0.0</td>\n",
       "      <td>0.0</td>\n",
       "      <td>0.0</td>\n",
       "      <td>1.4</td>\n",
       "      <td>0.0</td>\n",
       "      <td>0.0</td>\n",
       "      <td>0.0</td>\n",
       "    </tr>\n",
       "    <tr>\n",
       "      <th>2023-11-07</th>\n",
       "      <td>0.2</td>\n",
       "      <td>0.2</td>\n",
       "      <td>0.2</td>\n",
       "      <td>0.0</td>\n",
       "      <td>0.0</td>\n",
       "      <td>0.0</td>\n",
       "      <td>0.0</td>\n",
       "      <td>0.0</td>\n",
       "      <td>0.0</td>\n",
       "      <td>0.0</td>\n",
       "      <td>0.0</td>\n",
       "      <td>0.0</td>\n",
       "    </tr>\n",
       "    <tr>\n",
       "      <th>2023-11-08</th>\n",
       "      <td>0.0</td>\n",
       "      <td>0.4</td>\n",
       "      <td>0.4</td>\n",
       "      <td>0.3</td>\n",
       "      <td>0.0</td>\n",
       "      <td>0.0</td>\n",
       "      <td>0.0</td>\n",
       "      <td>0.0</td>\n",
       "      <td>0.6</td>\n",
       "      <td>0.0</td>\n",
       "      <td>0.2</td>\n",
       "      <td>0.2</td>\n",
       "    </tr>\n",
       "    <tr>\n",
       "      <th>2023-11-09</th>\n",
       "      <td>8.2</td>\n",
       "      <td>11.0</td>\n",
       "      <td>9.0</td>\n",
       "      <td>18.1</td>\n",
       "      <td>3.8</td>\n",
       "      <td>7.0</td>\n",
       "      <td>6.9</td>\n",
       "      <td>8.4</td>\n",
       "      <td>15.2</td>\n",
       "      <td>12.8</td>\n",
       "      <td>5.2</td>\n",
       "      <td>9.4</td>\n",
       "    </tr>\n",
       "    <tr>\n",
       "      <th>2023-11-10</th>\n",
       "      <td>2.2</td>\n",
       "      <td>1.2</td>\n",
       "      <td>1.2</td>\n",
       "      <td>1.3</td>\n",
       "      <td>0.0</td>\n",
       "      <td>1.2</td>\n",
       "      <td>0.0</td>\n",
       "      <td>1.4</td>\n",
       "      <td>0.6</td>\n",
       "      <td>0.2</td>\n",
       "      <td>0.8</td>\n",
       "      <td>1.8</td>\n",
       "    </tr>\n",
       "    <tr>\n",
       "      <th>2023-11-11</th>\n",
       "      <td>5.0</td>\n",
       "      <td>3.4</td>\n",
       "      <td>4.6</td>\n",
       "      <td>3.7</td>\n",
       "      <td>0.6</td>\n",
       "      <td>3.0</td>\n",
       "      <td>0.6</td>\n",
       "      <td>2.4</td>\n",
       "      <td>4.6</td>\n",
       "      <td>2.0</td>\n",
       "      <td>2.8</td>\n",
       "      <td>6.0</td>\n",
       "    </tr>\n",
       "    <tr>\n",
       "      <th>2023-11-12</th>\n",
       "      <td>0.2</td>\n",
       "      <td>0.2</td>\n",
       "      <td>0.2</td>\n",
       "      <td>0.0</td>\n",
       "      <td>0.0</td>\n",
       "      <td>0.0</td>\n",
       "      <td>0.0</td>\n",
       "      <td>0.2</td>\n",
       "      <td>0.0</td>\n",
       "      <td>0.0</td>\n",
       "      <td>0.0</td>\n",
       "      <td>0.0</td>\n",
       "    </tr>\n",
       "    <tr>\n",
       "      <th>2023-11-13</th>\n",
       "      <td>0.0</td>\n",
       "      <td>0.0</td>\n",
       "      <td>0.0</td>\n",
       "      <td>0.1</td>\n",
       "      <td>0.0</td>\n",
       "      <td>0.0</td>\n",
       "      <td>0.0</td>\n",
       "      <td>0.0</td>\n",
       "      <td>0.0</td>\n",
       "      <td>0.0</td>\n",
       "      <td>0.0</td>\n",
       "      <td>0.0</td>\n",
       "    </tr>\n",
       "    <tr>\n",
       "      <th>2023-11-14</th>\n",
       "      <td>0.0</td>\n",
       "      <td>0.0</td>\n",
       "      <td>0.0</td>\n",
       "      <td>0.0</td>\n",
       "      <td>0.0</td>\n",
       "      <td>0.0</td>\n",
       "      <td>0.0</td>\n",
       "      <td>0.0</td>\n",
       "      <td>0.0</td>\n",
       "      <td>0.0</td>\n",
       "      <td>0.0</td>\n",
       "      <td>0.0</td>\n",
       "    </tr>\n",
       "    <tr>\n",
       "      <th>2023-11-15</th>\n",
       "      <td>0.0</td>\n",
       "      <td>0.0</td>\n",
       "      <td>0.0</td>\n",
       "      <td>0.0</td>\n",
       "      <td>0.0</td>\n",
       "      <td>0.0</td>\n",
       "      <td>0.0</td>\n",
       "      <td>0.0</td>\n",
       "      <td>0.0</td>\n",
       "      <td>0.0</td>\n",
       "      <td>0.0</td>\n",
       "      <td>0.0</td>\n",
       "    </tr>\n",
       "    <tr>\n",
       "      <th>2023-11-16</th>\n",
       "      <td>1.8</td>\n",
       "      <td>1.0</td>\n",
       "      <td>1.2</td>\n",
       "      <td>1.4</td>\n",
       "      <td>0.2</td>\n",
       "      <td>0.6</td>\n",
       "      <td>0.2</td>\n",
       "      <td>0.6</td>\n",
       "      <td>1.4</td>\n",
       "      <td>0.2</td>\n",
       "      <td>1.4</td>\n",
       "      <td>1.8</td>\n",
       "    </tr>\n",
       "    <tr>\n",
       "      <th>2023-11-17</th>\n",
       "      <td>0.0</td>\n",
       "      <td>0.2</td>\n",
       "      <td>0.0</td>\n",
       "      <td>0.0</td>\n",
       "      <td>0.0</td>\n",
       "      <td>0.0</td>\n",
       "      <td>0.0</td>\n",
       "      <td>0.0</td>\n",
       "      <td>0.0</td>\n",
       "      <td>0.0</td>\n",
       "      <td>0.0</td>\n",
       "      <td>0.0</td>\n",
       "    </tr>\n",
       "    <tr>\n",
       "      <th>2023-11-18</th>\n",
       "      <td>0.0</td>\n",
       "      <td>0.2</td>\n",
       "      <td>0.2</td>\n",
       "      <td>0.0</td>\n",
       "      <td>0.0</td>\n",
       "      <td>0.0</td>\n",
       "      <td>0.0</td>\n",
       "      <td>0.0</td>\n",
       "      <td>0.0</td>\n",
       "      <td>0.0</td>\n",
       "      <td>0.0</td>\n",
       "      <td>0.0</td>\n",
       "    </tr>\n",
       "    <tr>\n",
       "      <th>2023-11-19</th>\n",
       "      <td>0.2</td>\n",
       "      <td>0.0</td>\n",
       "      <td>0.2</td>\n",
       "      <td>0.0</td>\n",
       "      <td>0.0</td>\n",
       "      <td>0.2</td>\n",
       "      <td>0.0</td>\n",
       "      <td>0.0</td>\n",
       "      <td>0.0</td>\n",
       "      <td>0.0</td>\n",
       "      <td>0.0</td>\n",
       "      <td>0.0</td>\n",
       "    </tr>\n",
       "    <tr>\n",
       "      <th>2023-11-20</th>\n",
       "      <td>0.0</td>\n",
       "      <td>0.0</td>\n",
       "      <td>0.0</td>\n",
       "      <td>0.0</td>\n",
       "      <td>0.0</td>\n",
       "      <td>0.0</td>\n",
       "      <td>0.0</td>\n",
       "      <td>0.0</td>\n",
       "      <td>0.0</td>\n",
       "      <td>0.0</td>\n",
       "      <td>0.0</td>\n",
       "      <td>0.0</td>\n",
       "    </tr>\n",
       "    <tr>\n",
       "      <th>2023-11-21</th>\n",
       "      <td>0.2</td>\n",
       "      <td>0.0</td>\n",
       "      <td>0.0</td>\n",
       "      <td>0.0</td>\n",
       "      <td>0.0</td>\n",
       "      <td>0.0</td>\n",
       "      <td>0.0</td>\n",
       "      <td>0.0</td>\n",
       "      <td>0.0</td>\n",
       "      <td>0.0</td>\n",
       "      <td>0.0</td>\n",
       "      <td>0.0</td>\n",
       "    </tr>\n",
       "    <tr>\n",
       "      <th>2023-11-22</th>\n",
       "      <td>0.2</td>\n",
       "      <td>0.0</td>\n",
       "      <td>0.2</td>\n",
       "      <td>0.0</td>\n",
       "      <td>0.0</td>\n",
       "      <td>0.0</td>\n",
       "      <td>0.0</td>\n",
       "      <td>0.0</td>\n",
       "      <td>0.0</td>\n",
       "      <td>0.0</td>\n",
       "      <td>0.0</td>\n",
       "      <td>0.0</td>\n",
       "    </tr>\n",
       "    <tr>\n",
       "      <th>2023-11-23</th>\n",
       "      <td>0.0</td>\n",
       "      <td>0.0</td>\n",
       "      <td>0.2</td>\n",
       "      <td>0.0</td>\n",
       "      <td>0.0</td>\n",
       "      <td>0.0</td>\n",
       "      <td>0.0</td>\n",
       "      <td>0.0</td>\n",
       "      <td>0.0</td>\n",
       "      <td>0.0</td>\n",
       "      <td>0.0</td>\n",
       "      <td>0.0</td>\n",
       "    </tr>\n",
       "    <tr>\n",
       "      <th>2023-11-24</th>\n",
       "      <td>0.2</td>\n",
       "      <td>0.0</td>\n",
       "      <td>0.0</td>\n",
       "      <td>0.0</td>\n",
       "      <td>0.0</td>\n",
       "      <td>0.2</td>\n",
       "      <td>0.0</td>\n",
       "      <td>0.0</td>\n",
       "      <td>0.0</td>\n",
       "      <td>0.0</td>\n",
       "      <td>0.0</td>\n",
       "      <td>0.0</td>\n",
       "    </tr>\n",
       "    <tr>\n",
       "      <th>2023-11-25</th>\n",
       "      <td>0.0</td>\n",
       "      <td>0.0</td>\n",
       "      <td>0.0</td>\n",
       "      <td>0.0</td>\n",
       "      <td>0.0</td>\n",
       "      <td>0.0</td>\n",
       "      <td>0.0</td>\n",
       "      <td>0.0</td>\n",
       "      <td>0.0</td>\n",
       "      <td>0.0</td>\n",
       "      <td>0.0</td>\n",
       "      <td>0.0</td>\n",
       "    </tr>\n",
       "    <tr>\n",
       "      <th>2023-11-26</th>\n",
       "      <td>0.0</td>\n",
       "      <td>0.0</td>\n",
       "      <td>0.0</td>\n",
       "      <td>0.0</td>\n",
       "      <td>0.0</td>\n",
       "      <td>0.0</td>\n",
       "      <td>0.0</td>\n",
       "      <td>0.0</td>\n",
       "      <td>0.0</td>\n",
       "      <td>0.0</td>\n",
       "      <td>0.0</td>\n",
       "      <td>0.0</td>\n",
       "    </tr>\n",
       "    <tr>\n",
       "      <th>2023-11-27</th>\n",
       "      <td>2.6</td>\n",
       "      <td>1.8</td>\n",
       "      <td>4.6</td>\n",
       "      <td>2.7</td>\n",
       "      <td>0.0</td>\n",
       "      <td>1.8</td>\n",
       "      <td>0.4</td>\n",
       "      <td>1.0</td>\n",
       "      <td>1.8</td>\n",
       "      <td>0.4</td>\n",
       "      <td>3.2</td>\n",
       "      <td>2.2</td>\n",
       "    </tr>\n",
       "    <tr>\n",
       "      <th>2023-11-28</th>\n",
       "      <td>0.0</td>\n",
       "      <td>0.0</td>\n",
       "      <td>0.0</td>\n",
       "      <td>0.0</td>\n",
       "      <td>0.0</td>\n",
       "      <td>0.0</td>\n",
       "      <td>0.0</td>\n",
       "      <td>0.0</td>\n",
       "      <td>0.2</td>\n",
       "      <td>0.0</td>\n",
       "      <td>0.2</td>\n",
       "      <td>0.0</td>\n",
       "    </tr>\n",
       "    <tr>\n",
       "      <th>2023-11-29</th>\n",
       "      <td>1.8</td>\n",
       "      <td>1.2</td>\n",
       "      <td>14.5</td>\n",
       "      <td>7.1</td>\n",
       "      <td>2.2</td>\n",
       "      <td>1.4</td>\n",
       "      <td>3.2</td>\n",
       "      <td>0.6</td>\n",
       "      <td>0.6</td>\n",
       "      <td>1.0</td>\n",
       "      <td>2.4</td>\n",
       "      <td>2.6</td>\n",
       "    </tr>\n",
       "    <tr>\n",
       "      <th>2023-11-30</th>\n",
       "      <td>0.0</td>\n",
       "      <td>2.4</td>\n",
       "      <td>9.4</td>\n",
       "      <td>3.0</td>\n",
       "      <td>0.6</td>\n",
       "      <td>0.4</td>\n",
       "      <td>0.2</td>\n",
       "      <td>0.0</td>\n",
       "      <td>0.6</td>\n",
       "      <td>0.2</td>\n",
       "      <td>0.4</td>\n",
       "      <td>0.2</td>\n",
       "    </tr>\n",
       "    <tr>\n",
       "      <th>2023-12-01</th>\n",
       "      <td>2.6</td>\n",
       "      <td>8.8</td>\n",
       "      <td>16.7</td>\n",
       "      <td>NaN</td>\n",
       "      <td>0.8</td>\n",
       "      <td>5.0</td>\n",
       "      <td>0.6</td>\n",
       "      <td>1.2</td>\n",
       "      <td>3.4</td>\n",
       "      <td>0.2</td>\n",
       "      <td>9.6</td>\n",
       "      <td>9.2</td>\n",
       "    </tr>\n",
       "    <tr>\n",
       "      <th>2023-12-02</th>\n",
       "      <td>0.0</td>\n",
       "      <td>0.0</td>\n",
       "      <td>0.0</td>\n",
       "      <td>NaN</td>\n",
       "      <td>0.0</td>\n",
       "      <td>0.0</td>\n",
       "      <td>0.0</td>\n",
       "      <td>0.0</td>\n",
       "      <td>0.0</td>\n",
       "      <td>0.0</td>\n",
       "      <td>0.0</td>\n",
       "      <td>0.0</td>\n",
       "    </tr>\n",
       "    <tr>\n",
       "      <th>2023-12-03</th>\n",
       "      <td>0.0</td>\n",
       "      <td>0.0</td>\n",
       "      <td>0.0</td>\n",
       "      <td>NaN</td>\n",
       "      <td>0.0</td>\n",
       "      <td>0.0</td>\n",
       "      <td>0.0</td>\n",
       "      <td>0.0</td>\n",
       "      <td>0.0</td>\n",
       "      <td>0.0</td>\n",
       "      <td>0.0</td>\n",
       "      <td>0.0</td>\n",
       "    </tr>\n",
       "    <tr>\n",
       "      <th>2023-12-04</th>\n",
       "      <td>7.0</td>\n",
       "      <td>12.9</td>\n",
       "      <td>0.2</td>\n",
       "      <td>NaN</td>\n",
       "      <td>10.0</td>\n",
       "      <td>10.8</td>\n",
       "      <td>15.9</td>\n",
       "      <td>5.0</td>\n",
       "      <td>6.6</td>\n",
       "      <td>23.0</td>\n",
       "      <td>8.0</td>\n",
       "      <td>13.4</td>\n",
       "    </tr>\n",
       "    <tr>\n",
       "      <th>2023-12-05</th>\n",
       "      <td>0.2</td>\n",
       "      <td>0.2</td>\n",
       "      <td>8.4</td>\n",
       "      <td>NaN</td>\n",
       "      <td>0.0</td>\n",
       "      <td>0.0</td>\n",
       "      <td>0.0</td>\n",
       "      <td>0.0</td>\n",
       "      <td>0.0</td>\n",
       "      <td>0.0</td>\n",
       "      <td>0.0</td>\n",
       "      <td>0.0</td>\n",
       "    </tr>\n",
       "    <tr>\n",
       "      <th>2023-12-06</th>\n",
       "      <td>0.0</td>\n",
       "      <td>0.2</td>\n",
       "      <td>1.2</td>\n",
       "      <td>NaN</td>\n",
       "      <td>0.0</td>\n",
       "      <td>0.0</td>\n",
       "      <td>0.0</td>\n",
       "      <td>0.0</td>\n",
       "      <td>0.0</td>\n",
       "      <td>0.0</td>\n",
       "      <td>0.0</td>\n",
       "      <td>0.0</td>\n",
       "    </tr>\n",
       "    <tr>\n",
       "      <th>2023-12-07</th>\n",
       "      <td>14.6</td>\n",
       "      <td>17.1</td>\n",
       "      <td>15.7</td>\n",
       "      <td>NaN</td>\n",
       "      <td>9.6</td>\n",
       "      <td>12.2</td>\n",
       "      <td>6.7</td>\n",
       "      <td>16.7</td>\n",
       "      <td>19.2</td>\n",
       "      <td>29.2</td>\n",
       "      <td>14.6</td>\n",
       "      <td>21.4</td>\n",
       "    </tr>\n",
       "    <tr>\n",
       "      <th>2023-12-08</th>\n",
       "      <td>13.8</td>\n",
       "      <td>15.2</td>\n",
       "      <td>25.5</td>\n",
       "      <td>NaN</td>\n",
       "      <td>30.0</td>\n",
       "      <td>13.0</td>\n",
       "      <td>30.4</td>\n",
       "      <td>4.4</td>\n",
       "      <td>4.6</td>\n",
       "      <td>11.8</td>\n",
       "      <td>19.8</td>\n",
       "      <td>23.0</td>\n",
       "    </tr>\n",
       "    <tr>\n",
       "      <th>2023-12-09</th>\n",
       "      <td>1.4</td>\n",
       "      <td>2.0</td>\n",
       "      <td>2.0</td>\n",
       "      <td>NaN</td>\n",
       "      <td>0.0</td>\n",
       "      <td>0.8</td>\n",
       "      <td>0.0</td>\n",
       "      <td>0.6</td>\n",
       "      <td>0.0</td>\n",
       "      <td>0.2</td>\n",
       "      <td>0.8</td>\n",
       "      <td>2.2</td>\n",
       "    </tr>\n",
       "    <tr>\n",
       "      <th>2023-12-10</th>\n",
       "      <td>0.6</td>\n",
       "      <td>0.6</td>\n",
       "      <td>1.4</td>\n",
       "      <td>NaN</td>\n",
       "      <td>0.0</td>\n",
       "      <td>0.2</td>\n",
       "      <td>0.2</td>\n",
       "      <td>0.0</td>\n",
       "      <td>0.2</td>\n",
       "      <td>0.0</td>\n",
       "      <td>1.2</td>\n",
       "      <td>0.6</td>\n",
       "    </tr>\n",
       "    <tr>\n",
       "      <th>2023-12-11</th>\n",
       "      <td>0.6</td>\n",
       "      <td>1.0</td>\n",
       "      <td>0.6</td>\n",
       "      <td>NaN</td>\n",
       "      <td>0.0</td>\n",
       "      <td>0.4</td>\n",
       "      <td>0.0</td>\n",
       "      <td>0.0</td>\n",
       "      <td>0.0</td>\n",
       "      <td>0.0</td>\n",
       "      <td>1.2</td>\n",
       "      <td>0.2</td>\n",
       "    </tr>\n",
       "    <tr>\n",
       "      <th>2023-12-12</th>\n",
       "      <td>0.6</td>\n",
       "      <td>2.0</td>\n",
       "      <td>2.8</td>\n",
       "      <td>NaN</td>\n",
       "      <td>0.0</td>\n",
       "      <td>0.2</td>\n",
       "      <td>0.0</td>\n",
       "      <td>0.2</td>\n",
       "      <td>0.6</td>\n",
       "      <td>0.0</td>\n",
       "      <td>1.6</td>\n",
       "      <td>1.0</td>\n",
       "    </tr>\n",
       "    <tr>\n",
       "      <th>2023-12-13</th>\n",
       "      <td>0.4</td>\n",
       "      <td>0.4</td>\n",
       "      <td>0.8</td>\n",
       "      <td>NaN</td>\n",
       "      <td>0.0</td>\n",
       "      <td>0.0</td>\n",
       "      <td>0.0</td>\n",
       "      <td>0.2</td>\n",
       "      <td>0.2</td>\n",
       "      <td>0.0</td>\n",
       "      <td>0.0</td>\n",
       "      <td>0.0</td>\n",
       "    </tr>\n",
       "    <tr>\n",
       "      <th>2023-12-14</th>\n",
       "      <td>0.0</td>\n",
       "      <td>0.0</td>\n",
       "      <td>0.0</td>\n",
       "      <td>NaN</td>\n",
       "      <td>0.0</td>\n",
       "      <td>0.0</td>\n",
       "      <td>0.0</td>\n",
       "      <td>0.0</td>\n",
       "      <td>0.2</td>\n",
       "      <td>0.0</td>\n",
       "      <td>0.0</td>\n",
       "      <td>0.0</td>\n",
       "    </tr>\n",
       "    <tr>\n",
       "      <th>2023-12-15</th>\n",
       "      <td>0.0</td>\n",
       "      <td>0.0</td>\n",
       "      <td>0.2</td>\n",
       "      <td>NaN</td>\n",
       "      <td>0.0</td>\n",
       "      <td>0.0</td>\n",
       "      <td>0.0</td>\n",
       "      <td>0.0</td>\n",
       "      <td>0.0</td>\n",
       "      <td>0.0</td>\n",
       "      <td>0.0</td>\n",
       "      <td>0.0</td>\n",
       "    </tr>\n",
       "    <tr>\n",
       "      <th>2023-12-16</th>\n",
       "      <td>0.4</td>\n",
       "      <td>0.0</td>\n",
       "      <td>0.2</td>\n",
       "      <td>NaN</td>\n",
       "      <td>0.0</td>\n",
       "      <td>0.0</td>\n",
       "      <td>0.0</td>\n",
       "      <td>0.0</td>\n",
       "      <td>0.0</td>\n",
       "      <td>0.2</td>\n",
       "      <td>0.0</td>\n",
       "      <td>0.0</td>\n",
       "    </tr>\n",
       "    <tr>\n",
       "      <th>2023-12-17</th>\n",
       "      <td>0.0</td>\n",
       "      <td>0.0</td>\n",
       "      <td>0.2</td>\n",
       "      <td>NaN</td>\n",
       "      <td>0.0</td>\n",
       "      <td>0.0</td>\n",
       "      <td>0.0</td>\n",
       "      <td>0.0</td>\n",
       "      <td>0.2</td>\n",
       "      <td>0.2</td>\n",
       "      <td>0.0</td>\n",
       "      <td>0.0</td>\n",
       "    </tr>\n",
       "    <tr>\n",
       "      <th>2023-12-18</th>\n",
       "      <td>0.2</td>\n",
       "      <td>0.0</td>\n",
       "      <td>0.2</td>\n",
       "      <td>NaN</td>\n",
       "      <td>0.0</td>\n",
       "      <td>0.0</td>\n",
       "      <td>0.0</td>\n",
       "      <td>0.0</td>\n",
       "      <td>0.0</td>\n",
       "      <td>0.2</td>\n",
       "      <td>0.0</td>\n",
       "      <td>0.0</td>\n",
       "    </tr>\n",
       "    <tr>\n",
       "      <th>2023-12-19</th>\n",
       "      <td>0.2</td>\n",
       "      <td>0.0</td>\n",
       "      <td>0.2</td>\n",
       "      <td>NaN</td>\n",
       "      <td>0.2</td>\n",
       "      <td>0.0</td>\n",
       "      <td>0.0</td>\n",
       "      <td>0.0</td>\n",
       "      <td>0.2</td>\n",
       "      <td>0.2</td>\n",
       "      <td>0.0</td>\n",
       "      <td>0.0</td>\n",
       "    </tr>\n",
       "    <tr>\n",
       "      <th>2023-12-20</th>\n",
       "      <td>0.0</td>\n",
       "      <td>0.0</td>\n",
       "      <td>0.0</td>\n",
       "      <td>NaN</td>\n",
       "      <td>0.0</td>\n",
       "      <td>0.0</td>\n",
       "      <td>0.0</td>\n",
       "      <td>0.0</td>\n",
       "      <td>0.0</td>\n",
       "      <td>0.2</td>\n",
       "      <td>0.0</td>\n",
       "      <td>0.0</td>\n",
       "    </tr>\n",
       "  </tbody>\n",
       "</table>\n",
       "</div>"
      ],
      "text/plain": [
       "NOM_USUEL   AIX EN PROVENCE  APT-VITON  CASTELLANE  FORCALQUIER  FREJUS  \\\n",
       "DATE                                                                      \n",
       "2023-11-01              0.0        0.6         5.6          2.0     0.6   \n",
       "2023-11-02              4.2        6.6        26.6         10.4     3.2   \n",
       "2023-11-03              0.6        2.2         0.4          1.8     0.0   \n",
       "2023-11-04              1.8        4.6        23.3         11.2     9.2   \n",
       "2023-11-05              0.0        0.2         0.2          0.0     0.0   \n",
       "2023-11-06              0.8        0.2         0.0          0.0     0.0   \n",
       "2023-11-07              0.2        0.2         0.2          0.0     0.0   \n",
       "2023-11-08              0.0        0.4         0.4          0.3     0.0   \n",
       "2023-11-09              8.2       11.0         9.0         18.1     3.8   \n",
       "2023-11-10              2.2        1.2         1.2          1.3     0.0   \n",
       "2023-11-11              5.0        3.4         4.6          3.7     0.6   \n",
       "2023-11-12              0.2        0.2         0.2          0.0     0.0   \n",
       "2023-11-13              0.0        0.0         0.0          0.1     0.0   \n",
       "2023-11-14              0.0        0.0         0.0          0.0     0.0   \n",
       "2023-11-15              0.0        0.0         0.0          0.0     0.0   \n",
       "2023-11-16              1.8        1.0         1.2          1.4     0.2   \n",
       "2023-11-17              0.0        0.2         0.0          0.0     0.0   \n",
       "2023-11-18              0.0        0.2         0.2          0.0     0.0   \n",
       "2023-11-19              0.2        0.0         0.2          0.0     0.0   \n",
       "2023-11-20              0.0        0.0         0.0          0.0     0.0   \n",
       "2023-11-21              0.2        0.0         0.0          0.0     0.0   \n",
       "2023-11-22              0.2        0.0         0.2          0.0     0.0   \n",
       "2023-11-23              0.0        0.0         0.2          0.0     0.0   \n",
       "2023-11-24              0.2        0.0         0.0          0.0     0.0   \n",
       "2023-11-25              0.0        0.0         0.0          0.0     0.0   \n",
       "2023-11-26              0.0        0.0         0.0          0.0     0.0   \n",
       "2023-11-27              2.6        1.8         4.6          2.7     0.0   \n",
       "2023-11-28              0.0        0.0         0.0          0.0     0.0   \n",
       "2023-11-29              1.8        1.2        14.5          7.1     2.2   \n",
       "2023-11-30              0.0        2.4         9.4          3.0     0.6   \n",
       "2023-12-01              2.6        8.8        16.7          NaN     0.8   \n",
       "2023-12-02              0.0        0.0         0.0          NaN     0.0   \n",
       "2023-12-03              0.0        0.0         0.0          NaN     0.0   \n",
       "2023-12-04              7.0       12.9         0.2          NaN    10.0   \n",
       "2023-12-05              0.2        0.2         8.4          NaN     0.0   \n",
       "2023-12-06              0.0        0.2         1.2          NaN     0.0   \n",
       "2023-12-07             14.6       17.1        15.7          NaN     9.6   \n",
       "2023-12-08             13.8       15.2        25.5          NaN    30.0   \n",
       "2023-12-09              1.4        2.0         2.0          NaN     0.0   \n",
       "2023-12-10              0.6        0.6         1.4          NaN     0.0   \n",
       "2023-12-11              0.6        1.0         0.6          NaN     0.0   \n",
       "2023-12-12              0.6        2.0         2.8          NaN     0.0   \n",
       "2023-12-13              0.4        0.4         0.8          NaN     0.0   \n",
       "2023-12-14              0.0        0.0         0.0          NaN     0.0   \n",
       "2023-12-15              0.0        0.0         0.2          NaN     0.0   \n",
       "2023-12-16              0.4        0.0         0.2          NaN     0.0   \n",
       "2023-12-17              0.0        0.0         0.2          NaN     0.0   \n",
       "2023-12-18              0.2        0.0         0.2          NaN     0.0   \n",
       "2023-12-19              0.2        0.0         0.2          NaN     0.2   \n",
       "2023-12-20              0.0        0.0         0.0          NaN     0.0   \n",
       "\n",
       "NOM_USUEL   LA BASTIDE DES JOURDANS  LE LUC  MARSEILLE-OBS  SALON DE PROVENCE  \\\n",
       "DATE                                                                            \n",
       "2023-11-01                      0.2     2.0            0.8                0.0   \n",
       "2023-11-02                      3.2     4.6            5.0                3.0   \n",
       "2023-11-03                      0.6     0.0            1.6                0.4   \n",
       "2023-11-04                      2.2     3.6            1.2                0.4   \n",
       "2023-11-05                      0.0     0.0            0.0                0.0   \n",
       "2023-11-06                      0.0     0.0            0.0                1.4   \n",
       "2023-11-07                      0.0     0.0            0.0                0.0   \n",
       "2023-11-08                      0.0     0.0            0.0                0.6   \n",
       "2023-11-09                      7.0     6.9            8.4               15.2   \n",
       "2023-11-10                      1.2     0.0            1.4                0.6   \n",
       "2023-11-11                      3.0     0.6            2.4                4.6   \n",
       "2023-11-12                      0.0     0.0            0.2                0.0   \n",
       "2023-11-13                      0.0     0.0            0.0                0.0   \n",
       "2023-11-14                      0.0     0.0            0.0                0.0   \n",
       "2023-11-15                      0.0     0.0            0.0                0.0   \n",
       "2023-11-16                      0.6     0.2            0.6                1.4   \n",
       "2023-11-17                      0.0     0.0            0.0                0.0   \n",
       "2023-11-18                      0.0     0.0            0.0                0.0   \n",
       "2023-11-19                      0.2     0.0            0.0                0.0   \n",
       "2023-11-20                      0.0     0.0            0.0                0.0   \n",
       "2023-11-21                      0.0     0.0            0.0                0.0   \n",
       "2023-11-22                      0.0     0.0            0.0                0.0   \n",
       "2023-11-23                      0.0     0.0            0.0                0.0   \n",
       "2023-11-24                      0.2     0.0            0.0                0.0   \n",
       "2023-11-25                      0.0     0.0            0.0                0.0   \n",
       "2023-11-26                      0.0     0.0            0.0                0.0   \n",
       "2023-11-27                      1.8     0.4            1.0                1.8   \n",
       "2023-11-28                      0.0     0.0            0.0                0.2   \n",
       "2023-11-29                      1.4     3.2            0.6                0.6   \n",
       "2023-11-30                      0.4     0.2            0.0                0.6   \n",
       "2023-12-01                      5.0     0.6            1.2                3.4   \n",
       "2023-12-02                      0.0     0.0            0.0                0.0   \n",
       "2023-12-03                      0.0     0.0            0.0                0.0   \n",
       "2023-12-04                     10.8    15.9            5.0                6.6   \n",
       "2023-12-05                      0.0     0.0            0.0                0.0   \n",
       "2023-12-06                      0.0     0.0            0.0                0.0   \n",
       "2023-12-07                     12.2     6.7           16.7               19.2   \n",
       "2023-12-08                     13.0    30.4            4.4                4.6   \n",
       "2023-12-09                      0.8     0.0            0.6                0.0   \n",
       "2023-12-10                      0.2     0.2            0.0                0.2   \n",
       "2023-12-11                      0.4     0.0            0.0                0.0   \n",
       "2023-12-12                      0.2     0.0            0.2                0.6   \n",
       "2023-12-13                      0.0     0.0            0.2                0.2   \n",
       "2023-12-14                      0.0     0.0            0.0                0.2   \n",
       "2023-12-15                      0.0     0.0            0.0                0.0   \n",
       "2023-12-16                      0.0     0.0            0.0                0.0   \n",
       "2023-12-17                      0.0     0.0            0.0                0.2   \n",
       "2023-12-18                      0.0     0.0            0.0                0.0   \n",
       "2023-12-19                      0.0     0.0            0.0                0.2   \n",
       "2023-12-20                      0.0     0.0            0.0                0.0   \n",
       "\n",
       "NOM_USUEL   TOULON  VALENSOLE  VAUVENARGUES  \n",
       "DATE                                         \n",
       "2023-11-01     0.0        0.8           1.4  \n",
       "2023-11-02     3.8       11.2           9.6  \n",
       "2023-11-03     2.0        1.4           0.2  \n",
       "2023-11-04     3.2        6.4           6.4  \n",
       "2023-11-05     0.0        0.0           0.0  \n",
       "2023-11-06     0.0        0.0           0.0  \n",
       "2023-11-07     0.0        0.0           0.0  \n",
       "2023-11-08     0.0        0.2           0.2  \n",
       "2023-11-09    12.8        5.2           9.4  \n",
       "2023-11-10     0.2        0.8           1.8  \n",
       "2023-11-11     2.0        2.8           6.0  \n",
       "2023-11-12     0.0        0.0           0.0  \n",
       "2023-11-13     0.0        0.0           0.0  \n",
       "2023-11-14     0.0        0.0           0.0  \n",
       "2023-11-15     0.0        0.0           0.0  \n",
       "2023-11-16     0.2        1.4           1.8  \n",
       "2023-11-17     0.0        0.0           0.0  \n",
       "2023-11-18     0.0        0.0           0.0  \n",
       "2023-11-19     0.0        0.0           0.0  \n",
       "2023-11-20     0.0        0.0           0.0  \n",
       "2023-11-21     0.0        0.0           0.0  \n",
       "2023-11-22     0.0        0.0           0.0  \n",
       "2023-11-23     0.0        0.0           0.0  \n",
       "2023-11-24     0.0        0.0           0.0  \n",
       "2023-11-25     0.0        0.0           0.0  \n",
       "2023-11-26     0.0        0.0           0.0  \n",
       "2023-11-27     0.4        3.2           2.2  \n",
       "2023-11-28     0.0        0.2           0.0  \n",
       "2023-11-29     1.0        2.4           2.6  \n",
       "2023-11-30     0.2        0.4           0.2  \n",
       "2023-12-01     0.2        9.6           9.2  \n",
       "2023-12-02     0.0        0.0           0.0  \n",
       "2023-12-03     0.0        0.0           0.0  \n",
       "2023-12-04    23.0        8.0          13.4  \n",
       "2023-12-05     0.0        0.0           0.0  \n",
       "2023-12-06     0.0        0.0           0.0  \n",
       "2023-12-07    29.2       14.6          21.4  \n",
       "2023-12-08    11.8       19.8          23.0  \n",
       "2023-12-09     0.2        0.8           2.2  \n",
       "2023-12-10     0.0        1.2           0.6  \n",
       "2023-12-11     0.0        1.2           0.2  \n",
       "2023-12-12     0.0        1.6           1.0  \n",
       "2023-12-13     0.0        0.0           0.0  \n",
       "2023-12-14     0.0        0.0           0.0  \n",
       "2023-12-15     0.0        0.0           0.0  \n",
       "2023-12-16     0.2        0.0           0.0  \n",
       "2023-12-17     0.2        0.0           0.0  \n",
       "2023-12-18     0.2        0.0           0.0  \n",
       "2023-12-19     0.2        0.0           0.0  \n",
       "2023-12-20     0.2        0.0           0.0  "
      ]
     },
     "metadata": {},
     "output_type": "display_data"
    }
   ],
   "source": [
    "# trace un graphique plotly de df avec la colonne 'DATE' en abscisse et la colonne 'RR' en ordonnée\n",
    "# chaque poste de la colonnee 'NUM_POSTE' est représenté dans un subplot séparé\n",
    "import plotly.graph_objects as go\n",
    "from plotly.subplots import make_subplots\n",
    "import plotly\n",
    "import calendar\n",
    "import numpy as np\n",
    "\n",
    "#-------------- Personalisation du graphique\n",
    "# Paramètre à représenter (la présentation actuelle est spécialement adaptée aux précipitations RR)\n",
    "param= 'RR'\n",
    "\n",
    "# Période à représenter (None pour le début ou la fin du fichier par défaut)\n",
    "start_date= None\n",
    "# Calculez start_date comme le premier jour du mois précédent\n",
    "if now.month == 1:  # Si le mois actuel est janvier\n",
    "    start_date = datetime.datetime(now.year - 1, 12, 1)\n",
    "else:  # Pour tous les autres mois\n",
    "    start_date = datetime.datetime(now.year, now.month - 1, 1)\n",
    "# start_date= datetime.datetime(2023, 8, 1)\n",
    "\n",
    "end_date= datetime.datetime(now.year, now.month, now.day)\n",
    "\n",
    "#-------------- initialisation des paramètres du graphique\n",
    "# Période par défaut if start_date= None ou  end_date= None\n",
    "if start_date is None:\n",
    "    start_date= df['DATE'].min()\n",
    "if end_date is None:\n",
    "    end_date= df['DATE'].max()\n",
    "# Définit le premier jour du premier mois et dernier jour du dernier mois (pour une graduation clair de l'axe ddes dates)\n",
    "start_date= datetime.datetime(start_date.year, start_date.month, 1)\n",
    "end_date= datetime.datetime(end_date.year, end_date.month, 1) + datetime.timedelta(days= 30)\n",
    "\n",
    "# filtre le dataframe sur les postes choisis\n",
    "df_postes= df[df['NUM_POSTE'].isin(postes)]\n",
    "# filtre le dataframe sur la période souhaitée\n",
    "df_postes= df_postes[(df_postes['DATE'] >= start_date) & (df_postes['DATE'] <= end_date)]\n",
    "\n",
    "#  Couleurs des courbes\n",
    "color_sequence_bar = plotly.colors.qualitative.Set3\n",
    "color_sequence_bar = plotly.colors.qualitative.Alphabet\n",
    "color_sequence_bar = plotly.colors.qualitative.Dark24\n",
    "\n",
    "# définit une séquence de couleurs pour les courbes cumulées\n",
    "# color_sequence_scatter = color_sequence_bar[::-1]\n",
    "# color_sequence_scatter = plotly.colors.qualitative.Set3\n",
    "color_sequence_scatter = plotly.colors.qualitative.Alphabet\n",
    "# color_sequence_scatter = plotly.colors.qualitative.Dark24\n",
    "\n",
    "# Axe des ordonnées secondaire (cumulé)\n",
    "specs= [[{'secondary_y': True}]]*len(postes)\n",
    "\n",
    "#-------------- Graphique\n",
    "fig = make_subplots(rows= len(postes), cols= 1,# shared_xaxes= True, # shared_xaxes= True inutile grâce à  matches='x' dans update_xaxes qui fait la même chose sans supprimer la graduation des dates des subplots \n",
    "                    subplot_titles= [f\"{poste} - {df_postes[df_postes['NUM_POSTE'] == poste]['NOM_USUEL'].iloc[0]}\" for poste in postes], specs= specs)\n",
    "\n",
    "for i, poste in enumerate(postes):\n",
    "    df_poste = df_postes[df_postes['NUM_POSTE'] == poste]\n",
    "    fig.add_trace(go.Bar(x= df_poste['DATE'], y= df_poste[param], \n",
    "                          # name= poste\n",
    "                         name= df_postes[df_postes['NUM_POSTE'] == poste]['NOM_USUEL'].iloc[0],\n",
    "                         marker= dict(color=color_sequence_bar[i % len(color_sequence_bar)],  # Utilisez la couleur correspondante de la séquence\n",
    "                                    line= dict(color='rgb(100,100,100)', width=1),  # Ligne de contour des barres\n",
    "                                    ),\n",
    "                        # hovertemplate = \n",
    "                            # '<i>Date</i>: %{x}' +\n",
    "                            # '<br><b>RR</b>: %{y}<br>',\n",
    "                            # text = df_postes[df_postes['NUM_POSTE'] == poste]['NOM_USUEL'].iloc[0]                                    \n",
    "                         ),\n",
    "                row= i+1, col= 1\n",
    "                )\n",
    "    fig.add_trace(go.Scatter(x= df_poste['DATE'], y= df_poste[param].cumsum(), \n",
    "                             name= f\"Cumulé {poste}\", yaxis= \"y2\",\n",
    "                             line= dict(color= 'gray'\n",
    "                            #  line= dict(color= color_sequence_scatter[i % len(color_sequence_scatter)]\n",
    "                                        ), # sinon l'incrémentation dans la séquence de couleurs est de +2 à cause de la trace Bar\n",
    "                    # hovertemplate = \n",
    "                    #         '<br><b>Cumulé</b>: %{y}<br>'                                      \n",
    "                             ), \n",
    "                 row=i+1, col=1, secondary_y= True,\n",
    "                 )\n",
    "\n",
    "fig.update_layout(title_text= 'meteo.data - ' + \"Précipitations qutotidiennes (mm) - \" + now.strftime(\"%Y-%m-%d\") , title_x= 0.5, \n",
    "                  height= 133.*len(postes), width= 1000,\n",
    "                  hovermode= 'x unified', hoverlabel= dict(bgcolor='rgba(255,255,255,0.6)'),\n",
    "                    )\n",
    "\n",
    "# Survol par la souris : ligne verticale à travers tous les subplots matérialisant l'abscisse \n",
    "xlast= 'x' + str(len(postes))\n",
    "# fig.update_traces(xaxis= xlast)  # xlast est le nom de l'axe des abscisses du dernier subplot (empêche la graduation des dates de tous les subplots)\n",
    "\n",
    "# Définition générale des axes\n",
    "max_value= df_postes[param].max()\n",
    "max_value_cum= df_postes.groupby(['NUM_POSTE']).sum()[param].max()\n",
    "fig.update_yaxes(secondary_y= False, range= [0, max_value])  # Axe principale: Replace max_value with the desired maximum coordinate\n",
    "fig.update_yaxes(secondary_y= True, title_text= \"Cumulé\", range= [0, max_value_cum]) # Axe secondaire: Replace max_value with the desired maximum coordinate\n",
    "\n",
    "# GRADUATION de l'axe des DATES ........................................\n",
    "if end_date - start_date > datetime.timedelta(days= 365): # plus d'un an\n",
    "    tickformat= '%-d%b\\n%Y'\n",
    "    dtick= 'M2'\n",
    "else: # Moins\n",
    "    tickformat= '%d %b\\n%Y'\n",
    "    dtick= 'M1' # (pour une raison inconnue,'D10' ne marche pas du tout et le nombre de milisecondes ne marche qu'après la 2ème graduation et )\n",
    "# ............................... Premiers subplots\n",
    "for i in range(1, len(postes) + 1):\n",
    "    fig.update_xaxes(tickformat= tickformat, tickmode= 'linear', dtick= dtick, row=i, col=1, matches='x')\n",
    "# ............................... Dernier subplot\n",
    "fig.update_xaxes(tickformat= tickformat, tickmode= 'linear', dtick= dtick, row=len(postes), col=1, matches='x', range=[start_date, end_date])\n",
    "\n",
    "# GRILLE.................................................................\n",
    "# .................. verticales \n",
    "# .............................. Premiers subplots INUTILE ?\n",
    "for i in range(1, len(postes) + 1):\n",
    "    fig.update_xaxes(showgrid= True, tickformat= tickformat, tickmode= 'linear', dtick= dtick, row=i, col=1)\n",
    "# .............................. Dernier subplot TOUS ?\n",
    "fig.update_xaxes(showgrid= True, tickformat= tickformat, tickmode= 'linear', dtick= dtick, row=len(postes), col=1)\n",
    "# .................. horizontales\n",
    "# ............................... Axe secondaire\n",
    "fig.update_yaxes(secondary_y=True, showgrid=False) # pas de grille\n",
    "\n",
    "#-------------- sauvegarde le graphique\n",
    "file_graph_quot= \"meteo.data QUOT\"\n",
    "fig.write_html(os.path.join(folder_csv, file_graph_quot + template_end[:-4] + \".html\"))\n",
    "# sauvegarde le graphique dans un fichier png\n",
    "fig.write_image(os.path.join(folder_csv, file_graph_quot + template_end[:-4] + \".png\"))\n",
    "\n",
    "#-------------- Pluies quotitdiennes SUR LA DUREEE COMPLETE et cumuls mensuelles pour les postes sélectionnés\n",
    "# df_pj = df_postes.pivot(index='DATE', columns='NOM_USUEL', values='RR')\n",
    "df_pj = df[df['NUM_POSTE'].isin(postes)].pivot(index='DATE', columns='NOM_USUEL', values='RR')\n",
    "def sum_or_nan(s):\n",
    "    return s.sum() if s.count() == s.size else np.nan\n",
    "# calcul le cumul mensuel de RR pour chaque poste en affectant NaN aux mois incomplets en appliquant la date du premier jour du mois\n",
    "df_pm= df_pj.resample('MS').apply(sum_or_nan)\n",
    "\n",
    "#-------------- Affichage\n",
    "print(datetime.datetime.now().strftime(\"%Y-%m-%d %H:%M\"))\n",
    "# imprimer un avertissement si la dernière date du dataframe est antérieure au dernier jour du mois en cours\n",
    "# calculer la date du dernier jour du mois en cours en tenant compte des jours à 28, 29 et 30 jours\n",
    "last_date= datetime.datetime(now.year, now.month, calendar.monthrange(now.year, now.month)[1])\n",
    "titre_pm= 'Cumuls mensuels de pluie des postes et de la période choisis: '\n",
    "if np.datetime64(df['DATE'].values[-1]) < np.datetime64(last_date):\n",
    "    titre_pm= titre_pm + 'Attention le cumul du dernier mois est incomplet à ce jour'\n",
    "\n",
    "print(titre_pm)\n",
    "display(df_pm[(df_pm.index >= start_date) & (df_pm.index <= end_date)])\n",
    "fig.show()\n",
    "titre_pj= 'Précipitations quotidiennes des postes et de la période choisis'\n",
    "print(titre_pj)\n",
    "display(df_pj[(df_pj.index >= start_date) & (df_pj.index <= end_date)])"
   ]
  },
  {
   "cell_type": "markdown",
   "metadata": {},
   "source": [
    "##### 3) Tracé du graphique des cumul mensuels de précipitations\n",
    "\n",
    "Définir au préalable comme suit les dates de début et de fin du graphique:\n",
    "- None pour prendre le début et la fin du fichier LATEST (premier jour de l'année précédente et veille du téléchargement)\n",
    "- ou définir la date de début et de fin\n",
    "\n",
    "NB: on peut choisir le paramètre mais la présentation actuelle est spécialement adaptée aux précipitations"
   ]
  },
  {
   "cell_type": "code",
   "execution_count": 122,
   "metadata": {},
   "outputs": [
    {
     "name": "stdout",
     "output_type": "stream",
     "text": [
      "2023-12-22 17:01\n"
     ]
    },
    {
     "data": {
      "application/vnd.plotly.v1+json": {
       "config": {
        "plotlyServerURL": "https://plot.ly"
       },
       "data": [
        {
         "marker": {
          "color": "rgb(141,211,199)"
         },
         "name": "FORCALQUIER",
         "type": "bar",
         "x": [
          "2022-01-01T00:00:00",
          "2022-02-01T00:00:00",
          "2022-03-01T00:00:00",
          "2022-04-01T00:00:00",
          "2022-05-01T00:00:00",
          "2022-06-01T00:00:00",
          "2022-07-01T00:00:00",
          "2022-08-01T00:00:00",
          "2022-09-01T00:00:00",
          "2022-10-01T00:00:00",
          "2022-11-01T00:00:00",
          "2022-12-01T00:00:00",
          "2023-01-01T00:00:00",
          "2023-02-01T00:00:00",
          "2023-03-01T00:00:00",
          "2023-04-01T00:00:00",
          "2023-05-01T00:00:00",
          "2023-06-01T00:00:00",
          "2023-07-01T00:00:00",
          "2023-08-01T00:00:00",
          "2023-09-01T00:00:00",
          "2023-10-01T00:00:00",
          "2023-11-01T00:00:00"
         ],
         "xaxis": "x",
         "y": [
          3.5,
          24.8,
          6.6,
          44.4,
          28.500000000000004,
          20.4,
          3.6,
          93.6,
          83.2,
          27.799999999999997,
          140.5,
          174.3,
          25.2,
          11.6,
          21.900000000000002,
          34.9,
          128.70000000000002,
          95.39999999999999,
          0.8,
          39.2,
          108,
          77.5,
          63.1
         ],
         "yaxis": "y"
        },
        {
         "line": {
          "color": "gray"
         },
         "mode": "lines",
         "name": "Cumulé 04088001",
         "type": "scatter",
         "x": [
          "2022-01-01T00:00:00",
          "2022-02-01T00:00:00",
          "2022-03-01T00:00:00",
          "2022-04-01T00:00:00",
          "2022-05-01T00:00:00",
          "2022-06-01T00:00:00",
          "2022-07-01T00:00:00",
          "2022-08-01T00:00:00",
          "2022-09-01T00:00:00",
          "2022-10-01T00:00:00",
          "2022-11-01T00:00:00",
          "2022-12-01T00:00:00",
          "2023-01-01T00:00:00",
          "2023-02-01T00:00:00",
          "2023-03-01T00:00:00",
          "2023-04-01T00:00:00",
          "2023-05-01T00:00:00",
          "2023-06-01T00:00:00",
          "2023-07-01T00:00:00",
          "2023-08-01T00:00:00",
          "2023-09-01T00:00:00",
          "2023-10-01T00:00:00",
          "2023-11-01T00:00:00"
         ],
         "xaxis": "x",
         "y": [
          3.5,
          28.3,
          34.9,
          79.3,
          107.8,
          128.2,
          131.79999999999998,
          225.39999999999998,
          308.59999999999997,
          336.4,
          476.9,
          651.2,
          676.4000000000001,
          688.0000000000001,
          709.9000000000001,
          744.8000000000001,
          873.5000000000001,
          968.9000000000001,
          969.7,
          1008.9000000000001,
          1116.9,
          1194.4,
          1257.5
         ],
         "yaxis": "y2"
        },
        {
         "marker": {
          "color": "rgb(255,255,179)"
         },
         "name": "CASTELLANE",
         "type": "bar",
         "x": [
          "2022-01-01T00:00:00",
          "2022-02-01T00:00:00",
          "2022-03-01T00:00:00",
          "2022-04-01T00:00:00",
          "2022-05-01T00:00:00",
          "2022-06-01T00:00:00",
          "2022-07-01T00:00:00",
          "2022-08-01T00:00:00",
          "2022-09-01T00:00:00",
          "2022-10-01T00:00:00",
          "2022-11-01T00:00:00",
          "2022-12-01T00:00:00",
          "2023-01-01T00:00:00",
          "2023-02-01T00:00:00",
          "2023-03-01T00:00:00",
          "2023-04-01T00:00:00",
          "2023-05-01T00:00:00",
          "2023-06-01T00:00:00",
          "2023-07-01T00:00:00",
          "2023-08-01T00:00:00",
          "2023-09-01T00:00:00",
          "2023-10-01T00:00:00",
          "2023-11-01T00:00:00",
          "2023-12-01T00:00:00"
         ],
         "xaxis": "x2",
         "y": [
          5.6000000000000005,
          35.4,
          13.399999999999999,
          65.6,
          29.4,
          47.10000000000001,
          8.6,
          54.100000000000016,
          67.1,
          12.4,
          91.5,
          155.7,
          66.70000000000002,
          14.399999999999999,
          26.6,
          59.099999999999994,
          200.5,
          153.49999999999997,
          4,
          62.6,
          60.10000000000002,
          151.1,
          102.2,
          76.3
         ],
         "yaxis": "y3"
        },
        {
         "line": {
          "color": "gray"
         },
         "mode": "lines",
         "name": "Cumulé 04039001",
         "type": "scatter",
         "x": [
          "2022-01-01T00:00:00",
          "2022-02-01T00:00:00",
          "2022-03-01T00:00:00",
          "2022-04-01T00:00:00",
          "2022-05-01T00:00:00",
          "2022-06-01T00:00:00",
          "2022-07-01T00:00:00",
          "2022-08-01T00:00:00",
          "2022-09-01T00:00:00",
          "2022-10-01T00:00:00",
          "2022-11-01T00:00:00",
          "2022-12-01T00:00:00",
          "2023-01-01T00:00:00",
          "2023-02-01T00:00:00",
          "2023-03-01T00:00:00",
          "2023-04-01T00:00:00",
          "2023-05-01T00:00:00",
          "2023-06-01T00:00:00",
          "2023-07-01T00:00:00",
          "2023-08-01T00:00:00",
          "2023-09-01T00:00:00",
          "2023-10-01T00:00:00",
          "2023-11-01T00:00:00",
          "2023-12-01T00:00:00"
         ],
         "xaxis": "x2",
         "y": [
          5.6000000000000005,
          41,
          54.4,
          120,
          149.4,
          196.5,
          205.1,
          259.2,
          326.29999999999995,
          338.69999999999993,
          430.19999999999993,
          585.8999999999999,
          652.5999999999999,
          666.9999999999999,
          693.5999999999999,
          752.6999999999999,
          953.1999999999999,
          1106.6999999999998,
          1110.6999999999998,
          1173.2999999999997,
          1233.3999999999996,
          1384.4999999999995,
          1486.6999999999996,
          1562.9999999999995
         ],
         "yaxis": "y4"
        },
        {
         "marker": {
          "color": "rgb(190,186,218)"
         },
         "name": "VALENSOLE",
         "type": "bar",
         "x": [
          "2022-01-01T00:00:00",
          "2022-02-01T00:00:00",
          "2022-03-01T00:00:00",
          "2022-04-01T00:00:00",
          "2022-05-01T00:00:00",
          "2022-06-01T00:00:00",
          "2022-07-01T00:00:00",
          "2022-08-01T00:00:00",
          "2022-09-01T00:00:00",
          "2022-10-01T00:00:00",
          "2022-11-01T00:00:00",
          "2022-12-01T00:00:00",
          "2023-01-01T00:00:00",
          "2023-02-01T00:00:00",
          "2023-03-01T00:00:00",
          "2023-04-01T00:00:00",
          "2023-05-01T00:00:00",
          "2023-06-01T00:00:00",
          "2023-07-01T00:00:00",
          "2023-08-01T00:00:00",
          "2023-09-01T00:00:00",
          "2023-10-01T00:00:00",
          "2023-11-01T00:00:00",
          "2023-12-01T00:00:00"
         ],
         "xaxis": "x3",
         "y": [
          4.800000000000001,
          14.999999999999998,
          8.4,
          32.6,
          28.999999999999993,
          15.8,
          0,
          56.89999999999999,
          78,
          11.4,
          93.6,
          103.9,
          20.6,
          7.800000000000001,
          16.400000000000002,
          36.2,
          154.39999999999998,
          155.6,
          1.2,
          31.4,
          32.6,
          91.1,
          36.400000000000006,
          56.8
         ],
         "yaxis": "y5"
        },
        {
         "line": {
          "color": "gray"
         },
         "mode": "lines",
         "name": "Cumulé 04230001",
         "type": "scatter",
         "x": [
          "2022-01-01T00:00:00",
          "2022-02-01T00:00:00",
          "2022-03-01T00:00:00",
          "2022-04-01T00:00:00",
          "2022-05-01T00:00:00",
          "2022-06-01T00:00:00",
          "2022-07-01T00:00:00",
          "2022-08-01T00:00:00",
          "2022-09-01T00:00:00",
          "2022-10-01T00:00:00",
          "2022-11-01T00:00:00",
          "2022-12-01T00:00:00",
          "2023-01-01T00:00:00",
          "2023-02-01T00:00:00",
          "2023-03-01T00:00:00",
          "2023-04-01T00:00:00",
          "2023-05-01T00:00:00",
          "2023-06-01T00:00:00",
          "2023-07-01T00:00:00",
          "2023-08-01T00:00:00",
          "2023-09-01T00:00:00",
          "2023-10-01T00:00:00",
          "2023-11-01T00:00:00",
          "2023-12-01T00:00:00"
         ],
         "xaxis": "x3",
         "y": [
          4.800000000000001,
          19.799999999999997,
          28.199999999999996,
          60.8,
          89.79999999999998,
          105.59999999999998,
          105.59999999999998,
          162.49999999999997,
          240.49999999999997,
          251.89999999999998,
          345.5,
          449.4,
          470,
          477.8,
          494.2,
          530.4,
          684.8,
          840.4,
          841.6,
          873,
          905.6,
          996.7,
          1033.1000000000001,
          1089.9
         ],
         "yaxis": "y6"
        },
        {
         "marker": {
          "color": "rgb(251,128,114)"
         },
         "name": "AIX EN PROVENCE",
         "type": "bar",
         "x": [
          "2022-01-01T00:00:00",
          "2022-02-01T00:00:00",
          "2022-03-01T00:00:00",
          "2022-04-01T00:00:00",
          "2022-05-01T00:00:00",
          "2022-06-01T00:00:00",
          "2022-07-01T00:00:00",
          "2022-08-01T00:00:00",
          "2022-09-01T00:00:00",
          "2022-10-01T00:00:00",
          "2022-11-01T00:00:00",
          "2022-12-01T00:00:00",
          "2023-01-01T00:00:00",
          "2023-02-01T00:00:00",
          "2023-03-01T00:00:00",
          "2023-04-01T00:00:00",
          "2023-05-01T00:00:00",
          "2023-06-01T00:00:00",
          "2023-07-01T00:00:00",
          "2023-08-01T00:00:00",
          "2023-09-01T00:00:00",
          "2023-10-01T00:00:00",
          "2023-11-01T00:00:00",
          "2023-12-01T00:00:00"
         ],
         "xaxis": "x4",
         "y": [
          3.6000000000000005,
          26.099999999999998,
          6.6,
          26.999999999999996,
          25.999999999999996,
          7,
          0.2,
          37.7,
          49,
          36.6,
          100.70000000000002,
          97,
          5.6000000000000005,
          20,
          10.799999999999999,
          15.2,
          93.89999999999999,
          73.40000000000002,
          7.4,
          35.1,
          26.400000000000002,
          47.5,
          30.2,
          42.60000000000001
         ],
         "yaxis": "y7"
        },
        {
         "line": {
          "color": "gray"
         },
         "mode": "lines",
         "name": "Cumulé 13001009",
         "type": "scatter",
         "x": [
          "2022-01-01T00:00:00",
          "2022-02-01T00:00:00",
          "2022-03-01T00:00:00",
          "2022-04-01T00:00:00",
          "2022-05-01T00:00:00",
          "2022-06-01T00:00:00",
          "2022-07-01T00:00:00",
          "2022-08-01T00:00:00",
          "2022-09-01T00:00:00",
          "2022-10-01T00:00:00",
          "2022-11-01T00:00:00",
          "2022-12-01T00:00:00",
          "2023-01-01T00:00:00",
          "2023-02-01T00:00:00",
          "2023-03-01T00:00:00",
          "2023-04-01T00:00:00",
          "2023-05-01T00:00:00",
          "2023-06-01T00:00:00",
          "2023-07-01T00:00:00",
          "2023-08-01T00:00:00",
          "2023-09-01T00:00:00",
          "2023-10-01T00:00:00",
          "2023-11-01T00:00:00",
          "2023-12-01T00:00:00"
         ],
         "xaxis": "x4",
         "y": [
          3.6000000000000005,
          29.7,
          36.3,
          63.3,
          89.3,
          96.3,
          96.5,
          134.2,
          183.2,
          219.79999999999998,
          320.5,
          417.5,
          423.1,
          443.1,
          453.90000000000003,
          469.1,
          563,
          636.4,
          643.8,
          678.9,
          705.3,
          752.8,
          783,
          825.6
         ],
         "yaxis": "y8"
        },
        {
         "marker": {
          "color": "rgb(128,177,211)"
         },
         "name": "VAUVENARGUES",
         "type": "bar",
         "x": [
          "2022-01-01T00:00:00",
          "2022-02-01T00:00:00",
          "2022-03-01T00:00:00",
          "2022-04-01T00:00:00",
          "2022-05-01T00:00:00",
          "2022-06-01T00:00:00",
          "2022-07-01T00:00:00",
          "2022-08-01T00:00:00",
          "2022-09-01T00:00:00",
          "2022-10-01T00:00:00",
          "2022-11-01T00:00:00",
          "2022-12-01T00:00:00",
          "2023-01-01T00:00:00",
          "2023-02-01T00:00:00",
          "2023-03-01T00:00:00",
          "2023-04-01T00:00:00",
          "2023-05-01T00:00:00",
          "2023-06-01T00:00:00",
          "2023-07-01T00:00:00",
          "2023-08-01T00:00:00",
          "2023-09-01T00:00:00",
          "2023-10-01T00:00:00",
          "2023-11-01T00:00:00",
          "2023-12-01T00:00:00"
         ],
         "xaxis": "x5",
         "y": [
          1,
          24.7,
          10.399999999999999,
          38.900000000000006,
          44.699999999999996,
          11,
          0.4,
          21,
          69.60000000000001,
          24.299999999999997,
          130.3,
          104.60000000000002,
          11.6,
          22.2,
          16,
          26.1,
          123,
          145.5,
          4.4,
          41.800000000000004,
          54.5,
          86,
          41.80000000000001,
          71
         ],
         "yaxis": "y9"
        },
        {
         "line": {
          "color": "gray"
         },
         "mode": "lines",
         "name": "Cumulé 13111002",
         "type": "scatter",
         "x": [
          "2022-01-01T00:00:00",
          "2022-02-01T00:00:00",
          "2022-03-01T00:00:00",
          "2022-04-01T00:00:00",
          "2022-05-01T00:00:00",
          "2022-06-01T00:00:00",
          "2022-07-01T00:00:00",
          "2022-08-01T00:00:00",
          "2022-09-01T00:00:00",
          "2022-10-01T00:00:00",
          "2022-11-01T00:00:00",
          "2022-12-01T00:00:00",
          "2023-01-01T00:00:00",
          "2023-02-01T00:00:00",
          "2023-03-01T00:00:00",
          "2023-04-01T00:00:00",
          "2023-05-01T00:00:00",
          "2023-06-01T00:00:00",
          "2023-07-01T00:00:00",
          "2023-08-01T00:00:00",
          "2023-09-01T00:00:00",
          "2023-10-01T00:00:00",
          "2023-11-01T00:00:00",
          "2023-12-01T00:00:00"
         ],
         "xaxis": "x5",
         "y": [
          1,
          25.7,
          36.099999999999994,
          75,
          119.69999999999999,
          130.7,
          131.1,
          152.1,
          221.7,
          246,
          376.3,
          480.90000000000003,
          492.50000000000006,
          514.7,
          530.7,
          556.8000000000001,
          679.8000000000001,
          825.3000000000001,
          829.7,
          871.5,
          926,
          1012,
          1053.8,
          1124.8
         ],
         "yaxis": "y10"
        },
        {
         "marker": {
          "color": "rgb(253,180,98)"
         },
         "name": "SALON DE PROVENCE",
         "type": "bar",
         "x": [
          "2022-01-01T00:00:00",
          "2022-02-01T00:00:00",
          "2022-03-01T00:00:00",
          "2022-04-01T00:00:00",
          "2022-05-01T00:00:00",
          "2022-06-01T00:00:00",
          "2022-07-01T00:00:00",
          "2022-08-01T00:00:00",
          "2022-09-01T00:00:00",
          "2022-10-01T00:00:00",
          "2022-11-01T00:00:00",
          "2022-12-01T00:00:00",
          "2023-01-01T00:00:00",
          "2023-02-01T00:00:00",
          "2023-03-01T00:00:00",
          "2023-04-01T00:00:00",
          "2023-05-01T00:00:00",
          "2023-06-01T00:00:00",
          "2023-07-01T00:00:00",
          "2023-08-01T00:00:00",
          "2023-09-01T00:00:00",
          "2023-10-01T00:00:00",
          "2023-11-01T00:00:00",
          "2023-12-01T00:00:00"
         ],
         "xaxis": "x6",
         "y": [
          2,
          38.2,
          6.6000000000000005,
          25.6,
          7.6000000000000005,
          17.2,
          0.2,
          51.099999999999994,
          47.1,
          11.5,
          46.5,
          111.50000000000001,
          2.6000000000000005,
          8.4,
          17.9,
          4,
          49.900000000000006,
          86.89999999999999,
          4.8,
          17.4,
          17.4,
          50.1,
          30.800000000000004,
          35.4
         ],
         "yaxis": "y11"
        },
        {
         "line": {
          "color": "gray"
         },
         "mode": "lines",
         "name": "Cumulé 13103001",
         "type": "scatter",
         "x": [
          "2022-01-01T00:00:00",
          "2022-02-01T00:00:00",
          "2022-03-01T00:00:00",
          "2022-04-01T00:00:00",
          "2022-05-01T00:00:00",
          "2022-06-01T00:00:00",
          "2022-07-01T00:00:00",
          "2022-08-01T00:00:00",
          "2022-09-01T00:00:00",
          "2022-10-01T00:00:00",
          "2022-11-01T00:00:00",
          "2022-12-01T00:00:00",
          "2023-01-01T00:00:00",
          "2023-02-01T00:00:00",
          "2023-03-01T00:00:00",
          "2023-04-01T00:00:00",
          "2023-05-01T00:00:00",
          "2023-06-01T00:00:00",
          "2023-07-01T00:00:00",
          "2023-08-01T00:00:00",
          "2023-09-01T00:00:00",
          "2023-10-01T00:00:00",
          "2023-11-01T00:00:00",
          "2023-12-01T00:00:00"
         ],
         "xaxis": "x6",
         "y": [
          2,
          40.2,
          46.800000000000004,
          72.4,
          80,
          97.2,
          97.4,
          148.5,
          195.6,
          207.1,
          253.6,
          365.1,
          367.70000000000005,
          376.1,
          394,
          398,
          447.9,
          534.8,
          539.5999999999999,
          556.9999999999999,
          574.3999999999999,
          624.4999999999999,
          655.2999999999998,
          690.6999999999998
         ],
         "yaxis": "y12"
        },
        {
         "marker": {
          "color": "rgb(179,222,105)"
         },
         "name": "MARSEILLE-OBS",
         "type": "bar",
         "x": [
          "2022-01-01T00:00:00",
          "2022-02-01T00:00:00",
          "2022-03-01T00:00:00",
          "2022-04-01T00:00:00",
          "2022-05-01T00:00:00",
          "2022-06-01T00:00:00",
          "2022-07-01T00:00:00",
          "2022-08-01T00:00:00",
          "2022-09-01T00:00:00",
          "2022-10-01T00:00:00",
          "2022-11-01T00:00:00",
          "2022-12-01T00:00:00",
          "2023-01-01T00:00:00",
          "2023-02-01T00:00:00",
          "2023-03-01T00:00:00",
          "2023-04-01T00:00:00",
          "2023-05-01T00:00:00",
          "2023-06-01T00:00:00",
          "2023-07-01T00:00:00",
          "2023-08-01T00:00:00",
          "2023-09-01T00:00:00",
          "2023-10-01T00:00:00",
          "2023-11-01T00:00:00",
          "2023-12-01T00:00:00"
         ],
         "xaxis": "x7",
         "y": [
          0.4,
          19.9,
          9.4,
          19.3,
          29.5,
          8.8,
          0,
          63.2,
          62.20000000000001,
          2,
          44.599999999999994,
          74.2,
          2.2,
          19.9,
          3.4000000000000004,
          6.2,
          58,
          41.6,
          9.899999999999999,
          34.7,
          46.199999999999996,
          30.299999999999997,
          23.200000000000003,
          28.3
         ],
         "yaxis": "y13"
        },
        {
         "line": {
          "color": "gray"
         },
         "mode": "lines",
         "name": "Cumulé 13055001",
         "type": "scatter",
         "x": [
          "2022-01-01T00:00:00",
          "2022-02-01T00:00:00",
          "2022-03-01T00:00:00",
          "2022-04-01T00:00:00",
          "2022-05-01T00:00:00",
          "2022-06-01T00:00:00",
          "2022-07-01T00:00:00",
          "2022-08-01T00:00:00",
          "2022-09-01T00:00:00",
          "2022-10-01T00:00:00",
          "2022-11-01T00:00:00",
          "2022-12-01T00:00:00",
          "2023-01-01T00:00:00",
          "2023-02-01T00:00:00",
          "2023-03-01T00:00:00",
          "2023-04-01T00:00:00",
          "2023-05-01T00:00:00",
          "2023-06-01T00:00:00",
          "2023-07-01T00:00:00",
          "2023-08-01T00:00:00",
          "2023-09-01T00:00:00",
          "2023-10-01T00:00:00",
          "2023-11-01T00:00:00",
          "2023-12-01T00:00:00"
         ],
         "xaxis": "x7",
         "y": [
          0.4,
          20.299999999999997,
          29.699999999999996,
          49,
          78.5,
          87.3,
          87.3,
          150.5,
          212.70000000000002,
          214.70000000000002,
          259.3,
          333.5,
          335.7,
          355.59999999999997,
          358.99999999999994,
          365.19999999999993,
          423.19999999999993,
          464.79999999999995,
          474.69999999999993,
          509.3999999999999,
          555.5999999999999,
          585.8999999999999,
          609.0999999999999,
          637.3999999999999
         ],
         "yaxis": "y14"
        },
        {
         "marker": {
          "color": "rgb(252,205,229)"
         },
         "name": "LE LUC",
         "type": "bar",
         "x": [
          "2022-01-01T00:00:00",
          "2022-02-01T00:00:00",
          "2022-03-01T00:00:00",
          "2022-04-01T00:00:00",
          "2022-05-01T00:00:00",
          "2022-06-01T00:00:00",
          "2022-07-01T00:00:00",
          "2022-08-01T00:00:00",
          "2022-09-01T00:00:00",
          "2022-10-01T00:00:00",
          "2022-11-01T00:00:00",
          "2022-12-01T00:00:00",
          "2023-01-01T00:00:00",
          "2023-02-01T00:00:00",
          "2023-03-01T00:00:00",
          "2023-04-01T00:00:00",
          "2023-05-01T00:00:00",
          "2023-06-01T00:00:00",
          "2023-07-01T00:00:00",
          "2023-08-01T00:00:00",
          "2023-09-01T00:00:00",
          "2023-10-01T00:00:00",
          "2023-11-01T00:00:00",
          "2023-12-01T00:00:00"
         ],
         "xaxis": "x8",
         "y": [
          0.8,
          31.900000000000002,
          28.2,
          45.8,
          38.099999999999994,
          16.6,
          0.6000000000000001,
          54.1,
          41.1,
          13.499999999999998,
          67.30000000000001,
          137.1,
          10,
          37.400000000000006,
          4.3999999999999995,
          11.600000000000001,
          133.5,
          130.70000000000002,
          0.8,
          24.299999999999997,
          32.6,
          72,
          21.699999999999996,
          53.8
         ],
         "yaxis": "y15"
        },
        {
         "line": {
          "color": "gray"
         },
         "mode": "lines",
         "name": "Cumulé 83031001",
         "type": "scatter",
         "x": [
          "2022-01-01T00:00:00",
          "2022-02-01T00:00:00",
          "2022-03-01T00:00:00",
          "2022-04-01T00:00:00",
          "2022-05-01T00:00:00",
          "2022-06-01T00:00:00",
          "2022-07-01T00:00:00",
          "2022-08-01T00:00:00",
          "2022-09-01T00:00:00",
          "2022-10-01T00:00:00",
          "2022-11-01T00:00:00",
          "2022-12-01T00:00:00",
          "2023-01-01T00:00:00",
          "2023-02-01T00:00:00",
          "2023-03-01T00:00:00",
          "2023-04-01T00:00:00",
          "2023-05-01T00:00:00",
          "2023-06-01T00:00:00",
          "2023-07-01T00:00:00",
          "2023-08-01T00:00:00",
          "2023-09-01T00:00:00",
          "2023-10-01T00:00:00",
          "2023-11-01T00:00:00",
          "2023-12-01T00:00:00"
         ],
         "xaxis": "x8",
         "y": [
          0.8,
          32.7,
          60.900000000000006,
          106.7,
          144.8,
          161.4,
          162,
          216.1,
          257.2,
          270.7,
          338,
          475.1,
          485.1,
          522.5,
          526.9,
          538.5,
          672,
          802.7,
          803.5,
          827.8,
          860.4,
          932.4,
          954.1,
          1007.9
         ],
         "yaxis": "y16"
        },
        {
         "marker": {
          "color": "rgb(217,217,217)"
         },
         "name": "FREJUS",
         "type": "bar",
         "x": [
          "2022-01-01T00:00:00",
          "2022-02-01T00:00:00",
          "2022-03-01T00:00:00",
          "2022-04-01T00:00:00",
          "2022-05-01T00:00:00",
          "2022-06-01T00:00:00",
          "2022-07-01T00:00:00",
          "2022-08-01T00:00:00",
          "2022-09-01T00:00:00",
          "2022-10-01T00:00:00",
          "2022-11-01T00:00:00",
          "2022-12-01T00:00:00",
          "2023-01-01T00:00:00",
          "2023-02-01T00:00:00",
          "2023-03-01T00:00:00",
          "2023-04-01T00:00:00",
          "2023-05-01T00:00:00",
          "2023-06-01T00:00:00",
          "2023-07-01T00:00:00",
          "2023-08-01T00:00:00",
          "2023-09-01T00:00:00",
          "2023-10-01T00:00:00",
          "2023-11-01T00:00:00",
          "2023-12-01T00:00:00"
         ],
         "xaxis": "x9",
         "y": [
          2.4,
          36.199999999999996,
          30.4,
          40.4,
          3.8000000000000003,
          43.4,
          0.2,
          33.1,
          44,
          32.80000000000001,
          74.7,
          99.40000000000002,
          21.6,
          30.8,
          5.4,
          15.6,
          37.599999999999994,
          40.599999999999994,
          0.6000000000000001,
          23.8,
          29.9,
          83.10000000000001,
          20.4,
          50.60000000000001
         ],
         "yaxis": "y17"
        },
        {
         "line": {
          "color": "gray"
         },
         "mode": "lines",
         "name": "Cumulé 83061001",
         "type": "scatter",
         "x": [
          "2022-01-01T00:00:00",
          "2022-02-01T00:00:00",
          "2022-03-01T00:00:00",
          "2022-04-01T00:00:00",
          "2022-05-01T00:00:00",
          "2022-06-01T00:00:00",
          "2022-07-01T00:00:00",
          "2022-08-01T00:00:00",
          "2022-09-01T00:00:00",
          "2022-10-01T00:00:00",
          "2022-11-01T00:00:00",
          "2022-12-01T00:00:00",
          "2023-01-01T00:00:00",
          "2023-02-01T00:00:00",
          "2023-03-01T00:00:00",
          "2023-04-01T00:00:00",
          "2023-05-01T00:00:00",
          "2023-06-01T00:00:00",
          "2023-07-01T00:00:00",
          "2023-08-01T00:00:00",
          "2023-09-01T00:00:00",
          "2023-10-01T00:00:00",
          "2023-11-01T00:00:00",
          "2023-12-01T00:00:00"
         ],
         "xaxis": "x9",
         "y": [
          2.4,
          38.599999999999994,
          69,
          109.4,
          113.2,
          156.6,
          156.79999999999998,
          189.89999999999998,
          233.89999999999998,
          266.7,
          341.4,
          440.8,
          462.40000000000003,
          493.20000000000005,
          498.6,
          514.2,
          551.8000000000001,
          592.4000000000001,
          593.0000000000001,
          616.8000000000001,
          646.7,
          729.8000000000001,
          750.2,
          800.8000000000001
         ],
         "yaxis": "y18"
        },
        {
         "marker": {
          "color": "rgb(188,128,189)"
         },
         "name": "TOULON",
         "type": "bar",
         "x": [
          "2022-01-01T00:00:00",
          "2022-02-01T00:00:00",
          "2022-03-01T00:00:00",
          "2022-04-01T00:00:00",
          "2022-05-01T00:00:00",
          "2022-06-01T00:00:00",
          "2022-07-01T00:00:00",
          "2022-08-01T00:00:00",
          "2022-09-01T00:00:00",
          "2022-10-01T00:00:00",
          "2022-11-01T00:00:00",
          "2022-12-01T00:00:00",
          "2023-01-01T00:00:00",
          "2023-02-01T00:00:00",
          "2023-03-01T00:00:00",
          "2023-04-01T00:00:00",
          "2023-05-01T00:00:00",
          "2023-06-01T00:00:00",
          "2023-07-01T00:00:00",
          "2023-08-01T00:00:00",
          "2023-09-01T00:00:00",
          "2023-10-01T00:00:00",
          "2023-11-01T00:00:00",
          "2023-12-01T00:00:00"
         ],
         "xaxis": "x10",
         "y": [
          2.8000000000000003,
          26.999999999999996,
          16.400000000000002,
          26.2,
          28.599999999999998,
          24.5,
          0.2,
          40.9,
          64.7,
          13.199999999999998,
          62.2,
          107.2,
          20.400000000000002,
          49,
          15.799999999999999,
          30.099999999999998,
          47.8,
          59.6,
          1.4,
          7.2,
          27.099999999999998,
          115.00000000000001,
          25.799999999999997,
          65.4
         ],
         "yaxis": "y19"
        },
        {
         "line": {
          "color": "gray"
         },
         "mode": "lines",
         "name": "Cumulé 83137001",
         "type": "scatter",
         "x": [
          "2022-01-01T00:00:00",
          "2022-02-01T00:00:00",
          "2022-03-01T00:00:00",
          "2022-04-01T00:00:00",
          "2022-05-01T00:00:00",
          "2022-06-01T00:00:00",
          "2022-07-01T00:00:00",
          "2022-08-01T00:00:00",
          "2022-09-01T00:00:00",
          "2022-10-01T00:00:00",
          "2022-11-01T00:00:00",
          "2022-12-01T00:00:00",
          "2023-01-01T00:00:00",
          "2023-02-01T00:00:00",
          "2023-03-01T00:00:00",
          "2023-04-01T00:00:00",
          "2023-05-01T00:00:00",
          "2023-06-01T00:00:00",
          "2023-07-01T00:00:00",
          "2023-08-01T00:00:00",
          "2023-09-01T00:00:00",
          "2023-10-01T00:00:00",
          "2023-11-01T00:00:00",
          "2023-12-01T00:00:00"
         ],
         "xaxis": "x10",
         "y": [
          2.8000000000000003,
          29.799999999999997,
          46.2,
          72.4,
          101,
          125.5,
          125.7,
          166.6,
          231.3,
          244.5,
          306.7,
          413.9,
          434.29999999999995,
          483.29999999999995,
          499.09999999999997,
          529.1999999999999,
          576.9999999999999,
          636.5999999999999,
          637.9999999999999,
          645.1999999999999,
          672.3,
          787.3,
          813.0999999999999,
          878.4999999999999
         ],
         "yaxis": "y20"
        },
        {
         "marker": {
          "color": "rgb(204,235,197)"
         },
         "name": "APT-VITON",
         "type": "bar",
         "x": [
          "2022-01-01T00:00:00",
          "2022-02-01T00:00:00",
          "2022-03-01T00:00:00",
          "2022-04-01T00:00:00",
          "2022-05-01T00:00:00",
          "2022-06-01T00:00:00",
          "2022-07-01T00:00:00",
          "2022-08-01T00:00:00",
          "2022-09-01T00:00:00",
          "2022-10-01T00:00:00",
          "2022-11-01T00:00:00",
          "2022-12-01T00:00:00",
          "2023-01-01T00:00:00",
          "2023-02-01T00:00:00",
          "2023-03-01T00:00:00",
          "2023-04-01T00:00:00",
          "2023-05-01T00:00:00",
          "2023-06-01T00:00:00",
          "2023-07-01T00:00:00",
          "2023-08-01T00:00:00",
          "2023-09-01T00:00:00",
          "2023-10-01T00:00:00",
          "2023-11-01T00:00:00",
          "2023-12-01T00:00:00"
         ],
         "xaxis": "x11",
         "y": [
          1.7999999999999998,
          23.700000000000003,
          11.600000000000001,
          53.70000000000001,
          47.300000000000004,
          12.1,
          1.4,
          19.099999999999998,
          36.20000000000001,
          72.1,
          151.6,
          147.3,
          12.6,
          10.4,
          28.8,
          24.7,
          145.3,
          192.8,
          1,
          47.8,
          16.799999999999997,
          84.1,
          37.599999999999994,
          60.39999999999999
         ],
         "yaxis": "y21"
        },
        {
         "line": {
          "color": "gray"
         },
         "mode": "lines",
         "name": "Cumulé 84003002",
         "type": "scatter",
         "x": [
          "2022-01-01T00:00:00",
          "2022-02-01T00:00:00",
          "2022-03-01T00:00:00",
          "2022-04-01T00:00:00",
          "2022-05-01T00:00:00",
          "2022-06-01T00:00:00",
          "2022-07-01T00:00:00",
          "2022-08-01T00:00:00",
          "2022-09-01T00:00:00",
          "2022-10-01T00:00:00",
          "2022-11-01T00:00:00",
          "2022-12-01T00:00:00",
          "2023-01-01T00:00:00",
          "2023-02-01T00:00:00",
          "2023-03-01T00:00:00",
          "2023-04-01T00:00:00",
          "2023-05-01T00:00:00",
          "2023-06-01T00:00:00",
          "2023-07-01T00:00:00",
          "2023-08-01T00:00:00",
          "2023-09-01T00:00:00",
          "2023-10-01T00:00:00",
          "2023-11-01T00:00:00",
          "2023-12-01T00:00:00"
         ],
         "xaxis": "x11",
         "y": [
          1.7999999999999998,
          25.500000000000004,
          37.10000000000001,
          90.80000000000001,
          138.10000000000002,
          150.20000000000002,
          151.60000000000002,
          170.70000000000002,
          206.90000000000003,
          279,
          430.6,
          577.9000000000001,
          590.5000000000001,
          600.9000000000001,
          629.7,
          654.4000000000001,
          799.7,
          992.5,
          993.5,
          1041.3,
          1058.1,
          1142.1999999999998,
          1179.7999999999997,
          1240.1999999999998
         ],
         "yaxis": "y22"
        },
        {
         "marker": {
          "color": "rgb(255,237,111)"
         },
         "name": "LA BASTIDE DES JOURDANS",
         "type": "bar",
         "x": [
          "2022-01-01T00:00:00",
          "2022-02-01T00:00:00",
          "2022-03-01T00:00:00",
          "2022-04-01T00:00:00",
          "2022-06-01T00:00:00",
          "2022-07-01T00:00:00",
          "2022-08-01T00:00:00",
          "2022-09-01T00:00:00",
          "2022-10-01T00:00:00",
          "2022-11-01T00:00:00",
          "2022-12-01T00:00:00",
          "2023-01-01T00:00:00",
          "2023-02-01T00:00:00",
          "2023-03-01T00:00:00",
          "2023-04-01T00:00:00",
          "2023-05-01T00:00:00",
          "2023-06-01T00:00:00",
          "2023-07-01T00:00:00",
          "2023-08-01T00:00:00",
          "2023-09-01T00:00:00",
          "2023-10-01T00:00:00",
          "2023-11-01T00:00:00",
          "2023-12-01T00:00:00"
         ],
         "xaxis": "x12",
         "y": [
          3.400000000000001,
          18.4,
          6.4,
          41.5,
          10.5,
          1,
          36.800000000000004,
          43.199999999999996,
          45.2,
          110.80000000000001,
          106.6,
          11.399999999999999,
          12.999999999999998,
          16.4,
          47.1,
          89.89999999999999,
          157.3,
          2,
          37.400000000000006,
          41.7,
          67.4,
          22,
          42.599999999999994
         ],
         "yaxis": "y23"
        },
        {
         "line": {
          "color": "gray"
         },
         "mode": "lines",
         "name": "Cumulé 84009002",
         "type": "scatter",
         "x": [
          "2022-01-01T00:00:00",
          "2022-02-01T00:00:00",
          "2022-03-01T00:00:00",
          "2022-04-01T00:00:00",
          "2022-06-01T00:00:00",
          "2022-07-01T00:00:00",
          "2022-08-01T00:00:00",
          "2022-09-01T00:00:00",
          "2022-10-01T00:00:00",
          "2022-11-01T00:00:00",
          "2022-12-01T00:00:00",
          "2023-01-01T00:00:00",
          "2023-02-01T00:00:00",
          "2023-03-01T00:00:00",
          "2023-04-01T00:00:00",
          "2023-05-01T00:00:00",
          "2023-06-01T00:00:00",
          "2023-07-01T00:00:00",
          "2023-08-01T00:00:00",
          "2023-09-01T00:00:00",
          "2023-10-01T00:00:00",
          "2023-11-01T00:00:00",
          "2023-12-01T00:00:00"
         ],
         "xaxis": "x12",
         "y": [
          3.400000000000001,
          21.8,
          28.200000000000003,
          69.7,
          80.2,
          81.2,
          118,
          161.2,
          206.39999999999998,
          317.2,
          423.79999999999995,
          435.19999999999993,
          448.19999999999993,
          464.5999999999999,
          511.69999999999993,
          601.5999999999999,
          758.8999999999999,
          760.8999999999999,
          798.2999999999998,
          839.9999999999999,
          907.3999999999999,
          929.3999999999999,
          971.9999999999999
         ],
         "yaxis": "y24"
        }
       ],
       "layout": {
        "annotations": [
         {
          "font": {
           "size": 16
          },
          "showarrow": false,
          "text": "04088001 - FORCALQUIER",
          "x": 0.47,
          "xanchor": "center",
          "xref": "paper",
          "y": 1,
          "yanchor": "bottom",
          "yref": "paper"
         },
         {
          "font": {
           "size": 16
          },
          "showarrow": false,
          "text": "04039001 - CASTELLANE",
          "x": 0.47,
          "xanchor": "center",
          "xref": "paper",
          "y": 0.9131944444444444,
          "yanchor": "bottom",
          "yref": "paper"
         },
         {
          "font": {
           "size": 16
          },
          "showarrow": false,
          "text": "04230001 - VALENSOLE",
          "x": 0.47,
          "xanchor": "center",
          "xref": "paper",
          "y": 0.8263888888888888,
          "yanchor": "bottom",
          "yref": "paper"
         },
         {
          "font": {
           "size": 16
          },
          "showarrow": false,
          "text": "13001009 - AIX EN PROVENCE",
          "x": 0.47,
          "xanchor": "center",
          "xref": "paper",
          "y": 0.7395833333333333,
          "yanchor": "bottom",
          "yref": "paper"
         },
         {
          "font": {
           "size": 16
          },
          "showarrow": false,
          "text": "13111002 - VAUVENARGUES",
          "x": 0.47,
          "xanchor": "center",
          "xref": "paper",
          "y": 0.6527777777777777,
          "yanchor": "bottom",
          "yref": "paper"
         },
         {
          "font": {
           "size": 16
          },
          "showarrow": false,
          "text": "13103001 - SALON DE PROVENCE",
          "x": 0.47,
          "xanchor": "center",
          "xref": "paper",
          "y": 0.5659722222222223,
          "yanchor": "bottom",
          "yref": "paper"
         },
         {
          "font": {
           "size": 16
          },
          "showarrow": false,
          "text": "13055001 - MARSEILLE-OBS",
          "x": 0.47,
          "xanchor": "center",
          "xref": "paper",
          "y": 0.4791666666666667,
          "yanchor": "bottom",
          "yref": "paper"
         },
         {
          "font": {
           "size": 16
          },
          "showarrow": false,
          "text": "83031001 - LE LUC",
          "x": 0.47,
          "xanchor": "center",
          "xref": "paper",
          "y": 0.3923611111111111,
          "yanchor": "bottom",
          "yref": "paper"
         },
         {
          "font": {
           "size": 16
          },
          "showarrow": false,
          "text": "83061001 - FREJUS",
          "x": 0.47,
          "xanchor": "center",
          "xref": "paper",
          "y": 0.3055555555555556,
          "yanchor": "bottom",
          "yref": "paper"
         },
         {
          "font": {
           "size": 16
          },
          "showarrow": false,
          "text": "83137001 - TOULON",
          "x": 0.47,
          "xanchor": "center",
          "xref": "paper",
          "y": 0.21875,
          "yanchor": "bottom",
          "yref": "paper"
         },
         {
          "font": {
           "size": 16
          },
          "showarrow": false,
          "text": "84003002 - APT-VITON",
          "x": 0.47,
          "xanchor": "center",
          "xref": "paper",
          "y": 0.13194444444444445,
          "yanchor": "bottom",
          "yref": "paper"
         },
         {
          "font": {
           "size": 16
          },
          "showarrow": false,
          "text": "84009002 - LA BASTIDE DES JOURDANS",
          "x": 0.47,
          "xanchor": "center",
          "xref": "paper",
          "y": 0.045138888888888895,
          "yanchor": "bottom",
          "yref": "paper"
         }
        ],
        "height": 1596,
        "hoverlabel": {
         "bgcolor": "rgba(255,255,255,0.6)"
        },
        "hovermode": "x unified",
        "template": {
         "data": {
          "bar": [
           {
            "error_x": {
             "color": "#2a3f5f"
            },
            "error_y": {
             "color": "#2a3f5f"
            },
            "marker": {
             "line": {
              "color": "#E5ECF6",
              "width": 0.5
             },
             "pattern": {
              "fillmode": "overlay",
              "size": 10,
              "solidity": 0.2
             }
            },
            "type": "bar"
           }
          ],
          "barpolar": [
           {
            "marker": {
             "line": {
              "color": "#E5ECF6",
              "width": 0.5
             },
             "pattern": {
              "fillmode": "overlay",
              "size": 10,
              "solidity": 0.2
             }
            },
            "type": "barpolar"
           }
          ],
          "carpet": [
           {
            "aaxis": {
             "endlinecolor": "#2a3f5f",
             "gridcolor": "white",
             "linecolor": "white",
             "minorgridcolor": "white",
             "startlinecolor": "#2a3f5f"
            },
            "baxis": {
             "endlinecolor": "#2a3f5f",
             "gridcolor": "white",
             "linecolor": "white",
             "minorgridcolor": "white",
             "startlinecolor": "#2a3f5f"
            },
            "type": "carpet"
           }
          ],
          "choropleth": [
           {
            "colorbar": {
             "outlinewidth": 0,
             "ticks": ""
            },
            "type": "choropleth"
           }
          ],
          "contour": [
           {
            "colorbar": {
             "outlinewidth": 0,
             "ticks": ""
            },
            "colorscale": [
             [
              0,
              "#0d0887"
             ],
             [
              0.1111111111111111,
              "#46039f"
             ],
             [
              0.2222222222222222,
              "#7201a8"
             ],
             [
              0.3333333333333333,
              "#9c179e"
             ],
             [
              0.4444444444444444,
              "#bd3786"
             ],
             [
              0.5555555555555556,
              "#d8576b"
             ],
             [
              0.6666666666666666,
              "#ed7953"
             ],
             [
              0.7777777777777778,
              "#fb9f3a"
             ],
             [
              0.8888888888888888,
              "#fdca26"
             ],
             [
              1,
              "#f0f921"
             ]
            ],
            "type": "contour"
           }
          ],
          "contourcarpet": [
           {
            "colorbar": {
             "outlinewidth": 0,
             "ticks": ""
            },
            "type": "contourcarpet"
           }
          ],
          "heatmap": [
           {
            "colorbar": {
             "outlinewidth": 0,
             "ticks": ""
            },
            "colorscale": [
             [
              0,
              "#0d0887"
             ],
             [
              0.1111111111111111,
              "#46039f"
             ],
             [
              0.2222222222222222,
              "#7201a8"
             ],
             [
              0.3333333333333333,
              "#9c179e"
             ],
             [
              0.4444444444444444,
              "#bd3786"
             ],
             [
              0.5555555555555556,
              "#d8576b"
             ],
             [
              0.6666666666666666,
              "#ed7953"
             ],
             [
              0.7777777777777778,
              "#fb9f3a"
             ],
             [
              0.8888888888888888,
              "#fdca26"
             ],
             [
              1,
              "#f0f921"
             ]
            ],
            "type": "heatmap"
           }
          ],
          "heatmapgl": [
           {
            "colorbar": {
             "outlinewidth": 0,
             "ticks": ""
            },
            "colorscale": [
             [
              0,
              "#0d0887"
             ],
             [
              0.1111111111111111,
              "#46039f"
             ],
             [
              0.2222222222222222,
              "#7201a8"
             ],
             [
              0.3333333333333333,
              "#9c179e"
             ],
             [
              0.4444444444444444,
              "#bd3786"
             ],
             [
              0.5555555555555556,
              "#d8576b"
             ],
             [
              0.6666666666666666,
              "#ed7953"
             ],
             [
              0.7777777777777778,
              "#fb9f3a"
             ],
             [
              0.8888888888888888,
              "#fdca26"
             ],
             [
              1,
              "#f0f921"
             ]
            ],
            "type": "heatmapgl"
           }
          ],
          "histogram": [
           {
            "marker": {
             "pattern": {
              "fillmode": "overlay",
              "size": 10,
              "solidity": 0.2
             }
            },
            "type": "histogram"
           }
          ],
          "histogram2d": [
           {
            "colorbar": {
             "outlinewidth": 0,
             "ticks": ""
            },
            "colorscale": [
             [
              0,
              "#0d0887"
             ],
             [
              0.1111111111111111,
              "#46039f"
             ],
             [
              0.2222222222222222,
              "#7201a8"
             ],
             [
              0.3333333333333333,
              "#9c179e"
             ],
             [
              0.4444444444444444,
              "#bd3786"
             ],
             [
              0.5555555555555556,
              "#d8576b"
             ],
             [
              0.6666666666666666,
              "#ed7953"
             ],
             [
              0.7777777777777778,
              "#fb9f3a"
             ],
             [
              0.8888888888888888,
              "#fdca26"
             ],
             [
              1,
              "#f0f921"
             ]
            ],
            "type": "histogram2d"
           }
          ],
          "histogram2dcontour": [
           {
            "colorbar": {
             "outlinewidth": 0,
             "ticks": ""
            },
            "colorscale": [
             [
              0,
              "#0d0887"
             ],
             [
              0.1111111111111111,
              "#46039f"
             ],
             [
              0.2222222222222222,
              "#7201a8"
             ],
             [
              0.3333333333333333,
              "#9c179e"
             ],
             [
              0.4444444444444444,
              "#bd3786"
             ],
             [
              0.5555555555555556,
              "#d8576b"
             ],
             [
              0.6666666666666666,
              "#ed7953"
             ],
             [
              0.7777777777777778,
              "#fb9f3a"
             ],
             [
              0.8888888888888888,
              "#fdca26"
             ],
             [
              1,
              "#f0f921"
             ]
            ],
            "type": "histogram2dcontour"
           }
          ],
          "mesh3d": [
           {
            "colorbar": {
             "outlinewidth": 0,
             "ticks": ""
            },
            "type": "mesh3d"
           }
          ],
          "parcoords": [
           {
            "line": {
             "colorbar": {
              "outlinewidth": 0,
              "ticks": ""
             }
            },
            "type": "parcoords"
           }
          ],
          "pie": [
           {
            "automargin": true,
            "type": "pie"
           }
          ],
          "scatter": [
           {
            "marker": {
             "colorbar": {
              "outlinewidth": 0,
              "ticks": ""
             }
            },
            "type": "scatter"
           }
          ],
          "scatter3d": [
           {
            "line": {
             "colorbar": {
              "outlinewidth": 0,
              "ticks": ""
             }
            },
            "marker": {
             "colorbar": {
              "outlinewidth": 0,
              "ticks": ""
             }
            },
            "type": "scatter3d"
           }
          ],
          "scattercarpet": [
           {
            "marker": {
             "colorbar": {
              "outlinewidth": 0,
              "ticks": ""
             }
            },
            "type": "scattercarpet"
           }
          ],
          "scattergeo": [
           {
            "marker": {
             "colorbar": {
              "outlinewidth": 0,
              "ticks": ""
             }
            },
            "type": "scattergeo"
           }
          ],
          "scattergl": [
           {
            "marker": {
             "colorbar": {
              "outlinewidth": 0,
              "ticks": ""
             }
            },
            "type": "scattergl"
           }
          ],
          "scattermapbox": [
           {
            "marker": {
             "colorbar": {
              "outlinewidth": 0,
              "ticks": ""
             }
            },
            "type": "scattermapbox"
           }
          ],
          "scatterpolar": [
           {
            "marker": {
             "colorbar": {
              "outlinewidth": 0,
              "ticks": ""
             }
            },
            "type": "scatterpolar"
           }
          ],
          "scatterpolargl": [
           {
            "marker": {
             "colorbar": {
              "outlinewidth": 0,
              "ticks": ""
             }
            },
            "type": "scatterpolargl"
           }
          ],
          "scatterternary": [
           {
            "marker": {
             "colorbar": {
              "outlinewidth": 0,
              "ticks": ""
             }
            },
            "type": "scatterternary"
           }
          ],
          "surface": [
           {
            "colorbar": {
             "outlinewidth": 0,
             "ticks": ""
            },
            "colorscale": [
             [
              0,
              "#0d0887"
             ],
             [
              0.1111111111111111,
              "#46039f"
             ],
             [
              0.2222222222222222,
              "#7201a8"
             ],
             [
              0.3333333333333333,
              "#9c179e"
             ],
             [
              0.4444444444444444,
              "#bd3786"
             ],
             [
              0.5555555555555556,
              "#d8576b"
             ],
             [
              0.6666666666666666,
              "#ed7953"
             ],
             [
              0.7777777777777778,
              "#fb9f3a"
             ],
             [
              0.8888888888888888,
              "#fdca26"
             ],
             [
              1,
              "#f0f921"
             ]
            ],
            "type": "surface"
           }
          ],
          "table": [
           {
            "cells": {
             "fill": {
              "color": "#EBF0F8"
             },
             "line": {
              "color": "white"
             }
            },
            "header": {
             "fill": {
              "color": "#C8D4E3"
             },
             "line": {
              "color": "white"
             }
            },
            "type": "table"
           }
          ]
         },
         "layout": {
          "annotationdefaults": {
           "arrowcolor": "#2a3f5f",
           "arrowhead": 0,
           "arrowwidth": 1
          },
          "autotypenumbers": "strict",
          "coloraxis": {
           "colorbar": {
            "outlinewidth": 0,
            "ticks": ""
           }
          },
          "colorscale": {
           "diverging": [
            [
             0,
             "#8e0152"
            ],
            [
             0.1,
             "#c51b7d"
            ],
            [
             0.2,
             "#de77ae"
            ],
            [
             0.3,
             "#f1b6da"
            ],
            [
             0.4,
             "#fde0ef"
            ],
            [
             0.5,
             "#f7f7f7"
            ],
            [
             0.6,
             "#e6f5d0"
            ],
            [
             0.7,
             "#b8e186"
            ],
            [
             0.8,
             "#7fbc41"
            ],
            [
             0.9,
             "#4d9221"
            ],
            [
             1,
             "#276419"
            ]
           ],
           "sequential": [
            [
             0,
             "#0d0887"
            ],
            [
             0.1111111111111111,
             "#46039f"
            ],
            [
             0.2222222222222222,
             "#7201a8"
            ],
            [
             0.3333333333333333,
             "#9c179e"
            ],
            [
             0.4444444444444444,
             "#bd3786"
            ],
            [
             0.5555555555555556,
             "#d8576b"
            ],
            [
             0.6666666666666666,
             "#ed7953"
            ],
            [
             0.7777777777777778,
             "#fb9f3a"
            ],
            [
             0.8888888888888888,
             "#fdca26"
            ],
            [
             1,
             "#f0f921"
            ]
           ],
           "sequentialminus": [
            [
             0,
             "#0d0887"
            ],
            [
             0.1111111111111111,
             "#46039f"
            ],
            [
             0.2222222222222222,
             "#7201a8"
            ],
            [
             0.3333333333333333,
             "#9c179e"
            ],
            [
             0.4444444444444444,
             "#bd3786"
            ],
            [
             0.5555555555555556,
             "#d8576b"
            ],
            [
             0.6666666666666666,
             "#ed7953"
            ],
            [
             0.7777777777777778,
             "#fb9f3a"
            ],
            [
             0.8888888888888888,
             "#fdca26"
            ],
            [
             1,
             "#f0f921"
            ]
           ]
          },
          "colorway": [
           "#636efa",
           "#EF553B",
           "#00cc96",
           "#ab63fa",
           "#FFA15A",
           "#19d3f3",
           "#FF6692",
           "#B6E880",
           "#FF97FF",
           "#FECB52"
          ],
          "font": {
           "color": "#2a3f5f"
          },
          "geo": {
           "bgcolor": "white",
           "lakecolor": "white",
           "landcolor": "#E5ECF6",
           "showlakes": true,
           "showland": true,
           "subunitcolor": "white"
          },
          "hoverlabel": {
           "align": "left"
          },
          "hovermode": "closest",
          "mapbox": {
           "style": "light"
          },
          "paper_bgcolor": "white",
          "plot_bgcolor": "#E5ECF6",
          "polar": {
           "angularaxis": {
            "gridcolor": "white",
            "linecolor": "white",
            "ticks": ""
           },
           "bgcolor": "#E5ECF6",
           "radialaxis": {
            "gridcolor": "white",
            "linecolor": "white",
            "ticks": ""
           }
          },
          "scene": {
           "xaxis": {
            "backgroundcolor": "#E5ECF6",
            "gridcolor": "white",
            "gridwidth": 2,
            "linecolor": "white",
            "showbackground": true,
            "ticks": "",
            "zerolinecolor": "white"
           },
           "yaxis": {
            "backgroundcolor": "#E5ECF6",
            "gridcolor": "white",
            "gridwidth": 2,
            "linecolor": "white",
            "showbackground": true,
            "ticks": "",
            "zerolinecolor": "white"
           },
           "zaxis": {
            "backgroundcolor": "#E5ECF6",
            "gridcolor": "white",
            "gridwidth": 2,
            "linecolor": "white",
            "showbackground": true,
            "ticks": "",
            "zerolinecolor": "white"
           }
          },
          "shapedefaults": {
           "line": {
            "color": "#2a3f5f"
           }
          },
          "ternary": {
           "aaxis": {
            "gridcolor": "white",
            "linecolor": "white",
            "ticks": ""
           },
           "baxis": {
            "gridcolor": "white",
            "linecolor": "white",
            "ticks": ""
           },
           "bgcolor": "#E5ECF6",
           "caxis": {
            "gridcolor": "white",
            "linecolor": "white",
            "ticks": ""
           }
          },
          "title": {
           "x": 0.05
          },
          "xaxis": {
           "automargin": true,
           "gridcolor": "white",
           "linecolor": "white",
           "ticks": "",
           "title": {
            "standoff": 15
           },
           "zerolinecolor": "white",
           "zerolinewidth": 2
          },
          "yaxis": {
           "automargin": true,
           "gridcolor": "white",
           "linecolor": "white",
           "ticks": "",
           "title": {
            "standoff": 15
           },
           "zerolinecolor": "white",
           "zerolinewidth": 2
          }
         }
        },
        "title": {
         "text": "meteo.data - Précipitations mensuelles (mm) - 2023-12-22",
         "x": 0.5
        },
        "width": 1000,
        "xaxis": {
         "anchor": "y",
         "domain": [
          0,
          0.94
         ],
         "dtick": "M6",
         "gridcolor": "white",
         "gridwidth": 1,
         "matches": "x",
         "showgrid": true,
         "tickformat": "%b\n%Y",
         "tickmode": "linear"
        },
        "xaxis10": {
         "anchor": "y19",
         "domain": [
          0,
          0.94
         ],
         "dtick": "M6",
         "gridcolor": "white",
         "gridwidth": 1,
         "matches": "x",
         "showgrid": true,
         "tickformat": "%b\n%Y",
         "tickmode": "linear"
        },
        "xaxis11": {
         "anchor": "y21",
         "domain": [
          0,
          0.94
         ],
         "dtick": "M6",
         "gridcolor": "white",
         "gridwidth": 1,
         "matches": "x",
         "showgrid": true,
         "tickformat": "%b\n%Y",
         "tickmode": "linear"
        },
        "xaxis12": {
         "anchor": "y23",
         "domain": [
          0,
          0.94
         ],
         "dtick": "M6",
         "gridcolor": "white",
         "gridwidth": 1,
         "matches": "x",
         "showgrid": true,
         "tickformat": "%b\n%Y",
         "tickmode": "linear"
        },
        "xaxis2": {
         "anchor": "y3",
         "domain": [
          0,
          0.94
         ],
         "dtick": "M6",
         "gridcolor": "white",
         "gridwidth": 1,
         "matches": "x",
         "showgrid": true,
         "tickformat": "%b\n%Y",
         "tickmode": "linear"
        },
        "xaxis3": {
         "anchor": "y5",
         "domain": [
          0,
          0.94
         ],
         "dtick": "M6",
         "gridcolor": "white",
         "gridwidth": 1,
         "matches": "x",
         "showgrid": true,
         "tickformat": "%b\n%Y",
         "tickmode": "linear"
        },
        "xaxis4": {
         "anchor": "y7",
         "domain": [
          0,
          0.94
         ],
         "dtick": "M6",
         "gridcolor": "white",
         "gridwidth": 1,
         "matches": "x",
         "showgrid": true,
         "tickformat": "%b\n%Y",
         "tickmode": "linear"
        },
        "xaxis5": {
         "anchor": "y9",
         "domain": [
          0,
          0.94
         ],
         "dtick": "M6",
         "gridcolor": "white",
         "gridwidth": 1,
         "matches": "x",
         "showgrid": true,
         "tickformat": "%b\n%Y",
         "tickmode": "linear"
        },
        "xaxis6": {
         "anchor": "y11",
         "domain": [
          0,
          0.94
         ],
         "dtick": "M6",
         "gridcolor": "white",
         "gridwidth": 1,
         "matches": "x",
         "showgrid": true,
         "tickformat": "%b\n%Y",
         "tickmode": "linear"
        },
        "xaxis7": {
         "anchor": "y13",
         "domain": [
          0,
          0.94
         ],
         "dtick": "M6",
         "gridcolor": "white",
         "gridwidth": 1,
         "matches": "x",
         "showgrid": true,
         "tickformat": "%b\n%Y",
         "tickmode": "linear"
        },
        "xaxis8": {
         "anchor": "y15",
         "domain": [
          0,
          0.94
         ],
         "dtick": "M6",
         "gridcolor": "white",
         "gridwidth": 1,
         "matches": "x",
         "showgrid": true,
         "tickformat": "%b\n%Y",
         "tickmode": "linear"
        },
        "xaxis9": {
         "anchor": "y17",
         "domain": [
          0,
          0.94
         ],
         "dtick": "M6",
         "gridcolor": "white",
         "gridwidth": 1,
         "matches": "x",
         "showgrid": true,
         "tickformat": "%b\n%Y",
         "tickmode": "linear"
        },
        "yaxis": {
         "anchor": "x",
         "domain": [
          0.9548611111111112,
          1
         ],
         "range": [
          0,
          200.5
         ]
        },
        "yaxis10": {
         "anchor": "x5",
         "overlaying": "y9",
         "range": [
          0,
          1563
         ],
         "showgrid": false,
         "side": "right",
         "title": {
          "text": "Cumulé"
         }
        },
        "yaxis11": {
         "anchor": "x6",
         "domain": [
          0.5208333333333334,
          0.5659722222222223
         ],
         "range": [
          0,
          200.5
         ]
        },
        "yaxis12": {
         "anchor": "x6",
         "overlaying": "y11",
         "range": [
          0,
          1563
         ],
         "showgrid": false,
         "side": "right",
         "title": {
          "text": "Cumulé"
         }
        },
        "yaxis13": {
         "anchor": "x7",
         "domain": [
          0.4340277777777778,
          0.4791666666666667
         ],
         "range": [
          0,
          200.5
         ]
        },
        "yaxis14": {
         "anchor": "x7",
         "overlaying": "y13",
         "range": [
          0,
          1563
         ],
         "showgrid": false,
         "side": "right",
         "title": {
          "text": "Cumulé"
         }
        },
        "yaxis15": {
         "anchor": "x8",
         "domain": [
          0.3472222222222222,
          0.3923611111111111
         ],
         "range": [
          0,
          200.5
         ]
        },
        "yaxis16": {
         "anchor": "x8",
         "overlaying": "y15",
         "range": [
          0,
          1563
         ],
         "showgrid": false,
         "side": "right",
         "title": {
          "text": "Cumulé"
         }
        },
        "yaxis17": {
         "anchor": "x9",
         "domain": [
          0.2604166666666667,
          0.3055555555555556
         ],
         "range": [
          0,
          200.5
         ]
        },
        "yaxis18": {
         "anchor": "x9",
         "overlaying": "y17",
         "range": [
          0,
          1563
         ],
         "showgrid": false,
         "side": "right",
         "title": {
          "text": "Cumulé"
         }
        },
        "yaxis19": {
         "anchor": "x10",
         "domain": [
          0.1736111111111111,
          0.21875
         ],
         "range": [
          0,
          200.5
         ]
        },
        "yaxis2": {
         "anchor": "x",
         "overlaying": "y",
         "range": [
          0,
          1563
         ],
         "showgrid": false,
         "side": "right",
         "title": {
          "text": "Cumulé"
         }
        },
        "yaxis20": {
         "anchor": "x10",
         "overlaying": "y19",
         "range": [
          0,
          1563
         ],
         "showgrid": false,
         "side": "right",
         "title": {
          "text": "Cumulé"
         }
        },
        "yaxis21": {
         "anchor": "x11",
         "domain": [
          0.08680555555555555,
          0.13194444444444445
         ],
         "range": [
          0,
          200.5
         ]
        },
        "yaxis22": {
         "anchor": "x11",
         "overlaying": "y21",
         "range": [
          0,
          1563
         ],
         "showgrid": false,
         "side": "right",
         "title": {
          "text": "Cumulé"
         }
        },
        "yaxis23": {
         "anchor": "x12",
         "domain": [
          0,
          0.045138888888888895
         ],
         "range": [
          0,
          200.5
         ]
        },
        "yaxis24": {
         "anchor": "x12",
         "overlaying": "y23",
         "range": [
          0,
          1563
         ],
         "showgrid": false,
         "side": "right",
         "title": {
          "text": "Cumulé"
         }
        },
        "yaxis3": {
         "anchor": "x2",
         "domain": [
          0.8680555555555556,
          0.9131944444444444
         ],
         "range": [
          0,
          200.5
         ]
        },
        "yaxis4": {
         "anchor": "x2",
         "overlaying": "y3",
         "range": [
          0,
          1563
         ],
         "showgrid": false,
         "side": "right",
         "title": {
          "text": "Cumulé"
         }
        },
        "yaxis5": {
         "anchor": "x3",
         "domain": [
          0.78125,
          0.8263888888888888
         ],
         "range": [
          0,
          200.5
         ]
        },
        "yaxis6": {
         "anchor": "x3",
         "overlaying": "y5",
         "range": [
          0,
          1563
         ],
         "showgrid": false,
         "side": "right",
         "title": {
          "text": "Cumulé"
         }
        },
        "yaxis7": {
         "anchor": "x4",
         "domain": [
          0.6944444444444444,
          0.7395833333333333
         ],
         "range": [
          0,
          200.5
         ]
        },
        "yaxis8": {
         "anchor": "x4",
         "overlaying": "y7",
         "range": [
          0,
          1563
         ],
         "showgrid": false,
         "side": "right",
         "title": {
          "text": "Cumulé"
         }
        },
        "yaxis9": {
         "anchor": "x5",
         "domain": [
          0.6076388888888888,
          0.6527777777777777
         ],
         "range": [
          0,
          200.5
         ]
        }
       }
      }
     },
     "metadata": {},
     "output_type": "display_data"
    },
    {
     "name": "stdout",
     "output_type": "stream",
     "text": [
      "Précipitations mensuelles LATEST (mm)\n"
     ]
    },
    {
     "data": {
      "text/html": [
       "<div>\n",
       "<style scoped>\n",
       "    .dataframe tbody tr th:only-of-type {\n",
       "        vertical-align: middle;\n",
       "    }\n",
       "\n",
       "    .dataframe tbody tr th {\n",
       "        vertical-align: top;\n",
       "    }\n",
       "\n",
       "    .dataframe thead th {\n",
       "        text-align: right;\n",
       "    }\n",
       "</style>\n",
       "<table border=\"1\" class=\"dataframe\">\n",
       "  <thead>\n",
       "    <tr style=\"text-align: right;\">\n",
       "      <th>NOM_USUEL</th>\n",
       "      <th>AIX EN PROVENCE</th>\n",
       "      <th>APT-VITON</th>\n",
       "      <th>CASTELLANE</th>\n",
       "      <th>FORCALQUIER</th>\n",
       "      <th>FREJUS</th>\n",
       "      <th>LA BASTIDE DES JOURDANS</th>\n",
       "      <th>LE LUC</th>\n",
       "      <th>MARSEILLE-OBS</th>\n",
       "      <th>SALON DE PROVENCE</th>\n",
       "      <th>TOULON</th>\n",
       "      <th>VALENSOLE</th>\n",
       "      <th>VAUVENARGUES</th>\n",
       "    </tr>\n",
       "    <tr>\n",
       "      <th>DATE</th>\n",
       "      <th></th>\n",
       "      <th></th>\n",
       "      <th></th>\n",
       "      <th></th>\n",
       "      <th></th>\n",
       "      <th></th>\n",
       "      <th></th>\n",
       "      <th></th>\n",
       "      <th></th>\n",
       "      <th></th>\n",
       "      <th></th>\n",
       "      <th></th>\n",
       "    </tr>\n",
       "  </thead>\n",
       "  <tbody>\n",
       "    <tr>\n",
       "      <th>2022-01-01</th>\n",
       "      <td>3.6</td>\n",
       "      <td>1.8</td>\n",
       "      <td>5.6</td>\n",
       "      <td>3.5</td>\n",
       "      <td>2.4</td>\n",
       "      <td>3.4</td>\n",
       "      <td>0.8</td>\n",
       "      <td>0.4</td>\n",
       "      <td>2.0</td>\n",
       "      <td>2.8</td>\n",
       "      <td>4.8</td>\n",
       "      <td>1.0</td>\n",
       "    </tr>\n",
       "    <tr>\n",
       "      <th>2022-02-01</th>\n",
       "      <td>26.1</td>\n",
       "      <td>23.7</td>\n",
       "      <td>35.4</td>\n",
       "      <td>24.8</td>\n",
       "      <td>36.2</td>\n",
       "      <td>18.4</td>\n",
       "      <td>31.9</td>\n",
       "      <td>19.9</td>\n",
       "      <td>38.2</td>\n",
       "      <td>27.0</td>\n",
       "      <td>15.0</td>\n",
       "      <td>24.7</td>\n",
       "    </tr>\n",
       "    <tr>\n",
       "      <th>2022-03-01</th>\n",
       "      <td>6.6</td>\n",
       "      <td>11.6</td>\n",
       "      <td>13.4</td>\n",
       "      <td>6.6</td>\n",
       "      <td>30.4</td>\n",
       "      <td>6.4</td>\n",
       "      <td>28.2</td>\n",
       "      <td>9.4</td>\n",
       "      <td>6.6</td>\n",
       "      <td>16.4</td>\n",
       "      <td>8.4</td>\n",
       "      <td>10.4</td>\n",
       "    </tr>\n",
       "    <tr>\n",
       "      <th>2022-04-01</th>\n",
       "      <td>27.0</td>\n",
       "      <td>53.7</td>\n",
       "      <td>65.6</td>\n",
       "      <td>44.4</td>\n",
       "      <td>40.4</td>\n",
       "      <td>41.5</td>\n",
       "      <td>45.8</td>\n",
       "      <td>19.3</td>\n",
       "      <td>25.6</td>\n",
       "      <td>26.2</td>\n",
       "      <td>32.6</td>\n",
       "      <td>38.9</td>\n",
       "    </tr>\n",
       "    <tr>\n",
       "      <th>2022-05-01</th>\n",
       "      <td>26.0</td>\n",
       "      <td>47.3</td>\n",
       "      <td>29.4</td>\n",
       "      <td>28.5</td>\n",
       "      <td>3.8</td>\n",
       "      <td>NaN</td>\n",
       "      <td>38.1</td>\n",
       "      <td>29.5</td>\n",
       "      <td>7.6</td>\n",
       "      <td>28.6</td>\n",
       "      <td>29.0</td>\n",
       "      <td>44.7</td>\n",
       "    </tr>\n",
       "    <tr>\n",
       "      <th>2022-06-01</th>\n",
       "      <td>7.0</td>\n",
       "      <td>12.1</td>\n",
       "      <td>47.1</td>\n",
       "      <td>20.4</td>\n",
       "      <td>43.4</td>\n",
       "      <td>10.5</td>\n",
       "      <td>16.6</td>\n",
       "      <td>8.8</td>\n",
       "      <td>17.2</td>\n",
       "      <td>24.5</td>\n",
       "      <td>15.8</td>\n",
       "      <td>11.0</td>\n",
       "    </tr>\n",
       "    <tr>\n",
       "      <th>2022-07-01</th>\n",
       "      <td>0.2</td>\n",
       "      <td>1.4</td>\n",
       "      <td>8.6</td>\n",
       "      <td>3.6</td>\n",
       "      <td>0.2</td>\n",
       "      <td>1.0</td>\n",
       "      <td>0.6</td>\n",
       "      <td>0.0</td>\n",
       "      <td>0.2</td>\n",
       "      <td>0.2</td>\n",
       "      <td>0.0</td>\n",
       "      <td>0.4</td>\n",
       "    </tr>\n",
       "    <tr>\n",
       "      <th>2022-08-01</th>\n",
       "      <td>37.7</td>\n",
       "      <td>19.1</td>\n",
       "      <td>54.1</td>\n",
       "      <td>93.6</td>\n",
       "      <td>33.1</td>\n",
       "      <td>36.8</td>\n",
       "      <td>54.1</td>\n",
       "      <td>63.2</td>\n",
       "      <td>51.1</td>\n",
       "      <td>40.9</td>\n",
       "      <td>56.9</td>\n",
       "      <td>21.0</td>\n",
       "    </tr>\n",
       "    <tr>\n",
       "      <th>2022-09-01</th>\n",
       "      <td>49.0</td>\n",
       "      <td>36.2</td>\n",
       "      <td>67.1</td>\n",
       "      <td>83.2</td>\n",
       "      <td>44.0</td>\n",
       "      <td>43.2</td>\n",
       "      <td>41.1</td>\n",
       "      <td>62.2</td>\n",
       "      <td>47.1</td>\n",
       "      <td>64.7</td>\n",
       "      <td>78.0</td>\n",
       "      <td>69.6</td>\n",
       "    </tr>\n",
       "    <tr>\n",
       "      <th>2022-10-01</th>\n",
       "      <td>36.6</td>\n",
       "      <td>72.1</td>\n",
       "      <td>12.4</td>\n",
       "      <td>27.8</td>\n",
       "      <td>32.8</td>\n",
       "      <td>45.2</td>\n",
       "      <td>13.5</td>\n",
       "      <td>2.0</td>\n",
       "      <td>11.5</td>\n",
       "      <td>13.2</td>\n",
       "      <td>11.4</td>\n",
       "      <td>24.3</td>\n",
       "    </tr>\n",
       "    <tr>\n",
       "      <th>2022-11-01</th>\n",
       "      <td>100.7</td>\n",
       "      <td>151.6</td>\n",
       "      <td>91.5</td>\n",
       "      <td>140.5</td>\n",
       "      <td>74.7</td>\n",
       "      <td>110.8</td>\n",
       "      <td>67.3</td>\n",
       "      <td>44.6</td>\n",
       "      <td>46.5</td>\n",
       "      <td>62.2</td>\n",
       "      <td>93.6</td>\n",
       "      <td>130.3</td>\n",
       "    </tr>\n",
       "    <tr>\n",
       "      <th>2022-12-01</th>\n",
       "      <td>97.0</td>\n",
       "      <td>147.3</td>\n",
       "      <td>155.7</td>\n",
       "      <td>174.3</td>\n",
       "      <td>99.4</td>\n",
       "      <td>106.6</td>\n",
       "      <td>137.1</td>\n",
       "      <td>74.2</td>\n",
       "      <td>111.5</td>\n",
       "      <td>107.2</td>\n",
       "      <td>103.9</td>\n",
       "      <td>104.6</td>\n",
       "    </tr>\n",
       "    <tr>\n",
       "      <th>2023-01-01</th>\n",
       "      <td>5.6</td>\n",
       "      <td>12.6</td>\n",
       "      <td>66.7</td>\n",
       "      <td>25.2</td>\n",
       "      <td>21.6</td>\n",
       "      <td>11.4</td>\n",
       "      <td>10.0</td>\n",
       "      <td>2.2</td>\n",
       "      <td>2.6</td>\n",
       "      <td>20.4</td>\n",
       "      <td>20.6</td>\n",
       "      <td>11.6</td>\n",
       "    </tr>\n",
       "    <tr>\n",
       "      <th>2023-02-01</th>\n",
       "      <td>20.0</td>\n",
       "      <td>10.4</td>\n",
       "      <td>14.4</td>\n",
       "      <td>11.6</td>\n",
       "      <td>30.8</td>\n",
       "      <td>13.0</td>\n",
       "      <td>37.4</td>\n",
       "      <td>19.9</td>\n",
       "      <td>8.4</td>\n",
       "      <td>49.0</td>\n",
       "      <td>7.8</td>\n",
       "      <td>22.2</td>\n",
       "    </tr>\n",
       "    <tr>\n",
       "      <th>2023-03-01</th>\n",
       "      <td>10.8</td>\n",
       "      <td>28.8</td>\n",
       "      <td>26.6</td>\n",
       "      <td>21.9</td>\n",
       "      <td>5.4</td>\n",
       "      <td>16.4</td>\n",
       "      <td>4.4</td>\n",
       "      <td>3.4</td>\n",
       "      <td>17.9</td>\n",
       "      <td>15.8</td>\n",
       "      <td>16.4</td>\n",
       "      <td>16.0</td>\n",
       "    </tr>\n",
       "    <tr>\n",
       "      <th>2023-04-01</th>\n",
       "      <td>15.2</td>\n",
       "      <td>24.7</td>\n",
       "      <td>59.1</td>\n",
       "      <td>34.9</td>\n",
       "      <td>15.6</td>\n",
       "      <td>47.1</td>\n",
       "      <td>11.6</td>\n",
       "      <td>6.2</td>\n",
       "      <td>4.0</td>\n",
       "      <td>30.1</td>\n",
       "      <td>36.2</td>\n",
       "      <td>26.1</td>\n",
       "    </tr>\n",
       "    <tr>\n",
       "      <th>2023-05-01</th>\n",
       "      <td>93.9</td>\n",
       "      <td>145.3</td>\n",
       "      <td>200.5</td>\n",
       "      <td>128.7</td>\n",
       "      <td>37.6</td>\n",
       "      <td>89.9</td>\n",
       "      <td>133.5</td>\n",
       "      <td>58.0</td>\n",
       "      <td>49.9</td>\n",
       "      <td>47.8</td>\n",
       "      <td>154.4</td>\n",
       "      <td>123.0</td>\n",
       "    </tr>\n",
       "    <tr>\n",
       "      <th>2023-06-01</th>\n",
       "      <td>73.4</td>\n",
       "      <td>192.8</td>\n",
       "      <td>153.5</td>\n",
       "      <td>95.4</td>\n",
       "      <td>40.6</td>\n",
       "      <td>157.3</td>\n",
       "      <td>130.7</td>\n",
       "      <td>41.6</td>\n",
       "      <td>86.9</td>\n",
       "      <td>59.6</td>\n",
       "      <td>155.6</td>\n",
       "      <td>145.5</td>\n",
       "    </tr>\n",
       "    <tr>\n",
       "      <th>2023-07-01</th>\n",
       "      <td>7.4</td>\n",
       "      <td>1.0</td>\n",
       "      <td>4.0</td>\n",
       "      <td>0.8</td>\n",
       "      <td>0.6</td>\n",
       "      <td>2.0</td>\n",
       "      <td>0.8</td>\n",
       "      <td>9.9</td>\n",
       "      <td>4.8</td>\n",
       "      <td>1.4</td>\n",
       "      <td>1.2</td>\n",
       "      <td>4.4</td>\n",
       "    </tr>\n",
       "    <tr>\n",
       "      <th>2023-08-01</th>\n",
       "      <td>35.1</td>\n",
       "      <td>47.8</td>\n",
       "      <td>62.6</td>\n",
       "      <td>39.2</td>\n",
       "      <td>23.8</td>\n",
       "      <td>37.4</td>\n",
       "      <td>24.3</td>\n",
       "      <td>34.7</td>\n",
       "      <td>17.4</td>\n",
       "      <td>7.2</td>\n",
       "      <td>31.4</td>\n",
       "      <td>41.8</td>\n",
       "    </tr>\n",
       "    <tr>\n",
       "      <th>2023-09-01</th>\n",
       "      <td>26.4</td>\n",
       "      <td>16.8</td>\n",
       "      <td>60.1</td>\n",
       "      <td>108.0</td>\n",
       "      <td>29.9</td>\n",
       "      <td>41.7</td>\n",
       "      <td>32.6</td>\n",
       "      <td>46.2</td>\n",
       "      <td>17.4</td>\n",
       "      <td>27.1</td>\n",
       "      <td>32.6</td>\n",
       "      <td>54.5</td>\n",
       "    </tr>\n",
       "    <tr>\n",
       "      <th>2023-10-01</th>\n",
       "      <td>47.5</td>\n",
       "      <td>84.1</td>\n",
       "      <td>151.1</td>\n",
       "      <td>77.5</td>\n",
       "      <td>83.1</td>\n",
       "      <td>67.4</td>\n",
       "      <td>72.0</td>\n",
       "      <td>30.3</td>\n",
       "      <td>50.1</td>\n",
       "      <td>115.0</td>\n",
       "      <td>91.1</td>\n",
       "      <td>86.0</td>\n",
       "    </tr>\n",
       "    <tr>\n",
       "      <th>2023-11-01</th>\n",
       "      <td>30.2</td>\n",
       "      <td>37.6</td>\n",
       "      <td>102.2</td>\n",
       "      <td>63.1</td>\n",
       "      <td>20.4</td>\n",
       "      <td>22.0</td>\n",
       "      <td>21.7</td>\n",
       "      <td>23.2</td>\n",
       "      <td>30.8</td>\n",
       "      <td>25.8</td>\n",
       "      <td>36.4</td>\n",
       "      <td>41.8</td>\n",
       "    </tr>\n",
       "    <tr>\n",
       "      <th>2023-12-01</th>\n",
       "      <td>42.6</td>\n",
       "      <td>60.4</td>\n",
       "      <td>76.3</td>\n",
       "      <td>NaN</td>\n",
       "      <td>50.6</td>\n",
       "      <td>42.6</td>\n",
       "      <td>53.8</td>\n",
       "      <td>28.3</td>\n",
       "      <td>35.4</td>\n",
       "      <td>65.4</td>\n",
       "      <td>56.8</td>\n",
       "      <td>71.0</td>\n",
       "    </tr>\n",
       "  </tbody>\n",
       "</table>\n",
       "</div>"
      ],
      "text/plain": [
       "NOM_USUEL   AIX EN PROVENCE  APT-VITON  CASTELLANE  FORCALQUIER  FREJUS  \\\n",
       "DATE                                                                      \n",
       "2022-01-01              3.6        1.8         5.6          3.5     2.4   \n",
       "2022-02-01             26.1       23.7        35.4         24.8    36.2   \n",
       "2022-03-01              6.6       11.6        13.4          6.6    30.4   \n",
       "2022-04-01             27.0       53.7        65.6         44.4    40.4   \n",
       "2022-05-01             26.0       47.3        29.4         28.5     3.8   \n",
       "2022-06-01              7.0       12.1        47.1         20.4    43.4   \n",
       "2022-07-01              0.2        1.4         8.6          3.6     0.2   \n",
       "2022-08-01             37.7       19.1        54.1         93.6    33.1   \n",
       "2022-09-01             49.0       36.2        67.1         83.2    44.0   \n",
       "2022-10-01             36.6       72.1        12.4         27.8    32.8   \n",
       "2022-11-01            100.7      151.6        91.5        140.5    74.7   \n",
       "2022-12-01             97.0      147.3       155.7        174.3    99.4   \n",
       "2023-01-01              5.6       12.6        66.7         25.2    21.6   \n",
       "2023-02-01             20.0       10.4        14.4         11.6    30.8   \n",
       "2023-03-01             10.8       28.8        26.6         21.9     5.4   \n",
       "2023-04-01             15.2       24.7        59.1         34.9    15.6   \n",
       "2023-05-01             93.9      145.3       200.5        128.7    37.6   \n",
       "2023-06-01             73.4      192.8       153.5         95.4    40.6   \n",
       "2023-07-01              7.4        1.0         4.0          0.8     0.6   \n",
       "2023-08-01             35.1       47.8        62.6         39.2    23.8   \n",
       "2023-09-01             26.4       16.8        60.1        108.0    29.9   \n",
       "2023-10-01             47.5       84.1       151.1         77.5    83.1   \n",
       "2023-11-01             30.2       37.6       102.2         63.1    20.4   \n",
       "2023-12-01             42.6       60.4        76.3          NaN    50.6   \n",
       "\n",
       "NOM_USUEL   LA BASTIDE DES JOURDANS  LE LUC  MARSEILLE-OBS  SALON DE PROVENCE  \\\n",
       "DATE                                                                            \n",
       "2022-01-01                      3.4     0.8            0.4                2.0   \n",
       "2022-02-01                     18.4    31.9           19.9               38.2   \n",
       "2022-03-01                      6.4    28.2            9.4                6.6   \n",
       "2022-04-01                     41.5    45.8           19.3               25.6   \n",
       "2022-05-01                      NaN    38.1           29.5                7.6   \n",
       "2022-06-01                     10.5    16.6            8.8               17.2   \n",
       "2022-07-01                      1.0     0.6            0.0                0.2   \n",
       "2022-08-01                     36.8    54.1           63.2               51.1   \n",
       "2022-09-01                     43.2    41.1           62.2               47.1   \n",
       "2022-10-01                     45.2    13.5            2.0               11.5   \n",
       "2022-11-01                    110.8    67.3           44.6               46.5   \n",
       "2022-12-01                    106.6   137.1           74.2              111.5   \n",
       "2023-01-01                     11.4    10.0            2.2                2.6   \n",
       "2023-02-01                     13.0    37.4           19.9                8.4   \n",
       "2023-03-01                     16.4     4.4            3.4               17.9   \n",
       "2023-04-01                     47.1    11.6            6.2                4.0   \n",
       "2023-05-01                     89.9   133.5           58.0               49.9   \n",
       "2023-06-01                    157.3   130.7           41.6               86.9   \n",
       "2023-07-01                      2.0     0.8            9.9                4.8   \n",
       "2023-08-01                     37.4    24.3           34.7               17.4   \n",
       "2023-09-01                     41.7    32.6           46.2               17.4   \n",
       "2023-10-01                     67.4    72.0           30.3               50.1   \n",
       "2023-11-01                     22.0    21.7           23.2               30.8   \n",
       "2023-12-01                     42.6    53.8           28.3               35.4   \n",
       "\n",
       "NOM_USUEL   TOULON  VALENSOLE  VAUVENARGUES  \n",
       "DATE                                         \n",
       "2022-01-01     2.8        4.8           1.0  \n",
       "2022-02-01    27.0       15.0          24.7  \n",
       "2022-03-01    16.4        8.4          10.4  \n",
       "2022-04-01    26.2       32.6          38.9  \n",
       "2022-05-01    28.6       29.0          44.7  \n",
       "2022-06-01    24.5       15.8          11.0  \n",
       "2022-07-01     0.2        0.0           0.4  \n",
       "2022-08-01    40.9       56.9          21.0  \n",
       "2022-09-01    64.7       78.0          69.6  \n",
       "2022-10-01    13.2       11.4          24.3  \n",
       "2022-11-01    62.2       93.6         130.3  \n",
       "2022-12-01   107.2      103.9         104.6  \n",
       "2023-01-01    20.4       20.6          11.6  \n",
       "2023-02-01    49.0        7.8          22.2  \n",
       "2023-03-01    15.8       16.4          16.0  \n",
       "2023-04-01    30.1       36.2          26.1  \n",
       "2023-05-01    47.8      154.4         123.0  \n",
       "2023-06-01    59.6      155.6         145.5  \n",
       "2023-07-01     1.4        1.2           4.4  \n",
       "2023-08-01     7.2       31.4          41.8  \n",
       "2023-09-01    27.1       32.6          54.5  \n",
       "2023-10-01   115.0       91.1          86.0  \n",
       "2023-11-01    25.8       36.4          41.8  \n",
       "2023-12-01    65.4       56.8          71.0  "
      ]
     },
     "metadata": {},
     "output_type": "display_data"
    }
   ],
   "source": [
    "# trace un graphique plotly de df avec la colonne 'DATE' en abscisse et la colonne 'RR' en ordonnée\n",
    "# chaque poste de la colonnee 'NUM_POSTE' est représenté dans un subplot séparé\n",
    "import plotly.graph_objects as go\n",
    "from plotly.subplots import make_subplots\n",
    "import plotly\n",
    "\n",
    "#-------------- Personalisation du graphique \n",
    "# Paramètre à représenter (la présentation actuelle est spécialement adaptée aux précipitations RR)\n",
    "param= 'RR'\n",
    "\n",
    "# Période à représenter (None pour le début ou la fin du fichier par défaut)\n",
    "start_date= None\n",
    "# start_date= datetime.datetime(2022, 5, 1)\n",
    "\n",
    "end_date= None\n",
    "# end_date= datetime.datetime(now.year, now.month, now.day)\n",
    "\n",
    "#-------------- initialisation des paramètres du graphique\n",
    "# à partir de df_postes, génère un dataframe indexé sur 'NOM_USUEL' avec une colonne 'NUM_POSTE' et\n",
    "df_desc_postes= df_postes[['NUM_POSTE', 'NOM_USUEL']].drop_duplicates().set_index('NOM_USUEL')\n",
    "\n",
    "# réorganise le dataframe df_pm (SUR LA DUREE COMPLETE) avec les postes en lignes et les mois lignes et une seule colonne 'RR'\n",
    "df_pm2= df_pm.stack().reset_index(name='RR')\n",
    "\n",
    "# ajoute à df_pm2 une colonne 'NUM_POSTE' avec le numéro du poste\n",
    "df_pm2= df_pm2.join(df_desc_postes, on='NOM_USUEL')\n",
    "\n",
    "# Période par défaut if start_date= None ou  end_date= None\n",
    "if start_date is None:\n",
    "    start_date= df_pm2.reset_index()['DATE'].min()\n",
    "if end_date is None:\n",
    "    end_date= df_pm2.reset_index()['DATE'].max()\n",
    "\n",
    "# filtre le dataframe sur les postes choisis\n",
    "df_postes= df_pm2[df_pm2['NUM_POSTE'].isin(postes)]\n",
    "# filtre le dataframe sur la période souhaitée\n",
    "df_postes= df_postes[(df_postes['DATE'] >= start_date) & (df_postes['DATE'] <= end_date)]\n",
    "\n",
    "#  Couleurs des courbes\n",
    "color_sequence_bar = plotly.colors.qualitative.Set3\n",
    "# color_sequence_scatter = plotly.colors.qualitative.Dark24\n",
    "\n",
    "# Axe des ordonnées secondaire (cumulé)\n",
    "specs= [[{'secondary_y': True}]]*len(postes)\n",
    "\n",
    "#-------------- Graphique\n",
    "fig = make_subplots(rows= len(postes), cols= 1,# shared_xaxes= True, # shared_xaxes= True inutile grâce à  matches='x' dans update_xaxes qui fait la même chose sans supprimer la graduation des dates des subplots \n",
    "                    subplot_titles= [f\"{poste} - {df_postes[df_postes['NUM_POSTE'] == poste]['NOM_USUEL'].iloc[0]}\" for poste in postes], specs= specs)\n",
    "\n",
    "for i, poste in enumerate(postes):\n",
    "    df_poste = df_postes[df_postes['NUM_POSTE'] == poste]\n",
    "    fig.add_trace(go.Bar(x= df_poste['DATE'], y= df_poste[param], \n",
    "                          # name= poste\n",
    "                         name= df_postes[df_postes['NUM_POSTE'] == poste]['NOM_USUEL'].iloc[0],\n",
    "                         marker= dict(color=color_sequence_bar[i % len(color_sequence_bar)]),  # Utilisez la couleur correspondante de la séquence\n",
    "                         ),\n",
    "                row= i+1, col= 1)\n",
    "    fig.add_trace(go.Scatter(x= df_poste['DATE'], y= df_poste[param].cumsum(), \n",
    "                             name= f\"Cumulé {poste}\", yaxis= \"y2\",\n",
    "                             line= dict(color= 'gray'),\n",
    "                            #  line= dict(color= color_sequence_scatter[i % len(color_sequence_scatter)]), # sinon l'incrémentation dans la séquence de couleurs est de +2 à cause de la trace Bar\n",
    "                             mode='lines' \n",
    "                             ), \n",
    "                 row=i+1, col=1, secondary_y= True)\n",
    "\n",
    "fig.update_layout(title_text= 'meteo.data - ' + \"Précipitations mensuelles (mm) - \" + now.strftime(\"%Y-%m-%d\") , title_x= 0.5, \n",
    "                  height= 133.*len(postes), width= 1000,\n",
    "                  hovermode= 'x unified', hoverlabel= dict(bgcolor='rgba(255,255,255,0.6)'),\n",
    "                  )\n",
    "\n",
    "# Survol par la souris : ligne verticale à travers tous les subplots matérialisant l'abscisse \n",
    "xlast= 'x' + str(len(postes))\n",
    "# fig.update_traces(xaxis= xlast)  # xlast est le nom de l'axe des abscisses du dernier subplot\n",
    "\n",
    "# Définition générale des axes\n",
    "max_value= df_postes[param].max()\n",
    "max_value_cum= df_postes.groupby(['NUM_POSTE']).sum()[param].max()\n",
    "fig.update_yaxes(secondary_y= False, range= [0, max_value])  # Axe principale: Replace max_value with the desired maximum coordinate\n",
    "fig.update_yaxes(secondary_y= True, title_text= \"Cumulé\", range= [0, max_value_cum]) # Axe secondaire: Replace max_value with the desired maximum coordinate\n",
    "\n",
    "# Graduations de l'axe des DATES ...............................................................\n",
    "if end_date - start_date > datetime.timedelta(days= 365): # Plus d'un an\n",
    "    tickformat= '%b\\n%Y'\n",
    "    dtick= 'M6'\n",
    "    showgrid_x= True\n",
    "else: # Moins d'un an\n",
    "    tickformat= '%b %Y'\n",
    "    dtick= 'M1'\n",
    "    showgrid_x= False\n",
    "# ...............................Premiers subplots\n",
    "# ................................................ en fonction de la longueur de la période\n",
    "for i in range(1, len(postes) + 1):\n",
    "    fig.update_xaxes(tickformat= tickformat, tickmode= 'linear', dtick= dtick, row=i, col=1, matches='x')\n",
    "# ...............................Dernier subplot\n",
    "# ................................................ en fonction de la longueur de la période\n",
    "fig.update_xaxes(tickformat= tickformat, tickmode= 'linear', dtick= dtick, row=len(postes), col=1, matches='x')\n",
    "#                                                SANS tenir compte de la longueur de la période\n",
    "# fig.update_xaxes(tickformat= '%b\\n%Y', tickmode= 'linear', dtick= 'M1', row=len(postes), col=1, matches='x')\n",
    "\n",
    "# GRILLE .............................................................................\n",
    "# .................. verticales...\n",
    "fig.update_xaxes(showgrid= showgrid_x, gridwidth= 1, gridcolor= 'white')\n",
    "# .................. horizontales\n",
    "#                                Axe secondaire:\n",
    "fig.update_yaxes(secondary_y=True, showgrid=False) # pas de grille\n",
    "\n",
    "#-------------- sauvegarde le graphique\n",
    "file_graph_mens= \"meteo.data MENS\"\n",
    "fig.write_html(os.path.join(folder_csv, file_graph_mens + template_end[:-4] + \".html\"))\n",
    "# sauvegarde le graphique dans un fichier png\n",
    "fig.write_image(os.path.join(folder_csv, file_graph_mens + template_end[:-4] + \".png\"))\n",
    "\n",
    "#-------------- Affichage\n",
    "print(datetime.datetime.now().strftime(\"%Y-%m-%d %H:%M\"))\n",
    "# afficher RR pour df_postes avec les postes en colonnes et les dates en index\n",
    "fig.show()\n",
    "print('Précipitations mensuelles LATEST (mm)')\n",
    "# df_pm2= df_postes.pivot(index= 'DATE', columns= 'NOM_USUEL', values= 'RR')\n",
    "display(df_postes.pivot(index= 'DATE', columns= 'NOM_USUEL', values= 'RR'))"
   ]
  },
  {
   "cell_type": "markdown",
   "metadata": {},
   "source": [
    "##### 4) Sauvegarde les données intégrales dans un fichier Excel (tous les paramètres pour tous les postes des départements concernés)\n",
    "Le fichier est sauvegardé dans le même dossier local que les fichiers CSV décompressés"
   ]
  },
  {
   "cell_type": "code",
   "execution_count": 123,
   "metadata": {},
   "outputs": [
    {
     "name": "stdout",
     "output_type": "stream",
     "text": [
      "2023-12-22 17:00\n",
      "Sauvegarde en cours, patientez...\n",
      "Ficher Excel sauvegardé:  X:\\1-COMMUN\\DIS\\Documentation\\Hydrologie\\Documentation externe\\Climat France\\Météo-France\\meteo.data\\base\\Q\\meteo.data QUOT_04-13-83-84_latest-2022-2023_RR-T-Vent.xlsx\n"
     ]
    }
   ],
   "source": [
    "# Sauvegarde le dataframe dans un fichier Excel\n",
    "\n",
    "print(now.strftime(\"%Y-%m-%d %H:%M\"))\n",
    "print('Sauvegarde en cours, patientez...')\n",
    "\n",
    "file= os.path.join(folder_csv, \"meteo.data QUOT\"+ '_' + '-'.join(departements) + template_end[:-4] + \".xlsx\")\n",
    "writer = pd.ExcelWriter(file, engine='xlsxwriter')\n",
    "df.to_excel(writer, sheet_name='donnée complètes', index=False)\n",
    "\n",
    "# ajoute des onglets exel avec df_pj et df_pm\n",
    "df_pj.to_excel(writer, sheet_name='PJ Sélection', index=True, startrow= 2)\n",
    "# ajoute un texte\n",
    "workbook  = writer.book\n",
    "worksheet = writer.sheets['PJ Sélection']\n",
    "worksheet.write('A1', now.strftime(\"%Y-%m-%d %H:%M\"))\n",
    "worksheet.write('A2', titre_pj)\n",
    "\n",
    "df_pm.to_excel(writer, sheet_name='PM Sélection', index=True, startrow= 2)\n",
    "# ajoute un texte\n",
    "worksheet = writer.sheets['PM Sélection']\n",
    "worksheet.write('A1', now.strftime(\"%Y-%m-%d %H:%M\"))\n",
    "worksheet.write('A2', titre_pm)\n",
    "\n",
    "# ajoute un onglet excel et enregistre une image du graphique\n",
    "workbook  = writer.book\n",
    "worksheet = workbook.add_worksheet('graph')\n",
    "worksheet.insert_image('A1', os.path.join(folder_csv, file_graph_quot + template_end[:-4] + \".png\"))\n",
    "worksheet.insert_image('Q1', os.path.join(folder_csv, file_graph_mens + template_end[:-4] + \".png\"))\n",
    "\n",
    "writer.save()\n",
    "\n",
    "print('Ficher Excel sauvegardé: ', file)"
   ]
  }
 ],
 "metadata": {
  "kernelspec": {
   "display_name": "python38",
   "language": "python",
   "name": "python3"
  },
  "language_info": {
   "codemirror_mode": {
    "name": "ipython",
    "version": 3
   },
   "file_extension": ".py",
   "mimetype": "text/x-python",
   "name": "python",
   "nbconvert_exporter": "python",
   "pygments_lexer": "ipython3",
   "version": "3.8.12"
  }
 },
 "nbformat": 4,
 "nbformat_minor": 2
}
